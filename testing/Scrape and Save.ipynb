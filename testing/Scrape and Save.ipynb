{
 "cells": [
  {
   "cell_type": "code",
   "execution_count": 1,
   "metadata": {},
   "outputs": [],
   "source": [
    "import os\n",
    "from azure.storage.blob import BlobServiceClient, BlobClient, ContainerClient\n",
    "import snscrape.modules.twitter as sntwitter\n",
    "import pandas as pd\n",
    "import json\n",
    "from datetime import date"
   ]
  },
  {
   "cell_type": "code",
   "execution_count": 12,
   "metadata": {},
   "outputs": [],
   "source": [
    "class DataCollecter:\n",
    "    def __init__(self):\n",
    "        pass\n",
    "    \n",
    "    def collect_tweet(self, search, since, lang):\n",
    "        tweets_list = []\n",
    "        params = search + ' lang:' + lang + ' since:' +since\n",
    "\n",
    "        for i,tweet in enumerate(sntwitter.TwitterSearchScraper(params).get_items()):\n",
    "            #if i>200000:\n",
    "                #break\n",
    "            tweets_list.append([tweet.id, tweet.content, tweet.lang])\n",
    "\n",
    "        tweets_df = pd.DataFrame(tweets_list, columns=['Id', 'Content', 'Lang'])\n",
    "        \n",
    "        local_file_name = search + '-' + lang + '-' + str(date.today())\n",
    "        tweets_df.to_json(local_file_name, orient='records', lines=True)\n",
    "        \n",
    "        return local_file_name"
   ]
  },
  {
   "cell_type": "code",
   "execution_count": 13,
   "metadata": {},
   "outputs": [],
   "source": [
    "dataCollecter = DataCollecter()\n",
    "\n",
    "search = 'iphone 12'\n",
    "since = '2021-05-30'\n",
    "lang = 'fr'\n",
    "local_file_name = dataCollecter.collect_tweet(search, since, lang)"
   ]
  },
  {
   "cell_type": "code",
   "execution_count": 4,
   "metadata": {},
   "outputs": [],
   "source": [
    "class StorageManager:\n",
    "    def __init__(self):\n",
    "        #self.connect_str = os.environ['MONGO_CONNECT_STRING']\n",
    "        self.connect_str = \"DefaultEndpointsProtocol=https;AccountName=topcystorage;AccountKey=3a7n/6otZYQI6TG5QPtfXYZdindQ3PwSqhg8ufAGflHbfQVIDj+JoJ37jFh+tWjTPkM6xu8pGHb4KNJ2GoEjdw==;EndpointSuffix=core.windows.net\"\n",
    "        \n",
    "    def uploadData(self, local_file_name):\n",
    "        blob_service_client = BlobServiceClient.from_connection_string(self.connect_str)\n",
    "        container_name = 'data-container'\n",
    "        \n",
    "        # Create a blob client using the local file name as the name for the blob\n",
    "        blob_client = blob_service_client.get_blob_client(container=container_name, blob=local_file_name)\n",
    "        # Upload the created file\n",
    "        with open(local_file_name, \"rb\") as data:\n",
    "            blob_client.upload_blob(data)"
   ]
  },
  {
   "cell_type": "code",
   "execution_count": 5,
   "metadata": {},
   "outputs": [],
   "source": []
  },
  {
   "cell_type": "code",
   "execution_count": 6,
   "metadata": {},
   "outputs": [],
   "source": []
  }
 ],
 "metadata": {
  "kernelspec": {
   "display_name": "Python (pfe-env)",
   "language": "python",
   "name": "pfe-env"
  },
  "language_info": {
   "codemirror_mode": {
    "name": "ipython",
    "version": 3
   },
   "file_extension": ".py",
   "mimetype": "text/x-python",
   "name": "python",
   "nbconvert_exporter": "python",
   "pygments_lexer": "ipython3",
   "version": "3.8.5"
  }
 },
 "nbformat": 4,
 "nbformat_minor": 4
}
