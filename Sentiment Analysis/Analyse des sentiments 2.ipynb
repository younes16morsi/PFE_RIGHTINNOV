{
 "cells": [
  {
   "cell_type": "code",
   "execution_count": 1,
   "metadata": {},
   "outputs": [],
   "source": [
    "import pandas as pd\n",
    "import numpy as np\n",
    "import matplotlib.pyplot as plt\n",
    "import seaborn as sns\n",
    "\n",
    "from gensim.utils import simple_preprocess\n",
    "\n",
    "import spacy\n",
    "\n",
    "import re\n",
    "import json\n",
    "from html.parser import HTMLParser\n",
    "from io import StringIO"
   ]
  },
  {
   "cell_type": "code",
   "execution_count": 6,
   "metadata": {},
   "outputs": [],
   "source": [
    "train_data = pd.read_json('../input/dataset_fr_train.json', lines=True)\n",
    "\n",
    "test_data = pd.read_json('../input/dataset_fr_test.json', lines=True)\n",
    "\n",
    "valid_data= pd.read_json('../input/dataset_fr_dev.json', lines=True)"
   ]
  },
  {
   "cell_type": "code",
   "execution_count": 7,
   "metadata": {},
   "outputs": [],
   "source": [
    "train = train_data[train_data['stars'] != 3]\n",
    "test = test_data[test_data['stars'] != 3]\n",
    "valid = valid_data[valid_data['stars'] != 3]"
   ]
  },
  {
   "cell_type": "code",
   "execution_count": 8,
   "metadata": {},
   "outputs": [
    {
     "name": "stderr",
     "output_type": "stream",
     "text": [
      "<ipython-input-8-d8904f2187be>:9: SettingWithCopyWarning: \n",
      "A value is trying to be set on a copy of a slice from a DataFrame.\n",
      "Try using .loc[row_indexer,col_indexer] = value instead\n",
      "\n",
      "See the caveats in the documentation: https://pandas.pydata.org/pandas-docs/stable/user_guide/indexing.html#returning-a-view-versus-a-copy\n",
      "  dataset['sentiment'] = dataset['stars'].map(sentiments_dict)\n"
     ]
    }
   ],
   "source": [
    "# convert starts into sentiments\n",
    "\n",
    "sentiments_dict = {1: 0,\n",
    "            2: 0,\n",
    "            4: 1,\n",
    "            5: 1}\n",
    "\n",
    "def stars_to_sentiment(dataset):\n",
    "    dataset['sentiment'] = dataset['stars'].map(sentiments_dict)\n",
    "    dataset = dataset[['review_body','sentiment']]\n",
    "    return dataset\n",
    "\n",
    "df_train = stars_to_sentiment(train)\n",
    "df_test = stars_to_sentiment(test)\n",
    "df_valid = stars_to_sentiment(valid)"
   ]
  },
  {
   "cell_type": "code",
   "execution_count": 9,
   "metadata": {},
   "outputs": [],
   "source": [
    "import pandas as pd\n",
    "import numpy as np\n",
    "import matplotlib.pyplot as plt\n",
    "from tensorflow.python.keras import models, layers, optimizers\n",
    "import tensorflow\n",
    "from tensorflow.keras.preprocessing.text import Tokenizer, text_to_word_sequence\n",
    "from tensorflow.keras.preprocessing.sequence import pad_sequences\n",
    "from tensorflow.python.keras import metrics\n",
    "\n",
    "import bz2\n",
    "from sklearn.metrics import f1_score, roc_auc_score, accuracy_score\n",
    "import re\n",
    "\n",
    "%matplotlib inline"
   ]
  },
  {
   "cell_type": "code",
   "execution_count": 10,
   "metadata": {},
   "outputs": [],
   "source": [
    "train_labels, train_texts = df_train['sentiment'].values.tolist(), df_train['review_body'].values.tolist()\n",
    "test_labels, test_texts = df_test['sentiment'].values.tolist(), df_test['review_body'].values.tolist()\n",
    "val_labels, val_texts = df_valid['sentiment'].values.tolist(), df_valid['review_body'].values.tolist()"
   ]
  },
  {
   "cell_type": "code",
   "execution_count": 11,
   "metadata": {},
   "outputs": [],
   "source": [
    "import re\n",
    "NON_ALPHANUM = re.compile(r'[\\W]')\n",
    "NON_ASCII = re.compile(r'[^a-z0-1\\s]')\n",
    "def normalize_texts(texts):\n",
    "    normalized_texts = []\n",
    "    for text in texts:\n",
    "        lower = text.lower()\n",
    "        no_punctuation = NON_ALPHANUM.sub(r' ', lower)\n",
    "        no_non_ascii = NON_ASCII.sub(r'', no_punctuation)\n",
    "        normalized_texts.append(no_non_ascii)\n",
    "    return normalized_texts\n",
    "        \n",
    "train_texts = normalize_texts(train_texts)\n",
    "test_texts = normalize_texts(test_texts)\n",
    "val_texts = normalize_texts(val_texts)"
   ]
  },
  {
   "cell_type": "code",
   "execution_count": 12,
   "metadata": {},
   "outputs": [],
   "source": [
    "MAX_FEATURES = 12000\n",
    "tokenizer = Tokenizer(num_words=MAX_FEATURES)\n",
    "tokenizer.fit_on_texts(train_texts)\n",
    "train_texts = tokenizer.texts_to_sequences(train_texts)\n",
    "val_texts = tokenizer.texts_to_sequences(val_texts)\n",
    "test_texts = tokenizer.texts_to_sequences(test_texts)"
   ]
  },
  {
   "cell_type": "code",
   "execution_count": 13,
   "metadata": {},
   "outputs": [],
   "source": [
    "# Adding 1 because of reserved 0 index\n",
    "vocab_size = len(tokenizer.word_index) + 1\n",
    "\n",
    "maxlen = 100\n",
    "\n",
    "train_texts = pad_sequences(train_texts, padding='post', maxlen=maxlen)\n",
    "test_texts = pad_sequences(test_texts, padding='post', maxlen=maxlen)\n",
    "val_texts = pad_sequences(val_texts, padding='post', maxlen=maxlen)"
   ]
  },
  {
   "cell_type": "code",
   "execution_count": 14,
   "metadata": {},
   "outputs": [],
   "source": [
    "# preparing the embedding dictionnary\n",
    "\n",
    "import spacy\n",
    "nlp = spacy.load('fr_core_news_lg', disable=['parser', 'ner'])"
   ]
  },
  {
   "cell_type": "code",
   "execution_count": 15,
   "metadata": {},
   "outputs": [],
   "source": [
    "# tqdm for showing progress\n",
    "from tqdm import tqdm_notebook as tqdm"
   ]
  },
  {
   "cell_type": "code",
   "execution_count": 16,
   "metadata": {},
   "outputs": [
    {
     "name": "stderr",
     "output_type": "stream",
     "text": [
      "<ipython-input-16-dfc4edbcbecf>:2: TqdmDeprecationWarning: This function will be removed in tqdm==5.0.0\n",
      "Please use `tqdm.notebook.tqdm` instead of `tqdm.tqdm_notebook`\n",
      "  for word, index in tqdm(tokenizer.word_index.items()):\n"
     ]
    },
    {
     "data": {
      "application/vnd.jupyter.widget-view+json": {
       "model_id": "3521633eb64c4e15af7078c5af2d9caa",
       "version_major": 2,
       "version_minor": 0
      },
      "text/plain": [
       "  0%|          | 0/43857 [00:00<?, ?it/s]"
      ]
     },
     "metadata": {},
     "output_type": "display_data"
    }
   ],
   "source": [
    "embedding_matrix = np.zeros((vocab_size, 300))\n",
    "for word, index in tqdm(tokenizer.word_index.items()):\n",
    "    embedding_vector = nlp(word).vector\n",
    "    if embedding_vector is not None:\n",
    "        embedding_matrix[index] = embedding_vector"
   ]
  },
  {
   "cell_type": "code",
   "execution_count": 19,
   "metadata": {},
   "outputs": [],
   "source": [
    "def create_model(dropout=0.4, gru_nparams=128, dense_nparams=64, activation='relu', optimizer='adam'):\n",
    "    sequences = layers.Input(shape=(maxlen,))\n",
    "    embedded = layers.Embedding(vocab_size,\n",
    "                            300,\n",
    "                            weights=[embedding_matrix],\n",
    "                            input_length=maxlen,\n",
    "                            trainable=False)(sequences)\n",
    "#     x = layers.GRU(gru_nparams)(embedded)\n",
    "#     x = layers.Dense(dense_nparams, activation=activation)(x)\n",
    "    x = layers.GRU(128, return_sequences=True)(embedded)\n",
    "    x = layers.GRU(128)(x)\n",
    "    x = layers.Dense(32, activation='relu')(x)\n",
    "    x = layers.Dense(100, activation='relu')(x)\n",
    "    predictions = layers.Dense(1, activation='sigmoid')(x)\n",
    "    model = models.Model(inputs=sequences, outputs=predictions)\n",
    "    model.compile(\n",
    "        optimizer=optimizer,\n",
    "        loss='binary_crossentropy',\n",
    "        metrics=[\n",
    "            'binary_accuracy', \n",
    "            metrics.Precision(), \n",
    "            metrics.Recall()]\n",
    "    )\n",
    "    return model\n",
    "\n",
    "gru_model = create_model()"
   ]
  },
  {
   "cell_type": "code",
   "execution_count": 20,
   "metadata": {},
   "outputs": [],
   "source": [
    "from tensorflow.python.keras.callbacks import EarlyStopping, ModelCheckpoint, TensorBoard\n",
    "\n",
    "my_callbacks = [\n",
    "    EarlyStopping(monitor='val_loss', min_delta=0, \n",
    "                         patience=5, verbose=1, mode='auto',\n",
    "                         baseline=None, restore_best_weights=True),\n",
    "    ModelCheckpoint(filepath='../saved models/gru_model_binary.h5', \n",
    "                   monitor='val_binary_accuracy', verbose=1, save_best_only=True, mode='max'),\n",
    "    TensorBoard(log_dir='./logs'),\n",
    "]"
   ]
  },
  {
   "cell_type": "code",
   "execution_count": 21,
   "metadata": {},
   "outputs": [
    {
     "name": "stdout",
     "output_type": "stream",
     "text": [
      "Epoch 1/50\n",
      "1250/1250 [==============================] - 256s 203ms/step - loss: 0.6902 - binary_accuracy: 0.5044 - precision: 0.5040 - recall: 0.5522 - val_loss: 0.6549 - val_binary_accuracy: 0.5690 - val_precision: 0.9395 - val_recall: 0.1475\n",
      "\n",
      "Epoch 00001: val_binary_accuracy improved from -inf to 0.56900, saving model to ../saved models/gru_model_binary.h5\n",
      "Epoch 2/50\n",
      "1250/1250 [==============================] - 252s 201ms/step - loss: 0.6507 - binary_accuracy: 0.5774 - precision: 0.7004 - recall: 0.2705 - val_loss: 0.5049 - val_binary_accuracy: 0.7448 - val_precision: 0.7361 - val_recall: 0.7630\n",
      "\n",
      "Epoch 00002: val_binary_accuracy improved from 0.56900 to 0.74475, saving model to ../saved models/gru_model_binary.h5\n",
      "Epoch 3/50\n",
      "1250/1250 [==============================] - 253s 203ms/step - loss: 0.3475 - binary_accuracy: 0.8488 - precision: 0.8675 - recall: 0.8234 - val_loss: 0.2902 - val_binary_accuracy: 0.8795 - val_precision: 0.9012 - val_recall: 0.8525\n",
      "\n",
      "Epoch 00003: val_binary_accuracy improved from 0.74475 to 0.87950, saving model to ../saved models/gru_model_binary.h5\n",
      "Epoch 4/50\n",
      "1250/1250 [==============================] - 253s 202ms/step - loss: 0.2710 - binary_accuracy: 0.8890 - precision: 0.9015 - recall: 0.8734 - val_loss: 0.2764 - val_binary_accuracy: 0.8842 - val_precision: 0.9112 - val_recall: 0.8515\n",
      "\n",
      "Epoch 00004: val_binary_accuracy improved from 0.87950 to 0.88425, saving model to ../saved models/gru_model_binary.h5\n",
      "Epoch 5/50\n",
      "1250/1250 [==============================] - 249s 199ms/step - loss: 0.2436 - binary_accuracy: 0.9026 - precision: 0.9124 - recall: 0.8908 - val_loss: 0.2614 - val_binary_accuracy: 0.8957 - val_precision: 0.8932 - val_recall: 0.8990\n",
      "\n",
      "Epoch 00005: val_binary_accuracy improved from 0.88425 to 0.89575, saving model to ../saved models/gru_model_binary.h5\n",
      "Epoch 6/50\n",
      "1250/1250 [==============================] - 250s 200ms/step - loss: 0.2259 - binary_accuracy: 0.9103 - precision: 0.9201 - recall: 0.8988 - val_loss: 0.2479 - val_binary_accuracy: 0.8992 - val_precision: 0.9015 - val_recall: 0.8965\n",
      "\n",
      "Epoch 00006: val_binary_accuracy improved from 0.89575 to 0.89925, saving model to ../saved models/gru_model_binary.h5\n",
      "Epoch 7/50\n",
      "1250/1250 [==============================] - 374s 300ms/step - loss: 0.2136 - binary_accuracy: 0.9160 - precision: 0.9250 - recall: 0.9054 - val_loss: 0.2481 - val_binary_accuracy: 0.8960 - val_precision: 0.9235 - val_recall: 0.8635\n",
      "\n",
      "Epoch 00007: val_binary_accuracy did not improve from 0.89925\n",
      "Epoch 8/50\n",
      "1250/1250 [==============================] - 400s 320ms/step - loss: 0.2034 - binary_accuracy: 0.9203 - precision: 0.9282 - recall: 0.9111 - val_loss: 0.2536 - val_binary_accuracy: 0.8985 - val_precision: 0.8989 - val_recall: 0.8980\n",
      "\n",
      "Epoch 00008: val_binary_accuracy did not improve from 0.89925\n",
      "Epoch 9/50\n",
      "1250/1250 [==============================] - 439s 351ms/step - loss: 0.1945 - binary_accuracy: 0.9244 - precision: 0.9328 - recall: 0.9146 - val_loss: 0.2499 - val_binary_accuracy: 0.9010 - val_precision: 0.9038 - val_recall: 0.8975\n",
      "\n",
      "Epoch 00009: val_binary_accuracy improved from 0.89925 to 0.90100, saving model to ../saved models/gru_model_binary.h5\n",
      "Epoch 10/50\n",
      "1250/1250 [==============================] - 252s 201ms/step - loss: 0.1812 - binary_accuracy: 0.9303 - precision: 0.9372 - recall: 0.9223 - val_loss: 0.2625 - val_binary_accuracy: 0.8985 - val_precision: 0.9182 - val_recall: 0.8750\n",
      "\n",
      "Epoch 00010: val_binary_accuracy did not improve from 0.90100\n",
      "Epoch 11/50\n",
      "1250/1250 [==============================] - 243s 195ms/step - loss: 0.1688 - binary_accuracy: 0.9359 - precision: 0.9426 - recall: 0.9283 - val_loss: 0.2452 - val_binary_accuracy: 0.9022 - val_precision: 0.9124 - val_recall: 0.8900\n",
      "\n",
      "Epoch 00011: val_binary_accuracy improved from 0.90100 to 0.90225, saving model to ../saved models/gru_model_binary.h5\n",
      "Epoch 12/50\n",
      "1250/1250 [==============================] - 245s 196ms/step - loss: 0.1588 - binary_accuracy: 0.9399 - precision: 0.9462 - recall: 0.9328 - val_loss: 0.2565 - val_binary_accuracy: 0.9015 - val_precision: 0.9118 - val_recall: 0.8890\n",
      "\n",
      "Epoch 00012: val_binary_accuracy did not improve from 0.90225\n",
      "Epoch 13/50\n",
      "1250/1250 [==============================] - 245s 196ms/step - loss: 0.1510 - binary_accuracy: 0.9437 - precision: 0.9492 - recall: 0.9376 - val_loss: 0.2532 - val_binary_accuracy: 0.9065 - val_precision: 0.9270 - val_recall: 0.8825\n",
      "\n",
      "Epoch 00013: val_binary_accuracy improved from 0.90225 to 0.90650, saving model to ../saved models/gru_model_binary.h5\n",
      "Epoch 14/50\n",
      "1250/1250 [==============================] - 245s 196ms/step - loss: 0.1403 - binary_accuracy: 0.9480 - precision: 0.9532 - recall: 0.9423 - val_loss: 0.2606 - val_binary_accuracy: 0.8995 - val_precision: 0.8995 - val_recall: 0.8995\n",
      "\n",
      "Epoch 00014: val_binary_accuracy did not improve from 0.90650\n",
      "Epoch 15/50\n",
      "1250/1250 [==============================] - 245s 196ms/step - loss: 0.1324 - binary_accuracy: 0.9515 - precision: 0.9568 - recall: 0.9458 - val_loss: 0.2694 - val_binary_accuracy: 0.9035 - val_precision: 0.9173 - val_recall: 0.8870\n",
      "\n",
      "Epoch 00015: val_binary_accuracy did not improve from 0.90650\n",
      "Epoch 16/50\n",
      "1250/1250 [==============================] - 245s 196ms/step - loss: 0.1235 - binary_accuracy: 0.9553 - precision: 0.9596 - recall: 0.9505 - val_loss: 0.2703 - val_binary_accuracy: 0.9035 - val_precision: 0.9105 - val_recall: 0.8950\n",
      "Restoring model weights from the end of the best epoch.\n",
      "\n",
      "Epoch 00016: val_binary_accuracy did not improve from 0.90650\n",
      "Epoch 00016: early stopping\n"
     ]
    }
   ],
   "source": [
    "history = gru_model.fit(\n",
    "    np.array(train_texts), \n",
    "    np.array(train_labels), \n",
    "    batch_size=128,\n",
    "    epochs=50,\n",
    "    validation_data=(np.array(val_texts), np.array(val_labels)),\n",
    "    callbacks=[my_callbacks], )"
   ]
  },
  {
   "cell_type": "code",
   "execution_count": 23,
   "metadata": {},
   "outputs": [
    {
     "name": "stdout",
     "output_type": "stream",
     "text": [
      "Accuracy score: 0.9052\n",
      "F1 score: 0.9039\n",
      "ROC AUC score: 0.962\n"
     ]
    }
   ],
   "source": [
    "preds = gru_model.predict(test_texts)\n",
    "print('Accuracy score: {:0.4}'.format(accuracy_score(test_labels, 1 * (preds > 0.5))))\n",
    "print('F1 score: {:0.4}'.format(f1_score(test_labels, 1 * (preds > 0.5))))\n",
    "print('ROC AUC score: {:0.4}'.format(roc_auc_score(test_labels, preds)))"
   ]
  },
  {
   "cell_type": "code",
   "execution_count": 24,
   "metadata": {},
   "outputs": [
    {
     "data": {
      "image/png": "[encoded data removed]",
      "text/plain": [
       "<Figure size 432x288 with 1 Axes>"
      ]
     },
     "metadata": {
      "needs_background": "light"
     },
     "output_type": "display_data"
    },
    {
     "data": {
      "image/png": "[encoded data removed]",
      "text/plain": [
       "<Figure size 432x288 with 1 Axes>"
      ]
     },
     "metadata": {
      "needs_background": "light"
     },
     "output_type": "display_data"
    }
   ],
   "source": [
    "import matplotlib.pyplot as plt\n",
    "\n",
    "plt.plot(history.history['binary_accuracy'])\n",
    "plt.plot(history.history['val_binary_accuracy'])\n",
    "\n",
    "plt.title('model accuracy')\n",
    "plt.ylabel('accuracy')\n",
    "plt.xlabel('epoch')\n",
    "plt.legend(['train','validation'], loc='upper left')\n",
    "plt.show()\n",
    "\n",
    "plt.plot(history.history['loss'])\n",
    "plt.plot(history.history['val_loss'])\n",
    "\n",
    "plt.title('model loss')\n",
    "plt.ylabel('loss')\n",
    "plt.xlabel('epoch')\n",
    "plt.legend(['train','validation'], loc='upper left')\n",
    "plt.show()"
   ]
  }
 ],
 "metadata": {
  "kernelspec": {
   "display_name": "Python (pfe-env)",
   "language": "python",
   "name": "pfe-env"
  },
  "language_info": {
   "codemirror_mode": {
    "name": "ipython",
    "version": 3
   },
   "file_extension": ".py",
   "mimetype": "text/x-python",
   "name": "python",
   "nbconvert_exporter": "python",
   "pygments_lexer": "ipython3",
   "version": "3.8.5"
  }
 },
 "nbformat": 4,
 "nbformat_minor": 4
}
