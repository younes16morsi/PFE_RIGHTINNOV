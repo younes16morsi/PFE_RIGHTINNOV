{
 "cells": [
  {
   "cell_type": "code",
   "execution_count": 10,
   "metadata": {},
   "outputs": [],
   "source": [
    "import pandas as pd\n",
    "import numpy as np\n",
    "import matplotlib.pyplot as plt\n",
    "import seaborn as sns\n",
    "\n",
    "from gensim.utils import simple_preprocess\n",
    "\n",
    "import spacy\n",
    "\n",
    "import re\n",
    "import json\n",
    "from html.parser import HTMLParser\n",
    "from io import StringIO"
   ]
  },
  {
   "cell_type": "code",
   "execution_count": 3,
   "metadata": {},
   "outputs": [
    {
     "data": {
      "text/html": [
       "<div>\n",
       "<style scoped>\n",
       "    .dataframe tbody tr th:only-of-type {\n",
       "        vertical-align: middle;\n",
       "    }\n",
       "\n",
       "    .dataframe tbody tr th {\n",
       "        vertical-align: top;\n",
       "    }\n",
       "\n",
       "    .dataframe thead th {\n",
       "        text-align: right;\n",
       "    }\n",
       "</style>\n",
       "<table border=\"1\" class=\"dataframe\">\n",
       "  <thead>\n",
       "    <tr style=\"text-align: right;\">\n",
       "      <th></th>\n",
       "      <th>review_id</th>\n",
       "      <th>product_id</th>\n",
       "      <th>reviewer_id</th>\n",
       "      <th>stars</th>\n",
       "      <th>review_body</th>\n",
       "      <th>review_title</th>\n",
       "      <th>language</th>\n",
       "      <th>product_category</th>\n",
       "    </tr>\n",
       "  </thead>\n",
       "  <tbody>\n",
       "    <tr>\n",
       "      <th>0</th>\n",
       "      <td>fr_0424335</td>\n",
       "      <td>product_fr_0297678</td>\n",
       "      <td>reviewer_fr_0961886</td>\n",
       "      <td>1</td>\n",
       "      <td>A déconseiller - Article n'a fonctionné qu'une...</td>\n",
       "      <td>Brumisateur à pompe</td>\n",
       "      <td>fr</td>\n",
       "      <td>beauty</td>\n",
       "    </tr>\n",
       "    <tr>\n",
       "      <th>1</th>\n",
       "      <td>fr_0452615</td>\n",
       "      <td>product_fr_0613288</td>\n",
       "      <td>reviewer_fr_0857499</td>\n",
       "      <td>1</td>\n",
       "      <td>Si vous voulez être déçu achetez le produit ! ...</td>\n",
       "      <td>Insatisfaisant</td>\n",
       "      <td>fr</td>\n",
       "      <td>baby_product</td>\n",
       "    </tr>\n",
       "    <tr>\n",
       "      <th>2</th>\n",
       "      <td>fr_0407673</td>\n",
       "      <td>product_fr_0571250</td>\n",
       "      <td>reviewer_fr_0383240</td>\n",
       "      <td>1</td>\n",
       "      <td>Écran de mauvaise qualité, car il s'use en peu...</td>\n",
       "      <td>Ne recommande pas</td>\n",
       "      <td>fr</td>\n",
       "      <td>pc</td>\n",
       "    </tr>\n",
       "    <tr>\n",
       "      <th>3</th>\n",
       "      <td>fr_0579191</td>\n",
       "      <td>product_fr_0030168</td>\n",
       "      <td>reviewer_fr_0729693</td>\n",
       "      <td>1</td>\n",
       "      <td>Cet engin ne sert à rien les sons sont pourris...</td>\n",
       "      <td>A éviter!</td>\n",
       "      <td>fr</td>\n",
       "      <td>musical_instruments</td>\n",
       "    </tr>\n",
       "    <tr>\n",
       "      <th>4</th>\n",
       "      <td>fr_0931533</td>\n",
       "      <td>product_fr_0468261</td>\n",
       "      <td>reviewer_fr_0734066</td>\n",
       "      <td>1</td>\n",
       "      <td>Très beau produit mais la grue n'a pas fonctio...</td>\n",
       "      <td>Déçue</td>\n",
       "      <td>fr</td>\n",
       "      <td>toy</td>\n",
       "    </tr>\n",
       "  </tbody>\n",
       "</table>\n",
       "</div>"
      ],
      "text/plain": [
       "    review_id          product_id          reviewer_id  stars  \\\n",
       "0  fr_0424335  product_fr_0297678  reviewer_fr_0961886      1   \n",
       "1  fr_0452615  product_fr_0613288  reviewer_fr_0857499      1   \n",
       "2  fr_0407673  product_fr_0571250  reviewer_fr_0383240      1   \n",
       "3  fr_0579191  product_fr_0030168  reviewer_fr_0729693      1   \n",
       "4  fr_0931533  product_fr_0468261  reviewer_fr_0734066      1   \n",
       "\n",
       "                                         review_body         review_title  \\\n",
       "0  A déconseiller - Article n'a fonctionné qu'une...  Brumisateur à pompe   \n",
       "1  Si vous voulez être déçu achetez le produit ! ...       Insatisfaisant   \n",
       "2  Écran de mauvaise qualité, car il s'use en peu...    Ne recommande pas   \n",
       "3  Cet engin ne sert à rien les sons sont pourris...            A éviter!   \n",
       "4  Très beau produit mais la grue n'a pas fonctio...                Déçue   \n",
       "\n",
       "  language     product_category  \n",
       "0       fr               beauty  \n",
       "1       fr         baby_product  \n",
       "2       fr                   pc  \n",
       "3       fr  musical_instruments  \n",
       "4       fr                  toy  "
      ]
     },
     "execution_count": 3,
     "metadata": {},
     "output_type": "execute_result"
    }
   ],
   "source": [
    "train_data = pd.read_json('../input/dataset_fr_train.json', lines=True)\n",
    "\n",
    "test_data = pd.read_json('../input/dataset_fr_test.json', lines=True)\n",
    "\n",
    "valid_data= pd.read_json('../input/dataset_fr_dev.json', lines=True)\n",
    "\n",
    "train_data.head()"
   ]
  },
  {
   "cell_type": "code",
   "execution_count": 4,
   "metadata": {},
   "outputs": [],
   "source": [
    "# convert starts into sentiments\n",
    "\n",
    "sentiments_dict = {1: 0,\n",
    "            2: 0,\n",
    "            3: 1,\n",
    "            4: 2,\n",
    "            5: 2}\n",
    "\n",
    "def stars_to_sentiment(dataset):\n",
    "    dataset['sentiment'] = dataset['stars'].map(sentiments_dict)\n",
    "    dataset = dataset[['review_body','sentiment']]\n",
    "    return dataset\n",
    "\n",
    "df_train = stars_to_sentiment(train_data)\n",
    "df_test = stars_to_sentiment(test_data)\n",
    "df_valid = stars_to_sentiment(valid_data)"
   ]
  },
  {
   "cell_type": "code",
   "execution_count": 24,
   "metadata": {},
   "outputs": [],
   "source": [
    "import pandas as pd\n",
    "import numpy as np\n",
    "import matplotlib.pyplot as plt\n",
    "from tensorflow.python.keras import models, layers, optimizers\n",
    "import tensorflow\n",
    "from tensorflow.keras.preprocessing.text import Tokenizer, text_to_word_sequence\n",
    "from tensorflow.keras.preprocessing.sequence import pad_sequences\n",
    "from tensorflow.python.keras import metrics\n",
    "\n",
    "import bz2\n",
    "from sklearn.metrics import f1_score, roc_auc_score, accuracy_score\n",
    "import re\n",
    "\n",
    "%matplotlib inline"
   ]
  },
  {
   "cell_type": "code",
   "execution_count": 6,
   "metadata": {},
   "outputs": [],
   "source": [
    "train_labels, train_texts = df_train['sentiment'].values.tolist(), df_train['review_body'].values.tolist()\n",
    "test_labels, test_texts = df_test['sentiment'].values.tolist(), df_test['review_body'].values.tolist()\n",
    "val_labels, val_texts = df_valid['sentiment'].values.tolist(), df_valid['review_body'].values.tolist()"
   ]
  },
  {
   "cell_type": "code",
   "execution_count": 7,
   "metadata": {},
   "outputs": [],
   "source": [
    "import re\n",
    "NON_ALPHANUM = re.compile(r'[\\W]')\n",
    "NON_ASCII = re.compile(r'[^a-z0-1\\s]')\n",
    "def normalize_texts(texts):\n",
    "    normalized_texts = []\n",
    "    for text in texts:\n",
    "        lower = text.lower()\n",
    "        no_punctuation = NON_ALPHANUM.sub(r' ', lower)\n",
    "        no_non_ascii = NON_ASCII.sub(r'', no_punctuation)\n",
    "        normalized_texts.append(no_non_ascii)\n",
    "    return normalized_texts\n",
    "        \n",
    "train_texts = normalize_texts(train_texts)\n",
    "test_texts = normalize_texts(test_texts)\n",
    "val_texts = normalize_texts(val_texts)"
   ]
  },
  {
   "cell_type": "code",
   "execution_count": 9,
   "metadata": {},
   "outputs": [],
   "source": [
    "# convert labels to one-hot encoding\n",
    "\n",
    "from keras.utils import to_categorical\n",
    "from numpy import array\n",
    "\n",
    "train_labels = to_categorical(array(train_labels))\n",
    "test_labels = to_categorical(array(test_labels))\n",
    "val_labels = to_categorical(array(val_labels))"
   ]
  },
  {
   "cell_type": "code",
   "execution_count": 11,
   "metadata": {},
   "outputs": [],
   "source": [
    "MAX_FEATURES = 12000\n",
    "tokenizer = Tokenizer(num_words=MAX_FEATURES)\n",
    "tokenizer.fit_on_texts(train_texts)\n",
    "train_texts = tokenizer.texts_to_sequences(train_texts)\n",
    "val_texts = tokenizer.texts_to_sequences(val_texts)\n",
    "test_texts = tokenizer.texts_to_sequences(test_texts)"
   ]
  },
  {
   "cell_type": "code",
   "execution_count": 12,
   "metadata": {},
   "outputs": [],
   "source": [
    "# Adding 1 because of reserved 0 index\n",
    "vocab_size = len(tokenizer.word_index) + 1\n",
    "\n",
    "maxlen = 100\n",
    "\n",
    "train_texts = pad_sequences(train_texts, padding='post', maxlen=maxlen)\n",
    "test_texts = pad_sequences(test_texts, padding='post', maxlen=maxlen)\n",
    "val_texts = pad_sequences(val_texts, padding='post', maxlen=maxlen)"
   ]
  },
  {
   "cell_type": "code",
   "execution_count": 18,
   "metadata": {},
   "outputs": [],
   "source": [
    "# preparing the embedding dictionnary\n",
    "\n",
    "import spacy\n",
    "nlp = spacy.load('fr_core_news_lg', disable=['parser', 'ner'])"
   ]
  },
  {
   "cell_type": "code",
   "execution_count": 14,
   "metadata": {},
   "outputs": [],
   "source": [
    "# tqdm for showing progress\n",
    "from tqdm import tqdm_notebook as tqdm"
   ]
  },
  {
   "cell_type": "code",
   "execution_count": 19,
   "metadata": {},
   "outputs": [
    {
     "name": "stderr",
     "output_type": "stream",
     "text": [
      "<ipython-input-19-dfc4edbcbecf>:2: TqdmDeprecationWarning: This function will be removed in tqdm==5.0.0\n",
      "Please use `tqdm.notebook.tqdm` instead of `tqdm.tqdm_notebook`\n",
      "  for word, index in tqdm(tokenizer.word_index.items()):\n"
     ]
    },
    {
     "data": {
      "application/vnd.jupyter.widget-view+json": {
       "model_id": "8ac137a186a4440b89d36cb539586821",
       "version_major": 2,
       "version_minor": 0
      },
      "text/plain": [
       "  0%|          | 0/47330 [00:00<?, ?it/s]"
      ]
     },
     "metadata": {},
     "output_type": "display_data"
    }
   ],
   "source": [
    "embedding_matrix = np.zeros((vocab_size, 300))\n",
    "for word, index in tqdm(tokenizer.word_index.items()):\n",
    "    embedding_vector = nlp(word).vector\n",
    "    if embedding_vector is not None:\n",
    "        embedding_matrix[index] = embedding_vector"
   ]
  },
  {
   "cell_type": "code",
   "execution_count": 20,
   "metadata": {},
   "outputs": [],
   "source": [
    "def create_model(dropout=0.4, gru_nparams=128, dense_nparams=64, activation='relu', optimizer='adam'):\n",
    "    sequences = layers.Input(shape=(maxlen,))\n",
    "    embedded = layers.Embedding(vocab_size,\n",
    "                            300,\n",
    "                            weights=[embedding_matrix],\n",
    "                            input_length=maxlen,\n",
    "                            trainable=False)(sequences)\n",
    "    x = layers.SpatialDropout1D(dropout)(embedded)\n",
    "    x = layers.GRU(gru_nparams)(x)\n",
    "    x = layers.Dense(dense_nparams, activation=activation)(x)\n",
    "    predictions = layers.Dense(3, activation='softmax')(x)\n",
    "    model = models.Model(inputs=sequences, outputs=predictions)\n",
    "    model.compile(\n",
    "        optimizer=optimizer,\n",
    "        loss='categorical_crossentropy',\n",
    "        metrics=[\n",
    "            'categorical_accuracy', \n",
    "            metrics.Precision(), \n",
    "            metrics.Recall()]\n",
    "    )\n",
    "    return model"
   ]
  },
  {
   "cell_type": "code",
   "execution_count": 29,
   "metadata": {},
   "outputs": [],
   "source": [
    "gru_model = create_model()"
   ]
  },
  {
   "cell_type": "code",
   "execution_count": 36,
   "metadata": {},
   "outputs": [],
   "source": [
    "from tensorflow.python.keras.callbacks import EarlyStopping, ModelCheckpoint, TensorBoard\n",
    "\n",
    "my_callbacks = [\n",
    "    EarlyStopping(monitor='val_loss', min_delta=0, \n",
    "                         patience=5, verbose=1, mode='auto',\n",
    "                         baseline=None, restore_best_weights=True),\n",
    "    ModelCheckpoint(filepath='../saved models/gru_model.h5', \n",
    "                   monitor='val_categorical_accuracy', verbose=1, save_best_only=True, mode='max'),\n",
    "    TensorBoard(log_dir='./logs'),\n",
    "]"
   ]
  },
  {
   "cell_type": "code",
   "execution_count": 37,
   "metadata": {},
   "outputs": [
    {
     "name": "stdout",
     "output_type": "stream",
     "text": [
      "Epoch 1/50\n",
      "1563/1563 [==============================] - 347s 222ms/step - loss: 0.6935 - categorical_accuracy: 0.7033 - precision: 0.7782 - recall: 0.6111 - val_loss: 0.6703 - val_categorical_accuracy: 0.7114 - val_precision: 0.7762 - val_recall: 0.6298\n",
      "\n",
      "Epoch 00001: val_categorical_accuracy improved from -inf to 0.71140, saving model to ../saved models/gru_model.h5\n",
      "Epoch 2/50\n",
      "1563/1563 [==============================] - 346s 221ms/step - loss: 0.6811 - categorical_accuracy: 0.7103 - precision: 0.7824 - recall: 0.6192 - val_loss: 0.6638 - val_categorical_accuracy: 0.7140 - val_precision: 0.7826 - val_recall: 0.6330\n",
      "\n",
      "Epoch 00002: val_categorical_accuracy improved from 0.71140 to 0.71400, saving model to ../saved models/gru_model.h5\n",
      "Epoch 3/50\n",
      "1563/1563 [==============================] - 345s 221ms/step - loss: 0.6740 - categorical_accuracy: 0.7122 - precision: 0.7844 - recall: 0.6247 - val_loss: 0.6537 - val_categorical_accuracy: 0.7152 - val_precision: 0.7865 - val_recall: 0.6358\n",
      "\n",
      "Epoch 00003: val_categorical_accuracy improved from 0.71400 to 0.71520, saving model to ../saved models/gru_model.h5\n",
      "Epoch 4/50\n",
      "1563/1563 [==============================] - 347s 222ms/step - loss: 0.6654 - categorical_accuracy: 0.7165 - precision: 0.7865 - recall: 0.6293 - val_loss: 0.6465 - val_categorical_accuracy: 0.7224 - val_precision: 0.7948 - val_recall: 0.6384\n",
      "\n",
      "Epoch 00004: val_categorical_accuracy improved from 0.71520 to 0.72240, saving model to ../saved models/gru_model.h5\n",
      "Epoch 5/50\n",
      "1563/1563 [==============================] - 345s 221ms/step - loss: 0.6605 - categorical_accuracy: 0.7187 - precision: 0.7881 - recall: 0.6329 - val_loss: 0.6404 - val_categorical_accuracy: 0.7258 - val_precision: 0.7907 - val_recall: 0.6468\n",
      "\n",
      "Epoch 00005: val_categorical_accuracy improved from 0.72240 to 0.72580, saving model to ../saved models/gru_model.h5\n",
      "Epoch 6/50\n",
      "1563/1563 [==============================] - 403s 258ms/step - loss: 0.6558 - categorical_accuracy: 0.7210 - precision: 0.7893 - recall: 0.6369 - val_loss: 0.6372 - val_categorical_accuracy: 0.7238 - val_precision: 0.7896 - val_recall: 0.6536\n",
      "\n",
      "Epoch 00006: val_categorical_accuracy did not improve from 0.72580\n",
      "Epoch 7/50\n",
      "1563/1563 [==============================] - 452s 289ms/step - loss: 0.6518 - categorical_accuracy: 0.7226 - precision: 0.7897 - recall: 0.6399 - val_loss: 0.6344 - val_categorical_accuracy: 0.7298 - val_precision: 0.7914 - val_recall: 0.6602\n",
      "\n",
      "Epoch 00007: val_categorical_accuracy improved from 0.72580 to 0.72980, saving model to ../saved models/gru_model.h5\n",
      "Epoch 8/50\n",
      "1563/1563 [==============================] - 464s 297ms/step - loss: 0.6464 - categorical_accuracy: 0.7260 - precision: 0.7904 - recall: 0.6457 - val_loss: 0.6386 - val_categorical_accuracy: 0.7316 - val_precision: 0.7826 - val_recall: 0.6618\n",
      "\n",
      "Epoch 00008: val_categorical_accuracy improved from 0.72980 to 0.73160, saving model to ../saved models/gru_model.h5\n",
      "Epoch 9/50\n",
      "1487/1563 [===========================>..] - ETA: 22s - loss: 0.6424 - categorical_accuracy: 0.7278 - precision: 0.7921 - recall: 0.6480"
     ]
    },
    {
     "name": "stderr",
     "output_type": "stream",
     "text": [
      "IOPub message rate exceeded.\n",
      "The notebook server will temporarily stop sending output\n",
      "to the client in order to avoid crashing it.\n",
      "To change this limit, set the config variable\n",
      "`--NotebookApp.iopub_msg_rate_limit`.\n",
      "\n",
      "Current values:\n",
      "NotebookApp.iopub_msg_rate_limit=1000.0 (msgs/sec)\n",
      "NotebookApp.rate_limit_window=3.0 (secs)\n",
      "\n"
     ]
    },
    {
     "name": "stdout",
     "output_type": "stream",
     "text": [
      "1563/1563 [==============================] - 465s 297ms/step - loss: 0.6401 - categorical_accuracy: 0.7291 - precision: 0.7927 - recall: 0.6498 - val_loss: 0.6383 - val_categorical_accuracy: 0.7264 - val_precision: 0.7828 - val_recall: 0.6560\n",
      "\n",
      "Epoch 00010: val_categorical_accuracy did not improve from 0.73160\n",
      "Epoch 11/50\n",
      "1563/1563 [==============================] - 461s 295ms/step - loss: 0.6398 - categorical_accuracy: 0.7292 - precision: 0.7927 - recall: 0.6507 - val_loss: 0.6269 - val_categorical_accuracy: 0.7346 - val_precision: 0.7891 - val_recall: 0.6630\n",
      "\n",
      "Epoch 00011: val_categorical_accuracy improved from 0.73160 to 0.73460, saving model to ../saved models/gru_model.h5\n",
      "Epoch 12/50\n",
      "1171/1563 [=====================>........] - ETA: 1:53 - loss: 0.6353 - categorical_accuracy: 0.7306 - precision: 0.7935 - recall: 0.6518"
     ]
    },
    {
     "name": "stderr",
     "output_type": "stream",
     "text": [
      "IOPub message rate exceeded.\n",
      "The notebook server will temporarily stop sending output\n",
      "to the client in order to avoid crashing it.\n",
      "To change this limit, set the config variable\n",
      "`--NotebookApp.iopub_msg_rate_limit`.\n",
      "\n",
      "Current values:\n",
      "NotebookApp.iopub_msg_rate_limit=1000.0 (msgs/sec)\n",
      "NotebookApp.rate_limit_window=3.0 (secs)\n",
      "\n"
     ]
    },
    {
     "name": "stdout",
     "output_type": "stream",
     "text": [
      "1563/1563 [==============================] - 420s 268ms/step - loss: 0.6354 - categorical_accuracy: 0.7315 - precision: 0.7938 - recall: 0.6519 - val_loss: 0.6251 - val_categorical_accuracy: 0.7350 - val_precision: 0.7881 - val_recall: 0.6678\n",
      "\n",
      "Epoch 00013: val_categorical_accuracy improved from 0.73460 to 0.73500, saving model to ../saved models/gru_model.h5\n",
      "Epoch 14/50\n",
      "1563/1563 [==============================] - 409s 262ms/step - loss: 0.6329 - categorical_accuracy: 0.7323 - precision: 0.7941 - recall: 0.6538 - val_loss: 0.6292 - val_categorical_accuracy: 0.7320 - val_precision: 0.7904 - val_recall: 0.6654\n",
      "\n",
      "Epoch 00014: val_categorical_accuracy did not improve from 0.73500\n",
      "Epoch 15/50\n",
      " 890/1563 [================>.............] - ETA: 2:46 - loss: 0.6303 - categorical_accuracy: 0.7318 - precision: 0.7951 - recall: 0.6538"
     ]
    },
    {
     "name": "stderr",
     "output_type": "stream",
     "text": [
      "IOPub message rate exceeded.\n",
      "The notebook server will temporarily stop sending output\n",
      "to the client in order to avoid crashing it.\n",
      "To change this limit, set the config variable\n",
      "`--NotebookApp.iopub_msg_rate_limit`.\n",
      "\n",
      "Current values:\n",
      "NotebookApp.iopub_msg_rate_limit=1000.0 (msgs/sec)\n",
      "NotebookApp.rate_limit_window=3.0 (secs)\n",
      "\n"
     ]
    },
    {
     "name": "stdout",
     "output_type": "stream",
     "text": [
      "1563/1563 [==============================] - 342s 219ms/step - loss: 0.6267 - categorical_accuracy: 0.7346 - precision: 0.7956 - recall: 0.6584 - val_loss: 0.6218 - val_categorical_accuracy: 0.7340 - val_precision: 0.7893 - val_recall: 0.6698\n",
      "\n",
      "Epoch 00016: val_categorical_accuracy did not improve from 0.73500\n",
      "Epoch 17/50\n",
      "1563/1563 [==============================] - 343s 219ms/step - loss: 0.6271 - categorical_accuracy: 0.7348 - precision: 0.7949 - recall: 0.6595 - val_loss: 0.6234 - val_categorical_accuracy: 0.7344 - val_precision: 0.7853 - val_recall: 0.6666\n",
      "\n",
      "Epoch 00017: val_categorical_accuracy did not improve from 0.73500\n",
      "Epoch 18/50\n",
      " 514/1563 [========>.....................] - ETA: 3:48 - loss: 0.6229 - categorical_accuracy: 0.7361 - precision: 0.7961 - recall: 0.6636"
     ]
    },
    {
     "name": "stderr",
     "output_type": "stream",
     "text": [
      "IOPub message rate exceeded.\n",
      "The notebook server will temporarily stop sending output\n",
      "to the client in order to avoid crashing it.\n",
      "To change this limit, set the config variable\n",
      "`--NotebookApp.iopub_msg_rate_limit`.\n",
      "\n",
      "Current values:\n",
      "NotebookApp.iopub_msg_rate_limit=1000.0 (msgs/sec)\n",
      "NotebookApp.rate_limit_window=3.0 (secs)\n",
      "\n"
     ]
    },
    {
     "name": "stdout",
     "output_type": "stream",
     "text": [
      "1563/1563 [==============================] - 343s 220ms/step - loss: 0.6254 - categorical_accuracy: 0.7356 - precision: 0.7955 - recall: 0.6600 - val_loss: 0.6173 - val_categorical_accuracy: 0.7382 - val_precision: 0.7909 - val_recall: 0.6748\n",
      "\n",
      "Epoch 00019: val_categorical_accuracy did not improve from 0.73940\n",
      "Epoch 20/50\n",
      "1563/1563 [==============================] - 468s 300ms/step - loss: 0.6141 - categorical_accuracy: 0.7395 - precision: 0.7975 - recall: 0.6654 - val_loss: 0.6153 - val_categorical_accuracy: 0.7352 - val_precision: 0.7929 - val_recall: 0.6692\n",
      "\n",
      "Epoch 00029: val_categorical_accuracy did not improve from 0.74160\n",
      "Epoch 30/50\n",
      "1563/1563 [==============================] - 436s 279ms/step - loss: 0.6159 - categorical_accuracy: 0.7394 - precision: 0.7997 - recall: 0.6645 - val_loss: 0.6218 - val_categorical_accuracy: 0.7386 - val_precision: 0.7895 - val_recall: 0.6752\n",
      "Restoring model weights from the end of the best epoch.\n",
      "\n",
      "Epoch 00030: val_categorical_accuracy did not improve from 0.74160\n",
      "Epoch 00030: early stopping\n"
     ]
    }
   ],
   "source": [
    "history = gru_model.fit(\n",
    "    np.array(train_texts), \n",
    "    np.array(train_labels), \n",
    "    batch_size=128,\n",
    "    epochs=50,\n",
    "    validation_data=(np.array(val_texts), np.array(val_labels)),\n",
    "    callbacks=[my_callbacks], )"
   ]
  },
  {
   "cell_type": "code",
   "execution_count": 39,
   "metadata": {},
   "outputs": [
    {
     "name": "stdout",
     "output_type": "stream",
     "text": [
      "Accuracy score: 0.746\n",
      "F1 score: 0.746\n",
      "ROC AUC score: 0.8095\n"
     ]
    }
   ],
   "source": [
    "preds = gru_model.predict(test_texts)\n",
    "print('Accuracy score: {:0.4}'.format(accuracy_score(test_labels, \n",
    "                                                     to_categorical(np.argmax(preds, axis=-1)))))\n",
    "print('F1 score: {:0.4}'.format(f1_score(test_labels, to_categorical(np.argmax(preds, axis=-1)),\n",
    "                                              average='micro')))\n",
    "print('ROC AUC score: {:0.4}'.format(roc_auc_score(test_labels, \n",
    "                                                     to_categorical(np.argmax(preds, axis=-1)),\n",
    "                                                   average='micro')))"
   ]
  },
  {
   "cell_type": "code",
   "execution_count": 40,
   "metadata": {},
   "outputs": [
    {
     "data": {
      "image/png": "[encoded data removed]",
      "text/plain": [
       "<Figure size 432x288 with 1 Axes>"
      ]
     },
     "metadata": {
      "needs_background": "light"
     },
     "output_type": "display_data"
    },
    {
     "data": {
      "image/png": "[encoded data removed]",
      "text/plain": [
       "<Figure size 432x288 with 1 Axes>"
      ]
     },
     "metadata": {
      "needs_background": "light"
     },
     "output_type": "display_data"
    }
   ],
   "source": [
    "import matplotlib.pyplot as plt\n",
    "\n",
    "plt.plot(history.history['categorical_accuracy'])\n",
    "plt.plot(history.history['val_categorical_accuracy'])\n",
    "\n",
    "plt.title('model accuracy')\n",
    "plt.ylabel('accuracy')\n",
    "plt.xlabel('epoch')\n",
    "plt.legend(['train','validation'], loc='upper left')\n",
    "plt.show()\n",
    "\n",
    "plt.plot(history.history['loss'])\n",
    "plt.plot(history.history['val_loss'])\n",
    "\n",
    "plt.title('model loss')\n",
    "plt.ylabel('loss')\n",
    "plt.xlabel('epoch')\n",
    "plt.legend(['train','validation'], loc='upper left')\n",
    "plt.show()"
   ]
  }
 ],
 "metadata": {
  "kernelspec": {
   "display_name": "Python (pfe-env)",
   "language": "python",
   "name": "pfe-env"
  },
  "language_info": {
   "codemirror_mode": {
    "name": "ipython",
    "version": 3
   },
   "file_extension": ".py",
   "mimetype": "text/x-python",
   "name": "python",
   "nbconvert_exporter": "python",
   "pygments_lexer": "ipython3",
   "version": "3.8.5"
  }
 },
 "nbformat": 4,
 "nbformat_minor": 4
}
