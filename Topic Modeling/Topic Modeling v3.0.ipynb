{
 "cells": [
  {
   "cell_type": "markdown",
   "metadata": {},
   "source": [
    "# Preparing the corpus"
   ]
  },
  {
   "cell_type": "code",
   "execution_count": 1,
   "metadata": {},
   "outputs": [],
   "source": [
    "# hide jupyter warning\n",
    "import warnings\n",
    "warnings.filterwarnings('ignore')"
   ]
  },
  {
   "cell_type": "code",
   "execution_count": 2,
   "metadata": {},
   "outputs": [],
   "source": [
    "import numpy as np\n",
    "import pandas as pd\n",
    "import seaborn as sns\n",
    "import matplotlib.pyplot as plt\n",
    "sns.set()"
   ]
  },
  {
   "cell_type": "code",
   "execution_count": 3,
   "metadata": {},
   "outputs": [
    {
     "name": "stderr",
     "output_type": "stream",
     "text": [
      "/anaconda/envs/pfe-env/lib/python3.8/site-packages/scipy/sparse/sparsetools.py:21: DeprecationWarning: `scipy.sparse.sparsetools` is deprecated!\n",
      "scipy.sparse.sparsetools is a private module for scipy.sparse, and should not be used.\n",
      "  _deprecated()\n"
     ]
    }
   ],
   "source": [
    "import pyLDAvis\n",
    "import pyLDAvis.gensim\n",
    "\n",
    "from tqdm import tqdm\n",
    "\n",
    "import gensim\n",
    "import gensim.corpora as corpora\n",
    "from gensim.utils import simple_preprocess\n",
    "from gensim.models import CoherenceModel\n",
    "\n",
    "import spacy"
   ]
  },
  {
   "cell_type": "code",
   "execution_count": 4,
   "metadata": {},
   "outputs": [
    {
     "name": "stderr",
     "output_type": "stream",
     "text": [
      "/anaconda/envs/pfe-env/lib/python3.8/site-packages/ipykernel/ipkernel.py:287: DeprecationWarning: `should_run_async` will not call `transform_cell` automatically in the future. Please pass the result to `transformed_cell` argument and any exception that happen during thetransform in `preprocessing_exc_tuple` in IPython 7.17 and above.\n",
      "  and should_run_async(code)\n"
     ]
    }
   ],
   "source": [
    "df = pd.read_json('../input/iphone-12-tweets-fr.json', lines=True)"
   ]
  },
  {
   "cell_type": "code",
   "execution_count": 5,
   "metadata": {},
   "outputs": [
    {
     "name": "stderr",
     "output_type": "stream",
     "text": [
      "/anaconda/envs/pfe-env/lib/python3.8/site-packages/ipykernel/ipkernel.py:287: DeprecationWarning: `should_run_async` will not call `transform_cell` automatically in the future. Please pass the result to `transformed_cell` argument and any exception that happen during thetransform in `preprocessing_exc_tuple` in IPython 7.17 and above.\n",
      "  and should_run_async(code)\n"
     ]
    }
   ],
   "source": [
    "# remove duplicates \n",
    "# 840 tweets had been droped\n",
    "\n",
    "df = df[df['lang'] == 'fr']\n",
    "df = df.sort_values(\"content\") \n",
    "  \n",
    "# dropping ALL duplicte values \n",
    "df = df.drop_duplicates(subset =\"content\", keep = 'first')"
   ]
  },
  {
   "cell_type": "code",
   "execution_count": 6,
   "metadata": {},
   "outputs": [
    {
     "name": "stderr",
     "output_type": "stream",
     "text": [
      "/anaconda/envs/pfe-env/lib/python3.8/site-packages/ipykernel/ipkernel.py:287: DeprecationWarning: `should_run_async` will not call `transform_cell` automatically in the future. Please pass the result to `transformed_cell` argument and any exception that happen during thetransform in `preprocessing_exc_tuple` in IPython 7.17 and above.\n",
      "  and should_run_async(code)\n"
     ]
    }
   ],
   "source": [
    "# selectionner que les tweets qui répondent au requetes de l'utilisateur\n",
    "\n",
    "data = df['content']\n",
    "\n",
    "with open('../input/keywords.txt', encoding='utf-8') as f:\n",
    "    keywords = f.read().splitlines()\n",
    "\n",
    "data = data[data.str.contains('|'.join(keywords), case=False)]\n",
    "\n",
    "# supprimer les tweets inutiles (publicité, concours ..)\n",
    "\n",
    "with open('../input/ads_words.txt', encoding='utf-8') as f:\n",
    "    ads_words = f.read().splitlines()\n",
    "\n",
    "data = data[~data.str.contains('|'.join(ads_words), case=False)]"
   ]
  },
  {
   "cell_type": "code",
   "execution_count": 7,
   "metadata": {},
   "outputs": [
    {
     "name": "stderr",
     "output_type": "stream",
     "text": [
      "/anaconda/envs/pfe-env/lib/python3.8/site-packages/ipykernel/ipkernel.py:287: DeprecationWarning: `should_run_async` will not call `transform_cell` automatically in the future. Please pass the result to `transformed_cell` argument and any exception that happen during thetransform in `preprocessing_exc_tuple` in IPython 7.17 and above.\n",
      "  and should_run_async(code)\n"
     ]
    }
   ],
   "source": [
    "with open('../input/keywords.txt', encoding='utf-8') as f:\n",
    "    keywords = f.read().splitlines()"
   ]
  },
  {
   "cell_type": "code",
   "execution_count": 8,
   "metadata": {},
   "outputs": [
    {
     "name": "stdout",
     "output_type": "stream",
     "text": [
      "Downloading emoji data ...\n"
     ]
    },
    {
     "name": "stderr",
     "output_type": "stream",
     "text": [
      "/anaconda/envs/pfe-env/lib/python3.8/site-packages/ipykernel/ipkernel.py:287: DeprecationWarning: `should_run_async` will not call `transform_cell` automatically in the future. Please pass the result to `transformed_cell` argument and any exception that happen during thetransform in `preprocessing_exc_tuple` in IPython 7.17 and above.\n",
      "  and should_run_async(code)\n"
     ]
    },
    {
     "name": "stdout",
     "output_type": "stream",
     "text": [
      "... OK (Got response in 0.41 seconds)\n",
      "Writing emoji data to /home/azureuser/.demoji/codes.json ...\n",
      "... OK\n"
     ]
    }
   ],
   "source": [
    "import re\n",
    "import json\n",
    "from html.parser import HTMLParser\n",
    "from io import StringIO\n",
    "\n",
    "import demoji\n",
    "demoji.download_codes()"
   ]
  },
  {
   "cell_type": "code",
   "execution_count": 9,
   "metadata": {},
   "outputs": [
    {
     "name": "stderr",
     "output_type": "stream",
     "text": [
      "/anaconda/envs/pfe-env/lib/python3.8/site-packages/ipykernel/ipkernel.py:287: DeprecationWarning: `should_run_async` will not call `transform_cell` automatically in the future. Please pass the result to `transformed_cell` argument and any exception that happen during thetransform in `preprocessing_exc_tuple` in IPython 7.17 and above.\n",
      "  and should_run_async(code)\n"
     ]
    }
   ],
   "source": [
    "class MLStripper(HTMLParser):\n",
    "        def __init__(self):\n",
    "            super().__init__()\n",
    "            self.reset()\n",
    "            self.strict = False\n",
    "            self.convert_charrefs= True\n",
    "            self.text = StringIO()\n",
    "        def handle_data(self, d):\n",
    "            self.text.write(d)\n",
    "        def get_data(self):\n",
    "            return self.text.getvalue()\n",
    "        \n",
    "def html_free_text(html):\n",
    "    s = MLStripper()\n",
    "    s.feed(html)\n",
    "    return s.get_data()\n",
    "\n",
    "def emoji_free_text(text):\n",
    "    return demoji.replace(text, '').strip()\n",
    "\n",
    "def url_free_text(text):\n",
    "    text = re.sub(r'(?:\\@|https?\\://)\\S+', '', text)\n",
    "    return text\n",
    "    \n",
    "with open('../input/abrivot_fr.json', encoding='utf-8') as f:\n",
    "        abrivot = json.load(f)   \n",
    "        \n",
    "def abrivot_free_text(text):\n",
    "    words = text.lower().split()\n",
    "    text_out = [abrivot[word] if word in abrivot else word for word in words]\n",
    "    return ' '.join(text_out)\n",
    "\n",
    "def punct_free_text(text):\n",
    "    text_out = simple_preprocess(text, deacc=True, min_len=3)\n",
    "    #return ' '.join(text_out)\n",
    "    return text_out"
   ]
  },
  {
   "cell_type": "markdown",
   "metadata": {},
   "source": [
    "## Pre-Process the data"
   ]
  },
  {
   "cell_type": "code",
   "execution_count": 10,
   "metadata": {},
   "outputs": [
    {
     "name": "stderr",
     "output_type": "stream",
     "text": [
      "/anaconda/envs/pfe-env/lib/python3.8/site-packages/ipykernel/ipkernel.py:287: DeprecationWarning: `should_run_async` will not call `transform_cell` automatically in the future. Please pass the result to `transformed_cell` argument and any exception that happen during thetransform in `preprocessing_exc_tuple` in IPython 7.17 and above.\n",
      "  and should_run_async(code)\n"
     ]
    },
    {
     "name": "stdout",
     "output_type": "stream",
     "text": [
      "CPU times: user 13.6 s, sys: 14.4 ms, total: 13.6 s\n",
      "Wall time: 13.6 s\n"
     ]
    }
   ],
   "source": [
    "%%time\n",
    "\n",
    "data_free_html = data.apply(html_free_text)\n",
    "data_free_emoji = data_free_html.apply(emoji_free_text)\n",
    "data_free_url = data_free_emoji.apply(url_free_text)\n",
    "data_free_abrivot = data_free_url.apply(abrivot_free_text)\n",
    "data_free_punct = data_free_url.apply(punct_free_text)"
   ]
  },
  {
   "cell_type": "code",
   "execution_count": 11,
   "metadata": {},
   "outputs": [
    {
     "name": "stderr",
     "output_type": "stream",
     "text": [
      "/anaconda/envs/pfe-env/lib/python3.8/site-packages/ipykernel/ipkernel.py:287: DeprecationWarning: `should_run_async` will not call `transform_cell` automatically in the future. Please pass the result to `transformed_cell` argument and any exception that happen during thetransform in `preprocessing_exc_tuple` in IPython 7.17 and above.\n",
      "  and should_run_async(code)\n"
     ]
    }
   ],
   "source": [
    "# Build the bigram and trigrams\n",
    "\n",
    "data = list(data_free_punct)\n",
    "\n",
    "bigram = gensim.models.Phrases(data, min_count=5, threshold=100)\n",
    "trigram = gensim.models.Phrases(bigram[data], threshold=100)\n",
    "bigram_mod = gensim.models.phrases.Phraser(bigram)\n",
    "trigram_mod = gensim.models.phrases.Phraser(trigram)"
   ]
  },
  {
   "cell_type": "code",
   "execution_count": 12,
   "metadata": {},
   "outputs": [
    {
     "name": "stderr",
     "output_type": "stream",
     "text": [
      "/anaconda/envs/pfe-env/lib/python3.8/site-packages/ipykernel/ipkernel.py:287: DeprecationWarning: `should_run_async` will not call `transform_cell` automatically in the future. Please pass the result to `transformed_cell` argument and any exception that happen during thetransform in `preprocessing_exc_tuple` in IPython 7.17 and above.\n",
      "  and should_run_async(code)\n"
     ]
    }
   ],
   "source": [
    "# define a preprocessing function\n",
    "\n",
    "# only need tagger, no need for parser and named entity recognizer, for faster implementation\n",
    "nlp = spacy.load('fr_core_news_sm', disable=['parser', 'ner'])\n",
    "\n",
    "# get stopwords\n",
    "# ask the user to specify the brand name to be added to the stopwords\n",
    "# or implement it manually\n",
    "with open('../input/fr_stopwords.txt', encoding='utf-8') as f:\n",
    "    fr_stopwords = f.read().splitlines()\n",
    "stop_words = nlp.Defaults.stop_words.union(fr_stopwords)\n",
    "\n",
    "\n",
    "# final preprocesser\n",
    "def process_words(texts, stop_words=stop_words, allowed_tags=['NOUN']):\n",
    "    \n",
    "    \"\"\"Convert a document into a list of lowercase tokens, build bigrams-trigrams, implement lemmatization\"\"\"\n",
    "    \n",
    "    # remove stopwords, short tokens and letter accents \n",
    "    #texts = [[word for word in simple_preprocess(str(doc), deacc=True, min_len=3) if word not in stop_words] for doc in texts]\n",
    "    texts = [[word for word in doc if word not in stop_words] for doc in texts]\n",
    "\n",
    "    \n",
    "    # bi-gram and tri-gram implementation\n",
    "    texts = [trigram_mod[bigram_mod[doc]] for doc in texts]\n",
    "    \n",
    "    texts_out = []\n",
    "    \n",
    "    # implement lemmatization and filter out unwanted part of speech tags\n",
    "    for sent in texts:\n",
    "        doc = nlp(\" \".join(sent)) \n",
    "        texts_out.append([token.lemma_ for token in doc if token.pos_ in allowed_tags])\n",
    "    \n",
    "    # remove stopwords and short tokens again after lemmatization\n",
    "    texts_out = [[word for word in simple_preprocess(str(doc), deacc=True, min_len=3) if word not in stop_words] for doc in texts_out]    \n",
    "    \n",
    "    return texts_out"
   ]
  },
  {
   "cell_type": "code",
   "execution_count": 13,
   "metadata": {},
   "outputs": [
    {
     "name": "stderr",
     "output_type": "stream",
     "text": [
      "/anaconda/envs/pfe-env/lib/python3.8/site-packages/ipykernel/ipkernel.py:287: DeprecationWarning: `should_run_async` will not call `transform_cell` automatically in the future. Please pass the result to `transformed_cell` argument and any exception that happen during thetransform in `preprocessing_exc_tuple` in IPython 7.17 and above.\n",
      "  and should_run_async(code)\n"
     ]
    },
    {
     "name": "stdout",
     "output_type": "stream",
     "text": [
      "CPU times: user 1min 20s, sys: 55.2 ms, total: 1min 20s\n",
      "Wall time: 1min 20s\n"
     ]
    }
   ],
   "source": [
    "%%time\n",
    "\n",
    "data_ready = process_words(data)"
   ]
  },
  {
   "cell_type": "code",
   "execution_count": 14,
   "metadata": {},
   "outputs": [
    {
     "name": "stderr",
     "output_type": "stream",
     "text": [
      "/anaconda/envs/pfe-env/lib/python3.8/site-packages/ipykernel/ipkernel.py:287: DeprecationWarning: `should_run_async` will not call `transform_cell` automatically in the future. Please pass the result to `transformed_cell` argument and any exception that happen during thetransform in `preprocessing_exc_tuple` in IPython 7.17 and above.\n",
      "  and should_run_async(code)\n"
     ]
    },
    {
     "name": "stdout",
     "output_type": "stream",
     "text": [
      "Total Vocabulary Size: 5283\n"
     ]
    }
   ],
   "source": [
    "# create the Dictionary\n",
    "\n",
    "id2word = corpora.Dictionary(data_ready)\n",
    "print('Total Vocabulary Size:', len(id2word))"
   ]
  },
  {
   "cell_type": "code",
   "execution_count": 15,
   "metadata": {},
   "outputs": [
    {
     "name": "stderr",
     "output_type": "stream",
     "text": [
      "/anaconda/envs/pfe-env/lib/python3.8/site-packages/ipykernel/ipkernel.py:287: DeprecationWarning: `should_run_async` will not call `transform_cell` automatically in the future. Please pass the result to `transformed_cell` argument and any exception that happen during thetransform in `preprocessing_exc_tuple` in IPython 7.17 and above.\n",
      "  and should_run_async(code)\n"
     ]
    }
   ],
   "source": [
    "# create the corpus\n",
    "corpus = [id2word.doc2bow(text) for text in data_ready]"
   ]
  },
  {
   "cell_type": "code",
   "execution_count": 16,
   "metadata": {},
   "outputs": [
    {
     "name": "stderr",
     "output_type": "stream",
     "text": [
      "/anaconda/envs/pfe-env/lib/python3.8/site-packages/ipykernel/ipkernel.py:287: DeprecationWarning: `should_run_async` will not call `transform_cell` automatically in the future. Please pass the result to `transformed_cell` argument and any exception that happen during thetransform in `preprocessing_exc_tuple` in IPython 7.17 and above.\n",
      "  and should_run_async(code)\n"
     ]
    }
   ],
   "source": [
    "dict_corpus = {}\n",
    "\n",
    "for i in range(len(corpus)):\n",
    "    for idx, freq in corpus[i]:\n",
    "        if id2word[idx] in dict_corpus:\n",
    "            dict_corpus[id2word[idx]] += freq\n",
    "        else:\n",
    "            dict_corpus[id2word[idx]] = freq\n",
    "\n",
    "dict_df = pd.DataFrame.from_dict(dict_corpus, orient='index', columns=['freq'])"
   ]
  },
  {
   "cell_type": "code",
   "execution_count": 17,
   "metadata": {},
   "outputs": [
    {
     "name": "stderr",
     "output_type": "stream",
     "text": [
      "/anaconda/envs/pfe-env/lib/python3.8/site-packages/ipykernel/ipkernel.py:287: DeprecationWarning: `should_run_async` will not call `transform_cell` automatically in the future. Please pass the result to `transformed_cell` argument and any exception that happen during thetransform in `preprocessing_exc_tuple` in IPython 7.17 and above.\n",
      "  and should_run_async(code)\n"
     ]
    },
    {
     "data": {
      "image/png": "[encoded data removed]",
      "text/plain": [
       "<Figure size 576x432 with 1 Axes>"
      ]
     },
     "metadata": {},
     "output_type": "display_data"
    }
   ],
   "source": [
    "plt.figure(figsize=(8,6))\n",
    "sns.distplot(dict_df['freq'], bins=100);"
   ]
  },
  {
   "cell_type": "code",
   "execution_count": 18,
   "metadata": {},
   "outputs": [
    {
     "name": "stderr",
     "output_type": "stream",
     "text": [
      "/anaconda/envs/pfe-env/lib/python3.8/site-packages/ipykernel/ipkernel.py:287: DeprecationWarning: `should_run_async` will not call `transform_cell` automatically in the future. Please pass the result to `transformed_cell` argument and any exception that happen during thetransform in `preprocessing_exc_tuple` in IPython 7.17 and above.\n",
      "  and should_run_async(code)\n"
     ]
    },
    {
     "data": {
      "text/html": [
       "<div>\n",
       "<style scoped>\n",
       "    .dataframe tbody tr th:only-of-type {\n",
       "        vertical-align: middle;\n",
       "    }\n",
       "\n",
       "    .dataframe tbody tr th {\n",
       "        vertical-align: top;\n",
       "    }\n",
       "\n",
       "    .dataframe thead th {\n",
       "        text-align: right;\n",
       "    }\n",
       "</style>\n",
       "<table border=\"1\" class=\"dataframe\">\n",
       "  <thead>\n",
       "    <tr style=\"text-align: right;\">\n",
       "      <th></th>\n",
       "      <th>freq</th>\n",
       "    </tr>\n",
       "  </thead>\n",
       "  <tbody>\n",
       "    <tr>\n",
       "      <th>max</th>\n",
       "      <td>2700</td>\n",
       "    </tr>\n",
       "    <tr>\n",
       "      <th>iphone</th>\n",
       "      <td>1719</td>\n",
       "    </tr>\n",
       "    <tr>\n",
       "      <th>pro</th>\n",
       "      <td>1651</td>\n",
       "    </tr>\n",
       "    <tr>\n",
       "      <th>prix</th>\n",
       "      <td>1580</td>\n",
       "    </tr>\n",
       "    <tr>\n",
       "      <th>chargeur</th>\n",
       "      <td>1562</td>\n",
       "    </tr>\n",
       "    <tr>\n",
       "      <th>apple</th>\n",
       "      <td>1458</td>\n",
       "    </tr>\n",
       "    <tr>\n",
       "      <th>photo</th>\n",
       "      <td>1235</td>\n",
       "    </tr>\n",
       "    <tr>\n",
       "      <th>batterie</th>\n",
       "      <td>1023</td>\n",
       "    </tr>\n",
       "    <tr>\n",
       "      <th>mini</th>\n",
       "      <td>936</td>\n",
       "    </tr>\n",
       "    <tr>\n",
       "      <th>euro</th>\n",
       "      <td>431</td>\n",
       "    </tr>\n",
       "  </tbody>\n",
       "</table>\n",
       "</div>"
      ],
      "text/plain": [
       "          freq\n",
       "max       2700\n",
       "iphone    1719\n",
       "pro       1651\n",
       "prix      1580\n",
       "chargeur  1562\n",
       "apple     1458\n",
       "photo     1235\n",
       "batterie  1023\n",
       "mini       936\n",
       "euro       431"
      ]
     },
     "execution_count": 18,
     "metadata": {},
     "output_type": "execute_result"
    }
   ],
   "source": [
    "dict_df.sort_values('freq', ascending=False).head(10)"
   ]
  },
  {
   "cell_type": "code",
   "execution_count": 19,
   "metadata": {},
   "outputs": [
    {
     "name": "stderr",
     "output_type": "stream",
     "text": [
      "/anaconda/envs/pfe-env/lib/python3.8/site-packages/ipykernel/ipkernel.py:287: DeprecationWarning: `should_run_async` will not call `transform_cell` automatically in the future. Please pass the result to `transformed_cell` argument and any exception that happen during thetransform in `preprocessing_exc_tuple` in IPython 7.17 and above.\n",
      "  and should_run_async(code)\n"
     ]
    }
   ],
   "source": [
    "# remove the 3 top words\n",
    "threshold = dict_df.sort_values('freq', ascending=False).iloc[9].values[0]\n",
    "extension = dict_df[dict_df.freq>threshold].index.tolist()\n",
    "\n",
    "extension = [word for word in extension if word not in keywords]"
   ]
  },
  {
   "cell_type": "code",
   "execution_count": 21,
   "metadata": {},
   "outputs": [
    {
     "name": "stderr",
     "output_type": "stream",
     "text": [
      "/anaconda/envs/pfe-env/lib/python3.8/site-packages/ipykernel/ipkernel.py:287: DeprecationWarning: `should_run_async` will not call `transform_cell` automatically in the future. Please pass the result to `transformed_cell` argument and any exception that happen during thetransform in `preprocessing_exc_tuple` in IPython 7.17 and above.\n",
      "  and should_run_async(code)\n"
     ]
    }
   ],
   "source": [
    "# ask the user to specify the brand name to be added to the stopwords\n",
    "# or implement it manually\n",
    "# tweek the extension list to get words with typo\n",
    "extension.append('appl')\n",
    "extension.append('iphon')"
   ]
  },
  {
   "cell_type": "code",
   "execution_count": 22,
   "metadata": {},
   "outputs": [
    {
     "name": "stderr",
     "output_type": "stream",
     "text": [
      "/anaconda/envs/pfe-env/lib/python3.8/site-packages/ipykernel/ipkernel.py:287: DeprecationWarning: `should_run_async` will not call `transform_cell` automatically in the future. Please pass the result to `transformed_cell` argument and any exception that happen during thetransform in `preprocessing_exc_tuple` in IPython 7.17 and above.\n",
      "  and should_run_async(code)\n"
     ]
    },
    {
     "name": "stdout",
     "output_type": "stream",
     "text": [
      "Total Vocabulary Size: 5085\n"
     ]
    }
   ],
   "source": [
    "# add high frequency words to stop words list\n",
    "stop_words.update(extension)\n",
    "# rerun the process_words function\n",
    "data_ready = process_words(data)\n",
    "# recreate Dictionary\n",
    "id2word = corpora.Dictionary(data_ready)\n",
    "print('Total Vocabulary Size:', len(id2word))"
   ]
  },
  {
   "cell_type": "code",
   "execution_count": 23,
   "metadata": {},
   "outputs": [
    {
     "name": "stderr",
     "output_type": "stream",
     "text": [
      "/anaconda/envs/pfe-env/lib/python3.8/site-packages/ipykernel/ipkernel.py:287: DeprecationWarning: `should_run_async` will not call `transform_cell` automatically in the future. Please pass the result to `transformed_cell` argument and any exception that happen during thetransform in `preprocessing_exc_tuple` in IPython 7.17 and above.\n",
      "  and should_run_async(code)\n"
     ]
    },
    {
     "name": "stdout",
     "output_type": "stream",
     "text": [
      "Total Vocabulary Size: 354\n"
     ]
    }
   ],
   "source": [
    "# Filter extreme words\n",
    "# Filter out words that occur less than 20 documents, or more than\n",
    "# 90% of the documents.\n",
    "\n",
    "id2word.filter_extremes(no_below=20, no_above=0.9)\n",
    "print('Total Vocabulary Size:', len(id2word))"
   ]
  },
  {
   "cell_type": "code",
   "execution_count": 24,
   "metadata": {},
   "outputs": [
    {
     "name": "stderr",
     "output_type": "stream",
     "text": [
      "/anaconda/envs/pfe-env/lib/python3.8/site-packages/ipykernel/ipkernel.py:287: DeprecationWarning: `should_run_async` will not call `transform_cell` automatically in the future. Please pass the result to `transformed_cell` argument and any exception that happen during thetransform in `preprocessing_exc_tuple` in IPython 7.17 and above.\n",
      "  and should_run_async(code)\n"
     ]
    }
   ],
   "source": [
    "# Create Corpus: Term Document Frequency\n",
    "corpus = [id2word.doc2bow(text) for text in data_ready]"
   ]
  },
  {
   "cell_type": "markdown",
   "metadata": {},
   "source": [
    "# Finding the optimal number of topics"
   ]
  },
  {
   "cell_type": "code",
   "execution_count": 25,
   "metadata": {},
   "outputs": [
    {
     "name": "stderr",
     "output_type": "stream",
     "text": [
      "/anaconda/envs/pfe-env/lib/python3.8/site-packages/ipykernel/ipkernel.py:287: DeprecationWarning: `should_run_async` will not call `transform_cell` automatically in the future. Please pass the result to `transformed_cell` argument and any exception that happen during thetransform in `preprocessing_exc_tuple` in IPython 7.17 and above.\n",
      "  and should_run_async(code)\n"
     ]
    }
   ],
   "source": [
    "from gensim.models import LdaMulticore, CoherenceModel"
   ]
  },
  {
   "cell_type": "code",
   "execution_count": 26,
   "metadata": {},
   "outputs": [
    {
     "name": "stderr",
     "output_type": "stream",
     "text": [
      "/anaconda/envs/pfe-env/lib/python3.8/site-packages/ipykernel/ipkernel.py:287: DeprecationWarning: `should_run_async` will not call `transform_cell` automatically in the future. Please pass the result to `transformed_cell` argument and any exception that happen during thetransform in `preprocessing_exc_tuple` in IPython 7.17 and above.\n",
      "  and should_run_async(code)\n"
     ]
    },
    {
     "name": "stdout",
     "output_type": "stream",
     "text": [
      "CPU times: user 22min 43s, sys: 24 s, total: 23min 7s\n",
      "Wall time: 22min 59s\n"
     ]
    }
   ],
   "source": [
    "%%time\n",
    "\n",
    "# Considering 10-70 topics, as the last is cut off\n",
    "num_topics = list(range(1, 50, 1)[1:])\n",
    "num_keywords = 10\n",
    "\n",
    "LDA_models = {}\n",
    "LDA_topics = {}\n",
    "for i in num_topics:\n",
    "    LDA_models[i] = LdaMulticore(corpus=corpus,\n",
    "                                id2word=id2word,\n",
    "                                num_topics=i,\n",
    "                                chunksize=2000,\n",
    "                                passes=25,\n",
    "                                iterations=70,\n",
    "                                decay=0.5,\n",
    "                                random_state=100\n",
    "                                #per_word_topics=True,\n",
    "                                #minimum_phi_value=0.02,\n",
    "                                #minimum_probability=0.4,\n",
    "                                #eval_every=1\n",
    "                                )\n",
    "\n",
    "    shown_topics = LDA_models[i].show_topics(num_topics=i, \n",
    "                                             num_words=num_keywords,\n",
    "                                             formatted=False)\n",
    "    LDA_topics[i] = [[word[0] for word in topic[1]] for topic in shown_topics]"
   ]
  },
  {
   "cell_type": "code",
   "execution_count": 27,
   "metadata": {},
   "outputs": [
    {
     "name": "stderr",
     "output_type": "stream",
     "text": [
      "/anaconda/envs/pfe-env/lib/python3.8/site-packages/ipykernel/ipkernel.py:287: DeprecationWarning: `should_run_async` will not call `transform_cell` automatically in the future. Please pass the result to `transformed_cell` argument and any exception that happen during thetransform in `preprocessing_exc_tuple` in IPython 7.17 and above.\n",
      "  and should_run_async(code)\n"
     ]
    }
   ],
   "source": [
    "# Now create a function to derive the Jaccard similarity of two topics:\n",
    "\n",
    "def jaccard_similarity(topic_1, topic_2):\n",
    "    \"\"\"\n",
    "    Derives the Jaccard similarity of two topics\n",
    "\n",
    "    Jaccard similarity:\n",
    "    - A statistic used for comparing the similarity and diversity of sample sets\n",
    "    - J(A,B) = (A ∩ B)/(A ∪ B)\n",
    "    - Goal is low Jaccard scores for coverage of the diverse elements\n",
    "    \"\"\"\n",
    "    intersection = set(topic_1).intersection(set(topic_2))\n",
    "    union = set(topic_1).union(set(topic_2))\n",
    "                    \n",
    "    return float(len(intersection))/float(len(union))"
   ]
  },
  {
   "cell_type": "code",
   "execution_count": 28,
   "metadata": {},
   "outputs": [
    {
     "name": "stderr",
     "output_type": "stream",
     "text": [
      "/anaconda/envs/pfe-env/lib/python3.8/site-packages/ipykernel/ipkernel.py:287: DeprecationWarning: `should_run_async` will not call `transform_cell` automatically in the future. Please pass the result to `transformed_cell` argument and any exception that happen during thetransform in `preprocessing_exc_tuple` in IPython 7.17 and above.\n",
      "  and should_run_async(code)\n"
     ]
    }
   ],
   "source": [
    "# Use the above to derive the mean stability across topics by considering the next topic:\n",
    "\n",
    "LDA_stability = {}\n",
    "for i in range(0, len(num_topics)-1):\n",
    "    jaccard_sims = []\n",
    "    for t1, topic1 in enumerate(LDA_topics[num_topics[i]]): # pylint: disable=unused-variable\n",
    "        sims = []\n",
    "        for t2, topic2 in enumerate(LDA_topics[num_topics[i+1]]): # pylint: disable=unused-variable\n",
    "            sims.append(jaccard_similarity(topic1, topic2))    \n",
    "        \n",
    "        jaccard_sims.append(sims)    \n",
    "    \n",
    "    LDA_stability[num_topics[i]] = jaccard_sims\n",
    "                \n",
    "mean_stabilities = [np.array(LDA_stability[i]).mean() for i in num_topics[:-1]]"
   ]
  },
  {
   "cell_type": "code",
   "execution_count": 29,
   "metadata": {},
   "outputs": [
    {
     "name": "stderr",
     "output_type": "stream",
     "text": [
      "/anaconda/envs/pfe-env/lib/python3.8/site-packages/ipykernel/ipkernel.py:287: DeprecationWarning: `should_run_async` will not call `transform_cell` automatically in the future. Please pass the result to `transformed_cell` argument and any exception that happen during thetransform in `preprocessing_exc_tuple` in IPython 7.17 and above.\n",
      "  and should_run_async(code)\n"
     ]
    }
   ],
   "source": [
    "# calculate the coherence value with the built in gensim\n",
    "\n",
    "coherences = [CoherenceModel(model=LDA_models[i], texts=data_ready, dictionary=id2word, coherence='c_v').get_coherence() for i in num_topics[:-1]]"
   ]
  },
  {
   "cell_type": "code",
   "execution_count": 67,
   "metadata": {},
   "outputs": [
    {
     "name": "stderr",
     "output_type": "stream",
     "text": [
      "/anaconda/envs/pfe-env/lib/python3.8/site-packages/ipykernel/ipkernel.py:287: DeprecationWarning: `should_run_async` will not call `transform_cell` automatically in the future. Please pass the result to `transformed_cell` argument and any exception that happen during thetransform in `preprocessing_exc_tuple` in IPython 7.17 and above.\n",
      "  and should_run_async(code)\n"
     ]
    },
    {
     "ename": "IndexError",
     "evalue": "list index out of range",
     "output_type": "error",
     "traceback": [
      "\u001b[0;31m---------------------------------------------------------------------------\u001b[0m",
      "\u001b[0;31mIndexError\u001b[0m                                Traceback (most recent call last)",
      "\u001b[0;32m<ipython-input-67-23556a010a79>\u001b[0m in \u001b[0;36m<module>\u001b[0;34m\u001b[0m\n\u001b[1;32m      1\u001b[0m \u001b[0;31m# From here derive the ideal number of topics roughly through the difference between the coherence and stability per number of topics:\u001b[0m\u001b[0;34m\u001b[0m\u001b[0;34m\u001b[0m\u001b[0;34m\u001b[0m\u001b[0m\n\u001b[1;32m      2\u001b[0m \u001b[0;34m\u001b[0m\u001b[0m\n\u001b[0;32m----> 3\u001b[0;31m \u001b[0mcoh_sta_diffs\u001b[0m \u001b[0;34m=\u001b[0m \u001b[0;34m[\u001b[0m\u001b[0mcoherences\u001b[0m\u001b[0;34m[\u001b[0m\u001b[0mi\u001b[0m\u001b[0;34m]\u001b[0m \u001b[0;34m-\u001b[0m \u001b[0mmean_stabilities\u001b[0m\u001b[0;34m[\u001b[0m\u001b[0mi\u001b[0m\u001b[0;34m]\u001b[0m \u001b[0;32mfor\u001b[0m \u001b[0mi\u001b[0m \u001b[0;32min\u001b[0m \u001b[0mrange\u001b[0m\u001b[0;34m(\u001b[0m\u001b[0mlen\u001b[0m\u001b[0;34m(\u001b[0m\u001b[0mnum_topics\u001b[0m\u001b[0;34m)\u001b[0m \u001b[0;34m-\u001b[0m \u001b[0;36m1\u001b[0m\u001b[0;34m)\u001b[0m\u001b[0;34m[\u001b[0m\u001b[0;34m:\u001b[0m\u001b[0;34m-\u001b[0m\u001b[0;36m1\u001b[0m\u001b[0;34m]\u001b[0m\u001b[0;34m]\u001b[0m \u001b[0;31m# limit topic numbers to the number of keywords\u001b[0m\u001b[0;34m\u001b[0m\u001b[0;34m\u001b[0m\u001b[0m\n\u001b[0m\u001b[1;32m      4\u001b[0m \u001b[0mcoh_sta_max\u001b[0m \u001b[0;34m=\u001b[0m \u001b[0mmax\u001b[0m\u001b[0;34m(\u001b[0m\u001b[0mcoh_sta_diffs\u001b[0m\u001b[0;34m)\u001b[0m\u001b[0;34m\u001b[0m\u001b[0;34m\u001b[0m\u001b[0m\n\u001b[1;32m      5\u001b[0m \u001b[0mcoh_sta_max_idxs\u001b[0m \u001b[0;34m=\u001b[0m \u001b[0;34m[\u001b[0m\u001b[0mi\u001b[0m \u001b[0;32mfor\u001b[0m \u001b[0mi\u001b[0m\u001b[0;34m,\u001b[0m \u001b[0mj\u001b[0m \u001b[0;32min\u001b[0m \u001b[0menumerate\u001b[0m\u001b[0;34m(\u001b[0m\u001b[0mcoh_sta_diffs\u001b[0m\u001b[0;34m)\u001b[0m \u001b[0;32mif\u001b[0m \u001b[0mj\u001b[0m \u001b[0;34m==\u001b[0m \u001b[0mcoh_sta_max\u001b[0m\u001b[0;34m]\u001b[0m\u001b[0;34m\u001b[0m\u001b[0;34m\u001b[0m\u001b[0m\n",
      "\u001b[0;32m<ipython-input-67-23556a010a79>\u001b[0m in \u001b[0;36m<listcomp>\u001b[0;34m(.0)\u001b[0m\n\u001b[1;32m      1\u001b[0m \u001b[0;31m# From here derive the ideal number of topics roughly through the difference between the coherence and stability per number of topics:\u001b[0m\u001b[0;34m\u001b[0m\u001b[0;34m\u001b[0m\u001b[0;34m\u001b[0m\u001b[0m\n\u001b[1;32m      2\u001b[0m \u001b[0;34m\u001b[0m\u001b[0m\n\u001b[0;32m----> 3\u001b[0;31m \u001b[0mcoh_sta_diffs\u001b[0m \u001b[0;34m=\u001b[0m \u001b[0;34m[\u001b[0m\u001b[0mcoherences\u001b[0m\u001b[0;34m[\u001b[0m\u001b[0mi\u001b[0m\u001b[0;34m]\u001b[0m \u001b[0;34m-\u001b[0m \u001b[0mmean_stabilities\u001b[0m\u001b[0;34m[\u001b[0m\u001b[0mi\u001b[0m\u001b[0;34m]\u001b[0m \u001b[0;32mfor\u001b[0m \u001b[0mi\u001b[0m \u001b[0;32min\u001b[0m \u001b[0mrange\u001b[0m\u001b[0;34m(\u001b[0m\u001b[0mlen\u001b[0m\u001b[0;34m(\u001b[0m\u001b[0mnum_topics\u001b[0m\u001b[0;34m)\u001b[0m \u001b[0;34m-\u001b[0m \u001b[0;36m1\u001b[0m\u001b[0;34m)\u001b[0m\u001b[0;34m[\u001b[0m\u001b[0;34m:\u001b[0m\u001b[0;34m-\u001b[0m\u001b[0;36m1\u001b[0m\u001b[0;34m]\u001b[0m\u001b[0;34m]\u001b[0m \u001b[0;31m# limit topic numbers to the number of keywords\u001b[0m\u001b[0;34m\u001b[0m\u001b[0;34m\u001b[0m\u001b[0m\n\u001b[0m\u001b[1;32m      4\u001b[0m \u001b[0mcoh_sta_max\u001b[0m \u001b[0;34m=\u001b[0m \u001b[0mmax\u001b[0m\u001b[0;34m(\u001b[0m\u001b[0mcoh_sta_diffs\u001b[0m\u001b[0;34m)\u001b[0m\u001b[0;34m\u001b[0m\u001b[0;34m\u001b[0m\u001b[0m\n\u001b[1;32m      5\u001b[0m \u001b[0mcoh_sta_max_idxs\u001b[0m \u001b[0;34m=\u001b[0m \u001b[0;34m[\u001b[0m\u001b[0mi\u001b[0m \u001b[0;32mfor\u001b[0m \u001b[0mi\u001b[0m\u001b[0;34m,\u001b[0m \u001b[0mj\u001b[0m \u001b[0;32min\u001b[0m \u001b[0menumerate\u001b[0m\u001b[0;34m(\u001b[0m\u001b[0mcoh_sta_diffs\u001b[0m\u001b[0;34m)\u001b[0m \u001b[0;32mif\u001b[0m \u001b[0mj\u001b[0m \u001b[0;34m==\u001b[0m \u001b[0mcoh_sta_max\u001b[0m\u001b[0;34m]\u001b[0m\u001b[0;34m\u001b[0m\u001b[0;34m\u001b[0m\u001b[0m\n",
      "\u001b[0;31mIndexError\u001b[0m: list index out of range"
     ]
    }
   ],
   "source": [
    "# From here derive the ideal number of topics roughly through the difference between the coherence and stability per number of topics:\n",
    "\n",
    "\n",
    "#coh_sta_diffs = [coherences[i] - mean_stabilities[i] for i in range(len(num_topics) - 1)[:-1]]\n",
    "coh_sta_diffs = [coherences[i] - mean_stabilities[i] for i in range(num_keywords)[:-1]] # limit topic numbers to the number of keywords\n",
    "coh_sta_max = max(coh_sta_diffs)\n",
    "coh_sta_max_idxs = [i for i, j in enumerate(coh_sta_diffs) if j == coh_sta_max]\n",
    "ideal_topic_num_index = coh_sta_max_idxs[0] # choose less topics in case there's more than one max\n",
    "ideal_topic_num = num_topics[ideal_topic_num_index]"
   ]
  },
  {
   "cell_type": "code",
   "execution_count": 31,
   "metadata": {
    "scrolled": true
   },
   "outputs": [
    {
     "name": "stderr",
     "output_type": "stream",
     "text": [
      "/anaconda/envs/pfe-env/lib/python3.8/site-packages/ipykernel/ipkernel.py:287: DeprecationWarning: `should_run_async` will not call `transform_cell` automatically in the future. Please pass the result to `transformed_cell` argument and any exception that happen during thetransform in `preprocessing_exc_tuple` in IPython 7.17 and above.\n",
      "  and should_run_async(code)\n"
     ]
    },
    {
     "data": {
      "image/png": "[encoded data removed]",
      "text/plain": [
       "<Figure size 1440x720 with 1 Axes>"
      ]
     },
     "metadata": {},
     "output_type": "display_data"
    }
   ],
   "source": [
    "# Finally graph these metrics across the topic numbers:\n",
    "\n",
    "plt.figure(figsize=(20,10))\n",
    "ax = sns.lineplot(x=num_topics[:-1], y=mean_stabilities, label='Average Topic Overlap')\n",
    "ax = sns.lineplot(x=num_topics[:-1], y=coherences, label='Topic Coherence')\n",
    "\n",
    "ax.axvline(x=ideal_topic_num, label='Ideal Number of Topics', color='black')\n",
    "ax.axvspan(xmin=ideal_topic_num - 1, xmax=ideal_topic_num + 1, alpha=0.5, facecolor='grey')\n",
    "\n",
    "y_max = max(max(mean_stabilities), max(coherences)) + (0.10 * max(max(mean_stabilities), max(coherences)))\n",
    "ax.set_ylim([0, y_max])\n",
    "ax.set_xlim([1, num_topics[-1]-1])\n",
    "                \n",
    "ax.axes.set_title('Model Metrics per Number of Topics', fontsize=25)\n",
    "ax.set_ylabel('Metric Level', fontsize=20)\n",
    "ax.set_xlabel('Number of Topics', fontsize=20)\n",
    "plt.legend(fontsize=20)\n",
    "plt.show()   "
   ]
  },
  {
   "cell_type": "markdown",
   "metadata": {},
   "source": [
    "Your ideal number of topics will maximize coherence and minimize the topic overlap based on Jaccard similarity."
   ]
  },
  {
   "cell_type": "code",
   "execution_count": 32,
   "metadata": {},
   "outputs": [
    {
     "name": "stderr",
     "output_type": "stream",
     "text": [
      "/anaconda/envs/pfe-env/lib/python3.8/site-packages/ipykernel/ipkernel.py:287: DeprecationWarning: `should_run_async` will not call `transform_cell` automatically in the future. Please pass the result to `transformed_cell` argument and any exception that happen during thetransform in `preprocessing_exc_tuple` in IPython 7.17 and above.\n",
      "  and should_run_async(code)\n"
     ]
    },
    {
     "name": "stdout",
     "output_type": "stream",
     "text": [
      "Ideal number of topics:  14\n"
     ]
    }
   ],
   "source": [
    "print('Ideal number of topics: ', ideal_topic_num)"
   ]
  },
  {
   "cell_type": "markdown",
   "metadata": {},
   "source": [
    "# Building the LDA Model\n",
    "\n",
    "Download the LDA mallet from `!wget http://mallet.cs.umass.edu/dist/mallet-2.0.8.zip`  \n",
    "Extract the model `!unzip mallet-2.0.8.zip`"
   ]
  },
  {
   "cell_type": "code",
   "execution_count": 69,
   "metadata": {},
   "outputs": [
    {
     "name": "stderr",
     "output_type": "stream",
     "text": [
      "/anaconda/envs/pfe-env/lib/python3.8/site-packages/ipykernel/ipkernel.py:287: DeprecationWarning: `should_run_async` will not call `transform_cell` automatically in the future. Please pass the result to `transformed_cell` argument and any exception that happen during thetransform in `preprocessing_exc_tuple` in IPython 7.17 and above.\n",
      "  and should_run_async(code)\n"
     ]
    },
    {
     "ename": "KeyError",
     "evalue": "12",
     "output_type": "error",
     "traceback": [
      "\u001b[0;31m---------------------------------------------------------------------------\u001b[0m",
      "\u001b[0;31mKeyError\u001b[0m                                  Traceback (most recent call last)",
      "\u001b[0;32m<ipython-input-69-a5e55874e96f>\u001b[0m in \u001b[0;36m<module>\u001b[0;34m\u001b[0m\n\u001b[0;32m----> 1\u001b[0;31m \u001b[0mldamodel\u001b[0m \u001b[0;34m=\u001b[0m \u001b[0mLDA_models\u001b[0m\u001b[0;34m[\u001b[0m\u001b[0;36m12\u001b[0m\u001b[0;34m]\u001b[0m\u001b[0;34m\u001b[0m\u001b[0;34m\u001b[0m\u001b[0m\n\u001b[0m",
      "\u001b[0;31mKeyError\u001b[0m: 12"
     ]
    }
   ],
   "source": [
    "ldamodel = LDA_models[ideal_topic_num]"
   ]
  },
  {
   "cell_type": "code",
   "execution_count": 38,
   "metadata": {},
   "outputs": [
    {
     "name": "stderr",
     "output_type": "stream",
     "text": [
      "/anaconda/envs/pfe-env/lib/python3.8/site-packages/ipykernel/ipkernel.py:287: DeprecationWarning: `should_run_async` will not call `transform_cell` automatically in the future. Please pass the result to `transformed_cell` argument and any exception that happen during thetransform in `preprocessing_exc_tuple` in IPython 7.17 and above.\n",
      "  and should_run_async(code)\n"
     ]
    },
    {
     "name": "stdout",
     "output_type": "stream",
     "text": [
      "Coherence Score:  0.6517887462130426\n"
     ]
    }
   ],
   "source": [
    "# Compute Coherence Score\n",
    "coherence_model_ldamodel = CoherenceModel(model=ldamodel, texts=data_ready, dictionary=id2word, coherence='c_v')\n",
    "coherence_ldamodel = coherence_model_ldamodel.get_coherence()\n",
    "print('Coherence Score: ', coherence_ldamodel)"
   ]
  },
  {
   "cell_type": "code",
   "execution_count": 42,
   "metadata": {},
   "outputs": [
    {
     "name": "stderr",
     "output_type": "stream",
     "text": [
      "/anaconda/envs/pfe-env/lib/python3.8/site-packages/ipykernel/ipkernel.py:287: DeprecationWarning: `should_run_async` will not call `transform_cell` automatically in the future. Please pass the result to `transformed_cell` argument and any exception that happen during thetransform in `preprocessing_exc_tuple` in IPython 7.17 and above.\n",
      "  and should_run_async(code)\n"
     ]
    },
    {
     "name": "stdout",
     "output_type": "stream",
     "text": [
      "[(0,\n",
      "  '0.131*\"offre\" + 0.093*\"igeneration\" + 0.064*\"besoin\" + 0.058*\"temps\" + '\n",
      "  '0.050*\"probleme\" + 0.050*\"raison\" + 0.049*\"bientot\" + 0.044*\"moment\" + '\n",
      "  '0.033*\"oeil\" + 0.033*\"gnt\"'),\n",
      " (1,\n",
      "  '0.229*\"protection\" + 0.090*\"coque\" + 0.077*\"magsafe\" + 0.075*\"homepod\" + '\n",
      "  '0.065*\"keynote\" + 0.040*\"livre\" + 0.035*\"voiture\" + 0.028*\"attention\" + '\n",
      "  '0.027*\"produit\" + 0.023*\"impression\"'),\n",
      " (2,\n",
      "  '0.197*\"appareil\" + 0.092*\"pouce\" + 0.056*\"heure\" + 0.055*\"vente\" + '\n",
      "  '0.051*\"place\" + 0.050*\"recharge\" + 0.046*\"janvier\" + 0.044*\"succe\" + '\n",
      "  '0.041*\"envie\" + 0.029*\"demontage\"'),\n",
      " (3,\n",
      "  '0.204*\"couleur\" + 0.084*\"test\" + 0.064*\"part\" + 0.061*\"niveau\" + '\n",
      "  '0.047*\"vie\" + 0.043*\"studio\" + 0.042*\"capteur\" + 0.034*\"fin\" + '\n",
      "  '0.033*\"achete\" + 0.022*\"daron\"'),\n",
      " (4,\n",
      "  '0.566*\"prix\" + 0.063*\"difference\" + 0.049*\"recu\" + 0.039*\"lien\" + '\n",
      "  '0.034*\"change\" + 0.029*\"reparation\" + 0.025*\"cas\" + 0.021*\"prefere\" + '\n",
      "  '0.019*\"commence\" + 0.017*\"code\"'),\n",
      " (5,\n",
      "  '0.622*\"photo\" + 0.081*\"question\" + 0.054*\"deballage\" + 0.051*\"compte\" + '\n",
      "  '0.029*\"gars\" + 0.029*\"base\" + 0.021*\"main\" + 0.019*\"message\" + 0.015*\"peur\" '\n",
      "  '+ 0.014*\"regarde\"'),\n",
      " (6,\n",
      "  '0.247*\"autonomie\" + 0.063*\"sortie\" + 0.060*\"video\" + 0.057*\"face\" + '\n",
      "  '0.055*\"argent\" + 0.052*\"super\" + 0.046*\"stockage\" + 0.043*\"performance\" + '\n",
      "  '0.039*\"vena\" + 0.034*\"ami\"'),\n",
      " (7,\n",
      "  '0.439*\"chargeur\" + 0.116*\"charge\" + 0.059*\"mise\" + 0.048*\"magsafe\" + '\n",
      "  '0.038*\"demande\" + 0.032*\"mode\" + 0.026*\"operateur\" + 0.025*\"promo\" + '\n",
      "  '0.025*\"remise\" + 0.022*\"oled\"'),\n",
      " (8,\n",
      "  '0.165*\"chargeur\" + 0.126*\"telephone\" + 0.092*\"ecouteur\" + 0.079*\"boite\" + '\n",
      "  '0.050*\"lieu\" + 0.050*\"version\" + 0.044*\"reseau\" + 0.035*\"lance\" + '\n",
      "  '0.031*\"plan\" + 0.025*\"mac\"'),\n",
      " (9,\n",
      "  '0.198*\"smartphone\" + 0.092*\"devoile\" + 0.064*\"soir\" + 0.056*\"technologie\" + '\n",
      "  '0.052*\"youtube\" + 0.051*\"tech\" + 0.047*\"voi\" + 0.037*\"minute\" + '\n",
      "  '0.035*\"penurie\" + 0.035*\"baisse\"'),\n",
      " (10,\n",
      "  '0.486*\"batterie\" + 0.172*\"taille\" + 0.047*\"cote\" + 0.044*\"utilisation\" + '\n",
      "  '0.042*\"meilleur\" + 0.041*\"idee\" + 0.019*\"etui_protection\" + 0.017*\"dxomark\" '\n",
      "  '+ 0.015*\"demontage\" + 0.014*\"promotion\"'),\n",
      " (11,\n",
      "  '0.155*\"ecran\" + 0.089*\"prise\" + 0.073*\"rapport\" + 0.063*\"dommage\" + '\n",
      "  '0.059*\"fonction\" + 0.038*\"blague\" + 0.037*\"article\" + 0.035*\"commander\" + '\n",
      "  '0.034*\"ligne\" + 0.030*\"compact\"'),\n",
      " (12,\n",
      "  '0.074*\"samsung\" + 0.061*\"octobre\" + 0.058*\"avis\" + 0.056*\"cadeau\" + '\n",
      "  '0.056*\"marche\" + 0.046*\"precommande\" + 0.045*\"vien\" + 0.044*\"peine\" + '\n",
      "  '0.031*\"plaisir\" + 0.029*\"puissance\"'),\n",
      " (13,\n",
      "  '0.210*\"euro\" + 0.109*\"test_bluetooth\" + 0.061*\"annonce\" + 0.056*\"site\" + '\n",
      "  '0.051*\"suite\" + 0.044*\"gamme\" + 0.044*\"client\" + 0.040*\"choisir\" + '\n",
      "  '0.034*\"point\" + 0.029*\"plutot\"')]\n"
     ]
    }
   ],
   "source": [
    "from pprint import pprint\n",
    "# display topics\n",
    "pprint(ldamodel.show_topics(num_topics = ideal_topic_num, formatted=True))"
   ]
  },
  {
   "cell_type": "code",
   "execution_count": 44,
   "metadata": {
    "scrolled": true
   },
   "outputs": [
    {
     "name": "stderr",
     "output_type": "stream",
     "text": [
      "/anaconda/envs/pfe-env/lib/python3.8/site-packages/ipykernel/ipkernel.py:287: DeprecationWarning: `should_run_async` will not call `transform_cell` automatically in the future. Please pass the result to `transformed_cell` argument and any exception that happen during thetransform in `preprocessing_exc_tuple` in IPython 7.17 and above.\n",
      "  and should_run_async(code)\n"
     ]
    }
   ],
   "source": [
    "# save the model for later\n",
    "\n",
    "import pickle\n",
    "pickle.dump(ldamodel, open(\"../saved models/ldamodel.pkl\", \"wb\"))\n",
    "\n",
    "# load the model\n",
    "#ldamallet = pickle.load(open(\"../saved models/ldamallet.pkl\", \"rb\"))"
   ]
  },
  {
   "cell_type": "code",
   "execution_count": 36,
   "metadata": {},
   "outputs": [
    {
     "name": "stderr",
     "output_type": "stream",
     "text": [
      "/anaconda/envs/pfe-env/lib/python3.8/site-packages/ipykernel/ipkernel.py:287: DeprecationWarning: `should_run_async` will not call `transform_cell` automatically in the future. Please pass the result to `transformed_cell` argument and any exception that happen during thetransform in `preprocessing_exc_tuple` in IPython 7.17 and above.\n",
      "  and should_run_async(code)\n"
     ]
    }
   ],
   "source": [
    "# distribution of topics for each document\n",
    "\n",
    "tm_results = ldamallet[corpus]\n",
    "\n",
    "# We can get the most dominant topic of each document as below:\n",
    "corpus_topics = [sorted(topics, key=lambda record: -record[1])[0] for topics in tm_results]"
   ]
  },
  {
   "cell_type": "code",
   "execution_count": 37,
   "metadata": {},
   "outputs": [
    {
     "name": "stderr",
     "output_type": "stream",
     "text": [
      "/anaconda/envs/pfe-env/lib/python3.8/site-packages/ipykernel/ipkernel.py:287: DeprecationWarning: `should_run_async` will not call `transform_cell` automatically in the future. Please pass the result to `transformed_cell` argument and any exception that happen during thetransform in `preprocessing_exc_tuple` in IPython 7.17 and above.\n",
      "  and should_run_async(code)\n"
     ]
    }
   ],
   "source": [
    "# get most probable words for the given topicis\n",
    "\n",
    "topics = [[(term, round(wt, 3)) for term, wt in ldamallet.show_topic(n, topn=20)] for n in range(0, ldamallet.num_topics)]"
   ]
  },
  {
   "cell_type": "code",
   "execution_count": 38,
   "metadata": {},
   "outputs": [
    {
     "name": "stderr",
     "output_type": "stream",
     "text": [
      "/anaconda/envs/pfe-env/lib/python3.8/site-packages/ipykernel/ipkernel.py:287: DeprecationWarning: `should_run_async` will not call `transform_cell` automatically in the future. Please pass the result to `transformed_cell` argument and any exception that happen during thetransform in `preprocessing_exc_tuple` in IPython 7.17 and above.\n",
      "  and should_run_async(code)\n"
     ]
    },
    {
     "data": {
      "text/html": [
       "<div>\n",
       "<style scoped>\n",
       "    .dataframe tbody tr th:only-of-type {\n",
       "        vertical-align: middle;\n",
       "    }\n",
       "\n",
       "    .dataframe tbody tr th {\n",
       "        vertical-align: top;\n",
       "    }\n",
       "\n",
       "    .dataframe thead th {\n",
       "        text-align: right;\n",
       "    }\n",
       "</style>\n",
       "<table border=\"1\" class=\"dataframe\">\n",
       "  <thead>\n",
       "    <tr style=\"text-align: right;\">\n",
       "      <th></th>\n",
       "      <th>Topic 1</th>\n",
       "      <th>Topic 2</th>\n",
       "      <th>Topic 3</th>\n",
       "      <th>Topic 4</th>\n",
       "      <th>Topic 5</th>\n",
       "      <th>Topic 6</th>\n",
       "      <th>Topic 7</th>\n",
       "      <th>Topic 8</th>\n",
       "      <th>Topic 9</th>\n",
       "      <th>Topic 10</th>\n",
       "      <th>Topic 11</th>\n",
       "      <th>Topic 12</th>\n",
       "      <th>Topic 13</th>\n",
       "      <th>Topic 14</th>\n",
       "      <th>Topic 15</th>\n",
       "      <th>Topic 16</th>\n",
       "      <th>Topic 17</th>\n",
       "      <th>Topic 18</th>\n",
       "      <th>Topic 19</th>\n",
       "    </tr>\n",
       "  </thead>\n",
       "  <tbody>\n",
       "    <tr>\n",
       "      <th>Term1</th>\n",
       "      <td>samsung</td>\n",
       "      <td>chargeur</td>\n",
       "      <td>prix</td>\n",
       "      <td>apple</td>\n",
       "      <td>iphone</td>\n",
       "      <td>pro</td>\n",
       "      <td>max</td>\n",
       "      <td>question</td>\n",
       "      <td>recu</td>\n",
       "      <td>niveau</td>\n",
       "      <td>batterie</td>\n",
       "      <td>ecran</td>\n",
       "      <td>telephone</td>\n",
       "      <td>protection</td>\n",
       "      <td>taille</td>\n",
       "      <td>mini</td>\n",
       "      <td>euro</td>\n",
       "      <td>keynote</td>\n",
       "      <td>photo</td>\n",
       "    </tr>\n",
       "    <tr>\n",
       "      <th>Term2</th>\n",
       "      <td>compte</td>\n",
       "      <td>charge</td>\n",
       "      <td>difference</td>\n",
       "      <td>couleur</td>\n",
       "      <td>mise</td>\n",
       "      <td>smartphone</td>\n",
       "      <td>heure</td>\n",
       "      <td>version</td>\n",
       "      <td>technologie</td>\n",
       "      <td>part</td>\n",
       "      <td>pouce</td>\n",
       "      <td>oled</td>\n",
       "      <td>devoile</td>\n",
       "      <td>test_bluetooth</td>\n",
       "      <td>mini</td>\n",
       "      <td>autonomie</td>\n",
       "      <td>change</td>\n",
       "      <td>rapport</td>\n",
       "      <td>cote</td>\n",
       "    </tr>\n",
       "    <tr>\n",
       "      <th>Term3</th>\n",
       "      <td>besoin</td>\n",
       "      <td>ecouteur</td>\n",
       "      <td>lien</td>\n",
       "      <td>magsafe</td>\n",
       "      <td>homepod</td>\n",
       "      <td>test</td>\n",
       "      <td>modele</td>\n",
       "      <td>vie</td>\n",
       "      <td>capteur</td>\n",
       "      <td>face</td>\n",
       "      <td>coque</td>\n",
       "      <td>vien</td>\n",
       "      <td>apple</td>\n",
       "      <td>marche</td>\n",
       "      <td>video</td>\n",
       "      <td>appareil</td>\n",
       "      <td>client</td>\n",
       "      <td>cas</td>\n",
       "      <td>prise</td>\n",
       "    </tr>\n",
       "    <tr>\n",
       "      <th>Term4</th>\n",
       "      <td>meilleur</td>\n",
       "      <td>lieu</td>\n",
       "      <td>reseau</td>\n",
       "      <td>igeneration</td>\n",
       "      <td>recharge</td>\n",
       "      <td>test_bluetooth</td>\n",
       "      <td>grace</td>\n",
       "      <td>promo</td>\n",
       "      <td>tech</td>\n",
       "      <td>soir</td>\n",
       "      <td>temps</td>\n",
       "      <td>livre</td>\n",
       "      <td>offre</td>\n",
       "      <td>argent</td>\n",
       "      <td>demande</td>\n",
       "      <td>sortie</td>\n",
       "      <td>moment</td>\n",
       "      <td>film</td>\n",
       "      <td>boite</td>\n",
       "    </tr>\n",
       "    <tr>\n",
       "      <th>Term5</th>\n",
       "      <td>qualite</td>\n",
       "      <td>gars</td>\n",
       "      <td>lance</td>\n",
       "      <td>fin</td>\n",
       "      <td>utilisation</td>\n",
       "      <td>vente</td>\n",
       "      <td>defaut</td>\n",
       "      <td>reduction</td>\n",
       "      <td>probleme</td>\n",
       "      <td>cadeau</td>\n",
       "      <td>internet</td>\n",
       "      <td>succe</td>\n",
       "      <td>site</td>\n",
       "      <td>voiture</td>\n",
       "      <td>achete</td>\n",
       "      <td>reparation</td>\n",
       "      <td>prefere</td>\n",
       "      <td>produit</td>\n",
       "      <td>suite</td>\n",
       "    </tr>\n",
       "  </tbody>\n",
       "</table>\n",
       "</div>"
      ],
      "text/plain": [
       "        Topic 1   Topic 2     Topic 3      Topic 4      Topic 5  \\\n",
       "Term1   samsung  chargeur        prix        apple       iphone   \n",
       "Term2    compte    charge  difference      couleur         mise   \n",
       "Term3    besoin  ecouteur        lien      magsafe      homepod   \n",
       "Term4  meilleur      lieu      reseau  igeneration     recharge   \n",
       "Term5   qualite      gars       lance          fin  utilisation   \n",
       "\n",
       "              Topic 6 Topic 7    Topic 8      Topic 9 Topic 10  Topic 11  \\\n",
       "Term1             pro     max   question         recu   niveau  batterie   \n",
       "Term2      smartphone   heure    version  technologie     part     pouce   \n",
       "Term3            test  modele        vie      capteur     face     coque   \n",
       "Term4  test_bluetooth   grace      promo         tech     soir     temps   \n",
       "Term5           vente  defaut  reduction     probleme   cadeau  internet   \n",
       "\n",
       "      Topic 12   Topic 13        Topic 14 Topic 15    Topic 16 Topic 17  \\\n",
       "Term1    ecran  telephone      protection   taille        mini     euro   \n",
       "Term2     oled    devoile  test_bluetooth     mini   autonomie   change   \n",
       "Term3     vien      apple          marche    video    appareil   client   \n",
       "Term4    livre      offre          argent  demande      sortie   moment   \n",
       "Term5    succe       site         voiture   achete  reparation  prefere   \n",
       "\n",
       "      Topic 18 Topic 19  \n",
       "Term1  keynote    photo  \n",
       "Term2  rapport     cote  \n",
       "Term3      cas    prise  \n",
       "Term4     film    boite  \n",
       "Term5  produit    suite  "
      ]
     },
     "execution_count": 38,
     "metadata": {},
     "output_type": "execute_result"
    }
   ],
   "source": [
    "# create a dataframe for term-topic matrix:\n",
    "\n",
    "topics_df = pd.DataFrame([[term for term, wt in topic] for topic in topics],\n",
    "                         columns = ['Term'+str(i) for i in range(1, 21)],\n",
    "                         index=['Topic '+str(t) for t in range(1, ldamallet.num_topics+1)]).T\n",
    "topics_df.head()"
   ]
  },
  {
   "cell_type": "code",
   "execution_count": 39,
   "metadata": {},
   "outputs": [
    {
     "name": "stderr",
     "output_type": "stream",
     "text": [
      "/anaconda/envs/pfe-env/lib/python3.8/site-packages/ipykernel/ipkernel.py:287: DeprecationWarning: `should_run_async` will not call `transform_cell` automatically in the future. Please pass the result to `transformed_cell` argument and any exception that happen during thetransform in `preprocessing_exc_tuple` in IPython 7.17 and above.\n",
      "  and should_run_async(code)\n"
     ]
    },
    {
     "data": {
      "text/html": [
       "<div>\n",
       "<style scoped>\n",
       "    .dataframe tbody tr th:only-of-type {\n",
       "        vertical-align: middle;\n",
       "    }\n",
       "\n",
       "    .dataframe tbody tr th {\n",
       "        vertical-align: top;\n",
       "    }\n",
       "\n",
       "    .dataframe thead th {\n",
       "        text-align: right;\n",
       "    }\n",
       "</style>\n",
       "<table border=\"1\" class=\"dataframe\">\n",
       "  <thead>\n",
       "    <tr style=\"text-align: right;\">\n",
       "      <th></th>\n",
       "      <th>Terms per Topic</th>\n",
       "    </tr>\n",
       "  </thead>\n",
       "  <tbody>\n",
       "    <tr>\n",
       "      <th>Topic1</th>\n",
       "      <td>samsung, compte, besoin, meilleur, qualite, super, attention, plaisir, information, mec, cherche, jeu, decembre, processeur, experience, resultat, gratuit, filme, induction, completement</td>\n",
       "    </tr>\n",
       "    <tr>\n",
       "      <th>Topic2</th>\n",
       "      <td>chargeur, charge, ecouteur, lieu, gars, choisir, magsafe, serie, hesite, commence, perso, fil, livraison, carte, comprend, orange, comparaison, gosse, vend, vitesse</td>\n",
       "    </tr>\n",
       "    <tr>\n",
       "      <th>Topic3</th>\n",
       "      <td>prix, difference, lien, reseau, lance, article, choix, regarde, novembre, baisse, bug, homme, bord, presse_citron, vendeur, iphone, experience, rapport, dinguerie, internet</td>\n",
       "    </tr>\n",
       "    <tr>\n",
       "      <th>Topic4</th>\n",
       "      <td>apple, couleur, magsafe, igeneration, fin, generation, iphon, application, connexion, ami, gagnez, app, vente, compatible, pays, annonce, store, lance, dolby_vision, modele</td>\n",
       "    </tr>\n",
       "    <tr>\n",
       "      <th>Topic5</th>\n",
       "      <td>iphone, mise, homepod, recharge, utilisation, bientot, annonce, carte_sim, pote, rouge, capture, jsp, chaud, heure, avance, mini, avis, pro, produit, gamme</td>\n",
       "    </tr>\n",
       "    <tr>\n",
       "      <th>Topic6</th>\n",
       "      <td>pro, smartphone, test, test_bluetooth, vente, avis, stockage, image, youtube, dxomark, fonction, rumeur, equipe, note, hello, capacite, encoche, octobre, belgium, monde</td>\n",
       "    </tr>\n",
       "    <tr>\n",
       "      <th>Topic7</th>\n",
       "      <td>max, heure, modele, grace, defaut, predecesseur, place, scelle, bloc, avance, mini, iphone, message, pro, capteur, batterie, achete, test, test_bluetooth, option</td>\n",
       "    </tr>\n",
       "    <tr>\n",
       "      <th>Topic8</th>\n",
       "      <td>question, version, vie, promo, reduction, operateur, cuir, etui_protection, iphonote, ipad, production, main, tombe, mort, remise, ligne, code, profite, prevu, dossier</td>\n",
       "    </tr>\n",
       "    <tr>\n",
       "      <th>Topic9</th>\n",
       "      <td>recu, technologie, capteur, tech, probleme, performance, fonds, chute, femme, cause, fille, terme, annee, baisse, vena, innovation, silicone, pose, position, facon</td>\n",
       "    </tr>\n",
       "    <tr>\n",
       "      <th>Topic10</th>\n",
       "      <td>niveau, part, face, soir, cadeau, gnt, matin, peine, penurie, casse, vendre, parent, clavier, veut, explose, condition, bouton, force, rhinoshield, promotion</td>\n",
       "    </tr>\n",
       "    <tr>\n",
       "      <th>Topic11</th>\n",
       "      <td>batterie, pouce, coque, temps, internet, travail, place, dinguerie, jailbreak, message, photographie, ville, date, souci, vendeur, garde, haut_parleur, amelioration, rhinoshield, mini</td>\n",
       "    </tr>\n",
       "    <tr>\n",
       "      <th>Topic12</th>\n",
       "      <td>ecran, oled, vien, livre, succe, raison, sort, peur, vue, novembre, vendredi, jaune, huawei, smartphone, date_sortie, trouve, officiel, terre, faite, imagine</td>\n",
       "    </tr>\n",
       "    <tr>\n",
       "      <th>Topic13</th>\n",
       "      <td>telephone, devoile, apple, offre, site, plan, voi, plutot, octobre, precommande, dommage, bonplan, dollar, dispo, moche, piece, graphite, possession, blague, mail</td>\n",
       "    </tr>\n",
       "    <tr>\n",
       "      <th>Topic14</th>\n",
       "      <td>protection, test_bluetooth, marche, argent, voiture, commander, service, idee, minute, coloris, espere, histoire, compact, free, million, maison, paie, cool, valeur, enfant</td>\n",
       "    </tr>\n",
       "    <tr>\n",
       "      <th>Topic15</th>\n",
       "      <td>taille, mini, video, demande, achete, protection, mode, envie, point, coque_etui, puissance, objectif, spigen, pro, presentation, test, composant, oeil, nom, chance</td>\n",
       "    </tr>\n",
       "    <tr>\n",
       "      <th>Topic16</th>\n",
       "      <td>mini, autonomie, appareil, sortie, reparation, demontage, gamme, impression, accord, pub, fuite, point, studio, revele, concurrence, bouygue, bloc, prix, modele, apple</td>\n",
       "    </tr>\n",
       "    <tr>\n",
       "      <th>Topic17</th>\n",
       "      <td>euro, change, client, moment, prefere, coute, janvier, affaire, famille, poids, xiaomi, occasion, bleu, macgeneration, solde, absence, soeur, puce, argument, achat</td>\n",
       "    </tr>\n",
       "    <tr>\n",
       "      <th>Topic18</th>\n",
       "      <td>keynote, rapport, cas, film, produit, mac, base, etui, balle, air, airpod, promotion, reponse, deballage, surprise, exemple, verre, notification, supporte, support</td>\n",
       "    </tr>\n",
       "    <tr>\n",
       "      <th>Topic19</th>\n",
       "      <td>photo, cote, prise, boite, suite, option, venez, daron, commande, qualite, source, capte, gauche, arrivee, decu, place, classement, partie, partage, amelioration</td>\n",
       "    </tr>\n",
       "  </tbody>\n",
       "</table>\n",
       "</div>"
      ],
      "text/plain": [
       "                                                                                                                                                                                    Terms per Topic\n",
       "Topic1   samsung, compte, besoin, meilleur, qualite, super, attention, plaisir, information, mec, cherche, jeu, decembre, processeur, experience, resultat, gratuit, filme, induction, completement\n",
       "Topic2   chargeur, charge, ecouteur, lieu, gars, choisir, magsafe, serie, hesite, commence, perso, fil, livraison, carte, comprend, orange, comparaison, gosse, vend, vitesse                      \n",
       "Topic3   prix, difference, lien, reseau, lance, article, choix, regarde, novembre, baisse, bug, homme, bord, presse_citron, vendeur, iphone, experience, rapport, dinguerie, internet              \n",
       "Topic4   apple, couleur, magsafe, igeneration, fin, generation, iphon, application, connexion, ami, gagnez, app, vente, compatible, pays, annonce, store, lance, dolby_vision, modele              \n",
       "Topic5   iphone, mise, homepod, recharge, utilisation, bientot, annonce, carte_sim, pote, rouge, capture, jsp, chaud, heure, avance, mini, avis, pro, produit, gamme                               \n",
       "Topic6   pro, smartphone, test, test_bluetooth, vente, avis, stockage, image, youtube, dxomark, fonction, rumeur, equipe, note, hello, capacite, encoche, octobre, belgium, monde                  \n",
       "Topic7   max, heure, modele, grace, defaut, predecesseur, place, scelle, bloc, avance, mini, iphone, message, pro, capteur, batterie, achete, test, test_bluetooth, option                         \n",
       "Topic8   question, version, vie, promo, reduction, operateur, cuir, etui_protection, iphonote, ipad, production, main, tombe, mort, remise, ligne, code, profite, prevu, dossier                   \n",
       "Topic9   recu, technologie, capteur, tech, probleme, performance, fonds, chute, femme, cause, fille, terme, annee, baisse, vena, innovation, silicone, pose, position, facon                       \n",
       "Topic10  niveau, part, face, soir, cadeau, gnt, matin, peine, penurie, casse, vendre, parent, clavier, veut, explose, condition, bouton, force, rhinoshield, promotion                             \n",
       "Topic11  batterie, pouce, coque, temps, internet, travail, place, dinguerie, jailbreak, message, photographie, ville, date, souci, vendeur, garde, haut_parleur, amelioration, rhinoshield, mini   \n",
       "Topic12  ecran, oled, vien, livre, succe, raison, sort, peur, vue, novembre, vendredi, jaune, huawei, smartphone, date_sortie, trouve, officiel, terre, faite, imagine                             \n",
       "Topic13  telephone, devoile, apple, offre, site, plan, voi, plutot, octobre, precommande, dommage, bonplan, dollar, dispo, moche, piece, graphite, possession, blague, mail                        \n",
       "Topic14  protection, test_bluetooth, marche, argent, voiture, commander, service, idee, minute, coloris, espere, histoire, compact, free, million, maison, paie, cool, valeur, enfant              \n",
       "Topic15  taille, mini, video, demande, achete, protection, mode, envie, point, coque_etui, puissance, objectif, spigen, pro, presentation, test, composant, oeil, nom, chance                      \n",
       "Topic16  mini, autonomie, appareil, sortie, reparation, demontage, gamme, impression, accord, pub, fuite, point, studio, revele, concurrence, bouygue, bloc, prix, modele, apple                   \n",
       "Topic17  euro, change, client, moment, prefere, coute, janvier, affaire, famille, poids, xiaomi, occasion, bleu, macgeneration, solde, absence, soeur, puce, argument, achat                       \n",
       "Topic18  keynote, rapport, cas, film, produit, mac, base, etui, balle, air, airpod, promotion, reponse, deballage, surprise, exemple, verre, notification, supporte, support                       \n",
       "Topic19  photo, cote, prise, boite, suite, option, venez, daron, commande, qualite, source, capte, gauche, arrivee, decu, place, classement, partie, partage, amelioration                         "
      ]
     },
     "execution_count": 39,
     "metadata": {},
     "output_type": "execute_result"
    }
   ],
   "source": [
    "# another option\n",
    "\n",
    "# set column width\n",
    "pd.set_option('display.max_colwidth', -1)\n",
    "topics_df = pd.DataFrame([', '.join([term for term, wt in topic]) for topic in topics],\n",
    "                         columns = ['Terms per Topic'],\n",
    "                         index=['Topic'+str(t) for t in range(1, ldamallet.num_topics+1)] )\n",
    "topics_df"
   ]
  },
  {
   "cell_type": "code",
   "execution_count": 45,
   "metadata": {},
   "outputs": [
    {
     "name": "stderr",
     "output_type": "stream",
     "text": [
      "/anaconda/envs/pfe-env/lib/python3.8/site-packages/ipykernel/ipkernel.py:287: DeprecationWarning: `should_run_async` will not call `transform_cell` automatically in the future. Please pass the result to `transformed_cell` argument and any exception that happen during thetransform in `preprocessing_exc_tuple` in IPython 7.17 and above.\n",
      "  and should_run_async(code)\n"
     ]
    },
    {
     "ename": "NameError",
     "evalue": "name 'topics_df' is not defined",
     "output_type": "error",
     "traceback": [
      "\u001b[0;31m---------------------------------------------------------------------------\u001b[0m",
      "\u001b[0;31mNameError\u001b[0m                                 Traceback (most recent call last)",
      "\u001b[0;32m<ipython-input-45-a0fd094b39d8>\u001b[0m in \u001b[0;36m<module>\u001b[0;34m\u001b[0m\n\u001b[1;32m     13\u001b[0m \u001b[0;32mfor\u001b[0m \u001b[0mi\u001b[0m \u001b[0;32min\u001b[0m \u001b[0mrange\u001b[0m\u001b[0;34m(\u001b[0m\u001b[0;36m10\u001b[0m\u001b[0;34m)\u001b[0m\u001b[0;34m:\u001b[0m\u001b[0;34m\u001b[0m\u001b[0;34m\u001b[0m\u001b[0m\n\u001b[1;32m     14\u001b[0m \u001b[0;34m\u001b[0m\u001b[0m\n\u001b[0;32m---> 15\u001b[0;31m     \u001b[0mwc\u001b[0m\u001b[0;34m.\u001b[0m\u001b[0mgenerate\u001b[0m\u001b[0;34m(\u001b[0m\u001b[0mtext\u001b[0m\u001b[0;34m=\u001b[0m\u001b[0mtopics_df\u001b[0m\u001b[0;34m[\u001b[0m\u001b[0;34m\"Terms per Topic\"\u001b[0m\u001b[0;34m]\u001b[0m\u001b[0;34m[\u001b[0m\u001b[0mi\u001b[0m\u001b[0;34m]\u001b[0m\u001b[0;34m)\u001b[0m\u001b[0;34m\u001b[0m\u001b[0;34m\u001b[0m\u001b[0m\n\u001b[0m\u001b[1;32m     16\u001b[0m \u001b[0;34m\u001b[0m\u001b[0m\n\u001b[1;32m     17\u001b[0m     \u001b[0mplt\u001b[0m\u001b[0;34m.\u001b[0m\u001b[0msubplot\u001b[0m\u001b[0;34m(\u001b[0m\u001b[0;36m5\u001b[0m\u001b[0;34m,\u001b[0m \u001b[0;36m4\u001b[0m\u001b[0;34m,\u001b[0m \u001b[0mi\u001b[0m\u001b[0;34m+\u001b[0m\u001b[0;36m1\u001b[0m\u001b[0;34m)\u001b[0m\u001b[0;34m\u001b[0m\u001b[0;34m\u001b[0m\u001b[0m\n",
      "\u001b[0;31mNameError\u001b[0m: name 'topics_df' is not defined"
     ]
    }
   ],
   "source": [
    "# worldcloud\n",
    "\n",
    "# import wordclouds\n",
    "from wordcloud import WordCloud\n",
    "\n",
    "# initiate wordcloud object\n",
    "wc = WordCloud(background_color=\"white\", colormap=\"Dark2\", max_font_size=150, random_state=42)\n",
    "\n",
    "# set the figure size\n",
    "plt.rcParams['figure.figsize'] = [20, 15]\n",
    "\n",
    "# Create subplots for each topic\n",
    "for i in range(10):\n",
    "\n",
    "    wc.generate(text=topics_df[\"Terms per Topic\"][i])\n",
    "    \n",
    "    plt.subplot(5, 4, i+1)\n",
    "    plt.imshow(wc, interpolation=\"bilinear\")\n",
    "    plt.axis(\"off\")\n",
    "    plt.title(topics_df.index[i])\n",
    "\n",
    "plt.show()"
   ]
  },
  {
   "cell_type": "code",
   "execution_count": 47,
   "metadata": {},
   "outputs": [
    {
     "name": "stderr",
     "output_type": "stream",
     "text": [
      "/anaconda/envs/pfe-env/lib/python3.8/site-packages/ipykernel/ipkernel.py:287: DeprecationWarning: `should_run_async` will not call `transform_cell` automatically in the future. Please pass the result to `transformed_cell` argument and any exception that happen during thetransform in `preprocessing_exc_tuple` in IPython 7.17 and above.\n",
      "  and should_run_async(code)\n"
     ]
    },
    {
     "data": {
      "text/html": [
       "\n",
       "<link rel=\"stylesheet\" type=\"text/css\" href=\"https://cdn.rawgit.com/bmabey/pyLDAvis/files/ldavis.v1.0.0.css\">\n",
       "\n",
       "\n",
       "<div id=\"ldavis_el48131399224683393765710797750\"></div>\n",
       "<script type=\"text/javascript\">\n",
       "\n",
       "var ldavis_el48131399224683393765710797750_data = {\"mdsDat\": {\"x\": [0.07003707454624654, -0.3627121538010195, -0.3570427106849984, -0.02771715121675002, 0.10147722424283344, 0.06511968526867096, 0.047370776685563734, 0.05838463636541963, 0.06058236326382972, 0.04433832519763002, 0.07026992721833428, 0.0790623073257946, 0.118393087824687, 0.03243660776375752], \"y\": [-0.005849830077384897, 0.009498052269068642, 0.0036961860442893207, -0.11762691319149543, -0.05905438231526495, 0.27873881865899014, 0.0007552985932131459, -0.15509242338783558, -0.1740592939674811, 0.2693168411721006, 0.11455125839632034, -0.10717272821645572, -0.0037925603991976137, -0.05390832357886711], \"topics\": [1, 2, 3, 4, 5, 6, 7, 8, 9, 10, 11, 12, 13, 14], \"cluster\": [1, 1, 1, 1, 1, 1, 1, 1, 1, 1, 1, 1, 1, 1], \"Freq\": [8.799589093678575, 8.763323622540248, 8.34537268313688, 7.988149476846224, 7.57749573684878, 7.356284670146102, 7.092985287178907, 7.012041916301739, 6.568562299856307, 6.503237637345598, 6.235363762420796, 6.227571969053303, 5.991312250214737, 5.538709594431805]}, \"tinfo\": {\"Term\": [\"prix\", \"photo\", \"chargeur\", \"batterie\", \"protection\", \"autonomie\", \"euro\", \"couleur\", \"appareil\", \"smartphone\", \"taille\", \"telephone\", \"ecran\", \"charge\", \"offre\", \"test_bluetooth\", \"ecouteur\", \"magsafe\", \"coque\", \"pouce\", \"boite\", \"test\", \"igeneration\", \"devoile\", \"question\", \"homepod\", \"prise\", \"difference\", \"samsung\", \"keynote\", \"prix\", \"difference\", \"recu\", \"lien\", \"change\", \"commence\", \"code\", \"orange\", \"concurrence\", \"paie\", \"predecesseur\", \"facon\", \"position\", \"mail\", \"tour\", \"defaut\", \"reparation\", \"cas\", \"prefere\", \"ville\", \"encoche\", \"reduction\", \"jsp\", \"novembre\", \"commander\", \"oled\", \"con\", \"belgium\", \"rhinoshield\", \"decu\", \"film\", \"rapport\", \"cherche\", \"charge\", \"mise\", \"demande\", \"mode\", \"operateur\", \"promo\", \"serie\", \"image\", \"pacemaker\", \"carte_sim\", \"free\", \"valeur\", \"sony\", \"supporte\", \"capture\", \"pratique\", \"con\", \"remise\", \"chargeur\", \"magsafe\", \"oled\", \"type\", \"belgium\", \"vie\", \"recharge\", \"reponse\", \"rhinoshield\", \"decu\", \"definition\", \"ville\", \"airpod\", \"compte\", \"appel\", \"base\", \"telephone\", \"ecouteur\", \"boite\", \"lieu\", \"version\", \"reseau\", \"lance\", \"mac\", \"carte\", \"compatible\", \"absence\", \"bloc\", \"fil\", \"rumeur\", \"femme\", \"vend\", \"parent\", \"pays\", \"ecologie\", \"induction\", \"resultat\", \"jailbreak\", \"plan\", \"min\", \"reponse\", \"droit\", \"chute\", \"chargeur\", \"support\", \"force\", \"novembre\", \"protection\", \"coque\", \"homepod\", \"livre\", \"voiture\", \"keynote\", \"attention\", \"produit\", \"impression\", \"film\", \"coque_etui\", \"gosse\", \"spigen\", \"cause\", \"pub\", \"histoire\", \"venez\", \"silicone\", \"connexion\", \"vendredi\", \"bleu\", \"arrivee\", \"limite\", \"inclu\", \"minimum\", \"verre_trempe\", \"source\", \"rhinoshield\", \"garantie\", \"definition\", \"magsafe\", \"objectif\", \"cuir\", \"euro\", \"test_bluetooth\", \"annonce\", \"site\", \"suite\", \"gamme\", \"client\", \"choisir\", \"plutot\", \"information\", \"generation\", \"option\", \"dollar\", \"ipad\", \"capteur_lidar\", \"jaune\", \"dinguerie\", \"coute\", \"solde\", \"prevu\", \"photographie\", \"capte\", \"dossier\", \"fille\", \"point\", \"droit\", \"qualite\", \"marque\", \"paiement\", \"sortie\", \"reduction\", \"heure\", \"plan\", \"batterie\", \"taille\", \"cote\", \"utilisation\", \"meilleur\", \"idee\", \"etui_protection\", \"sac\", \"dispo\", \"tombe\", \"verre\", \"condition\", \"dxomark\", \"decu\", \"promotion\", \"demontage\", \"min\", \"garantie\", \"heure\", \"oled\", \"con\", \"belgium\", \"rhinoshield\", \"definition\", \"ville\", \"evolution\", \"dossier\", \"poste\", \"store\", \"faite\", \"compte\", \"film\", \"travail\", \"demande\", \"super\", \"point\", \"internet\", \"officiel\", \"capacite\", \"matin\", \"couleur\", \"part\", \"niveau\", \"studio\", \"capteur\", \"achete\", \"daron\", \"iphonote\", \"travail\", \"million\", \"moche\", \"clavier\", \"air\", \"note\", \"equipe\", \"composant\", \"surprise\", \"enfant\", \"cool\", \"termine\", \"amelioration\", \"soeur\", \"macgeneration\", \"recherche\", \"graphite\", \"evolution\", \"vendre\", \"fin\", \"presentation\", \"vie\", \"test\", \"force\", \"photo\", \"question\", \"deballage\", \"gars\", \"base\", \"main\", \"message\", \"regarde\", \"coloris\", \"achat\", \"compte\", \"partage\", \"peur\", \"belgium\", \"qualite\", \"reponse\", \"con\", \"rhinoshield\", \"decu\", \"definition\", \"ville\", \"evolution\", \"dossier\", \"poste\", \"store\", \"faite\", \"pratique\", \"source\", \"verre_trempe\", \"frenchnewtech\", \"huawei\", \"rapport\", \"lien\", \"bleu\", \"bord\", \"keynote\", \"mec\", \"prix\", \"tombe\", \"dxomark\", \"oeil\", \"mode\", \"graphite\", \"heure\", \"samsung\", \"avis\", \"cadeau\", \"marche\", \"precommande\", \"vien\", \"peine\", \"plaisir\", \"puissance\", \"fonds\", \"modele\", \"vue\", \"comprend\", \"terme\", \"grace\", \"pigeon\", \"vitesse\", \"espere\", \"lot\", \"propose\", \"chaud\", \"exemple\", \"puce\", \"eau\", \"habitude\", \"commande\", \"dolby_vision\", \"explose\", \"octobre\", \"bord\", \"cuir\", \"novembre\", \"compte\", \"hesite\", \"appareil\", \"pouce\", \"vente\", \"place\", \"janvier\", \"succe\", \"hello\", \"production\", \"affaire\", \"sort\", \"partie\", \"nom\", \"notification\", \"presse_citron\", \"actualite\", \"vendeur\", \"homme\", \"terre\", \"pose\", \"frenchnewtech\", \"faite\", \"envie\", \"recharge\", \"poste\", \"internet\", \"chute\", \"heure\", \"demontage\", \"dxomark\", \"fin\", \"oled\", \"cas\", \"smartphone\", \"devoile\", \"soir\", \"technologie\", \"youtube\", \"tech\", \"voi\", \"minute\", \"penurie\", \"baisse\", \"choix\", \"comparaison\", \"appleevent\", \"publication\", \"capacite\", \"processeur\", \"fabrication\", \"monde\", \"avance\", \"gratuit\", \"poids\", \"huawei\", \"veut\", \"phone\", \"imagine\", \"mec\", \"internet\", \"matin\", \"ville\", \"reparation\", \"oled\", \"offre\", \"igeneration\", \"besoin\", \"temps\", \"probleme\", \"raison\", \"bientot\", \"moment\", \"oeil\", \"gnt\", \"casse\", \"application\", \"cherche\", \"innovation\", \"airpod\", \"mort\", \"decembre\", \"doigt\", \"tweet\", \"poche\", \"famille\", \"resolution\", \"communication\", \"occasion\", \"esim\", \"livraison\", \"maison\", \"marque\", \"annee\", \"appel\", \"reduction\", \"autonomie\", \"video\", \"face\", \"argent\", \"super\", \"stockage\", \"performance\", \"vena\", \"ami\", \"chance\", \"balle\", \"perso\", \"piece\", \"officiel\", \"jeu\", \"app\", \"ouverture\", \"store\", \"sortie\", \"matin\", \"service\", \"test\", \"partage\", \"envie\", \"point\", \"keynote\", \"con\", \"belgium\", \"rhinoshield\", \"decu\", \"rapport\", \"coque\", \"homepod\", \"ecran\", \"prise\", \"rapport\", \"dommage\", \"fonction\", \"blague\", \"article\", \"ligne\", \"compact\", \"pote\", \"accord\", \"presente_modele\", \"stabilisation\", \"date_sortie\", \"fonce\", \"interet\", \"bonplan\", \"experience\", \"date\", \"possession\", \"bouton\", \"garde\", \"commander\", \"etui\", \"support\", \"objectif\", \"encoche\", \"vendre\", \"oled\", \"novembre\"], \"Freq\": [1334.0, 1167.0, 1399.0, 957.0, 490.0, 397.0, 426.0, 388.0, 344.0, 331.0, 339.0, 281.0, 231.0, 272.0, 219.0, 222.0, 206.0, 276.0, 192.0, 161.0, 178.0, 206.0, 156.0, 154.0, 153.0, 161.0, 132.0, 149.0, 130.0, 140.0, 1333.3691156931257, 148.1345367438422, 115.82813884727945, 92.68773144656694, 79.68710489896374, 43.66920001793791, 38.92966046798832, 28.310883339985775, 25.050780179007376, 23.460967407462917, 19.6472219062798, 19.551601982504494, 19.507027874603732, 19.12298506033403, 16.872080303865594, 16.360373622867044, 67.19978651700502, 58.08067205770477, 49.1397093373496, 11.70333738801824, 21.213197658583407, 31.67720845040386, 6.3839705114008805, 18.21857921718824, 12.470612956904416, 15.856788365374214, 0.06659968570736692, 0.0665995700971111, 0.06660326962529733, 0.0665995700971111, 0.06697457551210008, 0.06662625893876017, 0.06659971996225753, 271.9623156972483, 138.72350333922242, 89.99541320455388, 74.23784083977745, 60.098134155454666, 59.52676596553139, 49.964991289837364, 48.55660238965431, 35.887071369753414, 34.447328415816514, 26.775333581896298, 25.898376352503774, 25.79149835003794, 19.4538771126096, 19.269405413993663, 15.402381434962956, 12.467411886113851, 57.61762918199994, 1029.325957540258, 111.93953052672212, 52.21521284474601, 9.115752290074225, 3.118687743683841, 24.330319973793735, 23.531683472088115, 4.545720199574543, 0.06121359835835556, 0.06121359409414094, 0.06121369643529195, 0.06121368364264808, 0.06128909627830148, 0.06121508656925989, 0.061213965080813365, 0.06121395228816949, 280.23706988026566, 205.07435315138446, 177.0991685432897, 112.6115250982318, 111.11410436062718, 98.27496819423612, 79.21918070523432, 54.81617605014692, 54.036731680412565, 50.86324960446719, 50.15641748263914, 49.65332546494677, 48.18111650486226, 45.22980412202981, 42.5861477793758, 38.98978314913656, 35.99281678223795, 30.622317290185823, 29.039938309712486, 25.071370415716437, 22.558230659079786, 22.26349030106817, 69.20926921130295, 24.66156987561987, 29.365161091460052, 7.5090382047550746, 7.195535593705248, 369.19855879219267, 11.19921669912335, 8.21097444722345, 8.05019530762293, 489.0778033306556, 191.45263542474694, 160.35793604710292, 85.78755201946656, 75.72138472627091, 138.36162466068618, 60.488236328538385, 58.36373662974706, 48.18799154175171, 45.402793066556754, 41.75304847813027, 38.04332865497651, 37.283416797818155, 34.46765356104431, 33.723197227939984, 32.21263966350681, 30.75852083286814, 29.714102749571374, 27.580742891999666, 27.1584842825948, 24.933929668555475, 23.711179993202467, 21.117199347283666, 17.35478028681977, 16.69062561065824, 15.869857876306234, 15.535061492418258, 13.186794025686664, 24.228293249460645, 11.25864575445856, 163.9203885680484, 23.479697399226215, 21.783311338395894, 425.98611765865553, 221.48184290986057, 124.63425259425276, 112.84175086833383, 102.75465851878296, 89.54486245914082, 89.50741520599631, 81.3020114579406, 59.539044545445265, 54.4678376954796, 46.48654733771413, 37.63033615569867, 32.48171641692257, 32.39006919212154, 27.6985075633376, 27.001140258219202, 22.037989764146126, 20.699012596015756, 19.39287256849819, 19.220937270044057, 18.82466770367224, 16.80396589726938, 14.978607698221907, 27.34343639409084, 69.73100657195609, 17.851035346229065, 37.046694398910496, 7.470108733757048, 5.056562380089923, 34.27801032953194, 17.650982514586065, 27.778946664428265, 15.87935704606015, 956.8220999459338, 338.68256404583667, 92.12342640161967, 86.81955460225709, 82.59659081092914, 80.77138147597428, 37.684036515470275, 27.338166331482878, 26.694414117867296, 25.119876546619135, 24.57567460798817, 20.359299484110615, 33.31078879342437, 9.73598683670923, 27.596202007794762, 29.297570052914573, 7.284539322442731, 6.469782781161446, 24.089401626456393, 8.64471931747478, 0.06541062982138383, 0.06541066561690849, 0.06541062982138383, 0.06541078732169232, 0.06541084459453178, 0.06541070857153808, 0.06541062982138383, 0.06541066561690849, 0.06541062982138383, 0.06541068709422329, 0.08071782707562515, 0.06614302773317118, 0.06590091396349937, 0.06544927466980302, 0.06541161061875943, 0.06541137436829669, 0.06541116675425368, 0.06541102357215506, 0.06541096629931561, 0.06541092334468603, 387.8029245206556, 121.51275526178691, 115.71877163077252, 81.06864493264636, 80.07798313140967, 62.6564979399718, 40.82095143108367, 39.530378893821755, 36.045868385873625, 35.34886167001326, 32.763825368729854, 32.71001617035157, 30.355721487099224, 27.669532728529415, 26.59378524280288, 25.53784555033159, 25.483838433062722, 25.39283108605184, 25.23623659953981, 24.64243574945569, 22.65091225558529, 20.941244700372923, 20.31737961738208, 20.033021418464482, 16.68512619187682, 14.397979910088413, 37.82014762319781, 64.13947591301128, 33.322628150706194, 89.02248914250701, 159.57274170345096, 24.608750661131, 1167.0089783415297, 152.27931491235572, 101.29184361265139, 54.58413718004248, 53.90671583562308, 40.17726823983452, 35.27166646615143, 26.602388779052625, 26.22662493946243, 15.696184648600035, 96.29124876827137, 21.761597729398257, 27.635012162964696, 9.686558334447032, 16.821722212629933, 8.846779129733374, 0.06421109129767007, 0.06421108447358072, 0.06421115953856356, 0.06421107764949137, 0.06421117318674226, 0.06421107764949137, 0.06421107764949137, 0.06421109129767007, 0.06421105035313399, 0.06421107082540202, 0.06421114589038486, 0.06421109129767007, 0.06421105035313399, 0.06421105035313399, 0.06453375471433159, 0.06421145979849488, 0.06421139838169075, 0.0642113915576014, 0.064211364261244, 0.06421131649261858, 0.06421133014079726, 0.06421128237217183, 0.06421123460354639, 0.06421125507581443, 0.06421122777945704, 0.06421124142763573, 0.06421122095536769, 0.06421122095536769, 129.15343896842947, 101.48915085510318, 98.88187946480166, 98.22517345385722, 81.51847513218901, 78.34610783653366, 76.61970737793045, 55.31054222587357, 51.242372762303255, 49.21538053136893, 48.78505196105617, 48.379872803082044, 48.21883997688827, 38.85237600024049, 37.31098278810441, 37.075012306405, 35.61515176094872, 31.039418454763847, 30.11366544453877, 27.633649949752378, 27.421565518449544, 26.171794536151854, 25.389074717404743, 25.233574827384633, 19.9536006989461, 19.78778771701045, 16.629157027756097, 16.1524211803026, 106.87677422176708, 21.770382267261077, 38.83628286379215, 36.43576425556133, 27.243550947602074, 20.445758726376127, 343.11603847112207, 160.82329707629384, 94.91984603972593, 89.2259036123796, 80.78280494756723, 76.42358685268312, 43.392315782291156, 43.37769829876667, 38.82126569162719, 36.01183785284092, 34.36115747270518, 33.117086813282455, 31.22913398887413, 30.260358729094502, 22.786557029858123, 19.266598300497307, 18.449232756174013, 17.95749749961788, 16.590189237743015, 16.0585888534857, 15.381215444658961, 71.40306615578665, 86.87134490067527, 12.309539711751945, 40.30764763080922, 17.58968357174391, 96.93007892582348, 50.074660624750244, 10.344986056617334, 17.03329082072848, 21.016004211677295, 12.498806311634285, 331.05263687575973, 153.42064919927682, 107.42727111379988, 93.57815857441584, 87.41603446263238, 85.85302943127884, 77.93348703187152, 61.28257293957376, 58.6184209680485, 57.88417801770443, 46.766442169791965, 36.30393063274515, 36.26546368919219, 31.893573296565297, 29.38594242045325, 29.169563144401042, 29.163886776912854, 28.57105901134841, 28.149591055550545, 27.348626708485703, 25.27979581665147, 24.652509051737546, 24.415533913573018, 18.675002034927072, 16.827951823019273, 36.30407976555272, 17.00806852483044, 18.610596857123895, 2.3319454381925224, 10.5903711710049, 10.396003742003561, 218.1652899621362, 155.74075322619123, 107.1626631894146, 97.3515419600305, 84.09456945201396, 82.99028047738922, 81.405260631758, 73.08639043454022, 55.195886280001304, 54.9415043630149, 46.997600645642976, 44.67992873148228, 42.423613445253125, 31.53256219179619, 30.565428072508233, 30.22967484847439, 27.047244674466267, 26.865256937909887, 26.61815788168084, 24.966301420006662, 22.509479388699642, 21.7933014180657, 21.712243519171864, 21.152657915499816, 16.505178054616838, 49.017556535243095, 35.39338138104704, 18.786320852102765, 31.302756438933475, 19.74931860437344, 16.763033837226537, 396.3876572807647, 96.91973818182377, 90.83000254981079, 88.10346030385595, 82.86905111914206, 74.5248372545019, 68.84101672855591, 62.39439702454259, 53.7560029261593, 50.29958967467459, 46.39454723800538, 43.18244430890947, 41.59289424723557, 28.447997623564028, 26.732000991083527, 25.234500546093233, 24.861788262778877, 15.155394412700968, 100.38242062300283, 46.90508317875737, 34.58227137036273, 46.48699987402648, 6.066363122600714, 18.013986690917783, 7.434345467000224, 1.251462830232578, 0.07648076743802432, 0.07648086072953764, 0.07648171784531616, 0.07648081991450056, 0.07650088925130111, 0.07649940824852733, 0.07648134467926292, 230.13410337235166, 131.79575601505744, 108.03787772738265, 92.88124794187998, 87.15280427420284, 56.05694615138515, 54.400874113479425, 51.09284767013724, 44.13063491550043, 42.34352998750938, 39.34328829182145, 38.72376123286622, 34.11569996984381, 33.83979375613878, 32.96721720741303, 29.917792986098807, 27.70061624965438, 26.173866021317284, 20.727249733875176, 20.573169693152664, 18.552066225079574, 18.230864674309203, 52.33631747970374, 40.517318590289634, 32.98403823281521, 43.63594773908295, 6.892900194673599, 7.773031025890265, 21.708351564373306, 9.3622356930873], \"Total\": [1334.0, 1167.0, 1399.0, 957.0, 490.0, 397.0, 426.0, 388.0, 344.0, 331.0, 339.0, 281.0, 231.0, 272.0, 219.0, 222.0, 206.0, 276.0, 192.0, 161.0, 178.0, 206.0, 156.0, 154.0, 153.0, 161.0, 132.0, 149.0, 130.0, 140.0, 1334.3139217746086, 149.0793427106425, 116.77294707617455, 93.63253759895305, 80.63191096085026, 44.61400611716901, 39.8744663573442, 29.25568957275394, 25.995586469054366, 24.405773483318026, 20.592027461964566, 20.496408073773537, 20.451833882034382, 20.06779136505839, 17.81688664234846, 17.30517908307847, 78.65618910025374, 71.44810656377544, 61.845284277747844, 14.901315563053759, 28.96584826906861, 75.04423982312994, 22.936942555059606, 72.77751020891043, 65.66668088192176, 142.4798587094866, 13.417604065626778, 13.691226703159506, 14.133987780551013, 14.5022119823236, 46.35108955683488, 108.96427495465032, 43.354268610579915, 272.91250761567414, 139.6736953248168, 90.94564380883632, 75.18803268253832, 61.04832609585572, 60.47695754276001, 50.91518340339021, 49.50679434599711, 36.83726289037521, 35.39752097348945, 27.72552522147443, 26.848568466346315, 26.741690536640455, 20.404068983832882, 20.21959695543491, 16.352573300437903, 13.417604065626778, 71.3079013805871, 1399.4021629666636, 276.7458946434687, 142.4798587094866, 28.872238100668426, 13.691226703159506, 114.23007682044697, 111.27704231456606, 52.5809856096782, 14.133987780551013, 14.5022119823236, 14.808076236738263, 14.901315563053759, 31.4961584353576, 124.42245288690457, 29.01656269207873, 54.85391071403585, 281.17592838056476, 206.01321113985898, 178.0380263770933, 113.55038366310002, 112.05296281660958, 99.21382611135307, 80.15803878061473, 55.75503409916111, 54.975589766324994, 51.8021078381184, 51.09527565309814, 50.5921834290542, 49.119974394927986, 46.16866245529126, 43.52500580878869, 39.92864098422856, 36.931675196269275, 31.561175677064565, 29.97879614497851, 26.010228406157104, 23.497088617331432, 23.202347806456924, 85.9569115242879, 32.819556846736944, 52.5809856096782, 26.228355888343817, 25.647899172393267, 1399.4021629666636, 45.037057655570926, 33.68565867760698, 72.77751020891043, 490.0249925098031, 192.399843103094, 161.30512562303562, 86.73474143391543, 76.66858529877834, 140.4837983728834, 61.43542586339067, 59.31092613868712, 49.1351808316078, 46.35108955683488, 42.70023711526973, 38.990517721228144, 38.23060541382656, 35.41484266408649, 34.670386046352604, 33.1598290987138, 31.705710543863738, 30.661291682239995, 28.527931965679155, 28.10567411658327, 25.88111892662783, 24.65836888529348, 22.064388592404903, 18.30197006913217, 17.6378148070663, 16.81704714379755, 16.482250753225724, 14.133987780551013, 31.57985511393724, 14.808076236738263, 276.7458946434687, 67.9777785237263, 61.49031585447611, 426.926946868896, 222.42267169870124, 125.57508249478755, 113.78258052617399, 103.69548784818839, 90.48569307453178, 90.44824468596701, 82.2428404821221, 60.479874157834175, 55.40866695711512, 47.42737734144136, 38.57116560191436, 33.42254544362534, 33.33089866326528, 28.6393370779665, 27.94196933340613, 22.978819186828343, 21.639841692802953, 20.333702231693568, 20.16176639640901, 19.76549735123463, 17.744795233512182, 15.91943705677293, 37.08754437626109, 97.9298878885822, 26.228355888343817, 54.745034920335414, 27.116508878741293, 18.43956880320553, 141.91163295139447, 75.04423982312994, 149.59766899434032, 85.9569115242879, 957.768094651591, 339.6285587574508, 93.06942143600948, 87.76554947400511, 83.54258558109535, 81.71737585479322, 38.630030960878564, 28.284160925050912, 27.640409064679332, 26.065871440147713, 25.521669869244484, 21.305294531850045, 44.525591327498205, 14.5022119823236, 44.21425965734284, 80.24204698139961, 32.819556846736944, 31.57985511393724, 149.59766899434032, 142.4798587094866, 13.417604065626778, 13.691226703159506, 14.133987780551013, 14.808076236738263, 14.901315563053759, 15.33646125791229, 15.91943705677293, 16.054566368267555, 16.09031877090038, 16.316442597026928, 124.42245288690457, 46.35108955683488, 36.98483961919331, 90.94564380883632, 83.80397676344738, 97.9298878885822, 58.17216968342348, 29.38292244058223, 30.31857370126069, 73.78247281949696, 388.74140530441724, 122.45123648605657, 116.6572528718, 82.00712563427992, 81.01646437498017, 63.59497889354642, 41.75943247270574, 40.46885995595545, 36.98483961919331, 36.28734277038549, 33.70230617001873, 33.64849705300556, 31.294202681718733, 28.60801383361246, 27.532266479948373, 26.47632648136221, 26.42231951114089, 26.331311849241704, 26.1747175152368, 25.580917936290035, 23.58939377585041, 21.879725554343047, 21.255860433125925, 20.971502548674927, 17.623607131137007, 15.33646125791229, 46.44660428589402, 82.0350701116195, 42.652680405808844, 114.23007682044697, 206.92174204517238, 33.68565867760698, 1167.9561727251566, 153.22650944960444, 102.2390375403789, 55.53133160691542, 54.85391071403585, 41.124462600987044, 36.21886107832619, 27.549583310378253, 27.173819058355964, 20.2001699831339, 124.42245288690457, 28.69867421833228, 38.24860982467712, 13.691226703159506, 54.745034920335414, 52.5809856096782, 13.417604065626778, 14.133987780551013, 14.5022119823236, 14.808076236738263, 14.901315563053759, 15.33646125791229, 15.91943705677293, 16.054566368267555, 16.09031877090038, 16.316442597026928, 16.352573300437903, 16.482250753225724, 16.81704714379755, 16.99381600332932, 25.585462837597614, 108.96427495465032, 93.63253759895305, 25.88111892662783, 28.40290807996682, 140.4837983728834, 43.10627894653222, 1334.3139217746086, 26.065871440147713, 44.525591327498205, 56.12654165120667, 75.18803268253832, 17.623607131137007, 149.59766899434032, 130.0883776502273, 102.42408887105137, 99.81681728064699, 99.16011143361095, 82.45343130420797, 79.28104596907401, 77.55464528990322, 56.245480102173666, 52.17731083940146, 50.1503182055534, 49.71998998174995, 49.31481061072102, 49.15377792873119, 39.78731388127447, 38.24592066766599, 38.00995029973872, 36.55008960698523, 31.97435618117469, 31.048603123168565, 28.56858757458437, 28.356503301726466, 27.106732409096974, 26.324012682037395, 26.16851276310732, 20.888538840133176, 20.722725602453018, 17.56409531900421, 17.08735896433861, 115.17903563249828, 28.40290807996682, 61.49031585447611, 72.77751020891043, 124.42245288690457, 32.288149147473774, 344.0512679185587, 161.75852439323808, 95.8550731128851, 90.16113095649649, 81.71803206335663, 77.35881369376133, 44.32754325278164, 44.31292542723064, 39.7564931285075, 36.9470649934885, 35.29638506231129, 34.05231397588427, 32.164360799470415, 31.19558592293116, 23.721783993538214, 20.201832507888962, 19.38446031111728, 18.89272479936977, 17.525416309645422, 16.99381600332932, 16.316442597026928, 90.27579935594207, 111.27704231456606, 16.054566368267555, 58.17216968342348, 25.647899172393267, 149.59766899434032, 80.24204698139961, 44.525591327498205, 82.0350701116195, 142.4798587094866, 71.44810656377544, 331.98526811387285, 154.3532801804754, 108.35990222462188, 94.51078977350764, 88.34866561634529, 86.78566065531255, 78.86611838017744, 62.21520426990806, 59.551052037864984, 58.816809301979475, 47.69907336662879, 37.23656187617815, 37.19809492682421, 32.82620450760668, 30.31857370126069, 30.102194273794172, 30.09651789464956, 29.503689818045824, 29.08222226457451, 28.281258112694207, 26.212426976302908, 25.585462837597614, 25.348164921064154, 19.60763322391963, 17.76058298913924, 43.10627894653222, 58.17216968342348, 73.78247281949696, 14.901315563053759, 78.65618910025374, 142.4798587094866, 219.0959448834686, 156.67140791806648, 108.09332100281752, 98.28219702094083, 85.02522422680128, 83.92093567293104, 82.33591554393138, 74.01704543116239, 56.12654165120667, 55.87216034054969, 47.9282556655521, 45.610583891500994, 43.354268610579915, 32.46321721629557, 31.4961584353576, 31.160329726255, 27.977899745835053, 27.795911817657178, 27.54881271216018, 25.89695641376671, 23.440134606555215, 22.723956403503152, 22.642898484335475, 22.083312895336512, 17.435832797431445, 56.96221086473325, 42.2700613856908, 27.116508878741293, 45.20174857697158, 29.01656269207873, 75.04423982312994, 397.32258175252605, 97.85466254521329, 91.76492704400336, 89.03838494393509, 83.80397676344738, 75.45976207234612, 69.77594150841193, 63.329321732834956, 54.69117870900147, 51.234514829705304, 47.32947179971258, 44.117368882671734, 42.52781889819944, 29.38292244058223, 27.666925601547472, 26.169425124994977, 25.79671297917063, 16.09031877090038, 141.91163295139447, 73.78247281949696, 55.769761316034554, 206.92174204517238, 28.69867421833228, 90.27579935594207, 97.9298878885822, 140.4837983728834, 13.417604065626778, 13.691226703159506, 14.133987780551013, 14.5022119823236, 108.96427495465032, 192.399843103094, 161.30512562303562, 231.06045299282917, 132.7221058060842, 108.96427495465032, 93.80759748137952, 88.0791539887204, 56.98329589095123, 55.32722383356542, 52.01919759874504, 45.0569846185933, 43.26987992457606, 40.26963809157164, 39.650110546149975, 35.04204961431059, 34.76614348460732, 33.89356704300101, 30.84414268830966, 28.62696603783419, 27.100215787623394, 21.65359936024004, 21.49951916449779, 19.478415930211092, 19.157214434935852, 65.66668088192176, 55.31609821343155, 45.037057655570926, 67.9777785237263, 28.96584826906861, 46.44660428589402, 142.4798587094866, 72.77751020891043], \"Category\": [\"Default\", \"Default\", \"Default\", \"Default\", \"Default\", \"Default\", \"Default\", \"Default\", \"Default\", \"Default\", \"Default\", \"Default\", \"Default\", \"Default\", \"Default\", \"Default\", \"Default\", \"Default\", \"Default\", \"Default\", \"Default\", \"Default\", \"Default\", \"Default\", \"Default\", \"Default\", \"Default\", \"Default\", \"Default\", \"Default\", \"Topic1\", \"Topic1\", \"Topic1\", \"Topic1\", \"Topic1\", \"Topic1\", \"Topic1\", \"Topic1\", \"Topic1\", \"Topic1\", \"Topic1\", \"Topic1\", \"Topic1\", \"Topic1\", \"Topic1\", \"Topic1\", \"Topic1\", \"Topic1\", \"Topic1\", \"Topic1\", \"Topic1\", \"Topic1\", \"Topic1\", \"Topic1\", \"Topic1\", \"Topic1\", \"Topic1\", \"Topic1\", \"Topic1\", \"Topic1\", \"Topic1\", \"Topic1\", \"Topic1\", \"Topic2\", \"Topic2\", \"Topic2\", \"Topic2\", \"Topic2\", \"Topic2\", \"Topic2\", \"Topic2\", \"Topic2\", \"Topic2\", \"Topic2\", \"Topic2\", \"Topic2\", \"Topic2\", \"Topic2\", \"Topic2\", \"Topic2\", \"Topic2\", \"Topic2\", \"Topic2\", \"Topic2\", \"Topic2\", \"Topic2\", \"Topic2\", \"Topic2\", \"Topic2\", \"Topic2\", \"Topic2\", \"Topic2\", \"Topic2\", \"Topic2\", \"Topic2\", \"Topic2\", \"Topic2\", \"Topic3\", \"Topic3\", \"Topic3\", \"Topic3\", \"Topic3\", \"Topic3\", \"Topic3\", \"Topic3\", \"Topic3\", \"Topic3\", \"Topic3\", \"Topic3\", \"Topic3\", \"Topic3\", \"Topic3\", \"Topic3\", \"Topic3\", \"Topic3\", \"Topic3\", \"Topic3\", \"Topic3\", \"Topic3\", \"Topic3\", \"Topic3\", \"Topic3\", \"Topic3\", \"Topic3\", \"Topic3\", \"Topic3\", \"Topic3\", \"Topic3\", \"Topic4\", \"Topic4\", \"Topic4\", \"Topic4\", \"Topic4\", \"Topic4\", \"Topic4\", \"Topic4\", \"Topic4\", \"Topic4\", \"Topic4\", \"Topic4\", \"Topic4\", \"Topic4\", \"Topic4\", \"Topic4\", \"Topic4\", \"Topic4\", \"Topic4\", \"Topic4\", \"Topic4\", \"Topic4\", \"Topic4\", \"Topic4\", \"Topic4\", \"Topic4\", \"Topic4\", \"Topic4\", \"Topic4\", \"Topic4\", \"Topic4\", \"Topic4\", \"Topic4\", \"Topic5\", \"Topic5\", \"Topic5\", \"Topic5\", \"Topic5\", \"Topic5\", \"Topic5\", \"Topic5\", \"Topic5\", \"Topic5\", \"Topic5\", \"Topic5\", \"Topic5\", \"Topic5\", \"Topic5\", \"Topic5\", \"Topic5\", \"Topic5\", \"Topic5\", \"Topic5\", \"Topic5\", \"Topic5\", \"Topic5\", \"Topic5\", \"Topic5\", \"Topic5\", \"Topic5\", \"Topic5\", \"Topic5\", \"Topic5\", \"Topic5\", \"Topic5\", \"Topic5\", \"Topic6\", \"Topic6\", \"Topic6\", \"Topic6\", \"Topic6\", \"Topic6\", \"Topic6\", \"Topic6\", \"Topic6\", \"Topic6\", \"Topic6\", \"Topic6\", \"Topic6\", \"Topic6\", \"Topic6\", \"Topic6\", \"Topic6\", \"Topic6\", \"Topic6\", \"Topic6\", \"Topic6\", \"Topic6\", \"Topic6\", \"Topic6\", \"Topic6\", \"Topic6\", \"Topic6\", \"Topic6\", \"Topic6\", \"Topic6\", \"Topic6\", \"Topic6\", \"Topic6\", \"Topic6\", \"Topic6\", \"Topic6\", \"Topic6\", \"Topic6\", \"Topic6\", \"Topic6\", \"Topic7\", \"Topic7\", \"Topic7\", \"Topic7\", \"Topic7\", \"Topic7\", \"Topic7\", \"Topic7\", \"Topic7\", \"Topic7\", \"Topic7\", \"Topic7\", \"Topic7\", \"Topic7\", \"Topic7\", \"Topic7\", \"Topic7\", \"Topic7\", \"Topic7\", \"Topic7\", \"Topic7\", \"Topic7\", \"Topic7\", \"Topic7\", \"Topic7\", \"Topic7\", \"Topic7\", \"Topic7\", \"Topic7\", \"Topic7\", \"Topic7\", \"Topic7\", \"Topic8\", \"Topic8\", \"Topic8\", \"Topic8\", \"Topic8\", \"Topic8\", \"Topic8\", \"Topic8\", \"Topic8\", \"Topic8\", \"Topic8\", \"Topic8\", \"Topic8\", \"Topic8\", \"Topic8\", \"Topic8\", \"Topic8\", \"Topic8\", \"Topic8\", \"Topic8\", \"Topic8\", \"Topic8\", \"Topic8\", \"Topic8\", \"Topic8\", \"Topic8\", \"Topic8\", \"Topic8\", \"Topic8\", \"Topic8\", \"Topic8\", \"Topic8\", \"Topic8\", \"Topic8\", \"Topic8\", \"Topic8\", \"Topic8\", \"Topic8\", \"Topic8\", \"Topic8\", \"Topic8\", \"Topic8\", \"Topic8\", \"Topic8\", \"Topic9\", \"Topic9\", \"Topic9\", \"Topic9\", \"Topic9\", \"Topic9\", \"Topic9\", \"Topic9\", \"Topic9\", \"Topic9\", \"Topic9\", \"Topic9\", \"Topic9\", \"Topic9\", \"Topic9\", \"Topic9\", \"Topic9\", \"Topic9\", \"Topic9\", \"Topic9\", \"Topic9\", \"Topic9\", \"Topic9\", \"Topic9\", \"Topic9\", \"Topic9\", \"Topic9\", \"Topic9\", \"Topic9\", \"Topic9\", \"Topic9\", \"Topic9\", \"Topic9\", \"Topic9\", \"Topic10\", \"Topic10\", \"Topic10\", \"Topic10\", \"Topic10\", \"Topic10\", \"Topic10\", \"Topic10\", \"Topic10\", \"Topic10\", \"Topic10\", \"Topic10\", \"Topic10\", \"Topic10\", \"Topic10\", \"Topic10\", \"Topic10\", \"Topic10\", \"Topic10\", \"Topic10\", \"Topic10\", \"Topic10\", \"Topic10\", \"Topic10\", \"Topic10\", \"Topic10\", \"Topic10\", \"Topic10\", \"Topic10\", \"Topic10\", \"Topic10\", \"Topic10\", \"Topic11\", \"Topic11\", \"Topic11\", \"Topic11\", \"Topic11\", \"Topic11\", \"Topic11\", \"Topic11\", \"Topic11\", \"Topic11\", \"Topic11\", \"Topic11\", \"Topic11\", \"Topic11\", \"Topic11\", \"Topic11\", \"Topic11\", \"Topic11\", \"Topic11\", \"Topic11\", \"Topic11\", \"Topic11\", \"Topic11\", \"Topic11\", \"Topic11\", \"Topic11\", \"Topic11\", \"Topic11\", \"Topic11\", \"Topic11\", \"Topic11\", \"Topic12\", \"Topic12\", \"Topic12\", \"Topic12\", \"Topic12\", \"Topic12\", \"Topic12\", \"Topic12\", \"Topic12\", \"Topic12\", \"Topic12\", \"Topic12\", \"Topic12\", \"Topic12\", \"Topic12\", \"Topic12\", \"Topic12\", \"Topic12\", \"Topic12\", \"Topic12\", \"Topic12\", \"Topic12\", \"Topic12\", \"Topic12\", \"Topic12\", \"Topic12\", \"Topic12\", \"Topic12\", \"Topic12\", \"Topic12\", \"Topic12\", \"Topic13\", \"Topic13\", \"Topic13\", \"Topic13\", \"Topic13\", \"Topic13\", \"Topic13\", \"Topic13\", \"Topic13\", \"Topic13\", \"Topic13\", \"Topic13\", \"Topic13\", \"Topic13\", \"Topic13\", \"Topic13\", \"Topic13\", \"Topic13\", \"Topic13\", \"Topic13\", \"Topic13\", \"Topic13\", \"Topic13\", \"Topic13\", \"Topic13\", \"Topic13\", \"Topic13\", \"Topic13\", \"Topic13\", \"Topic13\", \"Topic13\", \"Topic13\", \"Topic13\", \"Topic14\", \"Topic14\", \"Topic14\", \"Topic14\", \"Topic14\", \"Topic14\", \"Topic14\", \"Topic14\", \"Topic14\", \"Topic14\", \"Topic14\", \"Topic14\", \"Topic14\", \"Topic14\", \"Topic14\", \"Topic14\", \"Topic14\", \"Topic14\", \"Topic14\", \"Topic14\", \"Topic14\", \"Topic14\", \"Topic14\", \"Topic14\", \"Topic14\", \"Topic14\", \"Topic14\", \"Topic14\", \"Topic14\", \"Topic14\"], \"logprob\": [30.0, 29.0, 28.0, 27.0, 26.0, 25.0, 24.0, 23.0, 22.0, 21.0, 20.0, 19.0, 18.0, 17.0, 16.0, 15.0, 14.0, 13.0, 12.0, 11.0, 10.0, 9.0, 8.0, 7.0, 6.0, 5.0, 4.0, 3.0, 2.0, 1.0, -0.5684000253677368, -2.765700101852417, -3.0118000507354736, -3.234600067138672, -3.3857998847961426, -3.9872000217437744, -4.102099895477295, -4.420599937438965, -4.543000221252441, -4.608500003814697, -4.785900115966797, -4.790800094604492, -4.793099880218506, -4.813000202178955, -4.938199996948242, -4.968999862670898, -3.5562000274658203, -3.7019999027252197, -3.8691999912261963, -5.303999900817871, -4.709199905395508, -4.308300018310547, -5.910099983215332, -4.861400127410889, -5.240499973297119, -5.00029993057251, -10.472900390625, -10.472900390625, -10.472900390625, -10.472900390625, -10.467300415039062, -10.47249984741211, -10.472900390625, -2.154099941253662, -2.827199935913086, -3.259999990463257, -3.452500104904175, -3.663800001144409, -3.67330002784729, -3.848400115966797, -3.877000093460083, -4.1793999671936035, -4.220300197601318, -4.472300052642822, -4.5055999755859375, -4.509699821472168, -4.7916998863220215, -4.801199913024902, -5.025199890136719, -5.236599922180176, -3.705899953842163, -0.8230999708175659, -3.041800022125244, -3.8043999671936035, -5.549699783325195, -6.622300148010254, -4.567999839782715, -4.601399898529053, -6.245500087738037, -10.553099632263184, -10.553099632263184, -10.553099632263184, -10.553099632263184, -10.551899909973145, -10.553099632263184, -10.553099632263184, -10.553099632263184, -2.075200080871582, -2.387500047683716, -2.5341999530792236, -2.9869000911712646, -3.0002999305725098, -3.1231000423431396, -3.338599920272827, -3.706899881362915, -3.7211999893188477, -3.7816998958587646, -3.7957000732421875, -3.805799961090088, -3.835900068283081, -3.8991000652313232, -3.9593000411987305, -4.047599792480469, -4.127500057220459, -4.289100170135498, -4.342199802398682, -4.489099979400635, -4.594799995422363, -4.607900142669678, -3.4737000465393066, -4.5055999755859375, -4.331099987030029, -5.694799900054932, -5.737400054931641, -1.7994999885559082, -5.295000076293945, -5.605400085449219, -5.625199794769287, -1.4745999574661255, -2.4124999046325684, -2.5896999835968018, -3.2151999473571777, -3.340100049972534, -2.7372000217437744, -3.56469988822937, -3.600399971008301, -3.7920000553131104, -3.8515000343322754, -3.93530011177063, -4.02839994430542, -4.048600196838379, -4.127099990844727, -4.148900032043457, -4.194799900054932, -4.240900039672852, -4.2754998207092285, -4.349999904632568, -4.3653998374938965, -4.450900077819824, -4.501200199127197, -4.617000102996826, -4.813199996948242, -4.85230016708374, -4.902699947357178, -4.923999786376953, -5.087900161743164, -4.479599952697754, -5.245999813079834, -2.567699909210205, -4.511000156402588, -4.585999965667725, -1.5599000453948975, -2.2139999866485596, -2.7890000343322754, -2.888400077819824, -2.9820001125335693, -3.1196000576019287, -3.119999885559082, -3.216200113296509, -3.5276999473571777, -3.6166999340057373, -3.7751998901367188, -3.9865000247955322, -4.133699893951416, -4.136499881744385, -4.293000221252441, -4.31850004196167, -4.521599769592285, -4.5843000411987305, -4.649400234222412, -4.658299922943115, -4.679200172424316, -4.792699813842773, -4.907700061798096, -4.3059000968933105, -3.3696999549865723, -4.7322998046875, -4.002200126647949, -5.603400230407715, -5.99370002746582, -4.079800128936768, -4.743500232696533, -4.29010009765625, -4.849299907684326, -0.7210999727249146, -1.759600043296814, -3.0615999698638916, -3.1208999156951904, -3.1707000732421875, -3.1930999755859375, -3.9554998874664307, -4.276400089263916, -4.300300121307373, -4.361100196838379, -4.382999897003174, -4.571199893951416, -4.078800201416016, -5.308899879455566, -4.267000198364258, -4.207200050354004, -5.598999977111816, -5.717599868774414, -4.402900218963623, -5.427800178527832, -10.311800003051758, -10.311800003051758, -10.311800003051758, -10.311800003051758, -10.311800003051758, -10.311800003051758, -10.311800003051758, -10.311800003051758, -10.311800003051758, -10.311800003051758, -10.101499557495117, -10.300600051879883, -10.304300308227539, -10.311200141906738, -10.311800003051758, -10.311800003051758, -10.311800003051758, -10.311800003051758, -10.311800003051758, -10.311800003051758, -1.5878000259399414, -2.748199939727783, -2.797100067138672, -3.1530001163482666, -3.165299892425537, -3.410599946975708, -3.839099884033203, -3.8712000846862793, -3.9635000228881836, -3.9830000400543213, -4.058899879455566, -4.0605998039245605, -4.135300159454346, -4.22790002822876, -4.267600059509277, -4.30810022354126, -4.310200214385986, -4.313799858093262, -4.320000171661377, -4.343800067901611, -4.428100109100342, -4.506499767303467, -4.536799907684326, -4.550899982452393, -4.733699798583984, -4.881199836730957, -3.9154000282287598, -3.387200117111206, -4.041999816894531, -3.0594000816345215, -2.475800037384033, -4.345200061798096, -0.4745999872684479, -2.5111000537872314, -2.918800115585327, -3.5369999408721924, -3.549499988555908, -3.8434998989105225, -3.9737000465393066, -4.255799770355225, -4.269999980926514, -4.783400058746338, -2.969399929046631, -4.456600189208984, -4.217700004577637, -5.265999794006348, -4.714099884033203, -5.3566999435424805, -10.282400131225586, -10.282400131225586, -10.282400131225586, -10.282400131225586, -10.282400131225586, -10.282400131225586, -10.282400131225586, -10.282400131225586, -10.282400131225586, -10.282400131225586, -10.282400131225586, -10.282400131225586, -10.282400131225586, -10.282400131225586, -10.277400016784668, -10.282400131225586, -10.282400131225586, -10.282400131225586, -10.282400131225586, -10.282400131225586, -10.282400131225586, -10.282400131225586, -10.282400131225586, -10.282400131225586, -10.282400131225586, -10.282400131225586, -10.282400131225586, -10.282400131225586, -2.6105000972747803, -2.8515000343322754, -2.877500057220459, -2.884200096130371, -3.0706000328063965, -3.110300064086914, -3.1326000690460205, -3.4584999084472656, -3.534899950027466, -3.575200080871582, -3.5840001106262207, -3.592400074005127, -3.5957000255584717, -3.8117001056671143, -3.8522000312805176, -3.8585000038146973, -3.898699998855591, -4.036200046539307, -4.066500186920166, -4.152400016784668, -4.160099983215332, -4.2067999839782715, -4.237100124359131, -4.243299961090088, -4.478000164031982, -4.486400127410889, -4.660299777984619, -4.6894001960754395, -2.799799919128418, -4.390900135040283, -3.8120999336242676, -3.8759000301361084, -4.166600227355957, -4.453700065612793, -1.6233999729156494, -2.381200075149536, -2.908400058746338, -2.9702999591827393, -3.069700002670288, -3.125200033187866, -3.691200017929077, -3.691499948501587, -3.802500009536743, -3.8775999546051025, -3.924499988555908, -3.961400032043457, -4.020100116729736, -4.051599979400635, -4.335299968719482, -4.5030999183654785, -4.54640007019043, -4.573400020599365, -4.652599811553955, -4.685200214385986, -4.728300094604492, -3.1930999755859375, -2.996999979019165, -4.951099872589111, -3.764899969100952, -4.594099998474121, -2.887500047683716, -3.5478999614715576, -5.125, -4.626299858093262, -4.416200160980225, -4.935800075531006, -1.6171000003814697, -2.386199951171875, -2.7425999641418457, -2.8805999755859375, -2.948699951171875, -2.9667999744415283, -3.063499927520752, -3.3039000034332275, -3.348299980163574, -3.3608999252319336, -3.574199914932251, -3.827500104904175, -3.8285000324249268, -3.9570000171661377, -4.038899898529053, -4.046299934387207, -4.046500205993652, -4.066999912261963, -4.081900119781494, -4.1107001304626465, -4.1894001960754395, -4.2144999504089355, -4.2241997718811035, -4.492199897766113, -4.596399784088135, -3.827500104904175, -4.585700035095215, -4.495699882507324, -6.572700023651123, -5.0594000816345215, -5.078000068664551, -2.032900094985962, -2.369999885559082, -2.743799924850464, -2.8397998809814453, -2.9862000942230225, -2.9993999004364014, -3.018699884414673, -3.126499891281128, -3.4072999954223633, -3.411900043487549, -3.568000078201294, -3.6185998916625977, -3.6703999042510986, -3.967099905014038, -3.998300075531006, -4.009300231933594, -4.12060022354126, -4.127299785614014, -4.136600017547607, -4.2006001472473145, -4.304200172424316, -4.33650016784668, -4.3403000831604, -4.366399765014648, -4.614500045776367, -3.5260000228881836, -3.851599931716919, -4.485000133514404, -3.974400043487549, -4.434999942779541, -4.598999977111816, -1.3970999717712402, -2.8055999279022217, -2.870500087738037, -2.9010000228881836, -2.9621999263763428, -3.0683000087738037, -3.147700071334839, -3.246000051498413, -3.3949999809265137, -3.4614999294281006, -3.54229998588562, -3.614000082015991, -3.6514999866485596, -4.031400203704834, -4.093599796295166, -4.151299953460693, -4.166100025177002, -4.661099910736084, -2.7704999446868896, -3.5313000679016113, -3.8361001014709473, -3.540299892425537, -5.576700210571289, -4.48829984664917, -5.3734002113342285, -7.155200004577637, -9.950200080871582, -9.950200080871582, -9.950200080871582, -9.950200080871582, -9.949899673461914, -9.949899673461914, -9.950200080871582, -1.8623000383377075, -2.4196999073028564, -2.6184000968933105, -2.7695999145507812, -2.8333001136779785, -3.274600028991699, -3.304500102996826, -3.367300033569336, -3.5137999057769775, -3.5550999641418457, -3.6285998821258545, -3.6445000171661377, -3.771199941635132, -3.7792999744415283, -3.8053998947143555, -3.9024999141693115, -3.9795000553131104, -4.036200046539307, -4.269499778747559, -4.276899814605713, -4.380300045013428, -4.397799968719482, -3.3431999683380127, -3.5992000102996826, -3.8048999309539795, -3.5250000953674316, -5.3703999519348145, -5.25029993057251, -4.223199844360352, -5.064199924468994], \"loglift\": [30.0, 29.0, 28.0, 27.0, 26.0, 25.0, 24.0, 23.0, 22.0, 21.0, 20.0, 19.0, 18.0, 17.0, 16.0, 15.0, 14.0, 13.0, 12.0, 11.0, 10.0, 9.0, 8.0, 7.0, 6.0, 5.0, 4.0, 3.0, 2.0, 1.0, 2.4298, 2.4241, 2.4223, 2.4203, 2.4187, 2.4091, 2.4065, 2.3976, 2.3934, 2.391, 2.3835, 2.3833, 2.3832, 2.3822, 2.376, 2.3743, 2.273, 2.2233, 2.2005, 2.1889, 2.119, 1.568, 1.1515, 1.0455, 0.7692, 0.2349, -2.8752, -2.8953, -2.9271, -2.9529, -4.1092, -4.9692, -4.048, 2.4311, 2.4278, 2.4241, 2.4219, 2.4189, 2.4188, 2.4158, 2.4152, 2.4085, 2.4074, 2.3997, 2.3986, 2.3984, 2.3869, 2.3865, 2.3747, 2.3611, 2.2214, 2.1275, 1.5295, 1.4308, 1.2817, 0.9553, 0.8881, 0.8809, -0.0136, -3.0074, -3.0331, -3.054, -3.0602, -3.8074, -5.1824, -3.7267, -4.3635, 2.4801, 2.4789, 2.4782, 2.4752, 2.475, 2.474, 2.4717, 2.4665, 2.4662, 2.4652, 2.4649, 2.4647, 2.4642, 2.4629, 2.4617, 2.4597, 2.4577, 2.4533, 2.4516, 2.4467, 2.4427, 2.4422, 2.2668, 2.1977, 1.9009, 1.2327, 1.2125, 1.151, 1.0918, 1.0719, 0.2818, 2.5253, 2.5223, 2.5213, 2.5162, 2.5148, 2.512, 2.5117, 2.5111, 2.5077, 2.5065, 2.5048, 2.5026, 2.5021, 2.5001, 2.4995, 2.4982, 2.4969, 2.4958, 2.4934, 2.4929, 2.4899, 2.488, 2.4833, 2.4741, 2.472, 2.4692, 2.468, 2.4578, 2.2622, 2.2532, 2.0035, 1.4642, 1.4895, 2.5778, 2.5757, 2.5725, 2.5717, 2.5709, 2.5695, 2.5695, 2.5685, 2.5643, 2.5629, 2.56, 2.5553, 2.5514, 2.5514, 2.5466, 2.5457, 2.5382, 2.5355, 2.5326, 2.5322, 2.5312, 2.5255, 2.5191, 2.2752, 2.2404, 2.1952, 2.1895, 1.2908, 1.2862, 1.1593, 1.1327, 0.8963, 0.8912, 2.6086, 2.6068, 2.5994, 2.5988, 2.5982, 2.598, 2.5848, 2.5756, 2.5748, 2.5726, 2.5718, 2.5642, 2.3194, 2.2111, 2.1382, 1.6021, 1.1043, 1.0242, 0.7834, -0.1926, -2.714, -2.7342, -2.766, -2.8126, -2.8189, -2.8477, -2.885, -2.8934, -2.8957, -2.9096, -4.7309, -3.9426, -3.7205, -4.6271, -4.5459, -4.7017, -4.1809, -3.4979, -3.5292, -4.4186, 2.6436, 2.6384, 2.638, 2.6346, 2.6344, 2.6312, 2.6233, 2.6226, 2.6203, 2.6199, 2.6178, 2.6178, 2.6156, 2.6127, 2.6114, 2.61, 2.6099, 2.6098, 2.6096, 2.6087, 2.6055, 2.6022, 2.6009, 2.6003, 2.5913, 2.5829, 2.4406, 2.4, 2.3992, 2.3967, 2.3862, 2.3321, 2.6567, 2.6513, 2.6482, 2.6403, 2.6401, 2.6342, 2.631, 2.6226, 2.6221, 2.4053, 2.4012, 2.3808, 2.3325, 2.3115, 1.4775, 0.8752, -2.6846, -2.7366, -2.7623, -2.7832, -2.7895, -2.8183, -2.8556, -2.864, -2.8663, -2.8802, -2.8824, -2.8903, -2.9104, -2.9209, -3.325, -4.7791, -4.6274, -3.3415, -3.4345, -5.0331, -3.8517, -7.2842, -3.3487, -3.8841, -4.1156, -4.408, -2.9573, -5.096, 2.7157, 2.7137, 2.7135, 2.7134, 2.7115, 2.711, 2.7107, 2.7061, 2.7048, 2.7041, 2.7039, 2.7037, 2.7037, 2.6991, 2.6981, 2.698, 2.697, 2.6932, 2.6923, 2.6896, 2.6893, 2.6878, 2.6867, 2.6865, 2.6771, 2.6767, 2.6682, 2.6666, 2.6481, 2.4569, 2.2634, 2.031, 1.204, 2.266, 2.7301, 2.7271, 2.7231, 2.7224, 2.7214, 2.7207, 2.7115, 2.7115, 2.7091, 2.7072, 2.706, 2.705, 2.7034, 2.7024, 2.6926, 2.6855, 2.6834, 2.6821, 2.678, 2.6763, 2.6738, 2.4983, 2.4853, 2.4673, 2.366, 2.3557, 2.2989, 2.2613, 1.2733, 1.1609, 0.819, 0.9895, 2.7721, 2.7689, 2.7663, 2.765, 2.7643, 2.7641, 2.763, 2.7598, 2.7591, 2.7589, 2.7552, 2.7496, 2.7495, 2.7461, 2.7437, 2.7435, 2.7435, 2.7428, 2.7423, 2.7414, 2.7387, 2.7378, 2.7374, 2.7262, 2.721, 2.6032, 1.5452, 1.3975, 0.9202, 0.7698, 0.1572, 2.7719, 2.7702, 2.7675, 2.7667, 2.7652, 2.765, 2.7648, 2.7635, 2.7595, 2.7594, 2.7566, 2.7556, 2.7545, 2.7471, 2.7462, 2.7459, 2.7424, 2.7421, 2.7418, 2.7396, 2.7357, 2.7344, 2.7342, 2.7331, 2.7213, 2.626, 2.5986, 2.4092, 2.4088, 2.3914, 1.2773, 2.8125, 2.8053, 2.8046, 2.8043, 2.8036, 2.8024, 2.8014, 2.8, 2.7976, 2.7964, 2.7949, 2.7934, 2.7926, 2.7825, 2.7805, 2.7785, 2.7779, 2.755, 2.4686, 2.3619, 2.337, 1.3217, 1.2608, 1.2031, 0.2367, -1.9059, -2.3524, -2.3726, -2.4044, -2.4302, -4.4466, -5.0152, -4.8391, 2.8894, 2.8864, 2.8849, 2.8835, 2.8828, 2.877, 2.8765, 2.8754, 2.8726, 2.8718, 2.8701, 2.8698, 2.8666, 2.8664, 2.8657, 2.8629, 2.8605, 2.8586, 2.8497, 2.8494, 2.8447, 2.8438, 2.6665, 2.5821, 2.5819, 2.4501, 1.4578, 1.1058, 1.0119, 0.8427]}, \"token.table\": {\"Topic\": [3, 14, 8, 12, 7, 10, 10, 7, 12, 7, 13, 9, 12, 5, 13, 10, 4, 12, 11, 12, 13, 4, 14, 4, 13, 11, 9, 11, 13, 8, 6, 2, 8, 12, 12, 14, 4, 3, 3, 14, 5, 9, 14, 9, 11, 5, 7, 5, 2, 3, 2, 1, 10, 12, 4, 13, 1, 2, 2, 3, 9, 12, 5, 11, 3, 10, 7, 5, 1, 8, 9, 1, 14, 1, 12, 14, 11, 3, 7, 9, 8, 9, 2, 1, 6, 4, 7, 4, 4, 6, 7, 5, 4, 9, 7, 14, 14, 8, 12, 6, 7, 1, 4, 5, 2, 6, 10, 11, 1, 5, 6, 12, 9, 5, 14, 5, 3, 5, 6, 10, 9, 3, 3, 14, 1, 14, 7, 10, 13, 7, 12, 9, 9, 14, 6, 5, 7, 9, 14, 9, 11, 13, 1, 10, 12, 3, 3, 5, 7, 4, 7, 10, 14, 14, 9, 3, 7, 2, 10, 5, 4, 6, 14, 8, 5, 12, 4, 9, 7, 11, 9, 10, 7, 9, 5, 6, 10, 4, 4, 10, 11, 6, 12, 2, 11, 4, 4, 3, 5, 12, 14, 10, 11, 5, 7, 3, 10, 5, 13, 1, 7, 4, 13, 3, 1, 3, 14, 4, 9, 12, 4, 9, 3, 7, 2, 4, 1, 8, 3, 12, 9, 5, 12, 10, 11, 13, 7, 11, 6, 8, 7, 3, 6, 4, 11, 2, 7, 2, 9, 12, 11, 12, 7, 10, 7, 10, 1, 3, 9, 14, 4, 14, 12, 5, 9, 12, 13, 12, 1, 2, 6, 9, 10, 11, 14, 2, 5, 1, 13, 2, 1, 4, 5, 3, 7, 8, 13, 10, 3, 9, 11, 13, 13, 7, 8, 11, 8, 5, 13, 9, 10, 9, 3, 5, 5, 12, 11, 5, 9, 13, 10, 1, 14, 10, 12, 14, 10, 2, 9, 1, 1, 5, 4, 7, 14, 10, 5, 14, 1, 12, 11, 10, 4, 2, 5, 6, 12, 9, 4, 4, 11, 9, 9, 5, 8, 8, 12, 14, 2, 10, 7, 1, 1, 4, 5, 12, 8, 2, 9, 1, 11, 2, 3, 8, 10, 3, 12, 3, 4, 3, 6, 9, 2, 5, 12, 13, 4, 5, 11, 7, 11, 5, 2, 10, 5, 9, 13, 4, 4, 14, 13, 13, 7, 10, 5, 13, 3, 14, 2, 7, 6, 11, 11, 3, 12, 9, 7, 10, 7, 13, 5, 6, 1, 7, 12, 2, 7, 6, 2, 13, 3, 10, 7, 14, 4, 4, 10, 6, 4, 3, 11, 13, 2, 7, 9, 1, 11, 9, 11, 4, 9, 11], \"Freq\": [0.9785640523688665, 0.9684715792904686, 0.7920725426250954, 0.19801813565627385, 0.9906442473305578, 0.969572946379799, 0.9809718345614077, 0.9586440116438956, 0.9842470174140154, 0.9750144585549374, 0.9873621537272206, 0.28759949358735565, 0.6858141770160019, 0.9954204091818023, 0.9553133047665601, 0.9969444439925518, 0.2757046065343891, 0.6892615163359728, 0.9677914976780103, 0.9866131095152507, 0.9883377832539424, 0.9733003878579276, 0.9760113784570512, 0.9766352093565279, 0.9966712645762736, 0.9627874976427513, 0.9860961528996929, 0.9861126553501774, 0.9719102760043764, 0.9844330020791507, 0.9991980369195004, 0.2191184226982155, 0.730394742327385, 0.9898853972412502, 0.9837748140030266, 0.9827441379868065, 0.9659551455589778, 0.9882949620096032, 0.9941696366882056, 0.9780987605530542, 0.21124597464130543, 0.7745685736847866, 0.9754386633941281, 0.991816837053115, 0.9565093755975117, 0.9580273976841621, 0.9874536073275733, 0.9776762612826548, 0.9396824299651982, 0.9822541282326982, 0.9605192416006729, 0.8117779853022208, 0.16795406592459738, 0.980632392048032, 0.9600494437457643, 0.9759046253524871, 0.9921630164370396, 0.9966564096909799, 0.7353139985281791, 0.26368402862672313, 0.9521625326193206, 0.9687627388494469, 0.9848881619988274, 0.9853440891554536, 0.27292683712413446, 0.7018118668906315, 0.9807273099899825, 0.9950441859040681, 0.9780695157269952, 0.9568033092501581, 0.9651240084765941, 0.18274107719221783, 0.7918780011662773, 0.9862373686963584, 0.9716070588409766, 0.97654115943309, 0.9667917279718234, 0.9845159227762509, 0.9820093440191744, 0.9765271770075523, 0.7715649207403142, 0.21700263395821337, 0.8943474514009251, 0.9617017115486304, 0.9387337954939458, 0.9814942083318802, 0.9551201454398515, 0.9927243022628458, 0.9836010953901865, 0.988509422111915, 0.9980928059262515, 0.9704322378192002, 0.3577799153295216, 0.6342462135386974, 0.9818141093463828, 0.9698156713178979, 0.9779629430297172, 0.9878809741348596, 0.9650474211889107, 0.6895499812158836, 0.2758199924863534, 0.9245787011615086, 0.7428378827973229, 0.20259214985381535, 0.9896020989105974, 0.3614065329953796, 0.6231147120609993, 0.9912325790621807, 0.9927599445300919, 0.9574034166477358, 0.9768306951181237, 0.9713658676542649, 0.9678836109256442, 0.9574375492726973, 0.9913909160551754, 0.9422443737492743, 0.3050133997745277, 0.6862801494926873, 0.7411468105448785, 0.22458994258935713, 0.9553466116441014, 0.9673503852441233, 0.9950818147328856, 0.9954104954824871, 0.7249917145504419, 0.2416639048501473, 0.9494399725747031, 0.7864787740074072, 0.19938898495962437, 0.9806675385647593, 0.9750036145393841, 0.9695269491697113, 0.25309088045187894, 0.7411947213233598, 0.9836906431290048, 0.9978287927813078, 0.9128572598699852, 0.959171308721609, 0.9594019547207495, 0.9363647146052276, 0.963566619285067, 0.9916642766616427, 0.9757807284092512, 0.9193180382795695, 0.981223034170114, 0.9879378348369414, 0.9771992064587959, 0.7280072178971788, 0.24266907263239296, 0.9708509644594612, 0.780154145207892, 0.2072284448208463, 0.9736360872885601, 0.9877479069694675, 0.9770625940828823, 0.23748978984098398, 0.7421555932530749, 0.9738318673612544, 0.9415189617720576, 0.9946323771413043, 0.7599781542192068, 0.1899945385548017, 0.9395938047848172, 0.9904318590687414, 0.9699039368935517, 0.9843900730661973, 0.9745959330853188, 0.9674234363844372, 0.9646152387251512, 0.954695858734831, 0.9574628533410855, 0.9700515039777592, 0.3406822716829726, 0.6194223121508592, 0.18716869178663015, 0.16043030724568297, 0.6484058251179687, 0.9650230676623485, 0.9919089637232876, 0.9285788570382189, 0.9771173638204707, 0.9912212568344344, 0.9957145472362283, 0.9897631354909554, 0.9571757869882793, 0.9768967812391248, 0.9288617529034181, 0.9611603408327639, 0.9745767759003227, 0.9857310132508048, 0.9726319938005733, 0.6876140294866506, 0.29223596253182654, 0.9600701236197963, 0.9884143028376451, 0.9481799076332126, 0.9912132971728941, 0.9662883699367619, 0.9758944809715262, 0.26158673875548744, 0.6975646366812999, 0.9823196809763735, 0.007118258557799808, 0.9855530549620335, 0.9932444680538048, 0.9951529563763255, 0.9804072795084862, 0.9517598872977023, 0.12288848859154583, 0.8602194201408208, 0.991528868112494, 0.9662270434837664, 0.9864580102700992, 0.9409169797159214, 0.40470338374590675, 0.5926013833422206, 0.946790788002829, 0.9726570870506632, 0.14194443545405191, 0.8280092068153028, 0.9883006239420409, 0.25814532509706056, 0.700680168120593, 0.09487348055038697, 0.2575137329224789, 0.6370076551240268, 0.1391908591192069, 0.8351451547152413, 0.993505281440342, 0.9663473383193826, 0.9645236417962214, 0.761740937476601, 0.2132874624934483, 0.9638382183936545, 0.9804677283604802, 0.9951766485217557, 0.9791614803308774, 0.9841991785108346, 0.9855191044484477, 0.9862593079034983, 0.9829279042332616, 0.9627625979426869, 0.9943659493463104, 0.9690971375211237, 0.9787467302991134, 0.9637996599177066, 0.24732915358508914, 0.10992406826003961, 0.4946583071701783, 0.12366457679254457, 0.33834586094884384, 0.6472703426847447, 0.9509442763198233, 0.06077494885731548, 0.9289885039618223, 0.9799285397235507, 0.9529344828316939, 0.9949978769161999, 0.1122965740204983, 0.36496386556661947, 0.06316682288653029, 0.08422243051537372, 0.147389253401904, 0.07018535876281143, 0.15440778927818516, 0.9828279305445708, 0.9851919019557446, 0.9570787907893522, 0.9691157171918016, 0.9772713056106574, 0.9423999618664449, 0.7050056397056359, 0.27115601527139843, 0.974773004708885, 0.9963149699504427, 0.7665859346891618, 0.2090688912788623, 0.9632714494693243, 0.9822194305178444, 0.9928483292286371, 0.9907465608245745, 0.988879526501002, 0.9746728122965962, 0.26144741065983085, 0.7320527498475264, 0.9690103738181735, 0.9991813282488797, 0.9612710301374322, 0.9875888556743786, 0.9734293180660734, 0.9871216016904585, 0.9778563521920132, 0.8027277711170837, 0.1861397730126571, 0.9920655562777487, 0.9653644081012589, 0.9537460999929922, 0.7147971013674714, 0.20422774324784898, 0.07147971013674714, 0.9700197530054536, 0.9779074148244824, 0.9767660308737207, 0.7474508949502644, 0.1868627237375661, 0.9706521042630673, 0.9953107609253773, 0.917286822349747, 0.9945007588279128, 0.9712496759700764, 0.7922996970947771, 0.19403257888035358, 0.18756148321479194, 0.7736911182610167, 0.9836038150412395, 0.9616745161996682, 0.9423777473874545, 0.9945592650018736, 0.9990152828707197, 0.9879421167527116, 0.9633849192597331, 0.9703715018908718, 0.9778973922001862, 0.9921134005059236, 0.15831996406248727, 0.6332798562499491, 0.20355423950891222, 0.980097455882271, 0.9979082852395889, 0.9806640155244787, 0.9748309461907109, 0.9497032349121737, 0.9774363450231242, 0.6758603780935045, 0.3105304439889075, 0.9919954487378841, 0.9890261510367301, 0.9911505403486451, 0.21567791074240678, 0.7818324264412245, 0.953675110001295, 0.9933807693003558, 0.42641513959525834, 0.10660378489881459, 0.23985851602233282, 0.226533042909981, 0.9800511207669984, 0.8133740984809006, 0.1823079875905467, 0.8518083671025941, 0.13984913489744083, 0.09509140884342203, 0.5515301712918478, 0.17116453591815964, 0.17116453591815964, 0.9877655548734636, 0.9681412694757878, 0.9788446719750301, 0.9197687306542439, 0.9746871060771368, 0.9545978779977331, 0.9916335519753067, 0.9820253342477546, 0.2331012307248718, 0.14344691121530573, 0.6275802365669625, 0.9784323606098096, 0.9931221411699837, 0.9970321932672781, 0.9597926604628537, 0.9874501342590463, 0.934409276948358, 0.9722646354154679, 0.9743669762765889, 0.2395857146654439, 0.04227983199978422, 0.7046638666630702, 0.9707412075907568, 0.9678109880681749, 0.9702628805740565, 0.9939071889478616, 0.9322375904154092, 0.9877190472597307, 0.9824349207429622, 0.9932929786761157, 0.9904064604748202, 0.24424330923490822, 0.7327299277047247, 0.9311868145052149, 0.9461697709566651, 0.998149275903798, 0.9909471144267372, 0.9945954342913467, 0.9958178198705077, 0.9869539239068126, 0.9802119368092096, 0.977290965956076, 0.9527476947422878, 0.7732391889735345, 0.22230626682989116, 0.9936037469209594, 0.9591085438062119, 0.9541509883995767, 0.9733718023564925, 0.9800785348575863, 0.3117181275874709, 0.6580716026846609, 0.9912773351435366, 0.9683942751953437, 0.9790093799134165, 0.9767424845590071, 0.9405087381345411, 0.8181437714175527, 0.17224079398264266, 0.9606601104105563, 0.9777418473909483, 0.9910795215619094, 0.9795597281871773, 0.9514155406230819, 0.9906029899599094, 0.9468141017204824, 0.9912660007915475, 0.2101022836369488, 0.7791293018203518, 0.9838417120584695, 0.8052980254812357, 0.13421633758020596, 0.9849497056532496, 0.9890178647311856, 0.991279540424897, 0.9733384231950152, 0.984734736999856], \"Term\": [\"absence\", \"accord\", \"achat\", \"achat\", \"achete\", \"actualite\", \"affaire\", \"air\", \"airpod\", \"amelioration\", \"ami\", \"annee\", \"annee\", \"annonce\", \"app\", \"appareil\", \"appel\", \"appel\", \"appleevent\", \"application\", \"argent\", \"arrivee\", \"article\", \"attention\", \"autonomie\", \"avance\", \"avis\", \"baisse\", \"balle\", \"base\", \"batterie\", \"belgium\", \"belgium\", \"besoin\", \"bientot\", \"blague\", \"bleu\", \"bloc\", \"boite\", \"bonplan\", \"bord\", \"bord\", \"bouton\", \"cadeau\", \"capacite\", \"capte\", \"capteur\", \"capteur_lidar\", \"capture\", \"carte\", \"carte_sim\", \"cas\", \"cas\", \"casse\", \"cause\", \"chance\", \"change\", \"charge\", \"chargeur\", \"chargeur\", \"chaud\", \"cherche\", \"choisir\", \"choix\", \"chute\", \"chute\", \"clavier\", \"client\", \"code\", \"coloris\", \"commande\", \"commander\", \"commander\", \"commence\", \"communication\", \"compact\", \"comparaison\", \"compatible\", \"composant\", \"comprend\", \"compte\", \"compte\", \"con\", \"concurrence\", \"condition\", \"connexion\", \"cool\", \"coque\", \"coque_etui\", \"cote\", \"couleur\", \"coute\", \"cuir\", \"cuir\", \"daron\", \"date\", \"date_sortie\", \"deballage\", \"decembre\", \"decu\", \"decu\", \"defaut\", \"definition\", \"definition\", \"demande\", \"demontage\", \"demontage\", \"devoile\", \"difference\", \"dinguerie\", \"dispo\", \"doigt\", \"dolby_vision\", \"dollar\", \"dommage\", \"dossier\", \"droit\", \"droit\", \"dxomark\", \"dxomark\", \"eau\", \"ecologie\", \"ecouteur\", \"ecran\", \"encoche\", \"encoche\", \"enfant\", \"envie\", \"envie\", \"equipe\", \"esim\", \"espere\", \"etui\", \"etui\", \"etui_protection\", \"euro\", \"evolution\", \"exemple\", \"experience\", \"explose\", \"fabrication\", \"face\", \"facon\", \"faite\", \"famille\", \"femme\", \"fil\", \"fille\", \"fille\", \"film\", \"fin\", \"fin\", \"fonce\", \"fonction\", \"fonds\", \"force\", \"force\", \"free\", \"frenchnewtech\", \"gamme\", \"garantie\", \"garantie\", \"garde\", \"gars\", \"generation\", \"gnt\", \"gosse\", \"grace\", \"graphite\", \"gratuit\", \"habitude\", \"hello\", \"hesite\", \"hesite\", \"heure\", \"heure\", \"heure\", \"histoire\", \"homepod\", \"homme\", \"huawei\", \"idee\", \"igeneration\", \"image\", \"imagine\", \"impression\", \"inclu\", \"induction\", \"information\", \"innovation\", \"interet\", \"internet\", \"internet\", \"ipad\", \"iphonote\", \"jailbreak\", \"janvier\", \"jaune\", \"jeu\", \"jsp\", \"jsp\", \"keynote\", \"keynote\", \"lance\", \"lien\", \"lieu\", \"ligne\", \"limite\", \"livraison\", \"livraison\", \"livre\", \"lot\", \"mac\", \"macgeneration\", \"magsafe\", \"magsafe\", \"mail\", \"main\", \"maison\", \"maison\", \"marche\", \"marque\", \"marque\", \"matin\", \"matin\", \"matin\", \"mec\", \"mec\", \"meilleur\", \"message\", \"million\", \"min\", \"min\", \"minimum\", \"minute\", \"mise\", \"moche\", \"mode\", \"modele\", \"moment\", \"monde\", \"mort\", \"niveau\", \"nom\", \"note\", \"notification\", \"novembre\", \"novembre\", \"novembre\", \"novembre\", \"objectif\", \"objectif\", \"occasion\", \"octobre\", \"octobre\", \"oeil\", \"officiel\", \"offre\", \"oled\", \"oled\", \"oled\", \"oled\", \"oled\", \"oled\", \"oled\", \"operateur\", \"option\", \"orange\", \"ouverture\", \"pacemaker\", \"paie\", \"paiement\", \"paiement\", \"parent\", \"part\", \"partage\", \"partage\", \"partie\", \"pays\", \"peine\", \"penurie\", \"performance\", \"perso\", \"peur\", \"peur\", \"phone\", \"photo\", \"photographie\", \"piece\", \"pigeon\", \"place\", \"plaisir\", \"plan\", \"plan\", \"plutot\", \"poche\", \"poids\", \"point\", \"point\", \"point\", \"pose\", \"position\", \"possession\", \"poste\", \"poste\", \"pote\", \"pouce\", \"pratique\", \"precommande\", \"predecesseur\", \"prefere\", \"prefere\", \"presentation\", \"presentation\", \"presente_modele\", \"presse_citron\", \"prevu\", \"prise\", \"prix\", \"probleme\", \"processeur\", \"production\", \"produit\", \"promo\", \"promotion\", \"promotion\", \"promotion\", \"propose\", \"protection\", \"pub\", \"publication\", \"puce\", \"puissance\", \"qualite\", \"qualite\", \"question\", \"raison\", \"rapport\", \"recharge\", \"recharge\", \"recherche\", \"recu\", \"reduction\", \"reduction\", \"reduction\", \"reduction\", \"regarde\", \"remise\", \"remise\", \"reparation\", \"reparation\", \"reponse\", \"reponse\", \"reponse\", \"reponse\", \"reseau\", \"resolution\", \"resultat\", \"rhinoshield\", \"rumeur\", \"sac\", \"samsung\", \"serie\", \"service\", \"service\", \"service\", \"silicone\", \"site\", \"smartphone\", \"soeur\", \"soir\", \"solde\", \"sony\", \"sort\", \"sortie\", \"sortie\", \"sortie\", \"source\", \"spigen\", \"stabilisation\", \"stockage\", \"store\", \"studio\", \"succe\", \"suite\", \"super\", \"support\", \"support\", \"supporte\", \"surprise\", \"taille\", \"tech\", \"technologie\", \"telephone\", \"temps\", \"terme\", \"termine\", \"terre\", \"test\", \"test\", \"test_bluetooth\", \"tombe\", \"tour\", \"travail\", \"tweet\", \"type\", \"type\", \"utilisation\", \"valeur\", \"vena\", \"vend\", \"vendeur\", \"vendre\", \"vendre\", \"vendredi\", \"venez\", \"vente\", \"verre\", \"verre_trempe\", \"version\", \"veut\", \"video\", \"vie\", \"vie\", \"vien\", \"ville\", \"ville\", \"vitesse\", \"voi\", \"voiture\", \"vue\", \"youtube\"]}, \"R\": 30, \"lambda.step\": 0.01, \"plot.opts\": {\"xlab\": \"PC1\", \"ylab\": \"PC2\"}, \"topic.order\": [5, 8, 9, 2, 14, 11, 4, 6, 13, 3, 10, 1, 7, 12]};\n",
       "\n",
       "function LDAvis_load_lib(url, callback){\n",
       "  var s = document.createElement('script');\n",
       "  s.src = url;\n",
       "  s.async = true;\n",
       "  s.onreadystatechange = s.onload = callback;\n",
       "  s.onerror = function(){console.warn(\"failed to load library \" + url);};\n",
       "  document.getElementsByTagName(\"head\")[0].appendChild(s);\n",
       "}\n",
       "\n",
       "if(typeof(LDAvis) !== \"undefined\"){\n",
       "   // already loaded: just create the visualization\n",
       "   !function(LDAvis){\n",
       "       new LDAvis(\"#\" + \"ldavis_el48131399224683393765710797750\", ldavis_el48131399224683393765710797750_data);\n",
       "   }(LDAvis);\n",
       "}else if(typeof define === \"function\" && define.amd){\n",
       "   // require.js is available: use it to load d3/LDAvis\n",
       "   require.config({paths: {d3: \"https://cdnjs.cloudflare.com/ajax/libs/d3/3.5.5/d3.min\"}});\n",
       "   require([\"d3\"], function(d3){\n",
       "      window.d3 = d3;\n",
       "      LDAvis_load_lib(\"https://cdn.rawgit.com/bmabey/pyLDAvis/files/ldavis.v1.0.0.js\", function(){\n",
       "        new LDAvis(\"#\" + \"ldavis_el48131399224683393765710797750\", ldavis_el48131399224683393765710797750_data);\n",
       "      });\n",
       "    });\n",
       "}else{\n",
       "    // require.js not available: dynamically load d3 & LDAvis\n",
       "    LDAvis_load_lib(\"https://cdnjs.cloudflare.com/ajax/libs/d3/3.5.5/d3.min.js\", function(){\n",
       "         LDAvis_load_lib(\"https://cdn.rawgit.com/bmabey/pyLDAvis/files/ldavis.v1.0.0.js\", function(){\n",
       "                 new LDAvis(\"#\" + \"ldavis_el48131399224683393765710797750\", ldavis_el48131399224683393765710797750_data);\n",
       "            })\n",
       "         });\n",
       "}\n",
       "</script>"
      ],
      "text/plain": [
       "PreparedData(topic_coordinates=              x         y  topics  cluster      Freq\n",
       "topic                                               \n",
       "4      0.070037 -0.005850       1        1  8.799589\n",
       "7     -0.362712  0.009498       2        1  8.763324\n",
       "8     -0.357043  0.003696       3        1  8.345373\n",
       "1     -0.027717 -0.117627       4        1  7.988149\n",
       "13     0.101477 -0.059054       5        1  7.577496\n",
       "10     0.065120  0.278739       6        1  7.356285\n",
       "3      0.047371  0.000755       7        1  7.092985\n",
       "5      0.058385 -0.155092       8        1  7.012042\n",
       "12     0.060582 -0.174059       9        1  6.568562\n",
       "2      0.044338  0.269317      10        1  6.503238\n",
       "9      0.070270  0.114551      11        1  6.235364\n",
       "0      0.079062 -0.107173      12        1  6.227572\n",
       "6      0.118393 -0.003793      13        1  5.991312\n",
       "11     0.032437 -0.053908      14        1  5.538710, topic_info=           Term         Freq        Total Category  logprob  loglift\n",
       "9          prix  1334.000000  1334.000000  Default  30.0000  30.0000\n",
       "24        photo  1167.000000  1167.000000  Default  29.0000  29.0000\n",
       "4      chargeur  1399.000000  1399.000000  Default  28.0000  28.0000\n",
       "25     batterie   957.000000   957.000000  Default  27.0000  27.0000\n",
       "52   protection   490.000000   490.000000  Default  26.0000  26.0000\n",
       "..          ...          ...          ...      ...      ...      ...\n",
       "135    objectif    43.635948    67.977779  Topic14  -3.5250   2.4501\n",
       "139     encoche     6.892900    28.965848  Topic14  -5.3704   1.4578\n",
       "110      vendre     7.773031    46.446604  Topic14  -5.2503   1.1058\n",
       "44         oled    21.708352   142.479859  Topic14  -4.2232   1.0119\n",
       "90     novembre     9.362236    72.777510  Topic14  -5.0642   0.8427\n",
       "\n",
       "[501 rows x 6 columns], token_table=      Topic      Freq     Term\n",
       "term                          \n",
       "327       3  0.978564  absence\n",
       "275      14  0.968472   accord\n",
       "1         8  0.792073    achat\n",
       "1        12  0.198018    achat\n",
       "205       7  0.990644   achete\n",
       "...     ...       ...      ...\n",
       "94        9  0.984950  vitesse\n",
       "239      11  0.989018      voi\n",
       "197       4  0.991280  voiture\n",
       "191       9  0.973338      vue\n",
       "100      11  0.984735  youtube\n",
       "\n",
       "[432 rows x 3 columns], R=30, lambda_step=0.01, plot_opts={'xlab': 'PC1', 'ylab': 'PC2'}, topic_order=[5, 8, 9, 2, 14, 11, 4, 6, 13, 3, 10, 1, 7, 12])"
      ]
     },
     "execution_count": 47,
     "metadata": {},
     "output_type": "execute_result"
    }
   ],
   "source": [
    "# Visualize the topics\n",
    "pyLDAvis.enable_notebook()\n",
    "vis = pyLDAvis.gensim.prepare(ldamodel, corpus, id2word)\n",
    "vis"
   ]
  },
  {
   "cell_type": "markdown",
   "metadata": {},
   "source": [
    "# Dominant Topics for Each Document\n"
   ]
  },
  {
   "cell_type": "code",
   "execution_count": 44,
   "metadata": {},
   "outputs": [
    {
     "name": "stderr",
     "output_type": "stream",
     "text": [
      "/anaconda/envs/pfe-env/lib/python3.8/site-packages/ipykernel/ipkernel.py:287: DeprecationWarning: `should_run_async` will not call `transform_cell` automatically in the future. Please pass the result to `transformed_cell` argument and any exception that happen during thetransform in `preprocessing_exc_tuple` in IPython 7.17 and above.\n",
      "  and should_run_async(code)\n"
     ]
    },
    {
     "data": {
      "text/html": [
       "<div>\n",
       "<style scoped>\n",
       "    .dataframe tbody tr th:only-of-type {\n",
       "        vertical-align: middle;\n",
       "    }\n",
       "\n",
       "    .dataframe tbody tr th {\n",
       "        vertical-align: top;\n",
       "    }\n",
       "\n",
       "    .dataframe thead th {\n",
       "        text-align: right;\n",
       "    }\n",
       "</style>\n",
       "<table border=\"1\" class=\"dataframe\">\n",
       "  <thead>\n",
       "    <tr style=\"text-align: right;\">\n",
       "      <th></th>\n",
       "      <th>Tweet_id</th>\n",
       "      <th>Dominant Topic</th>\n",
       "      <th>Contribution %</th>\n",
       "      <th>Topic Terms</th>\n",
       "    </tr>\n",
       "  </thead>\n",
       "  <tbody>\n",
       "    <tr>\n",
       "      <th>0</th>\n",
       "      <td>19381</td>\n",
       "      <td>7</td>\n",
       "      <td>26.32</td>\n",
       "      <td>max, heure, modele, grace, defaut, predecesseur, place, scelle, bloc, avance, mini, iphone, message, pro, capteur, batterie, achete, test, test_bluetooth, option</td>\n",
       "    </tr>\n",
       "    <tr>\n",
       "      <th>1</th>\n",
       "      <td>6029</td>\n",
       "      <td>13</td>\n",
       "      <td>41.05</td>\n",
       "      <td>telephone, devoile, apple, offre, site, plan, voi, plutot, octobre, precommande, dommage, bonplan, dollar, dispo, moche, piece, graphite, possession, blague, mail</td>\n",
       "    </tr>\n",
       "    <tr>\n",
       "      <th>2</th>\n",
       "      <td>53240</td>\n",
       "      <td>15</td>\n",
       "      <td>52.63</td>\n",
       "      <td>taille, mini, video, demande, achete, protection, mode, envie, point, coque_etui, puissance, objectif, spigen, pro, presentation, test, composant, oeil, nom, chance</td>\n",
       "    </tr>\n",
       "    <tr>\n",
       "      <th>3</th>\n",
       "      <td>11631</td>\n",
       "      <td>17</td>\n",
       "      <td>17.56</td>\n",
       "      <td>euro, change, client, moment, prefere, coute, janvier, affaire, famille, poids, xiaomi, occasion, bleu, macgeneration, solde, absence, soeur, puce, argument, achat</td>\n",
       "    </tr>\n",
       "    <tr>\n",
       "      <th>4</th>\n",
       "      <td>2833</td>\n",
       "      <td>11</td>\n",
       "      <td>52.63</td>\n",
       "      <td>batterie, pouce, coque, temps, internet, travail, place, dinguerie, jailbreak, message, photographie, ville, date, souci, vendeur, garde, haut_parleur, amelioration, rhinoshield, mini</td>\n",
       "    </tr>\n",
       "  </tbody>\n",
       "</table>\n",
       "</div>"
      ],
      "text/plain": [
       "   Tweet_id  Dominant Topic  Contribution %  \\\n",
       "0  19381     7               26.32            \n",
       "1  6029      13              41.05            \n",
       "2  53240     15              52.63            \n",
       "3  11631     17              17.56            \n",
       "4  2833      11              52.63            \n",
       "\n",
       "                                                                                                                                                                               Topic Terms  \n",
       "0  max, heure, modele, grace, defaut, predecesseur, place, scelle, bloc, avance, mini, iphone, message, pro, capteur, batterie, achete, test, test_bluetooth, option                        \n",
       "1  telephone, devoile, apple, offre, site, plan, voi, plutot, octobre, precommande, dommage, bonplan, dollar, dispo, moche, piece, graphite, possession, blague, mail                       \n",
       "2  taille, mini, video, demande, achete, protection, mode, envie, point, coque_etui, puissance, objectif, spigen, pro, presentation, test, composant, oeil, nom, chance                     \n",
       "3  euro, change, client, moment, prefere, coute, janvier, affaire, famille, poids, xiaomi, occasion, bleu, macgeneration, solde, absence, soeur, puce, argument, achat                      \n",
       "4  batterie, pouce, coque, temps, internet, travail, place, dinguerie, jailbreak, message, photographie, ville, date, souci, vendeur, garde, haut_parleur, amelioration, rhinoshield, mini  "
      ]
     },
     "execution_count": 44,
     "metadata": {},
     "output_type": "execute_result"
    }
   ],
   "source": [
    "# create a dataframe\n",
    "corpus_topic_df = pd.DataFrame()\n",
    "\n",
    "# get the Titles from the original dataframe\n",
    "corpus_topic_df['Tweet_id'] = data_free_abrivot.index\n",
    "corpus_topic_df['Dominant Topic'] = [item[0]+1 for item in corpus_topics]\n",
    "corpus_topic_df['Contribution %'] = [round(item[1]*100, 2) for item in corpus_topics]\n",
    "corpus_topic_df['Topic Terms'] = [topics_df.iloc[t[0]]['Terms per Topic'] for t in corpus_topics]\n",
    "corpus_topic_df.head()"
   ]
  },
  {
   "cell_type": "markdown",
   "metadata": {},
   "source": [
    "We can use pandas groupby function on “Dominant Topic” column and get the document counts for each topic and its percentage in the corpus with chaining agg function."
   ]
  },
  {
   "cell_type": "code",
   "execution_count": 45,
   "metadata": {},
   "outputs": [
    {
     "name": "stderr",
     "output_type": "stream",
     "text": [
      "/anaconda/envs/pfe-env/lib/python3.8/site-packages/ipykernel/ipkernel.py:287: DeprecationWarning: `should_run_async` will not call `transform_cell` automatically in the future. Please pass the result to `transformed_cell` argument and any exception that happen during thetransform in `preprocessing_exc_tuple` in IPython 7.17 and above.\n",
      "  and should_run_async(code)\n"
     ]
    },
    {
     "data": {
      "text/html": [
       "<div>\n",
       "<style scoped>\n",
       "    .dataframe tbody tr th:only-of-type {\n",
       "        vertical-align: middle;\n",
       "    }\n",
       "\n",
       "    .dataframe tbody tr th {\n",
       "        vertical-align: top;\n",
       "    }\n",
       "\n",
       "    .dataframe thead th {\n",
       "        text-align: right;\n",
       "    }\n",
       "</style>\n",
       "<table border=\"1\" class=\"dataframe\">\n",
       "  <thead>\n",
       "    <tr style=\"text-align: right;\">\n",
       "      <th></th>\n",
       "      <th>Dominant Topic</th>\n",
       "      <th>Doc_Count</th>\n",
       "      <th>Total_Docs_Perc</th>\n",
       "    </tr>\n",
       "  </thead>\n",
       "  <tbody>\n",
       "    <tr>\n",
       "      <th>0</th>\n",
       "      <td>1</td>\n",
       "      <td>3132</td>\n",
       "      <td>17.22</td>\n",
       "    </tr>\n",
       "    <tr>\n",
       "      <th>1</th>\n",
       "      <td>2</td>\n",
       "      <td>714</td>\n",
       "      <td>3.93</td>\n",
       "    </tr>\n",
       "    <tr>\n",
       "      <th>2</th>\n",
       "      <td>3</td>\n",
       "      <td>1363</td>\n",
       "      <td>7.50</td>\n",
       "    </tr>\n",
       "    <tr>\n",
       "      <th>3</th>\n",
       "      <td>4</td>\n",
       "      <td>1205</td>\n",
       "      <td>6.63</td>\n",
       "    </tr>\n",
       "    <tr>\n",
       "      <th>4</th>\n",
       "      <td>5</td>\n",
       "      <td>1314</td>\n",
       "      <td>7.23</td>\n",
       "    </tr>\n",
       "    <tr>\n",
       "      <th>5</th>\n",
       "      <td>6</td>\n",
       "      <td>1168</td>\n",
       "      <td>6.42</td>\n",
       "    </tr>\n",
       "    <tr>\n",
       "      <th>6</th>\n",
       "      <td>7</td>\n",
       "      <td>1987</td>\n",
       "      <td>10.93</td>\n",
       "    </tr>\n",
       "    <tr>\n",
       "      <th>7</th>\n",
       "      <td>8</td>\n",
       "      <td>432</td>\n",
       "      <td>2.38</td>\n",
       "    </tr>\n",
       "    <tr>\n",
       "      <th>8</th>\n",
       "      <td>9</td>\n",
       "      <td>391</td>\n",
       "      <td>2.15</td>\n",
       "    </tr>\n",
       "    <tr>\n",
       "      <th>9</th>\n",
       "      <td>10</td>\n",
       "      <td>400</td>\n",
       "      <td>2.20</td>\n",
       "    </tr>\n",
       "    <tr>\n",
       "      <th>10</th>\n",
       "      <td>11</td>\n",
       "      <td>942</td>\n",
       "      <td>5.18</td>\n",
       "    </tr>\n",
       "    <tr>\n",
       "      <th>11</th>\n",
       "      <td>12</td>\n",
       "      <td>411</td>\n",
       "      <td>2.26</td>\n",
       "    </tr>\n",
       "    <tr>\n",
       "      <th>12</th>\n",
       "      <td>13</td>\n",
       "      <td>663</td>\n",
       "      <td>3.65</td>\n",
       "    </tr>\n",
       "    <tr>\n",
       "      <th>13</th>\n",
       "      <td>14</td>\n",
       "      <td>614</td>\n",
       "      <td>3.38</td>\n",
       "    </tr>\n",
       "    <tr>\n",
       "      <th>14</th>\n",
       "      <td>15</td>\n",
       "      <td>690</td>\n",
       "      <td>3.79</td>\n",
       "    </tr>\n",
       "    <tr>\n",
       "      <th>15</th>\n",
       "      <td>16</td>\n",
       "      <td>882</td>\n",
       "      <td>4.85</td>\n",
       "    </tr>\n",
       "    <tr>\n",
       "      <th>16</th>\n",
       "      <td>17</td>\n",
       "      <td>470</td>\n",
       "      <td>2.58</td>\n",
       "    </tr>\n",
       "    <tr>\n",
       "      <th>17</th>\n",
       "      <td>18</td>\n",
       "      <td>348</td>\n",
       "      <td>1.91</td>\n",
       "    </tr>\n",
       "    <tr>\n",
       "      <th>18</th>\n",
       "      <td>19</td>\n",
       "      <td>1059</td>\n",
       "      <td>5.82</td>\n",
       "    </tr>\n",
       "  </tbody>\n",
       "</table>\n",
       "</div>"
      ],
      "text/plain": [
       "    Dominant Topic  Doc_Count  Total_Docs_Perc\n",
       "0   1               3132       17.22          \n",
       "1   2               714        3.93           \n",
       "2   3               1363       7.50           \n",
       "3   4               1205       6.63           \n",
       "4   5               1314       7.23           \n",
       "5   6               1168       6.42           \n",
       "6   7               1987       10.93          \n",
       "7   8               432        2.38           \n",
       "8   9               391        2.15           \n",
       "9   10              400        2.20           \n",
       "10  11              942        5.18           \n",
       "11  12              411        2.26           \n",
       "12  13              663        3.65           \n",
       "13  14              614        3.38           \n",
       "14  15              690        3.79           \n",
       "15  16              882        4.85           \n",
       "16  17              470        2.58           \n",
       "17  18              348        1.91           \n",
       "18  19              1059       5.82           "
      ]
     },
     "execution_count": 45,
     "metadata": {},
     "output_type": "execute_result"
    }
   ],
   "source": [
    "# Documents distribution ovec topics\n",
    "\n",
    "dominant_topic_df = corpus_topic_df.groupby('Dominant Topic').agg(\n",
    "                                  Doc_Count = ('Dominant Topic', np.size),\n",
    "                                  Total_Docs_Perc = ('Dominant Topic', np.size)).reset_index()\n",
    "\n",
    "dominant_topic_df['Total_Docs_Perc'] = dominant_topic_df['Total_Docs_Perc'].apply(lambda row: round((row*100) / len(corpus), 2))\n",
    "\n",
    "dominant_topic_df"
   ]
  },
  {
   "cell_type": "code",
   "execution_count": 46,
   "metadata": {
    "scrolled": true
   },
   "outputs": [
    {
     "name": "stderr",
     "output_type": "stream",
     "text": [
      "/anaconda/envs/pfe-env/lib/python3.8/site-packages/ipykernel/ipkernel.py:287: DeprecationWarning: `should_run_async` will not call `transform_cell` automatically in the future. Please pass the result to `transformed_cell` argument and any exception that happen during thetransform in `preprocessing_exc_tuple` in IPython 7.17 and above.\n",
      "  and should_run_async(code)\n"
     ]
    },
    {
     "data": {
      "text/html": [
       "<div>\n",
       "<style scoped>\n",
       "    .dataframe tbody tr th:only-of-type {\n",
       "        vertical-align: middle;\n",
       "    }\n",
       "\n",
       "    .dataframe tbody tr th {\n",
       "        vertical-align: top;\n",
       "    }\n",
       "\n",
       "    .dataframe thead th {\n",
       "        text-align: right;\n",
       "    }\n",
       "</style>\n",
       "<table border=\"1\" class=\"dataframe\">\n",
       "  <thead>\n",
       "    <tr style=\"text-align: right;\">\n",
       "      <th></th>\n",
       "      <th>Tweet_id</th>\n",
       "      <th>Dominant Topic</th>\n",
       "      <th>Contribution %</th>\n",
       "      <th>Topic Terms</th>\n",
       "    </tr>\n",
       "  </thead>\n",
       "  <tbody>\n",
       "    <tr>\n",
       "      <th>0</th>\n",
       "      <td>63883</td>\n",
       "      <td>1</td>\n",
       "      <td>76.32</td>\n",
       "      <td>samsung, compte, besoin, meilleur, qualite, super, attention, plaisir, information, mec, cherche, jeu, decembre, processeur, experience, resultat, gratuit, filme, induction, completement</td>\n",
       "    </tr>\n",
       "    <tr>\n",
       "      <th>1</th>\n",
       "      <td>22934</td>\n",
       "      <td>2</td>\n",
       "      <td>84.21</td>\n",
       "      <td>chargeur, charge, ecouteur, lieu, gars, choisir, magsafe, serie, hesite, commence, perso, fil, livraison, carte, comprend, orange, comparaison, gosse, vend, vitesse</td>\n",
       "    </tr>\n",
       "    <tr>\n",
       "      <th>2</th>\n",
       "      <td>58042</td>\n",
       "      <td>3</td>\n",
       "      <td>76.32</td>\n",
       "      <td>prix, difference, lien, reseau, lance, article, choix, regarde, novembre, baisse, bug, homme, bord, presse_citron, vendeur, iphone, experience, rapport, dinguerie, internet</td>\n",
       "    </tr>\n",
       "    <tr>\n",
       "      <th>3</th>\n",
       "      <td>60112</td>\n",
       "      <td>4</td>\n",
       "      <td>81.05</td>\n",
       "      <td>apple, couleur, magsafe, igeneration, fin, generation, iphon, application, connexion, ami, gagnez, app, vente, compatible, pays, annonce, store, lance, dolby_vision, modele</td>\n",
       "    </tr>\n",
       "    <tr>\n",
       "      <th>4</th>\n",
       "      <td>47572</td>\n",
       "      <td>5</td>\n",
       "      <td>76.32</td>\n",
       "      <td>iphone, mise, homepod, recharge, utilisation, bientot, annonce, carte_sim, pote, rouge, capture, jsp, chaud, heure, avance, mini, avis, pro, produit, gamme</td>\n",
       "    </tr>\n",
       "    <tr>\n",
       "      <th>5</th>\n",
       "      <td>43699</td>\n",
       "      <td>6</td>\n",
       "      <td>81.05</td>\n",
       "      <td>pro, smartphone, test, test_bluetooth, vente, avis, stockage, image, youtube, dxomark, fonction, rumeur, equipe, note, hello, capacite, encoche, octobre, belgium, monde</td>\n",
       "    </tr>\n",
       "    <tr>\n",
       "      <th>6</th>\n",
       "      <td>29272</td>\n",
       "      <td>7</td>\n",
       "      <td>76.32</td>\n",
       "      <td>max, heure, modele, grace, defaut, predecesseur, place, scelle, bloc, avance, mini, iphone, message, pro, capteur, batterie, achete, test, test_bluetooth, option</td>\n",
       "    </tr>\n",
       "    <tr>\n",
       "      <th>7</th>\n",
       "      <td>25964</td>\n",
       "      <td>8</td>\n",
       "      <td>81.05</td>\n",
       "      <td>question, version, vie, promo, reduction, operateur, cuir, etui_protection, iphonote, ipad, production, main, tombe, mort, remise, ligne, code, profite, prevu, dossier</td>\n",
       "    </tr>\n",
       "    <tr>\n",
       "      <th>8</th>\n",
       "      <td>29895</td>\n",
       "      <td>9</td>\n",
       "      <td>76.32</td>\n",
       "      <td>recu, technologie, capteur, tech, probleme, performance, fonds, chute, femme, cause, fille, terme, annee, baisse, vena, innovation, silicone, pose, position, facon</td>\n",
       "    </tr>\n",
       "    <tr>\n",
       "      <th>9</th>\n",
       "      <td>37655</td>\n",
       "      <td>10</td>\n",
       "      <td>68.42</td>\n",
       "      <td>niveau, part, face, soir, cadeau, gnt, matin, peine, penurie, casse, vendre, parent, clavier, veut, explose, condition, bouton, force, rhinoshield, promotion</td>\n",
       "    </tr>\n",
       "    <tr>\n",
       "      <th>10</th>\n",
       "      <td>8849</td>\n",
       "      <td>11</td>\n",
       "      <td>76.32</td>\n",
       "      <td>batterie, pouce, coque, temps, internet, travail, place, dinguerie, jailbreak, message, photographie, ville, date, souci, vendeur, garde, haut_parleur, amelioration, rhinoshield, mini</td>\n",
       "    </tr>\n",
       "    <tr>\n",
       "      <th>11</th>\n",
       "      <td>3552</td>\n",
       "      <td>12</td>\n",
       "      <td>81.05</td>\n",
       "      <td>ecran, oled, vien, livre, succe, raison, sort, peur, vue, novembre, vendredi, jaune, huawei, smartphone, date_sortie, trouve, officiel, terre, faite, imagine</td>\n",
       "    </tr>\n",
       "    <tr>\n",
       "      <th>12</th>\n",
       "      <td>24763</td>\n",
       "      <td>13</td>\n",
       "      <td>76.32</td>\n",
       "      <td>telephone, devoile, apple, offre, site, plan, voi, plutot, octobre, precommande, dommage, bonplan, dollar, dispo, moche, piece, graphite, possession, blague, mail</td>\n",
       "    </tr>\n",
       "    <tr>\n",
       "      <th>13</th>\n",
       "      <td>26515</td>\n",
       "      <td>14</td>\n",
       "      <td>76.32</td>\n",
       "      <td>protection, test_bluetooth, marche, argent, voiture, commander, service, idee, minute, coloris, espere, histoire, compact, free, million, maison, paie, cool, valeur, enfant</td>\n",
       "    </tr>\n",
       "    <tr>\n",
       "      <th>14</th>\n",
       "      <td>21151</td>\n",
       "      <td>15</td>\n",
       "      <td>88.16</td>\n",
       "      <td>taille, mini, video, demande, achete, protection, mode, envie, point, coque_etui, puissance, objectif, spigen, pro, presentation, test, composant, oeil, nom, chance</td>\n",
       "    </tr>\n",
       "    <tr>\n",
       "      <th>15</th>\n",
       "      <td>35415</td>\n",
       "      <td>16</td>\n",
       "      <td>76.32</td>\n",
       "      <td>mini, autonomie, appareil, sortie, reparation, demontage, gamme, impression, accord, pub, fuite, point, studio, revele, concurrence, bouygue, bloc, prix, modele, apple</td>\n",
       "    </tr>\n",
       "    <tr>\n",
       "      <th>16</th>\n",
       "      <td>52668</td>\n",
       "      <td>17</td>\n",
       "      <td>81.05</td>\n",
       "      <td>euro, change, client, moment, prefere, coute, janvier, affaire, famille, poids, xiaomi, occasion, bleu, macgeneration, solde, absence, soeur, puce, argument, achat</td>\n",
       "    </tr>\n",
       "    <tr>\n",
       "      <th>17</th>\n",
       "      <td>29060</td>\n",
       "      <td>18</td>\n",
       "      <td>81.05</td>\n",
       "      <td>keynote, rapport, cas, film, produit, mac, base, etui, balle, air, airpod, promotion, reponse, deballage, surprise, exemple, verre, notification, supporte, support</td>\n",
       "    </tr>\n",
       "    <tr>\n",
       "      <th>18</th>\n",
       "      <td>23256</td>\n",
       "      <td>19</td>\n",
       "      <td>76.32</td>\n",
       "      <td>photo, cote, prise, boite, suite, option, venez, daron, commande, qualite, source, capte, gauche, arrivee, decu, place, classement, partie, partage, amelioration</td>\n",
       "    </tr>\n",
       "  </tbody>\n",
       "</table>\n",
       "</div>"
      ],
      "text/plain": [
       "    Tweet_id  Dominant Topic  Contribution %  \\\n",
       "0   63883     1               76.32            \n",
       "1   22934     2               84.21            \n",
       "2   58042     3               76.32            \n",
       "3   60112     4               81.05            \n",
       "4   47572     5               76.32            \n",
       "5   43699     6               81.05            \n",
       "6   29272     7               76.32            \n",
       "7   25964     8               81.05            \n",
       "8   29895     9               76.32            \n",
       "9   37655     10              68.42            \n",
       "10  8849      11              76.32            \n",
       "11  3552      12              81.05            \n",
       "12  24763     13              76.32            \n",
       "13  26515     14              76.32            \n",
       "14  21151     15              88.16            \n",
       "15  35415     16              76.32            \n",
       "16  52668     17              81.05            \n",
       "17  29060     18              81.05            \n",
       "18  23256     19              76.32            \n",
       "\n",
       "                                                                                                                                                                                   Topic Terms  \n",
       "0   samsung, compte, besoin, meilleur, qualite, super, attention, plaisir, information, mec, cherche, jeu, decembre, processeur, experience, resultat, gratuit, filme, induction, completement  \n",
       "1   chargeur, charge, ecouteur, lieu, gars, choisir, magsafe, serie, hesite, commence, perso, fil, livraison, carte, comprend, orange, comparaison, gosse, vend, vitesse                        \n",
       "2   prix, difference, lien, reseau, lance, article, choix, regarde, novembre, baisse, bug, homme, bord, presse_citron, vendeur, iphone, experience, rapport, dinguerie, internet                \n",
       "3   apple, couleur, magsafe, igeneration, fin, generation, iphon, application, connexion, ami, gagnez, app, vente, compatible, pays, annonce, store, lance, dolby_vision, modele                \n",
       "4   iphone, mise, homepod, recharge, utilisation, bientot, annonce, carte_sim, pote, rouge, capture, jsp, chaud, heure, avance, mini, avis, pro, produit, gamme                                 \n",
       "5   pro, smartphone, test, test_bluetooth, vente, avis, stockage, image, youtube, dxomark, fonction, rumeur, equipe, note, hello, capacite, encoche, octobre, belgium, monde                    \n",
       "6   max, heure, modele, grace, defaut, predecesseur, place, scelle, bloc, avance, mini, iphone, message, pro, capteur, batterie, achete, test, test_bluetooth, option                           \n",
       "7   question, version, vie, promo, reduction, operateur, cuir, etui_protection, iphonote, ipad, production, main, tombe, mort, remise, ligne, code, profite, prevu, dossier                     \n",
       "8   recu, technologie, capteur, tech, probleme, performance, fonds, chute, femme, cause, fille, terme, annee, baisse, vena, innovation, silicone, pose, position, facon                         \n",
       "9   niveau, part, face, soir, cadeau, gnt, matin, peine, penurie, casse, vendre, parent, clavier, veut, explose, condition, bouton, force, rhinoshield, promotion                               \n",
       "10  batterie, pouce, coque, temps, internet, travail, place, dinguerie, jailbreak, message, photographie, ville, date, souci, vendeur, garde, haut_parleur, amelioration, rhinoshield, mini     \n",
       "11  ecran, oled, vien, livre, succe, raison, sort, peur, vue, novembre, vendredi, jaune, huawei, smartphone, date_sortie, trouve, officiel, terre, faite, imagine                               \n",
       "12  telephone, devoile, apple, offre, site, plan, voi, plutot, octobre, precommande, dommage, bonplan, dollar, dispo, moche, piece, graphite, possession, blague, mail                          \n",
       "13  protection, test_bluetooth, marche, argent, voiture, commander, service, idee, minute, coloris, espere, histoire, compact, free, million, maison, paie, cool, valeur, enfant                \n",
       "14  taille, mini, video, demande, achete, protection, mode, envie, point, coque_etui, puissance, objectif, spigen, pro, presentation, test, composant, oeil, nom, chance                        \n",
       "15  mini, autonomie, appareil, sortie, reparation, demontage, gamme, impression, accord, pub, fuite, point, studio, revele, concurrence, bouygue, bloc, prix, modele, apple                     \n",
       "16  euro, change, client, moment, prefere, coute, janvier, affaire, famille, poids, xiaomi, occasion, bleu, macgeneration, solde, absence, soeur, puce, argument, achat                         \n",
       "17  keynote, rapport, cas, film, produit, mac, base, etui, balle, air, airpod, promotion, reponse, deballage, surprise, exemple, verre, notification, supporte, support                         \n",
       "18  photo, cote, prise, boite, suite, option, venez, daron, commande, qualite, source, capte, gauche, arrivee, decu, place, classement, partie, partage, amelioration                           "
      ]
     },
     "execution_count": 46,
     "metadata": {},
     "output_type": "execute_result"
    }
   ],
   "source": [
    "# the most dominant document per topic\n",
    "\n",
    "corpus_topic_df.groupby('Dominant Topic').\\\n",
    "    apply(lambda topic_set: (topic_set.sort_values(by=['Contribution %'], ascending=False).iloc[0])).reset_index(drop=True)"
   ]
  },
  {
   "cell_type": "markdown",
   "metadata": {},
   "source": [
    "# Hyper parameter tuning"
   ]
  },
  {
   "cell_type": "markdown",
   "metadata": {},
   "source": [
    "### Dirichlet hyperparameter alpha: Document-Topic Density\n",
    "### Dirichlet hyperparameter beta: Word-Topic Density"
   ]
  },
  {
   "cell_type": "code",
   "execution_count": 136,
   "metadata": {},
   "outputs": [
    {
     "name": "stderr",
     "output_type": "stream",
     "text": [
      "/anaconda/envs/pfe-env/lib/python3.8/site-packages/ipykernel/ipkernel.py:287: DeprecationWarning: `should_run_async` will not call `transform_cell` automatically in the future. Please pass the result to `transformed_cell` argument and any exception that happen during thetransform in `preprocessing_exc_tuple` in IPython 7.17 and above.\n",
      "  and should_run_async(code)\n"
     ]
    }
   ],
   "source": [
    "# supporting function\n",
    "def compute_coherence_values(corpus, dictionary, k, a, b):\n",
    "    \n",
    "    lda_model = LdaMulticore(corpus=corpus,\n",
    "                            id2word=id2word,\n",
    "                            num_topics=ideal_topic_num,\n",
    "                            random_state=100,\n",
    "                            chunksize=2000,\n",
    "                            passes=25,\n",
    "                            iterations=70,\n",
    "                            decay=0.5,                            \n",
    "                            alpha=a,\n",
    "                            eta=b\n",
    "                            )\n",
    "    \n",
    "    coherence_model_lda = CoherenceModel(model=lda_model, texts=data_ready, dictionary=id2word, coherence='c_v')\n",
    "    \n",
    "    return coherence_model_lda.get_coherence()"
   ]
  },
  {
   "cell_type": "code",
   "execution_count": 112,
   "metadata": {},
   "outputs": [
    {
     "name": "stderr",
     "output_type": "stream",
     "text": [
      "/anaconda/envs/pfe-env/lib/python3.8/site-packages/ipykernel/ipkernel.py:287: DeprecationWarning: `should_run_async` will not call `transform_cell` automatically in the future. Please pass the result to `transformed_cell` argument and any exception that happen during thetransform in `preprocessing_exc_tuple` in IPython 7.17 and above.\n",
      "  and should_run_async(code)\n"
     ]
    }
   ],
   "source": [
    "# Alpha parameter\n",
    "alpha = list(np.arange(0.01, 1, 0.3))\n",
    "alpha.append('symmetric')\n",
    "alpha.append('asymmetric')\n",
    "\n",
    "# Beta parameter\n",
    "beta = list(np.arange(0.01, 1, 0.3))\n",
    "beta.append('symmetric')\n",
    "\n",
    "model_results = {'Topics': [],\n",
    "                 'Alpha': [],\n",
    "                 'Beta': [],\n",
    "                 'Coherence': []\n",
    "                }"
   ]
  },
  {
   "cell_type": "code",
   "execution_count": 114,
   "metadata": {
    "scrolled": true
   },
   "outputs": [
    {
     "name": "stderr",
     "output_type": "stream",
     "text": [
      "/anaconda/envs/pfe-env/lib/python3.8/site-packages/ipykernel/ipkernel.py:287: DeprecationWarning: `should_run_async` will not call `transform_cell` automatically in the future. Please pass the result to `transformed_cell` argument and any exception that happen during thetransform in `preprocessing_exc_tuple` in IPython 7.17 and above.\n",
      "  and should_run_async(code)\n",
      "\n",
      "  0%|          | 0/6 [00:00<?, ?it/s]\n",
      "\n",
      "  0%|          | 0/5 [00:00<?, ?it/s]\n",
      "\n",
      " 20%|██        | 1/5 [00:31<02:04, 31.19s/it]\n",
      "\n",
      " 40%|████      | 2/5 [01:02<01:34, 31.52s/it]\n",
      "\n",
      " 60%|██████    | 3/5 [01:35<01:04, 32.02s/it]\n",
      "\n",
      " 80%|████████  | 4/5 [02:08<00:32, 32.31s/it]\n",
      "\n",
      "100%|██████████| 5/5 [02:39<00:00, 31.89s/it]\n",
      "\n",
      " 17%|█▋        | 1/6 [02:39<13:17, 159.44s/it]\n",
      "\n",
      "  0%|          | 0/5 [00:00<?, ?it/s]\n",
      "\n",
      " 20%|██        | 1/5 [00:30<02:00, 30.20s/it]\n",
      "\n",
      " 40%|████      | 2/5 [01:01<01:33, 31.01s/it]\n",
      "\n",
      " 60%|██████    | 3/5 [01:34<01:03, 31.57s/it]\n",
      "\n",
      " 80%|████████  | 4/5 [02:07<00:32, 32.37s/it]\n",
      "\n",
      "100%|██████████| 5/5 [02:38<00:00, 31.66s/it]\n",
      "\n",
      " 33%|███▎      | 2/6 [05:17<10:35, 158.76s/it]\n",
      "\n",
      "  0%|          | 0/5 [00:00<?, ?it/s]\n",
      "\n",
      " 20%|██        | 1/5 [00:30<02:03, 30.78s/it]\n",
      "\n",
      " 40%|████      | 2/5 [01:02<01:34, 31.44s/it]\n",
      "\n",
      " 60%|██████    | 3/5 [01:35<01:04, 32.06s/it]\n",
      "\n",
      " 80%|████████  | 4/5 [02:08<00:32, 32.47s/it]\n",
      "\n",
      "100%|██████████| 5/5 [02:40<00:00, 32.01s/it]\n",
      "\n",
      " 50%|█████     | 3/6 [07:57<07:58, 159.35s/it]\n",
      "\n",
      "  0%|          | 0/5 [00:00<?, ?it/s]\n",
      "\n",
      " 20%|██        | 1/5 [00:31<02:07, 31.88s/it]\n",
      "\n",
      " 40%|████      | 2/5 [01:06<01:39, 33.25s/it]\n",
      "\n",
      " 60%|██████    | 3/5 [01:43<01:10, 35.36s/it]\n",
      "\n",
      " 80%|████████  | 4/5 [02:23<00:37, 37.04s/it]\n",
      "\n",
      "100%|██████████| 5/5 [03:02<00:00, 36.50s/it]\n",
      "\n",
      " 67%|██████▋   | 4/6 [11:00<05:36, 168.50s/it]\n",
      "\n",
      "  0%|          | 0/5 [00:00<?, ?it/s]\n",
      "\n",
      " 20%|██        | 1/5 [00:33<02:13, 33.43s/it]\n",
      "\n",
      " 40%|████      | 2/5 [01:07<01:40, 33.52s/it]\n",
      "\n",
      " 60%|██████    | 3/5 [01:40<01:06, 33.40s/it]\n",
      "\n",
      " 80%|████████  | 4/5 [02:13<00:33, 33.18s/it]\n",
      "\n",
      "100%|██████████| 5/5 [02:45<00:00, 33.03s/it]\n",
      "\n",
      " 83%|████████▎ | 5/6 [13:45<02:47, 167.28s/it]\n",
      "\n",
      "  0%|          | 0/5 [00:00<?, ?it/s]\n",
      "\n",
      " 20%|██        | 1/5 [00:31<02:04, 31.07s/it]\n",
      "\n",
      " 40%|████      | 2/5 [01:02<01:33, 31.06s/it]\n",
      "\n",
      " 60%|██████    | 3/5 [01:34<01:02, 31.49s/it]\n",
      "\n",
      " 80%|████████  | 4/5 [02:06<00:31, 31.73s/it]\n",
      "\n",
      "100%|██████████| 5/5 [02:36<00:00, 31.30s/it]\n",
      "\n",
      "100%|██████████| 6/6 [16:21<00:00, 163.66s/it]\n"
     ]
    }
   ],
   "source": [
    "for a in tqdm(alpha):\n",
    "    # iterare through beta values\n",
    "    for b in tqdm(beta):\n",
    "        # get the coherence score for the given parameters\n",
    "        cv = compute_coherence_values(corpus=corpus, dictionary=id2word, \n",
    "                                      k=ideal_topic_num, a=a, b=b)\n",
    "        # Save the model results\n",
    "        model_results['Topics'].append(ideal_topic_num)\n",
    "        model_results['Alpha'].append(a)\n",
    "        model_results['Beta'].append(b)\n",
    "        model_results['Coherence'].append(cv)\n",
    "\n",
    "model_results_df = pd.DataFrame(model_results)\n",
    "model_results_df.to_csv('../output/lda_tuning_results.csv', index=False)"
   ]
  },
  {
   "cell_type": "code",
   "execution_count": 118,
   "metadata": {},
   "outputs": [
    {
     "name": "stderr",
     "output_type": "stream",
     "text": [
      "/anaconda/envs/pfe-env/lib/python3.8/site-packages/ipykernel/ipkernel.py:287: DeprecationWarning: `should_run_async` will not call `transform_cell` automatically in the future. Please pass the result to `transformed_cell` argument and any exception that happen during thetransform in `preprocessing_exc_tuple` in IPython 7.17 and above.\n",
      "  and should_run_async(code)\n"
     ]
    },
    {
     "data": {
      "text/plain": [
       "Topics              14\n",
       "Alpha        symmetric\n",
       "Beta              0.01\n",
       "Coherence     0.655571\n",
       "Name: 20, dtype: object"
      ]
     },
     "execution_count": 118,
     "metadata": {},
     "output_type": "execute_result"
    }
   ],
   "source": [
    "model_results_df.iloc[model_results_df['Coherence'].argmax()]"
   ]
  },
  {
   "cell_type": "code",
   "execution_count": 119,
   "metadata": {
    "scrolled": true
   },
   "outputs": [
    {
     "name": "stderr",
     "output_type": "stream",
     "text": [
      "/anaconda/envs/pfe-env/lib/python3.8/site-packages/ipykernel/ipkernel.py:287: DeprecationWarning: `should_run_async` will not call `transform_cell` automatically in the future. Please pass the result to `transformed_cell` argument and any exception that happen during thetransform in `preprocessing_exc_tuple` in IPython 7.17 and above.\n",
      "  and should_run_async(code)\n"
     ]
    }
   ],
   "source": [
    "ideal_alpha = model_results_df.iloc[model_results_df['Coherence'].argmax()].Alpha\n",
    "ideal_beta = model_results_df.iloc[model_results_df['Coherence'].argmax()].Beta"
   ]
  },
  {
   "cell_type": "markdown",
   "metadata": {},
   "source": [
    "## Minimum Probabilities\n",
    "`minimum_probability` : Topics with a probability lower than this threshold will be filtered out."
   ]
  },
  {
   "cell_type": "code",
   "execution_count": 126,
   "metadata": {},
   "outputs": [
    {
     "name": "stderr",
     "output_type": "stream",
     "text": [
      "/anaconda/envs/pfe-env/lib/python3.8/site-packages/ipykernel/ipkernel.py:287: DeprecationWarning: `should_run_async` will not call `transform_cell` automatically in the future. Please pass the result to `transformed_cell` argument and any exception that happen during thetransform in `preprocessing_exc_tuple` in IPython 7.17 and above.\n",
      "  and should_run_async(code)\n"
     ]
    }
   ],
   "source": [
    "minimum_probabilities = [0.05, 0.1, 0.2, 0.3, 0.4, 0.5, 0.6]\n",
    "\n",
    "LDA_models = {}\n",
    "for min_proba in minimum_probabilities:\n",
    "    LDA_models[min_proba] = LdaMulticore(corpus=corpus,\n",
    "                                    id2word=id2word,\n",
    "                                    num_topics=ideal_topic_num,\n",
    "                                    chunksize=2000,\n",
    "                                    passes=25,\n",
    "                                    iterations=70,\n",
    "                                    decay=0.5,\n",
    "                                    random_state=100,\n",
    "                                    minimum_probability=min_proba,\n",
    "                                    alpha=ideal_alpha,\n",
    "                                    eta=ideal_beta,\n",
    "                                    )\n",
    "        "
   ]
  },
  {
   "cell_type": "code",
   "execution_count": 127,
   "metadata": {},
   "outputs": [
    {
     "name": "stderr",
     "output_type": "stream",
     "text": [
      "/anaconda/envs/pfe-env/lib/python3.8/site-packages/ipykernel/ipkernel.py:287: DeprecationWarning: `should_run_async` will not call `transform_cell` automatically in the future. Please pass the result to `transformed_cell` argument and any exception that happen during thetransform in `preprocessing_exc_tuple` in IPython 7.17 and above.\n",
      "  and should_run_async(code)\n"
     ]
    }
   ],
   "source": [
    "# calculate the coherence value with the built in gensim\n",
    "\n",
    "coherences = [CoherenceModel(model=LDA_models[min_proba], texts=data_ready,\n",
    "                             dictionary=id2word, coherence='c_v').get_coherence() for min_proba in minimum_probabilities]"
   ]
  },
  {
   "cell_type": "code",
   "execution_count": 128,
   "metadata": {},
   "outputs": [
    {
     "name": "stderr",
     "output_type": "stream",
     "text": [
      "/anaconda/envs/pfe-env/lib/python3.8/site-packages/ipykernel/ipkernel.py:287: DeprecationWarning: `should_run_async` will not call `transform_cell` automatically in the future. Please pass the result to `transformed_cell` argument and any exception that happen during thetransform in `preprocessing_exc_tuple` in IPython 7.17 and above.\n",
      "  and should_run_async(code)\n"
     ]
    },
    {
     "data": {
      "text/plain": [
       "<AxesSubplot:xlabel='minimum probabilitie', ylabel='coherence score'>"
      ]
     },
     "execution_count": 128,
     "metadata": {},
     "output_type": "execute_result"
    },
    {
     "data": {
      "image/png": "[encoded data removed]",
      "text/plain": [
       "<Figure size 432x288 with 1 Axes>"
      ]
     },
     "metadata": {},
     "output_type": "display_data"
    }
   ],
   "source": [
    "d = {'minimum probabilitie': minimum_probabilities, 'coherence score': coherences}\n",
    "proba_coherence = pd.DataFrame(d)\n",
    "\n",
    "\n",
    "fig_dims = (6, 4)\n",
    "fig, ax = plt.subplots(figsize=fig_dims)\n",
    "sns.lineplot(x='minimum probabilitie', y='coherence score', data=proba_coherence)"
   ]
  },
  {
   "cell_type": "markdown",
   "metadata": {},
   "source": [
    "Pick the model with the first higher coherence score before drop down."
   ]
  },
  {
   "cell_type": "code",
   "execution_count": 130,
   "metadata": {},
   "outputs": [
    {
     "name": "stderr",
     "output_type": "stream",
     "text": [
      "/anaconda/envs/pfe-env/lib/python3.8/site-packages/ipykernel/ipkernel.py:287: DeprecationWarning: `should_run_async` will not call `transform_cell` automatically in the future. Please pass the result to `transformed_cell` argument and any exception that happen during thetransform in `preprocessing_exc_tuple` in IPython 7.17 and above.\n",
      "  and should_run_async(code)\n"
     ]
    }
   ],
   "source": [
    "ideal_min_proba = proba_coherence.iloc[proba_coherence['coherence score'].argmax(), 0]"
   ]
  },
  {
   "cell_type": "markdown",
   "metadata": {},
   "source": [
    "# Best Model EVER!!!!"
   ]
  },
  {
   "cell_type": "code",
   "execution_count": 131,
   "metadata": {},
   "outputs": [
    {
     "name": "stderr",
     "output_type": "stream",
     "text": [
      "/anaconda/envs/pfe-env/lib/python3.8/site-packages/ipykernel/ipkernel.py:287: DeprecationWarning: `should_run_async` will not call `transform_cell` automatically in the future. Please pass the result to `transformed_cell` argument and any exception that happen during thetransform in `preprocessing_exc_tuple` in IPython 7.17 and above.\n",
      "  and should_run_async(code)\n"
     ]
    }
   ],
   "source": [
    "lda_model = LdaMulticore(corpus=corpus,\n",
    "                            id2word=id2word,\n",
    "                            num_topics=ideal_topic_num,\n",
    "                            random_state=100,\n",
    "                            chunksize=2000,\n",
    "                            passes=25,\n",
    "                            iterations=70,\n",
    "                            decay=0.5,                            \n",
    "                            alpha=ideal_alpha,\n",
    "                            eta=ideal_beta,\n",
    "                            minimum_probability=ideal_min_proba \n",
    "                            )"
   ]
  },
  {
   "cell_type": "code",
   "execution_count": 132,
   "metadata": {},
   "outputs": [
    {
     "name": "stderr",
     "output_type": "stream",
     "text": [
      "/anaconda/envs/pfe-env/lib/python3.8/site-packages/ipykernel/ipkernel.py:287: DeprecationWarning: `should_run_async` will not call `transform_cell` automatically in the future. Please pass the result to `transformed_cell` argument and any exception that happen during thetransform in `preprocessing_exc_tuple` in IPython 7.17 and above.\n",
      "  and should_run_async(code)\n"
     ]
    },
    {
     "name": "stdout",
     "output_type": "stream",
     "text": [
      "Coherence Score:  0.646316299871405\n"
     ]
    }
   ],
   "source": [
    "# Compute Coherence Score\n",
    "coherence_model_ldamodel = CoherenceModel(model=ldamodel, texts=data_ready, dictionary=id2word, coherence='c_v')\n",
    "coherence_ldamodel = coherence_model_ldamodel.get_coherence()\n",
    "print('Coherence Score: ', coherence_ldamodel)"
   ]
  },
  {
   "cell_type": "code",
   "execution_count": 133,
   "metadata": {
    "scrolled": false
   },
   "outputs": [
    {
     "name": "stderr",
     "output_type": "stream",
     "text": [
      "/anaconda/envs/pfe-env/lib/python3.8/site-packages/ipykernel/ipkernel.py:287: DeprecationWarning: `should_run_async` will not call `transform_cell` automatically in the future. Please pass the result to `transformed_cell` argument and any exception that happen during thetransform in `preprocessing_exc_tuple` in IPython 7.17 and above.\n",
      "  and should_run_async(code)\n"
     ]
    },
    {
     "data": {
      "text/html": [
       "\n",
       "<link rel=\"stylesheet\" type=\"text/css\" href=\"https://cdn.rawgit.com/bmabey/pyLDAvis/files/ldavis.v1.0.0.css\">\n",
       "\n",
       "\n",
       "<div id=\"ldavis_el48131399221652843041424216659\"></div>\n",
       "<script type=\"text/javascript\">\n",
       "\n",
       "var ldavis_el48131399221652843041424216659_data = {\"mdsDat\": {\"x\": [0.36178866086966954, -0.06888374363537275, 0.3536419000692951, 0.032935096747512514, -0.11003796405266993, -0.049047200153878354, -0.03354576497249503, -0.05393318538700508, -0.0684538385523444, -0.080632044615047, -0.07530510620897889, -0.05724019681557349, -0.12112971448174371, -0.030156898811368932], \"y\": [0.018631392164390997, -0.07257703050745791, 0.014204719263375949, -0.14177434261002464, -0.06231905373130709, 0.27269577969134895, 0.09247547078217727, -0.12293206541028931, -0.17735719165602568, 0.2586879395024661, -0.0871501021640134, 0.04231514321584809, 0.06133645772588247, -0.0962371162663719], \"topics\": [1, 2, 3, 4, 5, 6, 7, 8, 9, 10, 11, 12, 13, 14], \"cluster\": [1, 1, 1, 1, 1, 1, 1, 1, 1, 1, 1, 1, 1, 1], \"Freq\": [8.894495499556006, 8.772087757937832, 8.383963565777082, 7.953484958482614, 7.4776801741648775, 7.361335382994751, 7.187774349879629, 7.088559506051132, 6.588382448151569, 6.4091428520195155, 6.223402274989141, 6.081017088032091, 5.992831118506752, 5.585843023457009]}, \"tinfo\": {\"Term\": [\"prix\", \"photo\", \"chargeur\", \"batterie\", \"protection\", \"autonomie\", \"euro\", \"couleur\", \"appareil\", \"smartphone\", \"taille\", \"telephone\", \"ecran\", \"charge\", \"offre\", \"test_bluetooth\", \"ecouteur\", \"magsafe\", \"coque\", \"pouce\", \"devoile\", \"igeneration\", \"boite\", \"test\", \"homepod\", \"question\", \"prise\", \"difference\", \"keynote\", \"samsung\", \"charge\", \"mise\", \"mode\", \"vien\", \"operateur\", \"promo\", \"image\", \"pacemaker\", \"carte_sim\", \"free\", \"valeur\", \"sony\", \"supporte\", \"capture\", \"pratique\", \"con\", \"demande\", \"remise\", \"serie\", \"chargeur\", \"magsafe\", \"oled\", \"type\", \"belgium\", \"vie\", \"reponse\", \"rhinoshield\", \"ville\", \"definition\", \"decu\", \"recharge\", \"airpod\", \"compte\", \"base\", \"prix\", \"difference\", \"recu\", \"lien\", \"change\", \"commence\", \"code\", \"orange\", \"concurrence\", \"paie\", \"predecesseur\", \"facon\", \"position\", \"mail\", \"tour\", \"defaut\", \"ville\", \"reparation\", \"cas\", \"prefere\", \"reduction\", \"jsp\", \"novembre\", \"commander\", \"oled\", \"con\", \"belgium\", \"rhinoshield\", \"definition\", \"decu\", \"film\", \"rapport\", \"vien\", \"cherche\", \"telephone\", \"ecouteur\", \"boite\", \"lieu\", \"version\", \"reseau\", \"lance\", \"mac\", \"carte\", \"compatible\", \"absence\", \"bloc\", \"fil\", \"rumeur\", \"femme\", \"vend\", \"parent\", \"pays\", \"ecologie\", \"induction\", \"resultat\", \"jailbreak\", \"plan\", \"graphite\", \"min\", \"reponse\", \"droit\", \"chargeur\", \"support\", \"force\", \"minute\", \"novembre\", \"protection\", \"coque\", \"homepod\", \"keynote\", \"livre\", \"voiture\", \"attention\", \"produit\", \"impression\", \"film\", \"coque_etui\", \"gosse\", \"spigen\", \"cause\", \"pub\", \"histoire\", \"venez\", \"silicone\", \"connexion\", \"vendredi\", \"bleu\", \"arrivee\", \"limite\", \"inclu\", \"minimum\", \"verre_trempe\", \"source\", \"rhinoshield\", \"garantie\", \"definition\", \"magsafe\", \"objectif\", \"cuir\", \"euro\", \"test_bluetooth\", \"annonce\", \"site\", \"suite\", \"client\", \"choisir\", \"plutot\", \"information\", \"generation\", \"option\", \"dollar\", \"ipad\", \"capteur_lidar\", \"jaune\", \"dinguerie\", \"coute\", \"solde\", \"prevu\", \"capte\", \"dossier\", \"gamme\", \"point\", \"fille\", \"droit\", \"qualite\", \"marque\", \"paiement\", \"sortie\", \"reduction\", \"service\", \"heure\", \"plan\", \"batterie\", \"taille\", \"cote\", \"utilisation\", \"meilleur\", \"idee\", \"etui_protection\", \"sac\", \"dispo\", \"tombe\", \"verre\", \"condition\", \"dxomark\", \"promotion\", \"demontage\", \"min\", \"garantie\", \"decu\", \"demande\", \"heure\", \"travail\", \"oled\", \"con\", \"belgium\", \"rhinoshield\", \"ville\", \"definition\", \"evolution\", \"dossier\", \"store\", \"compte\", \"film\", \"super\", \"point\", \"internet\", \"officiel\", \"capacite\", \"matin\", \"couleur\", \"part\", \"niveau\", \"studio\", \"capteur\", \"achete\", \"presentation\", \"daron\", \"iphonote\", \"mec\", \"million\", \"moche\", \"clavier\", \"air\", \"note\", \"equipe\", \"composant\", \"surprise\", \"enfant\", \"cool\", \"termine\", \"amelioration\", \"soeur\", \"macgeneration\", \"recherche\", \"evolution\", \"travail\", \"vendre\", \"fin\", \"test\", \"vie\", \"force\", \"photo\", \"question\", \"deballage\", \"gars\", \"base\", \"main\", \"message\", \"regarde\", \"coloris\", \"compte\", \"huawei\", \"achat\", \"partage\", \"peur\", \"belgium\", \"qualite\", \"graphite\", \"reponse\", \"con\", \"rhinoshield\", \"ville\", \"definition\", \"decu\", \"evolution\", \"dossier\", \"store\", \"poste\", \"pratique\", \"source\", \"faite\", \"mec\", \"lien\", \"bleu\", \"bord\", \"prix\", \"mode\", \"keynote\", \"dxomark\", \"rapport\", \"demande\", \"tombe\", \"droit\", \"samsung\", \"avis\", \"cadeau\", \"marche\", \"vente\", \"peine\", \"plaisir\", \"puissance\", \"fonds\", \"modele\", \"vue\", \"comprend\", \"annee\", \"terme\", \"grace\", \"pigeon\", \"vitesse\", \"espere\", \"lot\", \"propose\", \"chaud\", \"exemple\", \"puce\", \"eau\", \"habitude\", \"commande\", \"dolby_vision\", \"explose\", \"octobre\", \"precommande\", \"cuir\", \"bord\", \"novembre\", \"hesite\", \"compte\", \"appareil\", \"pouce\", \"recharge\", \"place\", \"janvier\", \"succe\", \"hello\", \"production\", \"affaire\", \"sort\", \"partie\", \"nom\", \"notification\", \"presse_citron\", \"chute\", \"actualite\", \"vendeur\", \"homme\", \"terre\", \"pose\", \"frenchnewtech\", \"faite\", \"envie\", \"poste\", \"internet\", \"heure\", \"demontage\", \"dxomark\", \"fin\", \"cas\", \"oled\", \"offre\", \"igeneration\", \"besoin\", \"temps\", \"probleme\", \"raison\", \"bientot\", \"moment\", \"oeil\", \"gnt\", \"casse\", \"application\", \"cherche\", \"innovation\", \"airpod\", \"mort\", \"decembre\", \"doigt\", \"tweet\", \"poche\", \"famille\", \"resolution\", \"communication\", \"photographie\", \"occasion\", \"esim\", \"livraison\", \"maison\", \"marque\", \"appel\", \"reduction\", \"smartphone\", \"devoile\", \"soir\", \"technologie\", \"youtube\", \"tech\", \"voi\", \"penurie\", \"baisse\", \"choix\", \"comparaison\", \"appleevent\", \"publication\", \"capacite\", \"processeur\", \"fabrication\", \"monde\", \"avance\", \"gratuit\", \"poids\", \"veut\", \"phone\", \"imagine\", \"minute\", \"internet\", \"matin\", \"huawei\", \"precommande\", \"reparation\", \"oled\", \"autonomie\", \"video\", \"face\", \"argent\", \"super\", \"stockage\", \"performance\", \"vena\", \"ami\", \"chance\", \"balle\", \"perso\", \"piece\", \"officiel\", \"jeu\", \"app\", \"ouverture\", \"store\", \"sortie\", \"matin\", \"service\", \"test\", \"partage\", \"envie\", \"point\", \"con\", \"belgium\", \"rhinoshield\", \"ville\", \"definition\", \"keynote\", \"coque\", \"rapport\", \"homepod\", \"ecran\", \"prise\", \"rapport\", \"dommage\", \"fonction\", \"blague\", \"article\", \"ligne\", \"compact\", \"pote\", \"accord\", \"presente_modele\", \"stabilisation\", \"encoche\", \"date_sortie\", \"fonce\", \"interet\", \"bonplan\", \"experience\", \"date\", \"possession\", \"bouton\", \"garde\", \"etui\", \"commander\", \"support\", \"objectif\", \"vendre\", \"oled\", \"novembre\"], \"Freq\": [1338.0, 1167.0, 1404.0, 952.0, 489.0, 397.0, 428.0, 386.0, 350.0, 336.0, 337.0, 280.0, 229.0, 274.0, 220.0, 223.0, 205.0, 277.0, 192.0, 164.0, 156.0, 157.0, 177.0, 206.0, 161.0, 153.0, 131.0, 149.0, 140.0, 127.0, 273.69525266991354, 139.60744222786954, 74.71088432298015, 63.11678923696814, 60.48108027669095, 59.906061386757585, 48.86600450221353, 36.1157422970556, 34.66682720870004, 26.945949365133927, 26.063393203623146, 25.955832827891996, 19.57783649187558, 19.39218133130096, 15.500517348135766, 12.54684503482471, 76.73217466361179, 57.984763925964685, 42.37814097839451, 1036.1093264266915, 112.14754133789833, 53.24662954610863, 9.173834838951759, 3.1385563205707223, 25.84698941259373, 5.253305789463114, 0.06160366150841187, 0.06160373075709317, 0.06160373075709317, 0.06160367016449703, 0.06241876609577585, 0.06163256850481185, 0.061617502588586615, 0.06160440593173584, 1337.8895161552393, 148.63672438553158, 116.22081619149141, 93.00190639639429, 79.95725464746408, 43.81725471826877, 39.06164270104152, 28.40686944932256, 25.13574736463539, 23.540506991803337, 19.713834070950345, 19.617892316888906, 19.573164664528512, 19.187828487020436, 16.929286383458376, 16.41583846054981, 13.654877364873515, 67.42759812809109, 58.27757403579489, 49.874968989557814, 31.73532929846431, 6.405616227387551, 18.28737250865717, 15.5937957433448, 16.272589116982886, 0.06682545837773156, 0.066825338860313, 0.06682909512203948, 0.06682547118316927, 0.06682533459183376, 0.06688927214228962, 0.0668392583710972, 0.06683080678221258, 0.06682550106252391, 279.06509856920616, 204.2167170344151, 176.358492736555, 112.14056236427884, 110.6494182099578, 97.86397165157376, 78.88791905500571, 54.58692394314307, 53.81073057342358, 50.650521275683694, 49.94666183238422, 49.4456632303759, 47.97960931931671, 45.040633638403364, 42.40803798426707, 38.82672116213114, 35.84227724817388, 30.49423926003997, 28.918506395980803, 24.966536164166573, 22.46388465951096, 22.170373512915084, 68.90876565734867, 12.868471827639203, 24.55842702337179, 28.46794937610119, 7.47176248557875, 367.3909762292736, 11.152376055075875, 8.177761868457123, 14.575922202528476, 8.545778212524526, 488.55306292164084, 191.24721040645724, 160.18584996242288, 139.05194915669318, 85.69550355367075, 75.6401410068151, 60.423328989988654, 58.30111719923305, 48.13629965977443, 45.35498009394473, 41.70825313701789, 38.002512664219694, 37.24341361797845, 34.430647389840026, 33.687016059161586, 32.17807759194491, 30.725523168584235, 29.682221196385, 27.551150046638703, 27.129348653296976, 24.907181258666057, 23.68572512674076, 21.094549875245196, 17.336164479685934, 16.672721147136635, 15.852833146496707, 15.518396803009521, 13.172646205173157, 24.147701761311808, 11.24656885226519, 164.2706584499018, 23.457272159450444, 21.85362316177567, 427.8291933268198, 222.44013710503975, 125.17353601121941, 113.32998473777523, 103.19925277922675, 89.8946968103733, 81.65379660964433, 59.79666470438422, 54.703514314339536, 46.68769504028782, 37.79316257078745, 32.622273955408886, 32.53022808124055, 27.81836535478347, 27.11797799971021, 22.133358950570326, 20.78857968326459, 19.47679184215799, 19.30411267933693, 16.876685920363606, 15.043432716593905, 74.01182055064604, 70.69730466013556, 26.606222463313404, 17.93404166195612, 37.20699235665061, 7.502434100178615, 5.0784496534623065, 34.44161818701738, 17.782682386278484, 12.61729327342066, 27.897811928291983, 15.958831617882154, 951.2408937857685, 336.70700464610877, 91.58606747792798, 86.31312848594526, 82.11479711832685, 80.3002262086133, 37.46421393174112, 27.178753242416082, 26.538718525911346, 24.97340692062313, 24.432314086780153, 20.240533728538527, 33.11647846897438, 27.435223792325594, 29.126671671943786, 7.242043664601294, 6.487563437840568, 2.8219360082741094, 14.67074708070027, 23.948881872983623, 4.9597931327176115, 8.640152309679127, 0.06502908711930915, 0.0650291157753902, 0.06502908711930915, 0.06502924472775493, 0.06502918741559283, 0.06502915875951178, 0.06502908711930915, 0.06502908711930915, 0.16664910980387979, 0.0651441699408077, 0.06503006859008513, 0.06502970322505174, 0.06502959576474779, 0.06502947397640332, 0.0650294023362007, 0.06502936651609939, 385.7387778254688, 120.8659696254806, 115.10282515447399, 80.63711930887234, 79.65173486559257, 62.322990941074856, 42.62469634221214, 40.60373277465377, 39.31994157959802, 39.16840843988629, 35.160698927478286, 32.58942043242274, 32.53589495917784, 30.194133120356906, 27.522239628990288, 26.452217247689536, 25.401896681599233, 25.348181389011277, 25.25765546985851, 25.101862139419122, 24.51124641649282, 22.530327567325305, 20.82976293410968, 20.209222012675667, 19.9263410505629, 14.321324150690716, 30.394385364287462, 37.61882718658694, 63.77554585809601, 158.41776551348931, 86.94536046619059, 24.47662050312168, 1166.226520033636, 152.17725037048612, 101.2239484175237, 54.547551586050396, 53.87058271528184, 40.15033200652667, 35.24801550345114, 26.584548905800755, 26.209043176803906, 97.72774525577967, 16.9862712445311, 15.684397842878191, 21.747010394888054, 27.617355225884655, 9.680058993360058, 16.810441733742795, 3.315220374479958, 8.811693937541506, 0.06416806323792681, 0.06416805633937088, 0.06416810462926247, 0.06416804944081494, 0.0641681115278184, 0.06416804944081494, 0.064168042542259, 0.06416802184659118, 0.06416806323792681, 0.0641681115278184, 0.06416806323792681, 0.064168042542259, 0.14662430865018197, 0.06416836677438818, 0.06416835297727631, 0.06416832538305255, 0.06416827019460503, 0.06416820810760157, 0.0641682150061575, 0.0641682150061575, 0.06416824949893721, 0.06416815981770999, 0.0641681805133778, 0.06416815981770999, 126.12451125260189, 99.10897127158763, 96.56285094256526, 95.9215558263127, 93.04583236717387, 74.82277316795194, 54.01335265676937, 50.0406011743427, 48.06114400643189, 47.64093136660104, 47.24524149904534, 47.08798717005948, 41.61197989866299, 37.94119664715434, 36.43603681428632, 36.20549320939111, 34.77987645178774, 30.31145310014378, 29.407419622944815, 26.98556277953761, 26.778448763093245, 25.55797139709843, 24.793617595421466, 24.641765170288185, 19.485617576784232, 19.323698340247766, 16.23915543224196, 15.773615057713766, 104.4112607999474, 67.97527979384431, 37.81641283230148, 21.246833561366252, 34.242719405429746, 21.19683599486684, 24.732320513236505, 349.735530243778, 163.9259744642145, 118.3185247677884, 90.94730767352698, 82.34131118453215, 77.89800229247561, 44.22948902470591, 44.21458485063093, 39.570250042638655, 36.70661434578596, 35.02409692047481, 33.756022198132385, 31.831636885116716, 30.84418026436907, 25.5533070475483, 23.226188085398476, 19.638331521098483, 18.805190745125707, 18.303968831909167, 16.91027846029474, 16.36842375109726, 15.677983975007404, 72.78062362568089, 12.547045572704269, 41.08530548377497, 98.80156789678223, 51.040741286301945, 10.544584199301045, 17.386019249674916, 12.73995674548068, 21.92500610515261, 219.29532910847476, 156.54750516608485, 107.71774277022949, 97.85581020382611, 84.53017721495523, 83.42016519278747, 81.8269284910099, 73.46498015532443, 55.4817906039508, 55.22609054214457, 47.2410376103252, 44.91137865263791, 42.64337014643827, 31.6958612279905, 30.723817712818807, 30.386261257072647, 27.18734984934686, 27.004420329518446, 26.756054069722598, 25.095630128512543, 22.62607695936894, 21.90618909344624, 21.82471101825695, 21.650357240271962, 21.26223011087454, 16.590674204111387, 49.33170455070179, 35.602095357560316, 18.883608334226206, 19.851856257998023, 16.85283514392549, 335.7293284279875, 155.5879797271688, 108.94487125297387, 94.900130110514, 88.65094344817537, 87.06587613559957, 79.0344704751062, 59.446526657845766, 58.70194619640575, 47.42712472679793, 36.81681830597623, 36.777806718483085, 32.344160252564215, 29.801098642283964, 29.581549002938083, 29.575907094129363, 28.974689292934055, 28.547276825346064, 27.73500254828008, 25.63694573778084, 24.760468235286332, 18.938847056859455, 17.065707577142533, 46.10961781891394, 17.248365132331305, 18.8735227217321, 3.9328013130573733, 12.522890781780232, 10.739990027727549, 9.336636417175152, 396.68553835178443, 96.99258151935912, 90.89826223359331, 88.16966712252292, 82.93133903206824, 74.58084123693926, 68.8927549595894, 62.441287934606436, 53.792868414939015, 50.337388490056405, 46.42941512419746, 43.21490332004331, 41.62415300413829, 28.469375510994578, 26.752089832983554, 25.25346323286219, 24.880474311439198, 15.166783812314359, 100.44966198593114, 46.938453075305695, 34.60813073123825, 46.844355557177444, 6.07092218811716, 18.0275236466168, 7.3338238599333705, 0.07653824045540872, 0.07653833960277025, 0.07653919693583762, 0.07653833377057251, 0.0765383804281544, 0.25163448719725795, 0.07655696764234282, 0.07655620362443925, 0.0765388819971598, 228.28342258077978, 130.73585853946636, 107.16906195508655, 92.13427673640247, 86.45192852120012, 55.60613670152594, 53.96337608712641, 50.681962998428624, 43.77572581146977, 42.00299377545157, 39.026882851962974, 38.41235129547217, 33.84133847644678, 33.62806031948176, 33.567640600431325, 32.70208387067912, 29.677187391841525, 27.47783780945275, 25.96336472455721, 20.560553733563037, 20.407714778697713, 18.40286030214019, 18.084242864407635, 41.07088016613178, 48.02548263123415, 32.7187752773101, 43.28138518586873, 7.710512768554026, 21.3962986146535, 10.172258666740621], \"Total\": [1338.0, 1167.0, 1404.0, 952.0, 489.0, 397.0, 428.0, 386.0, 350.0, 336.0, 337.0, 280.0, 229.0, 274.0, 220.0, 223.0, 205.0, 277.0, 192.0, 164.0, 156.0, 157.0, 177.0, 206.0, 161.0, 153.0, 131.0, 149.0, 140.0, 127.0, 274.64537154977216, 140.5575612139082, 75.6610031089405, 64.066913733956, 61.43119921687812, 60.856179930135774, 49.81612340892102, 37.06586077338347, 35.616946214203, 27.896067943309685, 27.01351227374354, 26.90595197048887, 20.527955313328317, 20.342299839832265, 16.450636184346905, 13.496964187159339, 92.28801181871104, 71.37616491165339, 52.63600476329991, 1404.3781799176381, 277.30417122086146, 142.63607944482482, 28.830134467297814, 13.704565929766094, 113.669932701109, 52.54267339776437, 14.120225944096038, 14.599775289534522, 14.80765643614213, 15.217512358544226, 119.25341446351247, 31.65440021512877, 123.46428094726397, 54.81813805523792, 1338.834413509935, 149.58162162734752, 117.16571445840363, 93.94680385176397, 80.90215195119121, 44.76215207344554, 40.00653983525744, 29.35176692820838, 26.080644864162803, 24.48540429713459, 20.658730859320837, 20.5627896743839, 20.518061921938884, 20.13272604118765, 17.8741839843153, 17.360735160727568, 14.599775289534522, 79.03259802077338, 71.88478055602877, 62.02833871106106, 75.30935312486515, 22.875588171120437, 71.96173661861654, 64.47980410851325, 142.63607944482482, 13.496964187159339, 13.704565929766094, 14.120225944096038, 14.80765643614213, 15.217512358544226, 46.3027341108149, 108.09644495984128, 64.066913733956, 43.57392407453549, 280.00457750411636, 205.1561954744604, 177.29797100920476, 113.08004161840888, 111.58889711808592, 98.80344998245376, 79.82739753785212, 55.526402412822264, 54.75020907405556, 51.58999998343479, 50.886140257649274, 50.3851416510127, 48.91908765178451, 45.98011240201217, 43.347516434073846, 39.766199448662526, 36.78175611629812, 31.43371810200412, 29.857984626248246, 25.90601454490694, 23.403363065757844, 23.10985143973695, 85.7361955897105, 17.05900285231737, 32.674920341597065, 52.54267339776437, 26.27440151976285, 1404.3781799176381, 44.726258519920606, 33.52132452310214, 61.54513167461173, 71.96173661861654, 489.5006380214162, 192.19480408619953, 161.1334255774233, 140.17462271631777, 86.64307888715042, 76.58772758834134, 61.37090445723054, 59.248692651724035, 49.083874848057334, 46.3027341108149, 42.65582769484136, 38.95008763160685, 38.19098813610453, 35.37822245990034, 34.63459079204963, 33.12565298035252, 31.673098772520166, 30.629796064799997, 28.498725070685396, 28.076924407648278, 25.85475642940923, 24.63329997814715, 22.042125044286713, 18.283740210026405, 17.62029630047817, 16.800408314807104, 16.465971973610273, 14.120225944096038, 31.517811650409016, 14.80765643614213, 277.30417122086146, 67.60186067353159, 60.54293691397491, 428.7700341845235, 223.3809775566968, 126.1143776038731, 114.27082605443461, 104.14009374402758, 90.83553793950428, 82.59463729653174, 60.7375059846571, 55.64435527392431, 47.628536607255555, 38.734003664529546, 33.5631146564455, 33.47106918500234, 28.759206538983925, 28.05881873144573, 23.074200007198385, 21.72942043287076, 20.417635404652675, 20.244953467099275, 17.817526854041684, 15.984273724880449, 91.72463373888624, 97.73227843105981, 37.17899389855761, 26.27440151976285, 54.89410709907208, 27.24571517669449, 18.44812112152869, 141.98452727377858, 75.30935312486515, 55.888142143062446, 151.4464269826354, 85.7361955897105, 952.1875870598005, 337.65369792340465, 92.53276106312201, 87.25982192834897, 83.0614904638947, 81.24691917598116, 38.410906942117656, 28.125446350588863, 27.485412037604036, 25.92010032869276, 25.37900787985251, 21.187227370918244, 44.53010804595383, 44.128961619316684, 81.03645818295941, 32.674920341597065, 31.517811650409016, 15.217512358544226, 92.28801181871104, 151.4464269826354, 36.2283356748851, 142.63607944482482, 13.496964187159339, 13.704565929766094, 14.120225944096038, 14.599775289534522, 14.80765643614213, 15.260510680894935, 15.984273724880449, 16.101967707573646, 123.46428094726397, 46.3027341108149, 83.866524206262, 97.73227843105981, 59.18785865137043, 29.404559886617136, 30.732934122177703, 74.22280379029937, 386.6779637895995, 121.8051560490244, 116.04201157708233, 81.57630519918492, 80.5909212887503, 63.26217707526599, 43.56388297754436, 41.54291897921757, 40.25912784003252, 40.19665318138464, 36.09988523036649, 33.528606448268505, 33.47508103120796, 31.133319493996613, 28.461425906763576, 27.391403696038733, 26.34108282982609, 26.287367647195865, 26.196841422891183, 26.041048304497977, 25.450433808589352, 23.469514311513706, 21.768948990083434, 21.148408257770317, 20.865527414228882, 15.260510680894935, 36.2283356748851, 46.18415479309144, 82.02310403552185, 206.1247692366887, 113.669932701109, 33.52132452310214, 1167.1740744539534, 153.12480503844768, 102.1715024134101, 55.495106089655685, 54.81813805523792, 41.097886446639784, 36.19557019618825, 27.532104275021958, 27.15659735955632, 123.46428094726397, 21.786740421137196, 20.208757943115877, 28.68894852196259, 38.17886693601723, 13.704565929766094, 54.89410709907208, 17.05900285231737, 52.54267339776437, 13.496964187159339, 14.120225944096038, 14.599775289534522, 14.80765643614213, 15.217512358544226, 15.260510680894935, 15.984273724880449, 16.101967707573646, 16.305475728694624, 16.450636184346905, 16.465971973610273, 16.612058482915263, 40.19665318138464, 93.94680385176397, 25.85475642940923, 27.91843371269414, 1338.834413509935, 75.6610031089405, 140.17462271631777, 44.53010804595383, 108.09644495984128, 92.28801181871104, 25.92010032869276, 26.27440151976285, 127.06156047234408, 100.04601964705046, 97.49989912992478, 96.85860421197712, 93.98288034742266, 75.75982146318857, 54.95040090644256, 50.97764963571838, 48.99819203705409, 48.57797973942663, 48.18228966137411, 48.02503550231233, 42.549030305312925, 38.87824488906746, 37.37308497131573, 37.142541582132964, 35.716924680462434, 31.24850119084873, 30.344467655227767, 27.92261077484621, 27.715496910678922, 26.495019662597183, 25.730665945713852, 25.578813494530053, 20.422666097150667, 20.260746582151253, 17.1762040815201, 16.71066319146633, 112.70857854806624, 81.3553319557936, 60.54293691397491, 27.91843371269414, 71.96173661861654, 31.787890296272074, 123.46428094726397, 350.6696053808386, 164.86004917441238, 119.25341446351247, 91.88138236101825, 83.27538564493776, 78.83207650307041, 45.16356384370878, 45.148659341512804, 40.50432481304295, 37.640688850103025, 35.95817183542794, 34.69009672716652, 32.76571105018581, 31.77825482465679, 26.487381650322632, 24.160262392404963, 20.572413007054838, 19.739265416674485, 19.23804345994045, 17.844352866724805, 17.30249826366316, 16.612058482915263, 91.66568364720435, 16.305475728694624, 59.18785865137043, 151.4464269826354, 81.03645818295941, 44.53010804595383, 82.02310403552185, 71.88478055602877, 142.63607944482482, 220.22588279099116, 157.47805861717478, 108.64829923880178, 98.78636402596663, 85.46073072282967, 84.35071916348346, 82.7574821466607, 74.39553392353072, 56.412344540160845, 56.15664498589266, 48.171591321083625, 45.84193255920644, 43.57392407453549, 32.62641506202664, 31.65440021512877, 31.31681489790251, 28.117903781977358, 27.934973953037304, 27.68660762673406, 26.026183870667158, 23.55663094236246, 22.836742855826763, 22.75526472645054, 22.580911041318256, 22.192783872817433, 17.52122769807547, 57.05633400229208, 42.43120956410668, 27.24571517669449, 29.10987144664511, 75.30935312486515, 336.66116384782094, 156.5198149359641, 109.87670658751917, 95.83196554877391, 89.58277881000153, 87.99771157843604, 79.96630602165966, 60.378361923027676, 59.63378163540647, 48.35896010450281, 37.748653757560696, 37.70964217746726, 33.2759956454969, 30.732934122177703, 30.513384406391577, 30.507742405646972, 29.906524322567485, 29.479112214042942, 28.666838112974947, 26.56878111295915, 25.692303454327188, 19.870682443031626, 17.99754293216729, 61.54513167461173, 59.18785865137043, 74.22280379029937, 21.786740421137196, 81.3553319557936, 79.03259802077338, 142.63607944482482, 397.620722385192, 97.9277654392373, 91.83344629055297, 89.10485130913725, 83.866524206262, 75.51602556850436, 69.82793922114148, 63.37647218900769, 54.73199758453264, 51.2725732247445, 47.36459924362037, 44.15008744058289, 42.55933720300615, 29.404559886617136, 27.687273994640492, 26.188647353186262, 25.815658567629598, 16.101967707573646, 141.98452727377858, 74.22280379029937, 55.888142143062446, 206.1247692366887, 28.68894852196259, 91.66568364720435, 97.73227843105981, 13.496964187159339, 13.704565929766094, 14.120225944096038, 14.599775289534522, 14.80765643614213, 140.17462271631777, 192.19480408619953, 108.09644495984128, 161.1334255774233, 229.21077325038058, 131.66320935634312, 108.09644495984128, 93.06162730037448, 87.37927926844449, 56.53348745814599, 54.890726884381145, 51.60931396914558, 44.70307655068945, 42.930344755245535, 39.954233687537894, 39.33970162942134, 34.768689171467955, 34.55541089071385, 34.494991382832396, 33.62943471636708, 30.604538132824565, 28.405188655973593, 26.890715526868274, 21.48790440891478, 21.335065270317283, 19.330211043691847, 19.011593665430198, 54.7669774980125, 64.47980410851325, 44.726258519920606, 67.60186067353159, 46.18415479309144, 142.63607944482482, 71.96173661861654], \"Category\": [\"Default\", \"Default\", \"Default\", \"Default\", \"Default\", \"Default\", \"Default\", \"Default\", \"Default\", \"Default\", \"Default\", \"Default\", \"Default\", \"Default\", \"Default\", \"Default\", \"Default\", \"Default\", \"Default\", \"Default\", \"Default\", \"Default\", \"Default\", \"Default\", \"Default\", \"Default\", \"Default\", \"Default\", \"Default\", \"Default\", \"Topic1\", \"Topic1\", \"Topic1\", \"Topic1\", \"Topic1\", \"Topic1\", \"Topic1\", \"Topic1\", \"Topic1\", \"Topic1\", \"Topic1\", \"Topic1\", \"Topic1\", \"Topic1\", \"Topic1\", \"Topic1\", \"Topic1\", \"Topic1\", \"Topic1\", \"Topic1\", \"Topic1\", \"Topic1\", \"Topic1\", \"Topic1\", \"Topic1\", \"Topic1\", \"Topic1\", \"Topic1\", \"Topic1\", \"Topic1\", \"Topic1\", \"Topic1\", \"Topic1\", \"Topic1\", \"Topic2\", \"Topic2\", \"Topic2\", \"Topic2\", \"Topic2\", \"Topic2\", \"Topic2\", \"Topic2\", \"Topic2\", \"Topic2\", \"Topic2\", \"Topic2\", \"Topic2\", \"Topic2\", \"Topic2\", \"Topic2\", \"Topic2\", \"Topic2\", \"Topic2\", \"Topic2\", \"Topic2\", \"Topic2\", \"Topic2\", \"Topic2\", \"Topic2\", \"Topic2\", \"Topic2\", \"Topic2\", \"Topic2\", \"Topic2\", \"Topic2\", \"Topic2\", \"Topic2\", \"Topic2\", \"Topic3\", \"Topic3\", \"Topic3\", \"Topic3\", \"Topic3\", \"Topic3\", \"Topic3\", \"Topic3\", \"Topic3\", \"Topic3\", \"Topic3\", \"Topic3\", \"Topic3\", \"Topic3\", \"Topic3\", \"Topic3\", \"Topic3\", \"Topic3\", \"Topic3\", \"Topic3\", \"Topic3\", \"Topic3\", \"Topic3\", \"Topic3\", \"Topic3\", \"Topic3\", \"Topic3\", \"Topic3\", \"Topic3\", \"Topic3\", \"Topic3\", \"Topic3\", \"Topic4\", \"Topic4\", \"Topic4\", \"Topic4\", \"Topic4\", \"Topic4\", \"Topic4\", \"Topic4\", \"Topic4\", \"Topic4\", \"Topic4\", \"Topic4\", \"Topic4\", \"Topic4\", \"Topic4\", \"Topic4\", \"Topic4\", \"Topic4\", \"Topic4\", \"Topic4\", \"Topic4\", \"Topic4\", \"Topic4\", \"Topic4\", \"Topic4\", \"Topic4\", \"Topic4\", \"Topic4\", \"Topic4\", \"Topic4\", \"Topic4\", \"Topic4\", \"Topic4\", \"Topic5\", \"Topic5\", \"Topic5\", \"Topic5\", \"Topic5\", \"Topic5\", \"Topic5\", \"Topic5\", \"Topic5\", \"Topic5\", \"Topic5\", \"Topic5\", \"Topic5\", \"Topic5\", \"Topic5\", \"Topic5\", \"Topic5\", \"Topic5\", \"Topic5\", \"Topic5\", \"Topic5\", \"Topic5\", \"Topic5\", \"Topic5\", \"Topic5\", \"Topic5\", \"Topic5\", \"Topic5\", \"Topic5\", \"Topic5\", \"Topic5\", \"Topic5\", \"Topic5\", \"Topic6\", \"Topic6\", \"Topic6\", \"Topic6\", \"Topic6\", \"Topic6\", \"Topic6\", \"Topic6\", \"Topic6\", \"Topic6\", \"Topic6\", \"Topic6\", \"Topic6\", \"Topic6\", \"Topic6\", \"Topic6\", \"Topic6\", \"Topic6\", \"Topic6\", \"Topic6\", \"Topic6\", \"Topic6\", \"Topic6\", \"Topic6\", \"Topic6\", \"Topic6\", \"Topic6\", \"Topic6\", \"Topic6\", \"Topic6\", \"Topic6\", \"Topic6\", \"Topic6\", \"Topic6\", \"Topic6\", \"Topic6\", \"Topic6\", \"Topic6\", \"Topic7\", \"Topic7\", \"Topic7\", \"Topic7\", \"Topic7\", \"Topic7\", \"Topic7\", \"Topic7\", \"Topic7\", \"Topic7\", \"Topic7\", \"Topic7\", \"Topic7\", \"Topic7\", \"Topic7\", \"Topic7\", \"Topic7\", \"Topic7\", \"Topic7\", \"Topic7\", \"Topic7\", \"Topic7\", \"Topic7\", \"Topic7\", \"Topic7\", \"Topic7\", \"Topic7\", \"Topic7\", \"Topic7\", \"Topic7\", \"Topic7\", \"Topic7\", \"Topic8\", \"Topic8\", \"Topic8\", \"Topic8\", \"Topic8\", \"Topic8\", \"Topic8\", \"Topic8\", \"Topic8\", \"Topic8\", \"Topic8\", \"Topic8\", \"Topic8\", \"Topic8\", \"Topic8\", \"Topic8\", \"Topic8\", \"Topic8\", \"Topic8\", \"Topic8\", \"Topic8\", \"Topic8\", \"Topic8\", \"Topic8\", \"Topic8\", \"Topic8\", \"Topic8\", \"Topic8\", \"Topic8\", \"Topic8\", \"Topic8\", \"Topic8\", \"Topic8\", \"Topic8\", \"Topic8\", \"Topic8\", \"Topic8\", \"Topic8\", \"Topic8\", \"Topic8\", \"Topic8\", \"Topic8\", \"Topic9\", \"Topic9\", \"Topic9\", \"Topic9\", \"Topic9\", \"Topic9\", \"Topic9\", \"Topic9\", \"Topic9\", \"Topic9\", \"Topic9\", \"Topic9\", \"Topic9\", \"Topic9\", \"Topic9\", \"Topic9\", \"Topic9\", \"Topic9\", \"Topic9\", \"Topic9\", \"Topic9\", \"Topic9\", \"Topic9\", \"Topic9\", \"Topic9\", \"Topic9\", \"Topic9\", \"Topic9\", \"Topic9\", \"Topic9\", \"Topic9\", \"Topic9\", \"Topic9\", \"Topic9\", \"Topic9\", \"Topic10\", \"Topic10\", \"Topic10\", \"Topic10\", \"Topic10\", \"Topic10\", \"Topic10\", \"Topic10\", \"Topic10\", \"Topic10\", \"Topic10\", \"Topic10\", \"Topic10\", \"Topic10\", \"Topic10\", \"Topic10\", \"Topic10\", \"Topic10\", \"Topic10\", \"Topic10\", \"Topic10\", \"Topic10\", \"Topic10\", \"Topic10\", \"Topic10\", \"Topic10\", \"Topic10\", \"Topic10\", \"Topic10\", \"Topic10\", \"Topic10\", \"Topic11\", \"Topic11\", \"Topic11\", \"Topic11\", \"Topic11\", \"Topic11\", \"Topic11\", \"Topic11\", \"Topic11\", \"Topic11\", \"Topic11\", \"Topic11\", \"Topic11\", \"Topic11\", \"Topic11\", \"Topic11\", \"Topic11\", \"Topic11\", \"Topic11\", \"Topic11\", \"Topic11\", \"Topic11\", \"Topic11\", \"Topic11\", \"Topic11\", \"Topic11\", \"Topic11\", \"Topic11\", \"Topic11\", \"Topic11\", \"Topic11\", \"Topic12\", \"Topic12\", \"Topic12\", \"Topic12\", \"Topic12\", \"Topic12\", \"Topic12\", \"Topic12\", \"Topic12\", \"Topic12\", \"Topic12\", \"Topic12\", \"Topic12\", \"Topic12\", \"Topic12\", \"Topic12\", \"Topic12\", \"Topic12\", \"Topic12\", \"Topic12\", \"Topic12\", \"Topic12\", \"Topic12\", \"Topic12\", \"Topic12\", \"Topic12\", \"Topic12\", \"Topic12\", \"Topic12\", \"Topic12\", \"Topic13\", \"Topic13\", \"Topic13\", \"Topic13\", \"Topic13\", \"Topic13\", \"Topic13\", \"Topic13\", \"Topic13\", \"Topic13\", \"Topic13\", \"Topic13\", \"Topic13\", \"Topic13\", \"Topic13\", \"Topic13\", \"Topic13\", \"Topic13\", \"Topic13\", \"Topic13\", \"Topic13\", \"Topic13\", \"Topic13\", \"Topic13\", \"Topic13\", \"Topic13\", \"Topic13\", \"Topic13\", \"Topic13\", \"Topic13\", \"Topic13\", \"Topic13\", \"Topic13\", \"Topic13\", \"Topic14\", \"Topic14\", \"Topic14\", \"Topic14\", \"Topic14\", \"Topic14\", \"Topic14\", \"Topic14\", \"Topic14\", \"Topic14\", \"Topic14\", \"Topic14\", \"Topic14\", \"Topic14\", \"Topic14\", \"Topic14\", \"Topic14\", \"Topic14\", \"Topic14\", \"Topic14\", \"Topic14\", \"Topic14\", \"Topic14\", \"Topic14\", \"Topic14\", \"Topic14\", \"Topic14\", \"Topic14\", \"Topic14\", \"Topic14\"], \"logprob\": [30.0, 29.0, 28.0, 27.0, 26.0, 25.0, 24.0, 23.0, 22.0, 21.0, 20.0, 19.0, 18.0, 17.0, 16.0, 15.0, 14.0, 13.0, 12.0, 11.0, 10.0, 9.0, 8.0, 7.0, 6.0, 5.0, 4.0, 3.0, 2.0, 1.0, -2.162600040435791, -2.8357999324798584, -3.4609999656677246, -3.6296000480651855, -3.672300100326538, -3.68179988861084, -3.885499954223633, -4.187900066375732, -4.228799819946289, -4.480800151824951, -4.514100074768066, -4.518199920654297, -4.80019998550415, -4.809700012207031, -5.033699989318848, -5.245100021362305, -3.434299945831299, -3.714400053024292, -4.0279998779296875, -0.8313999772071838, -3.054800033569336, -3.7997000217437744, -5.558199882507324, -6.630799770355225, -4.52239990234375, -6.115699768066406, -10.561599731445312, -10.561599731445312, -10.561599731445312, -10.561599731445312, -10.548500061035156, -10.561200141906738, -10.561400413513184, -10.561599731445312, -0.5619000196456909, -2.759200096130371, -3.005199909210205, -3.228100061416626, -3.379199981689453, -3.9807000160217285, -4.095600128173828, -4.414100170135498, -4.536399841308594, -4.6020002365112305, -4.779399871826172, -4.784299850463867, -4.786600112915039, -4.80649995803833, -4.931700229644775, -4.962500095367432, -5.146599769592285, -3.5497000217437744, -3.695499897003174, -3.8512001037597656, -4.303299903869629, -5.903600215911865, -4.854499816894531, -5.013899803161621, -4.971199989318848, -10.466400146484375, -10.466400146484375, -10.466300010681152, -10.466400146484375, -10.466400146484375, -10.465399742126465, -10.46619987487793, -10.466300010681152, -10.466400146484375, -2.0840001106262207, -2.3963000774383545, -2.5429999828338623, -2.995699882507324, -3.0090999603271484, -3.1319000720977783, -3.347399950027466, -3.7156999111175537, -3.7300000190734863, -3.7904999256134033, -3.804500102996826, -3.8145999908447266, -3.8447000980377197, -3.907900094985962, -3.968100070953369, -4.056399822235107, -4.136300086975098, -4.297900199890137, -4.35099983215332, -4.497900009155273, -4.603600025177002, -4.616700172424316, -3.4827001094818115, -5.160699844360352, -4.514400005340576, -4.366700172424316, -5.7042999267578125, -1.8091000318527222, -5.303800106048584, -5.614099979400635, -5.036099910736084, -5.570000171661377, -1.4713000059127808, -2.4091999530792236, -2.586400032043457, -2.7279000282287598, -3.2119998931884766, -3.3368000984191895, -3.5613999366760254, -3.597100019454956, -3.7887001037597656, -3.8482000827789307, -3.9321000576019287, -4.025100231170654, -4.045300006866455, -4.123799800872803, -4.145699977874756, -4.191500186920166, -4.23769998550415, -4.272200107574463, -4.346700191497803, -4.362199783325195, -4.4475998878479, -4.497900009155273, -4.613800048828125, -4.809999942779541, -4.848999977111816, -4.899400234222412, -4.9207000732421875, -5.08459997177124, -4.478600025177002, -5.242700099945068, -2.561300039291382, -4.507599830627441, -4.578400135040283, -1.5424000024795532, -2.1963999271392822, -2.771399974822998, -2.870800018310547, -2.964400053024292, -3.102400064468384, -3.1986000537872314, -3.5100998878479004, -3.5992000102996826, -3.7576000690460205, -3.9690001010894775, -4.116099834442139, -4.118899822235107, -4.275400161743164, -4.300899982452393, -4.504000186920166, -4.566699981689453, -4.631899833679199, -4.6407999992370605, -4.775100231170654, -4.890100002288818, -3.2969000339508057, -3.3427000045776367, -4.319900035858154, -4.714399814605713, -3.984600067138672, -5.585899829864502, -5.976099967956543, -4.061800003051758, -4.722899913787842, -5.065999984741211, -4.272500038146973, -4.831099987030029, -0.7275999784469604, -1.7661999464035034, -3.0680999755859375, -3.1273999214172363, -3.177299976348877, -3.1995999813079834, -3.9619998931884766, -4.2829999923706055, -4.30679988861084, -4.367599964141846, -4.389500141143799, -4.577700138092041, -4.085400104522705, -4.273600101470947, -4.213699817657471, -5.605500221252441, -5.7154998779296875, -6.547999858856201, -4.899499893188477, -4.4095001220703125, -5.984000205993652, -5.428999900817871, -10.318300247192383, -10.318300247192383, -10.318300247192383, -10.318300247192383, -10.318300247192383, -10.318300247192383, -10.318300247192383, -10.318300247192383, -9.377300262451172, -10.31659984588623, -10.318300247192383, -10.318300247192383, -10.318300247192383, -10.318300247192383, -10.318300247192383, -10.318300247192383, -1.6064000129699707, -2.766900062561035, -2.815700054168701, -3.171600103378296, -3.1839001178741455, -3.4291999340057373, -3.8090999126434326, -3.8577001094818115, -3.8898000717163086, -3.893699884414673, -4.0015997886657715, -4.077600002288818, -4.07919979095459, -4.153900146484375, -4.246500015258789, -4.286200046539307, -4.326700210571289, -4.328800201416016, -4.332399845123291, -4.338600158691406, -4.362400054931641, -4.446700096130371, -4.525199890136719, -4.5553998947143555, -4.569499969482422, -4.899799823760986, -4.147299766540527, -3.934000015258789, -3.4061999320983887, -2.496299982070923, -3.096299886703491, -4.363800048828125, -0.4860999882221222, -2.522599935531616, -2.930299997329712, -3.5485999584198, -3.5611000061035156, -3.8550000190734863, -3.9851999282836914, -4.267300128936768, -4.281499862670898, -2.9655001163482666, -4.715199947357178, -4.795000076293945, -4.468200206756592, -4.2291998863220215, -5.277599811553955, -4.725599765777588, -6.349100112915039, -5.371600151062012, -10.293899536132812, -10.293899536132812, -10.293899536132812, -10.293899536132812, -10.293899536132812, -10.293899536132812, -10.293899536132812, -10.293899536132812, -10.293899536132812, -10.293899536132812, -10.293899536132812, -10.293899536132812, -9.467499732971191, -10.293899536132812, -10.293899536132812, -10.293899536132812, -10.293899536132812, -10.293899536132812, -10.293899536132812, -10.293899536132812, -10.293899536132812, -10.293899536132812, -10.293899536132812, -10.293899536132812, -2.637200117111206, -2.878200054168701, -2.9042999744415283, -2.910900115966797, -2.9414000511169434, -3.1593000888824463, -3.4851999282836914, -3.5615999698638916, -3.6019999980926514, -3.61080002784729, -3.6191000938415527, -3.6224000453948975, -3.7460999488830566, -3.838399887084961, -3.8789000511169434, -3.8852999210357666, -3.9254000186920166, -4.062900066375732, -4.093200206756592, -4.179200172424316, -4.1869001388549805, -4.233500003814697, -4.263899803161621, -4.269999980926514, -4.504799842834473, -4.5131001472473145, -4.686999797821045, -4.716100215911865, -2.8261001110076904, -3.2553000450134277, -3.8417000770568848, -4.418300151824951, -3.940999984741211, -4.420599937438965, -4.26639986038208, -1.5896999835968018, -2.3475000858306885, -2.6735000610351562, -2.9365999698638916, -3.0360000133514404, -3.0915000438690186, -3.6575000286102295, -3.6577999591827393, -3.7688000202178955, -3.843899965286255, -3.8907999992370605, -3.9277000427246094, -3.9863998889923096, -4.017899990081787, -4.206099987030029, -4.301599979400635, -4.469399929046631, -4.512700080871582, -4.53980016708374, -4.61899995803833, -4.651500225067139, -4.6946001052856445, -3.15939998626709, -4.917399883270264, -3.7311999797821045, -2.853800058364868, -3.5143001079559326, -5.091300010681152, -4.59119987487793, -4.902100086212158, -4.359300136566162, -2.027100086212158, -2.3640999794006348, -2.73799991607666, -2.8340001106262207, -2.9804000854492188, -2.9935998916625977, -3.0129001140594482, -3.120699882507324, -3.401400089263916, -3.4059998989105225, -3.5622000694274902, -3.612799882888794, -3.664599895477295, -3.9612998962402344, -3.9923999309539795, -4.003499984741211, -4.114699840545654, -4.121500015258789, -4.13070011138916, -4.194799900054932, -4.298399925231934, -4.330699920654297, -4.334400177001953, -4.34250020980835, -4.360499858856201, -4.60860013961792, -3.518899917602539, -3.845099925994873, -4.4791998863220215, -4.429200172424316, -4.5929999351501465, -1.5779999494552612, -2.347100019454956, -2.7035000324249268, -2.8415000438690186, -2.909600019454956, -2.9277000427246094, -3.024399995803833, -3.309299945831299, -3.321899890899658, -3.535099983215332, -3.7883999347686768, -3.789400100708008, -3.9179000854492188, -3.999799966812134, -4.007199764251709, -4.007400035858154, -4.027900218963623, -4.042799949645996, -4.071599960327148, -4.150300025939941, -4.185100078582764, -4.453100204467773, -4.557300090789795, -3.5632998943328857, -4.546599864959717, -4.456600189208984, -6.025000095367432, -4.866799831390381, -5.020400047302246, -5.160399913787842, -1.3966000080108643, -2.8050999641418457, -2.869999885559082, -2.9005000591278076, -2.961699962615967, -3.0678000450134277, -3.147200107574463, -3.245500087738037, -3.3945999145507812, -3.4609999656677246, -3.541800022125244, -3.6135001182556152, -3.6510000228881836, -4.030900001525879, -4.093100070953369, -4.1508002281188965, -4.165599822998047, -4.660600185394287, -2.7701001167297363, -3.530900001525879, -3.835599899291992, -3.532900094985962, -5.576200008392334, -4.487800121307373, -5.387199878692627, -9.949700355529785, -9.949700355529785, -9.949700355529785, -9.949700355529785, -9.949700355529785, -8.759499549865723, -9.949399948120117, -9.94950008392334, -9.949700355529785, -1.8788000345230103, -2.436199903488159, -2.634999990463257, -2.786099910736084, -2.8498001098632812, -3.291100025177002, -3.3210999965667725, -3.3838000297546387, -3.5302999019622803, -3.571700096130371, -3.6451001167297363, -3.6610000133514404, -3.7876999378204346, -3.7939999103546143, -3.795799970626831, -3.822000026702881, -3.9189999103546143, -3.996000051498413, -4.052700042724609, -4.285999774932861, -4.293499946594238, -4.396900177001953, -4.414400100708008, -3.594099998474121, -3.437700033187866, -3.8213999271392822, -3.5416998863220215, -5.2667999267578125, -4.246200084686279, -4.989699840545654], \"loglift\": [30.0, 29.0, 28.0, 27.0, 26.0, 25.0, 24.0, 23.0, 22.0, 21.0, 20.0, 19.0, 18.0, 17.0, 16.0, 15.0, 14.0, 13.0, 12.0, 11.0, 10.0, 9.0, 8.0, 7.0, 6.0, 5.0, 4.0, 3.0, 2.0, 1.0, 2.4163, 2.413, 2.4071, 2.4048, 2.4042, 2.404, 2.4005, 2.3938, 2.3927, 2.3851, 2.3839, 2.3838, 2.3723, 2.3719, 2.3602, 2.3467, 2.2351, 2.212, 2.203, 2.1156, 1.5144, 1.4344, 1.2747, 0.9458, 0.9386, 0.117, -3.0149, -3.0483, -3.0624, -3.0897, -5.1354, -3.8217, -5.183, -4.3713, 2.4329, 2.4273, 2.4255, 2.4235, 2.4218, 2.4123, 2.4097, 2.4009, 2.3967, 2.3942, 2.3868, 2.3866, 2.3864, 2.3855, 2.3793, 2.3776, 2.3667, 2.2748, 2.2237, 2.2155, 1.5694, 1.1607, 1.0637, 1.0141, 0.2628, -2.8745, -2.8898, -2.9196, -2.9672, -2.9945, -4.1063, -4.9549, -4.4319, -4.0465, 2.4755, 2.4743, 2.4735, 2.4705, 2.4704, 2.4693, 2.467, 2.4618, 2.4615, 2.4605, 2.4602, 2.46, 2.4595, 2.4582, 2.4569, 2.4549, 2.453, 2.4485, 2.4469, 2.4419, 2.4379, 2.4373, 2.2604, 2.197, 2.1933, 1.866, 1.2214, 1.1379, 1.0899, 1.0681, 1.0384, 0.3482, 2.5296, 2.5266, 2.5257, 2.5235, 2.5206, 2.5191, 2.516, 2.5154, 2.5121, 2.5109, 2.5091, 2.5069, 2.5064, 2.5044, 2.5038, 2.5025, 2.5012, 2.5001, 2.4977, 2.4972, 2.4942, 2.4923, 2.4876, 2.4783, 2.4763, 2.4735, 2.4723, 2.4621, 2.2652, 2.2565, 2.008, 1.4731, 1.5126, 2.5911, 2.589, 2.5858, 2.585, 2.5842, 2.5828, 2.5818, 2.5776, 2.5762, 2.5733, 2.5687, 2.5648, 2.5647, 2.56, 2.5591, 2.5516, 2.549, 2.5461, 2.5457, 2.539, 2.5326, 2.3787, 2.2694, 2.2586, 2.2114, 2.2043, 1.3036, 1.3033, 1.1768, 1.1499, 1.105, 0.9016, 0.912, 2.6079, 2.6061, 2.5986, 2.598, 2.5975, 2.5972, 2.584, 2.5747, 2.5739, 2.5717, 2.5709, 2.5632, 2.3128, 2.1336, 1.5857, 1.1022, 1.0283, 0.9239, 0.7699, 0.7646, 0.6205, -0.1949, -2.7265, -2.7417, -2.7716, -2.805, -2.8191, -2.8493, -2.8956, -2.9029, -3.9989, -3.9574, -4.5532, -4.7062, -4.2047, -3.5051, -3.5493, -4.4311, 2.6304, 2.625, 2.6247, 2.6212, 2.6211, 2.6178, 2.611, 2.6099, 2.6092, 2.6069, 2.6064, 2.6044, 2.6043, 2.6022, 2.5992, 2.5979, 2.5965, 2.5964, 2.5963, 2.5961, 2.5952, 2.5919, 2.5887, 2.5874, 2.5867, 2.5693, 2.4572, 2.4277, 2.3812, 2.3695, 2.3648, 2.3183, 2.6459, 2.6405, 2.6374, 2.6295, 2.6293, 2.6234, 2.6202, 2.6117, 2.6112, 2.4129, 2.3978, 2.3932, 2.3697, 2.3229, 2.299, 1.4633, 1.0085, 0.8611, -2.702, -2.7472, -2.7806, -2.7947, -2.822, -2.8248, -2.8712, -2.8785, -2.8911, -2.8999, -2.9009, -2.9097, -2.967, -4.6423, -3.3521, -3.4288, -7.2991, -4.4258, -5.0424, -3.8957, -4.7826, -4.6245, -3.3546, -3.3682, 2.7125, 2.7105, 2.7102, 2.7101, 2.7098, 2.7074, 2.7027, 2.7013, 2.7006, 2.7004, 2.7002, 2.7002, 2.6976, 2.6955, 2.6945, 2.6943, 2.6933, 2.6894, 2.6885, 2.6857, 2.6855, 2.6839, 2.6828, 2.6825, 2.6729, 2.6725, 2.6638, 2.6622, 2.6434, 2.5402, 2.2493, 2.4468, 1.9772, 2.3146, 1.112, 2.7448, 2.7418, 2.7396, 2.7372, 2.7362, 2.7355, 2.7265, 2.7265, 2.7241, 2.7223, 2.7211, 2.7201, 2.7185, 2.7176, 2.7115, 2.708, 2.701, 2.699, 2.6977, 2.6937, 2.6919, 2.6896, 2.5167, 2.4854, 2.3824, 2.3203, 2.2852, 1.3069, 1.1961, 1.0171, 0.8748, 2.7726, 2.7709, 2.7683, 2.7674, 2.7659, 2.7658, 2.7655, 2.7643, 2.7602, 2.7601, 2.7573, 2.7563, 2.7553, 2.7479, 2.747, 2.7467, 2.7432, 2.743, 2.7427, 2.7404, 2.7365, 2.7353, 2.7351, 2.7348, 2.734, 2.7223, 2.6314, 2.6014, 2.4103, 2.3941, 1.2798, 2.7972, 2.794, 2.7915, 2.7902, 2.7895, 2.7894, 2.7883, 2.7844, 2.7842, 2.7805, 2.775, 2.775, 2.7716, 2.7692, 2.769, 2.769, 2.7683, 2.7679, 2.767, 2.7643, 2.7631, 2.752, 2.7468, 2.5112, 1.567, 1.4307, 1.088, 0.9287, 0.8041, 0.0736, 2.8123, 2.805, 2.8044, 2.8041, 2.8034, 2.8021, 2.8011, 2.7997, 2.7973, 2.7962, 2.7947, 2.7932, 2.7924, 2.7823, 2.7802, 2.7782, 2.7777, 2.7548, 2.4685, 2.3564, 2.3353, 1.333, 1.2616, 1.1884, 0.2249, -2.3578, -2.3731, -2.403, -2.4364, -2.4505, -3.5081, -5.0136, -4.4381, -4.8376, 2.8809, 2.8779, 2.8763, 2.8749, 2.8743, 2.8684, 2.8679, 2.8668, 2.864, 2.8631, 2.8615, 2.8611, 2.8579, 2.8577, 2.8577, 2.857, 2.8542, 2.8517, 2.8498, 2.8408, 2.8405, 2.8358, 2.8349, 2.5971, 2.5903, 2.5723, 2.439, 1.0949, 0.9879, 0.9285]}, \"token.table\": {\"Topic\": [3, 14, 8, 11, 7, 10, 10, 7, 11, 7, 13, 9, 5, 13, 10, 4, 11, 12, 11, 13, 4, 14, 4, 13, 12, 9, 12, 13, 8, 6, 1, 8, 11, 11, 14, 4, 3, 3, 14, 5, 9, 14, 9, 12, 5, 7, 5, 1, 3, 1, 2, 10, 11, 4, 13, 2, 1, 1, 3, 9, 11, 5, 12, 10, 7, 5, 2, 8, 9, 2, 14, 2, 11, 14, 12, 3, 7, 9, 8, 9, 1, 2, 6, 4, 7, 4, 4, 6, 7, 5, 4, 9, 7, 14, 14, 8, 11, 6, 7, 2, 4, 5, 1, 6, 6, 10, 12, 2, 5, 6, 11, 9, 5, 14, 5, 3, 5, 6, 10, 9, 3, 3, 14, 14, 7, 10, 13, 7, 11, 9, 9, 14, 6, 5, 7, 9, 14, 9, 12, 13, 2, 10, 11, 3, 3, 5, 7, 4, 7, 10, 14, 14, 9, 3, 7, 1, 10, 5, 9, 4, 6, 14, 8, 5, 11, 4, 9, 3, 8, 12, 9, 10, 7, 9, 5, 6, 10, 4, 4, 10, 8, 12, 6, 11, 1, 12, 4, 4, 3, 5, 11, 14, 10, 12, 5, 7, 3, 10, 5, 13, 2, 7, 4, 3, 2, 3, 14, 4, 9, 11, 4, 9, 3, 7, 1, 4, 2, 8, 3, 11, 9, 5, 11, 10, 12, 13, 7, 6, 8, 7, 3, 6, 4, 3, 12, 1, 7, 1, 9, 11, 12, 11, 7, 10, 7, 10, 2, 3, 9, 14, 4, 14, 11, 5, 9, 11, 13, 11, 1, 2, 6, 9, 10, 12, 14, 1, 5, 2, 13, 1, 2, 4, 5, 3, 7, 8, 13, 10, 3, 9, 12, 13, 13, 7, 8, 12, 8, 11, 13, 9, 10, 9, 3, 5, 5, 11, 12, 5, 9, 13, 10, 2, 14, 10, 11, 14, 10, 1, 9, 12, 2, 2, 5, 7, 14, 10, 5, 14, 2, 11, 12, 10, 4, 1, 5, 6, 11, 9, 4, 4, 12, 9, 9, 5, 8, 8, 11, 14, 10, 7, 2, 2, 4, 5, 11, 8, 1, 9, 2, 12, 1, 3, 8, 10, 3, 11, 3, 4, 3, 6, 9, 1, 7, 5, 11, 13, 4, 5, 12, 7, 12, 5, 1, 10, 5, 9, 13, 4, 4, 14, 13, 13, 7, 10, 5, 13, 3, 14, 1, 7, 6, 12, 12, 3, 11, 9, 7, 10, 7, 13, 5, 6, 2, 6, 7, 11, 1, 7, 6, 1, 13, 3, 10, 7, 14, 4, 4, 9, 6, 4, 3, 12, 13, 1, 7, 1, 2, 9, 12, 4, 9, 12], \"Freq\": [0.9825858229144021, 0.9761168316979753, 0.7917359416663411, 0.19793398541658527, 0.9800484723476349, 0.9519764159196507, 0.9875488650811789, 0.963597858743744, 0.9793267220139584, 0.9799947154729414, 0.9866257835117002, 0.9870965260224892, 0.991163754481877, 0.9546121135178963, 0.9980904949543277, 0.2748208632478174, 0.6870521581195436, 0.9811814131216738, 0.9816340081623074, 0.9876005481979414, 0.9742908997694597, 0.9837727256507766, 0.9776619805532454, 0.998438908361042, 0.9837474001739202, 0.9895446150607422, 0.9893721038977314, 0.9711894692362636, 0.9850754132799345, 0.9987527803597318, 0.21890514558246962, 0.7296838186082321, 0.9940330475180577, 0.9908469648059336, 0.9905633371983118, 0.9669400703215691, 0.972508926131304, 0.9926791547482663, 0.9505305642221784, 0.21491176982725504, 0.7521911943953926, 0.9311848670102366, 0.9948728241322728, 0.9761515083700129, 0.9541167042576261, 0.992667644452989, 0.9736012696332634, 0.9340143518480685, 0.9862976034842018, 0.9826782955929844, 0.8068467282138166, 0.1808449563237865, 0.9756787914006311, 0.9610431965183526, 0.9751802348759366, 0.9888488509955151, 0.9976501641147985, 0.7376930336960645, 0.2613256210100924, 0.9741842293867284, 0.98682872642928, 0.9928005338361512, 0.9718984837232619, 0.981599477941728, 0.9858079199042102, 0.990801640432176, 0.9748406175739701, 0.9574100781389199, 0.9377739326120436, 0.24813971166961912, 0.7444191350088574, 0.9829732924325219, 0.9668092313787663, 0.984272300590045, 0.9801674051114804, 0.9885636754482606, 0.9490877866149232, 0.9786562260372931, 0.793751838573128, 0.20248771392171633, 0.963179557990371, 0.9585652552001233, 0.9439649487809886, 0.9825000918655692, 0.9600227958442763, 0.9937833694730703, 0.9846251325954067, 0.994242460108171, 0.9982466965974601, 0.9664316664531308, 0.3633784735494359, 0.6276537270399347, 0.9869311306822428, 0.9772939976076792, 0.9856503404410547, 0.9885339611756915, 0.9602422787045065, 0.19714128888586577, 0.7885651555434631, 0.9216199574424854, 0.7428589424286949, 0.20259789338964407, 0.8343445533452108, 0.16253465324906705, 0.3578636165776827, 0.6293463601883384, 0.9966789193037523, 0.9961116772166269, 0.9534458396450031, 0.9823392846743603, 0.9665303445562853, 0.9315213026150766, 0.9832222169423314, 0.9885922121590688, 0.938422368021115, 0.2664190084304984, 0.6850774502498531, 0.7410716355312886, 0.24702387851042953, 0.9773713704643169, 0.9712644829519408, 0.9943643160676358, 0.9947176424859491, 0.9839269487354553, 0.9543135218643052, 0.7963721765383505, 0.1963657421601412, 0.9492029064490787, 0.9702516452010539, 0.9600460456255623, 0.23736931621745552, 0.7486263049935136, 0.9632680648690803, 0.9982040858195977, 0.9174004915528152, 0.9813165014066398, 0.9668764661178948, 0.9574724723176009, 0.9833569328436119, 0.9909243709757334, 0.9726306749572508, 0.9631557712402267, 0.9763705198878224, 0.96891364154338, 0.9812120851818261, 0.7262165316702529, 0.26896908580379736, 0.9718648555893674, 0.780267959284782, 0.2072586766850202, 0.9812832204384113, 0.9842150303825795, 0.9796279822671983, 0.23865405421216518, 0.7159621626364956, 0.9678783423839277, 0.9247219538002482, 0.8067625563995906, 0.1853373440377438, 0.761474186920225, 0.19036854673005624, 0.946790696075646, 0.9910783828603587, 0.9868033609254372, 0.9794032391681656, 0.9756075611281583, 0.9632600580773681, 0.7620609547077966, 0.17586022031718382, 0.9767383444819773, 0.9303388651421395, 0.9742366690163035, 0.31458520546022994, 0.6606289314664828, 0.1848838599751874, 0.15847187997873205, 0.6536965049122696, 0.9660186930950413, 0.9929659189372927, 0.9625484838939345, 0.7802911161279928, 0.1835979096771748, 0.9846527205138655, 0.9969642842858704, 0.9836172838616569, 0.9445733822707341, 0.977917903763455, 0.9297878773555079, 0.9650268649646434, 0.9884201142999627, 0.9808003710847254, 0.980246781369454, 0.6927096356281287, 0.28722106843117534, 0.9859260789549735, 0.968724413379356, 0.951974964329343, 0.9846847224415671, 0.9622643154874121, 0.9751772603264037, 0.26228833790489253, 0.69943556774638, 0.991620289796, 0.9896351683335313, 0.9899219152441001, 0.9904488749477692, 0.9881937208173343, 0.9527212080417432, 0.12268576525997611, 0.8588003568198328, 0.9925778389294313, 0.9556931540040993, 0.9905197817624016, 0.9456976504438167, 0.40388862348124066, 0.5914083415261023, 0.9437370757010098, 0.973286060633185, 0.14140534907295, 0.8484320944377001, 0.9911354884889932, 0.2936241514718271, 0.6973573597455893, 0.10778358659964243, 0.2559860181741508, 0.6332285712728992, 0.9702300294508395, 0.9872204260004688, 0.9669691570071148, 0.9695321682230367, 0.7651128063554467, 0.21423158577952506, 0.9647964886685058, 0.24372358287093762, 0.7474189874708753, 0.9960332179279942, 0.9842341658582173, 0.9912636221860718, 0.9881020218929044, 0.9812416975867778, 0.9696880749902649, 0.9579518254906981, 0.9910203937098232, 0.9801068087934707, 0.9837876742973048, 0.9766307207857323, 0.25013292960669586, 0.12506646480334793, 0.47247331147931443, 0.1389627386703866, 0.340227321716387, 0.6360771666871582, 0.9462535263870884, 0.062107073748736405, 0.9227336671240838, 0.9749639099088432, 0.9522332627309144, 0.9944335208220979, 0.371574991448792, 0.11217358232416363, 0.06309764005734204, 0.0771193378478625, 0.154238675695725, 0.06309764005734204, 0.14722782680046476, 0.9767024047206798, 0.981050147284369, 0.9539459777152539, 0.9684045028139489, 0.9712441381059508, 0.9801757695627924, 0.6504727457581669, 0.27103031073256956, 0.978746090485013, 0.9933898032304943, 0.7668458111372775, 0.20913976667380293, 0.9733531548874824, 0.9543891658838567, 0.9899706539889648, 0.9771712600486767, 0.9881431525779468, 0.9739505059388461, 0.26192500727584944, 0.7333900203723784, 0.9561825596313648, 0.9989940879602704, 0.974274242511504, 0.986857473829112, 0.9692390037551288, 0.9904073889794655, 0.9827043863053757, 0.8047942823378662, 0.18661896402037478, 0.9878574865282845, 0.9605710973315715, 0.9785921262047763, 0.7264744170482353, 0.19440864681572495, 0.07162423830053025, 0.9526823486942299, 0.9747509329141391, 0.9374238956665057, 0.797278179202242, 0.1839872721235943, 0.9783289707886201, 0.9947831559027227, 0.9726067624803657, 0.8358395001934164, 0.15979284562521195, 0.9681136821130699, 0.806083171643671, 0.17733829776160764, 0.9870561818872983, 0.9659453027366276, 0.9755098312053013, 0.9385054913007091, 0.9949628346476945, 0.9993767612323711, 0.9946088604797456, 0.9831751076985076, 0.974558284603223, 0.9789245535076342, 0.9859310930932785, 0.15862598491181973, 0.6118430846598761, 0.20394769488662537, 0.9669582911753606, 0.9989772474588802, 0.9816775432439843, 0.9616541707995573, 0.9716033021743239, 0.9808219946838551, 0.6740249902092941, 0.30968715766372973, 0.992654325090143, 0.983986868435993, 0.9898567898301501, 0.9894894878343632, 0.9585187856963227, 0.9900507203511529, 0.4249140202670848, 0.1062285050667712, 0.23901413640023522, 0.2257355732668888, 0.9806733161509671, 0.8125961947071564, 0.18213362984815573, 0.8477514554486661, 0.13918307477515413, 0.09516074605013806, 0.5329001778807732, 0.17128934289024852, 0.17128934289024852, 0.9918681991104922, 0.9633597986757876, 0.9400358375069972, 0.920665154471949, 0.9786839929088716, 0.959984764808353, 0.9916453058785223, 0.7979329014212, 0.1709856217331143, 0.23260748168587542, 0.1431430656528464, 0.6262509122312031, 0.9794384506032098, 0.9888788232454955, 0.9980361148869555, 0.9646767976518426, 0.9920209968541344, 0.9305680909391872, 0.9663289382407825, 0.982978822394711, 0.23946271226047214, 0.0422581256930245, 0.7043020948837416, 0.9717009129884906, 0.968814943152031, 0.9778913387364986, 0.993166674694284, 0.9315631649754627, 0.9929353848794972, 0.989444950076407, 0.9890523073002998, 0.9896678178276369, 0.2459405361416653, 0.737821608424996, 0.9742811543931251, 0.9510271372746906, 0.9980639989213063, 0.9886620735864621, 0.991318496453561, 0.9964122818524223, 0.9920397512984693, 0.9774103771511964, 0.9823015272754473, 0.9356460825905484, 0.7665260249173255, 0.22801723526021705, 0.9938178372581153, 0.964502439534378, 0.9510923695827231, 0.13801351640523182, 0.8280810984313909, 0.9752007311263705, 0.3121733618762254, 0.6590326528498093, 0.9855624054632677, 0.9624812847928461, 0.9782810222553467, 0.9807323943629143, 0.9721756992308807, 0.8227930157051249, 0.1732195822537105, 0.9616437900386654, 0.9787485658616973, 0.9895419214245266, 0.9456634441196082, 0.9523578058456079, 0.9947226190660999, 0.9730540527221359, 0.9905260225731081, 0.22873243066278628, 0.7653739026024003, 0.9833468841907, 0.9589188684318686, 0.9799275921184054, 0.9879160852897478, 0.9923260866088054, 0.9754621528017191, 0.993494521851822], \"Term\": [\"absence\", \"accord\", \"achat\", \"achat\", \"achete\", \"actualite\", \"affaire\", \"air\", \"airpod\", \"amelioration\", \"ami\", \"annee\", \"annonce\", \"app\", \"appareil\", \"appel\", \"appel\", \"appleevent\", \"application\", \"argent\", \"arrivee\", \"article\", \"attention\", \"autonomie\", \"avance\", \"avis\", \"baisse\", \"balle\", \"base\", \"batterie\", \"belgium\", \"belgium\", \"besoin\", \"bientot\", \"blague\", \"bleu\", \"bloc\", \"boite\", \"bonplan\", \"bord\", \"bord\", \"bouton\", \"cadeau\", \"capacite\", \"capte\", \"capteur\", \"capteur_lidar\", \"capture\", \"carte\", \"carte_sim\", \"cas\", \"cas\", \"casse\", \"cause\", \"chance\", \"change\", \"charge\", \"chargeur\", \"chargeur\", \"chaud\", \"cherche\", \"choisir\", \"choix\", \"chute\", \"clavier\", \"client\", \"code\", \"coloris\", \"commande\", \"commander\", \"commander\", \"commence\", \"communication\", \"compact\", \"comparaison\", \"compatible\", \"composant\", \"comprend\", \"compte\", \"compte\", \"con\", \"concurrence\", \"condition\", \"connexion\", \"cool\", \"coque\", \"coque_etui\", \"cote\", \"couleur\", \"coute\", \"cuir\", \"cuir\", \"daron\", \"date\", \"date_sortie\", \"deballage\", \"decembre\", \"decu\", \"decu\", \"defaut\", \"definition\", \"definition\", \"demande\", \"demande\", \"demontage\", \"demontage\", \"devoile\", \"difference\", \"dinguerie\", \"dispo\", \"doigt\", \"dolby_vision\", \"dollar\", \"dommage\", \"dossier\", \"droit\", \"droit\", \"dxomark\", \"dxomark\", \"eau\", \"ecologie\", \"ecouteur\", \"ecran\", \"encoche\", \"enfant\", \"envie\", \"envie\", \"equipe\", \"esim\", \"espere\", \"etui\", \"etui\", \"etui_protection\", \"euro\", \"evolution\", \"exemple\", \"experience\", \"explose\", \"fabrication\", \"face\", \"facon\", \"faite\", \"famille\", \"femme\", \"fil\", \"fille\", \"fille\", \"film\", \"fin\", \"fin\", \"fonce\", \"fonction\", \"fonds\", \"force\", \"force\", \"free\", \"frenchnewtech\", \"gamme\", \"gamme\", \"garantie\", \"garantie\", \"garde\", \"gars\", \"generation\", \"gnt\", \"gosse\", \"grace\", \"graphite\", \"graphite\", \"gratuit\", \"habitude\", \"hello\", \"hesite\", \"hesite\", \"heure\", \"heure\", \"heure\", \"histoire\", \"homepod\", \"homme\", \"huawei\", \"huawei\", \"idee\", \"igeneration\", \"image\", \"imagine\", \"impression\", \"inclu\", \"induction\", \"information\", \"innovation\", \"interet\", \"internet\", \"internet\", \"ipad\", \"iphonote\", \"jailbreak\", \"janvier\", \"jaune\", \"jeu\", \"jsp\", \"jsp\", \"keynote\", \"lance\", \"lien\", \"lieu\", \"ligne\", \"limite\", \"livraison\", \"livraison\", \"livre\", \"lot\", \"mac\", \"macgeneration\", \"magsafe\", \"magsafe\", \"mail\", \"main\", \"maison\", \"maison\", \"marche\", \"marque\", \"marque\", \"matin\", \"matin\", \"matin\", \"mec\", \"meilleur\", \"message\", \"million\", \"min\", \"min\", \"minimum\", \"minute\", \"minute\", \"mise\", \"moche\", \"mode\", \"modele\", \"moment\", \"monde\", \"mort\", \"niveau\", \"nom\", \"note\", \"notification\", \"novembre\", \"novembre\", \"novembre\", \"novembre\", \"objectif\", \"objectif\", \"occasion\", \"octobre\", \"octobre\", \"oeil\", \"officiel\", \"offre\", \"oled\", \"oled\", \"oled\", \"oled\", \"oled\", \"oled\", \"oled\", \"operateur\", \"option\", \"orange\", \"ouverture\", \"pacemaker\", \"paie\", \"paiement\", \"paiement\", \"parent\", \"part\", \"partage\", \"partage\", \"partie\", \"pays\", \"peine\", \"penurie\", \"performance\", \"perso\", \"peur\", \"peur\", \"phone\", \"photo\", \"photographie\", \"piece\", \"pigeon\", \"place\", \"plaisir\", \"plan\", \"plan\", \"plutot\", \"poche\", \"poids\", \"point\", \"point\", \"point\", \"pose\", \"position\", \"possession\", \"poste\", \"poste\", \"pote\", \"pouce\", \"pratique\", \"precommande\", \"precommande\", \"predecesseur\", \"prefere\", \"prefere\", \"presentation\", \"presente_modele\", \"presse_citron\", \"prevu\", \"prise\", \"prix\", \"probleme\", \"processeur\", \"production\", \"produit\", \"promo\", \"promotion\", \"promotion\", \"promotion\", \"propose\", \"protection\", \"pub\", \"publication\", \"puce\", \"puissance\", \"qualite\", \"qualite\", \"question\", \"raison\", \"rapport\", \"recharge\", \"recherche\", \"recu\", \"reduction\", \"reduction\", \"reduction\", \"reduction\", \"regarde\", \"remise\", \"remise\", \"reparation\", \"reparation\", \"reponse\", \"reponse\", \"reponse\", \"reponse\", \"reseau\", \"resolution\", \"resultat\", \"rhinoshield\", \"rumeur\", \"sac\", \"samsung\", \"serie\", \"serie\", \"service\", \"service\", \"service\", \"silicone\", \"site\", \"smartphone\", \"soeur\", \"soir\", \"solde\", \"sony\", \"sort\", \"sortie\", \"sortie\", \"sortie\", \"source\", \"spigen\", \"stabilisation\", \"stockage\", \"store\", \"studio\", \"succe\", \"suite\", \"super\", \"support\", \"support\", \"supporte\", \"surprise\", \"taille\", \"tech\", \"technologie\", \"telephone\", \"temps\", \"terme\", \"termine\", \"terre\", \"test\", \"test\", \"test_bluetooth\", \"tombe\", \"tour\", \"travail\", \"travail\", \"tweet\", \"type\", \"type\", \"utilisation\", \"valeur\", \"vena\", \"vend\", \"vendeur\", \"vendre\", \"vendre\", \"vendredi\", \"venez\", \"vente\", \"verre\", \"verre_trempe\", \"version\", \"veut\", \"video\", \"vie\", \"vie\", \"vien\", \"ville\", \"vitesse\", \"voi\", \"voiture\", \"vue\", \"youtube\"]}, \"R\": 30, \"lambda.step\": 0.01, \"plot.opts\": {\"xlab\": \"PC1\", \"ylab\": \"PC2\"}, \"topic.order\": [8, 5, 9, 2, 14, 11, 4, 6, 13, 3, 1, 10, 7, 12]};\n",
       "\n",
       "function LDAvis_load_lib(url, callback){\n",
       "  var s = document.createElement('script');\n",
       "  s.src = url;\n",
       "  s.async = true;\n",
       "  s.onreadystatechange = s.onload = callback;\n",
       "  s.onerror = function(){console.warn(\"failed to load library \" + url);};\n",
       "  document.getElementsByTagName(\"head\")[0].appendChild(s);\n",
       "}\n",
       "\n",
       "if(typeof(LDAvis) !== \"undefined\"){\n",
       "   // already loaded: just create the visualization\n",
       "   !function(LDAvis){\n",
       "       new LDAvis(\"#\" + \"ldavis_el48131399221652843041424216659\", ldavis_el48131399221652843041424216659_data);\n",
       "   }(LDAvis);\n",
       "}else if(typeof define === \"function\" && define.amd){\n",
       "   // require.js is available: use it to load d3/LDAvis\n",
       "   require.config({paths: {d3: \"https://cdnjs.cloudflare.com/ajax/libs/d3/3.5.5/d3.min\"}});\n",
       "   require([\"d3\"], function(d3){\n",
       "      window.d3 = d3;\n",
       "      LDAvis_load_lib(\"https://cdn.rawgit.com/bmabey/pyLDAvis/files/ldavis.v1.0.0.js\", function(){\n",
       "        new LDAvis(\"#\" + \"ldavis_el48131399221652843041424216659\", ldavis_el48131399221652843041424216659_data);\n",
       "      });\n",
       "    });\n",
       "}else{\n",
       "    // require.js not available: dynamically load d3 & LDAvis\n",
       "    LDAvis_load_lib(\"https://cdnjs.cloudflare.com/ajax/libs/d3/3.5.5/d3.min.js\", function(){\n",
       "         LDAvis_load_lib(\"https://cdn.rawgit.com/bmabey/pyLDAvis/files/ldavis.v1.0.0.js\", function(){\n",
       "                 new LDAvis(\"#\" + \"ldavis_el48131399221652843041424216659\", ldavis_el48131399221652843041424216659_data);\n",
       "            })\n",
       "         });\n",
       "}\n",
       "</script>"
      ],
      "text/plain": [
       "PreparedData(topic_coordinates=              x         y  topics  cluster      Freq\n",
       "topic                                               \n",
       "7      0.361789  0.018631       1        1  8.894495\n",
       "4     -0.068884 -0.072577       2        1  8.772088\n",
       "8      0.353642  0.014205       3        1  8.383964\n",
       "1      0.032935 -0.141774       4        1  7.953485\n",
       "13    -0.110038 -0.062319       5        1  7.477680\n",
       "10    -0.049047  0.272696       6        1  7.361335\n",
       "3     -0.033546  0.092475       7        1  7.187774\n",
       "5     -0.053933 -0.122932       8        1  7.088560\n",
       "12    -0.068454 -0.177357       9        1  6.588382\n",
       "2     -0.080632  0.258688      10        1  6.409143\n",
       "0     -0.075305 -0.087150      11        1  6.223402\n",
       "9     -0.057240  0.042315      12        1  6.081017\n",
       "6     -0.121130  0.061336      13        1  5.992831\n",
       "11    -0.030157 -0.096237      14        1  5.585843, topic_info=           Term         Freq        Total Category  logprob  loglift\n",
       "9          prix  1338.000000  1338.000000  Default  30.0000  30.0000\n",
       "24        photo  1167.000000  1167.000000  Default  29.0000  29.0000\n",
       "4      chargeur  1404.000000  1404.000000  Default  28.0000  28.0000\n",
       "25     batterie   952.000000   952.000000  Default  27.0000  27.0000\n",
       "52   protection   489.000000   489.000000  Default  26.0000  26.0000\n",
       "..          ...          ...          ...      ...      ...      ...\n",
       "214     support    32.718775    44.726259  Topic14  -3.8214   2.5723\n",
       "135    objectif    43.281385    67.601861  Topic14  -3.5417   2.4390\n",
       "110      vendre     7.710513    46.184155  Topic14  -5.2668   1.0949\n",
       "44         oled    21.396299   142.636079  Topic14  -4.2462   0.9879\n",
       "90     novembre    10.172259    71.961737  Topic14  -4.9897   0.9285\n",
       "\n",
       "[499 rows x 6 columns], token_table=      Topic      Freq     Term\n",
       "term                          \n",
       "327       3  0.982586  absence\n",
       "275      14  0.976117   accord\n",
       "1         8  0.791736    achat\n",
       "1        11  0.197934    achat\n",
       "205       7  0.980048   achete\n",
       "...     ...       ...      ...\n",
       "94        9  0.979928  vitesse\n",
       "239      12  0.987916      voi\n",
       "197       4  0.992326  voiture\n",
       "191       9  0.975462      vue\n",
       "100      12  0.993495  youtube\n",
       "\n",
       "[432 rows x 3 columns], R=30, lambda_step=0.01, plot_opts={'xlab': 'PC1', 'ylab': 'PC2'}, topic_order=[8, 5, 9, 2, 14, 11, 4, 6, 13, 3, 1, 10, 7, 12])"
      ]
     },
     "execution_count": 133,
     "metadata": {},
     "output_type": "execute_result"
    }
   ],
   "source": [
    "vis = pyLDAvis.gensim.prepare(ldamodel, corpus, id2word)\n",
    "vis"
   ]
  }
 ],
 "metadata": {
  "kernelspec": {
   "display_name": "Python (pfe-env)",
   "language": "python",
   "name": "pfe-env"
  },
  "language_info": {
   "codemirror_mode": {
    "name": "ipython",
    "version": 3
   },
   "file_extension": ".py",
   "mimetype": "text/x-python",
   "name": "python",
   "nbconvert_exporter": "python",
   "pygments_lexer": "ipython3",
   "version": "3.8.5"
  }
 },
 "nbformat": 4,
 "nbformat_minor": 4
}
