{
 "cells": [
  {
   "cell_type": "code",
   "execution_count": 65,
   "metadata": {},
   "outputs": [
    {
     "name": "stderr",
     "output_type": "stream",
     "text": [
      "/anaconda/envs/pfe-env/lib/python3.8/site-packages/ipykernel/ipkernel.py:287: DeprecationWarning: `should_run_async` will not call `transform_cell` automatically in the future. Please pass the result to `transformed_cell` argument and any exception that happen during thetransform in `preprocessing_exc_tuple` in IPython 7.17 and above.\n",
      "  and should_run_async(code)\n"
     ]
    }
   ],
   "source": [
    "import pandas as pd\n",
    "import numpy as np\n",
    "from matplotlib import pyplot as plt\n",
    "\n",
    "%matplotlib inline\n",
    "\n",
    "import warnings\n",
    "warnings.filterwarnings(\"ignore\",category=DeprecationWarning)"
   ]
  },
  {
   "cell_type": "code",
   "execution_count": 66,
   "metadata": {},
   "outputs": [
    {
     "name": "stdout",
     "output_type": "stream",
     "text": [
      "CPU times: user 2.15 s, sys: 368 ms, total: 2.51 s\n",
      "Wall time: 6.46 s\n"
     ]
    },
    {
     "data": {
      "text/html": [
       "<div>\n",
       "<style scoped>\n",
       "    .dataframe tbody tr th:only-of-type {\n",
       "        vertical-align: middle;\n",
       "    }\n",
       "\n",
       "    .dataframe tbody tr th {\n",
       "        vertical-align: top;\n",
       "    }\n",
       "\n",
       "    .dataframe thead th {\n",
       "        text-align: right;\n",
       "    }\n",
       "</style>\n",
       "<table border=\"1\" class=\"dataframe\">\n",
       "  <thead>\n",
       "    <tr style=\"text-align: right;\">\n",
       "      <th></th>\n",
       "      <th>url</th>\n",
       "      <th>date</th>\n",
       "      <th>content</th>\n",
       "      <th>renderedContent</th>\n",
       "      <th>id</th>\n",
       "      <th>user</th>\n",
       "      <th>outlinks</th>\n",
       "      <th>tcooutlinks</th>\n",
       "      <th>replyCount</th>\n",
       "      <th>retweetCount</th>\n",
       "      <th>...</th>\n",
       "      <th>quoteCount</th>\n",
       "      <th>conversationId</th>\n",
       "      <th>lang</th>\n",
       "      <th>source</th>\n",
       "      <th>sourceUrl</th>\n",
       "      <th>sourceLabel</th>\n",
       "      <th>media</th>\n",
       "      <th>retweetedTweet</th>\n",
       "      <th>quotedTweet</th>\n",
       "      <th>mentionedUsers</th>\n",
       "    </tr>\n",
       "  </thead>\n",
       "  <tbody>\n",
       "    <tr>\n",
       "      <th>0</th>\n",
       "      <td>https://twitter.com/jcsatanas/status/135449689...</td>\n",
       "      <td>2021-01-27 18:30:00+00:00</td>\n",
       "      <td>Ma sélection de coques, étuis, accessoires pou...</td>\n",
       "      <td>Ma sélection de coques, étuis, accessoires pou...</td>\n",
       "      <td>1354496897113706497</td>\n",
       "      <td>{'username': 'jcsatanas', 'displayname': ' jc...</td>\n",
       "      <td>[https://jcsatanas.fr/ma-selection-de-coques-e...</td>\n",
       "      <td>[https://t.co/XOSSeIbGC4]</td>\n",
       "      <td>0</td>\n",
       "      <td>2</td>\n",
       "      <td>...</td>\n",
       "      <td>0</td>\n",
       "      <td>1354496897113706497</td>\n",
       "      <td>fr</td>\n",
       "      <td>&lt;a href=\"https://about.twitter.com/products/tw...</td>\n",
       "      <td>https://about.twitter.com/products/tweetdeck</td>\n",
       "      <td>TweetDeck</td>\n",
       "      <td>[{'previewUrl': 'https://pbs.twimg.com/media/E...</td>\n",
       "      <td>NaN</td>\n",
       "      <td>None</td>\n",
       "      <td>None</td>\n",
       "    </tr>\n",
       "    <tr>\n",
       "      <th>1</th>\n",
       "      <td>https://twitter.com/floeuuhh/status/1354495064...</td>\n",
       "      <td>2021-01-27 18:22:43+00:00</td>\n",
       "      <td>@saf_br t’aurai pu avoir l’iPhone 12 avec tout...</td>\n",
       "      <td>@saf_br t’aurai pu avoir l’iPhone 12 avec tout...</td>\n",
       "      <td>1354495064832139266</td>\n",
       "      <td>{'username': 'floeuuhh', 'displayname': 'flo’ ...</td>\n",
       "      <td>[]</td>\n",
       "      <td>[]</td>\n",
       "      <td>1</td>\n",
       "      <td>0</td>\n",
       "      <td>...</td>\n",
       "      <td>0</td>\n",
       "      <td>1354465020860653570</td>\n",
       "      <td>fr</td>\n",
       "      <td>&lt;a href=\"http://twitter.com/download/iphone\" r...</td>\n",
       "      <td>http://twitter.com/download/iphone</td>\n",
       "      <td>Twitter for iPhone</td>\n",
       "      <td>None</td>\n",
       "      <td>NaN</td>\n",
       "      <td>None</td>\n",
       "      <td>[{'username': 'saf_br', 'displayname': 'saf’',...</td>\n",
       "    </tr>\n",
       "    <tr>\n",
       "      <th>2</th>\n",
       "      <td>https://twitter.com/eskeke1/status/13544936779...</td>\n",
       "      <td>2021-01-27 18:17:12+00:00</td>\n",
       "      <td>mon père qui vient d'acheter l'iphone 12 et mo...</td>\n",
       "      <td>mon père qui vient d'acheter l'iphone 12 et mo...</td>\n",
       "      <td>1354493677951967232</td>\n",
       "      <td>{'username': 'eskeke1', 'displayname': 'SauceG...</td>\n",
       "      <td>[]</td>\n",
       "      <td>[]</td>\n",
       "      <td>0</td>\n",
       "      <td>0</td>\n",
       "      <td>...</td>\n",
       "      <td>0</td>\n",
       "      <td>1354493677951967232</td>\n",
       "      <td>fr</td>\n",
       "      <td>&lt;a href=\"https://mobile.twitter.com\" rel=\"nofo...</td>\n",
       "      <td>https://mobile.twitter.com</td>\n",
       "      <td>Twitter Web App</td>\n",
       "      <td>None</td>\n",
       "      <td>NaN</td>\n",
       "      <td>None</td>\n",
       "      <td>None</td>\n",
       "    </tr>\n",
       "  </tbody>\n",
       "</table>\n",
       "<p>3 rows × 21 columns</p>\n",
       "</div>"
      ],
      "text/plain": [
       "                                                 url  \\\n",
       "0  https://twitter.com/jcsatanas/status/135449689...   \n",
       "1  https://twitter.com/floeuuhh/status/1354495064...   \n",
       "2  https://twitter.com/eskeke1/status/13544936779...   \n",
       "\n",
       "                       date  \\\n",
       "0 2021-01-27 18:30:00+00:00   \n",
       "1 2021-01-27 18:22:43+00:00   \n",
       "2 2021-01-27 18:17:12+00:00   \n",
       "\n",
       "                                             content  \\\n",
       "0  Ma sélection de coques, étuis, accessoires pou...   \n",
       "1  @saf_br t’aurai pu avoir l’iPhone 12 avec tout...   \n",
       "2  mon père qui vient d'acheter l'iphone 12 et mo...   \n",
       "\n",
       "                                     renderedContent                   id  \\\n",
       "0  Ma sélection de coques, étuis, accessoires pou...  1354496897113706497   \n",
       "1  @saf_br t’aurai pu avoir l’iPhone 12 avec tout...  1354495064832139266   \n",
       "2  mon père qui vient d'acheter l'iphone 12 et mo...  1354493677951967232   \n",
       "\n",
       "                                                user  \\\n",
       "0  {'username': 'jcsatanas', 'displayname': ' jc...   \n",
       "1  {'username': 'floeuuhh', 'displayname': 'flo’ ...   \n",
       "2  {'username': 'eskeke1', 'displayname': 'SauceG...   \n",
       "\n",
       "                                            outlinks  \\\n",
       "0  [https://jcsatanas.fr/ma-selection-de-coques-e...   \n",
       "1                                                 []   \n",
       "2                                                 []   \n",
       "\n",
       "                 tcooutlinks  replyCount  retweetCount  ...  quoteCount  \\\n",
       "0  [https://t.co/XOSSeIbGC4]           0             2  ...           0   \n",
       "1                         []           1             0  ...           0   \n",
       "2                         []           0             0  ...           0   \n",
       "\n",
       "        conversationId  lang  \\\n",
       "0  1354496897113706497    fr   \n",
       "1  1354465020860653570    fr   \n",
       "2  1354493677951967232    fr   \n",
       "\n",
       "                                              source  \\\n",
       "0  <a href=\"https://about.twitter.com/products/tw...   \n",
       "1  <a href=\"http://twitter.com/download/iphone\" r...   \n",
       "2  <a href=\"https://mobile.twitter.com\" rel=\"nofo...   \n",
       "\n",
       "                                      sourceUrl         sourceLabel  \\\n",
       "0  https://about.twitter.com/products/tweetdeck           TweetDeck   \n",
       "1            http://twitter.com/download/iphone  Twitter for iPhone   \n",
       "2                    https://mobile.twitter.com     Twitter Web App   \n",
       "\n",
       "                                               media retweetedTweet  \\\n",
       "0  [{'previewUrl': 'https://pbs.twimg.com/media/E...            NaN   \n",
       "1                                               None            NaN   \n",
       "2                                               None            NaN   \n",
       "\n",
       "   quotedTweet                                     mentionedUsers  \n",
       "0         None                                               None  \n",
       "1         None  [{'username': 'saf_br', 'displayname': 'saf’',...  \n",
       "2         None                                               None  \n",
       "\n",
       "[3 rows x 21 columns]"
      ]
     },
     "execution_count": 66,
     "metadata": {},
     "output_type": "execute_result"
    }
   ],
   "source": [
    "%%time\n",
    "\n",
    "tweets_df = pd.read_json('../input/iphone-12-tweets-fr.json', lines=True)\n",
    "tweets_df.head(3)"
   ]
  },
  {
   "cell_type": "markdown",
   "metadata": {},
   "source": [
    "## 1. Exploration des données"
   ]
  },
  {
   "cell_type": "markdown",
   "metadata": {},
   "source": [
    "Dans cette étape je vais explorer les tweets, on peut noter que notre source de données dispose plus de 100 mille tweets, ainsi chaque tweets et caractérisé par 21 colomnes."
   ]
  },
  {
   "cell_type": "code",
   "execution_count": 67,
   "metadata": {},
   "outputs": [
    {
     "data": {
      "text/plain": [
       "(62444, 21)"
      ]
     },
     "execution_count": 67,
     "metadata": {},
     "output_type": "execute_result"
    }
   ],
   "source": [
    "tweets_df.shape"
   ]
  },
  {
   "cell_type": "code",
   "execution_count": 68,
   "metadata": {},
   "outputs": [
    {
     "data": {
      "text/plain": [
       "Index(['url', 'date', 'content', 'renderedContent', 'id', 'user', 'outlinks',\n",
       "       'tcooutlinks', 'replyCount', 'retweetCount', 'likeCount', 'quoteCount',\n",
       "       'conversationId', 'lang', 'source', 'sourceUrl', 'sourceLabel', 'media',\n",
       "       'retweetedTweet', 'quotedTweet', 'mentionedUsers'],\n",
       "      dtype='object')"
      ]
     },
     "execution_count": 68,
     "metadata": {},
     "output_type": "execute_result"
    }
   ],
   "source": [
    "tweets_df.columns"
   ]
  },
  {
   "cell_type": "markdown",
   "metadata": {},
   "source": [
    "Ce qui nous interesse le plus c'est la colomne `content` qui contien le contenu du tweet, donc on peux suprimer toute les autres colmnes, à noter que la colmne `renderedContent` est identique à la colomne `content`."
   ]
  },
  {
   "cell_type": "code",
   "execution_count": 69,
   "metadata": {},
   "outputs": [],
   "source": [
    "# garder que les colonnes importantes\n",
    "cols = ['date', 'content', 'lang']\n",
    "tweets_df = tweets_df[cols]"
   ]
  },
  {
   "cell_type": "code",
   "execution_count": 70,
   "metadata": {},
   "outputs": [
    {
     "data": {
      "text/plain": [
       "array(['fr'], dtype=object)"
      ]
     },
     "execution_count": 70,
     "metadata": {},
     "output_type": "execute_result"
    }
   ],
   "source": [
    "# pour etre sur que tout les tweets sont en français\n",
    "tweets_df = tweets_df[tweets_df['lang'] == 'fr']\n",
    "tweets_df['lang'].unique()"
   ]
  },
  {
   "cell_type": "markdown",
   "metadata": {},
   "source": [
    "Pour vérifier l'évolution des tweets au fil du temps en utilisant la colomne `date`."
   ]
  },
  {
   "cell_type": "code",
   "execution_count": 71,
   "metadata": {},
   "outputs": [],
   "source": [
    "# garder que la date et supprimer l'heure\n",
    "tweets_df['date'] = pd.to_datetime(tweets_df['date']).dt.date"
   ]
  },
  {
   "cell_type": "code",
   "execution_count": 72,
   "metadata": {},
   "outputs": [
    {
     "data": {
      "image/png": "[encoded data removed]",
      "text/plain": [
       "<Figure size 720x360 with 1 Axes>"
      ]
     },
     "metadata": {
      "needs_background": "light"
     },
     "output_type": "display_data"
    }
   ],
   "source": [
    "tweets_df['date'].value_counts().plot(kind='line', figsize=(10, 5))\n",
    "\n",
    "plt.show()"
   ]
  },
  {
   "cell_type": "code",
   "execution_count": 73,
   "metadata": {},
   "outputs": [],
   "source": [
    "# supprimer les tweets dupliqués, 1K ont été supprimés\n",
    "\n",
    "tweets_df = tweets_df.sort_values(\"content\") \n",
    "  \n",
    "# dropping ALL duplicte values \n",
    "tweets_df = tweets_df.drop_duplicates(subset =\"content\", keep = 'first')"
   ]
  },
  {
   "cell_type": "markdown",
   "metadata": {},
   "source": [
    "## 2. Pré-traitement des tweets\n",
    "Maintenant, après avoir préparé les tweets, nous pouvons commencer la phase de prétraitement afin de pouvoir nettoyer les tweets spécifiquement pour la phase d'identification du sujet. \n",
    "Pour des raisons de computation, je ne ferai des expériences que sur une partie des données `(15%)` afin de gagner du temps. Une fois que nous aurons validé le pipeline de prétraitement, je l'appliquerai à l'ensemble des données originales."
   ]
  },
  {
   "cell_type": "code",
   "execution_count": 74,
   "metadata": {},
   "outputs": [],
   "source": [
    "# selectionner que les tweets qui répondent au requetes de l'utilisateur\n",
    "\n",
    "data = tweets_df['content']\n",
    "\n",
    "keywords = ['stockage', 'écran', 'autonomie', 'réseau', 'alimentation',\n",
    "           'appareil', 'appareil photo', 'processeur', 'multimédia', 'résolution',\n",
    "           'batterie', 'système d\\'exploitation', 'os', 'pièces', 'couleur',\n",
    "           'Communication', 'sans fil', 'synchronisation', 'coloris', 'poids',\n",
    "           'dimensions']\n",
    "\n",
    "data = data[data.str.contains('|'.join(keywords), case=False)]"
   ]
  },
  {
   "cell_type": "code",
   "execution_count": 75,
   "metadata": {},
   "outputs": [],
   "source": [
    "ads_words = [\n",
    "    '#concours', '#jeuconcours', '#giveaway',\n",
    "    '#gagne' ,'#gangner', '#promo', '#promotion', '#publicité',\n",
    "    '#contest', '#ad', '#pub', '#réduction']\n",
    "\n",
    "data = data[~data.str.contains('|'.join(ads_words), case=False)]"
   ]
  },
  {
   "cell_type": "markdown",
   "metadata": {},
   "source": [
    "### 2.1 Importer les packages\n",
    "Les paquets de base utilisés dans ce tutoriel sont `re`, `gensim`, `spacy` et `pyLDAvis`. En outre, nous utiliserons également `matplotlib`, `numpy` et `pandas` pour le traitement et la visualisation des données qui sont déja importés. "
   ]
  },
  {
   "cell_type": "markdown",
   "metadata": {},
   "source": [
    "pour le model du spacy dédié à la langue française, exectutez cette commande sur votre terminal conda:  \n",
    "`python -m spacy download fr_core_news_sm`  \n",
    "\n",
    "pour importer le model: `spacy.load('fr_core_news_sm')`"
   ]
  },
  {
   "cell_type": "code",
   "execution_count": 76,
   "metadata": {},
   "outputs": [],
   "source": [
    "import re\n",
    "import spacy\n",
    "from gensim.utils import tokenize\n",
    "\n",
    "import json\n",
    "\n",
    "from io import StringIO\n",
    "from html.parser import HTMLParser\n",
    "\n",
    "from collections import Counter \n",
    "\n",
    "# pour supprimer les emojis\n",
    "# ce package est capable de remplacer les emojis avec leur signification en text BEAST!!!\n",
    "#import demoji\n",
    "#demoji.download_codes()"
   ]
  },
  {
   "cell_type": "code",
   "execution_count": 77,
   "metadata": {},
   "outputs": [],
   "source": [
    "# fonction pour supprimer les symbols HTML\n",
    "\n",
    "class MLStripper(HTMLParser):\n",
    "    def __init__(self):\n",
    "        super().__init__()\n",
    "        self.reset()\n",
    "        self.strict = False\n",
    "        self.convert_charrefs= True\n",
    "        self.text = StringIO()\n",
    "    def handle_data(self, d):\n",
    "        self.text.write(d)\n",
    "    def get_data(self):\n",
    "        return self.text.getvalue()\n",
    "\n",
    "def strip_tags(html):\n",
    "    '''\n",
    "    input, output: string\n",
    "    '''\n",
    "    s = MLStripper()\n",
    "    s.feed(html)\n",
    "    return s.get_data()"
   ]
  },
  {
   "cell_type": "code",
   "execution_count": 78,
   "metadata": {},
   "outputs": [],
   "source": [
    "# remplacement des abréviations\n",
    "\n",
    "with open('../input/abrivot_fr.json', encoding='utf-8') as f:\n",
    "    abrivot = json.load(f)\n",
    "    \n",
    "def replace_abrivot(text):\n",
    "    '''\n",
    "    input: string\n",
    "    output: list of tokens\n",
    "    '''\n",
    "    words = text.split()\n",
    "    text_out = [abrivot[word] if word in abrivot else word for word in words]\n",
    "    return ' '.join(text_out)"
   ]
  },
  {
   "cell_type": "code",
   "execution_count": 79,
   "metadata": {},
   "outputs": [],
   "source": [
    "# lemmatization fonction\n",
    "# supprimer les chiffres, les \n",
    "\n",
    "# si ça marche pas\n",
    "nlp = spacy.load('fr_core_news_sm', disable=['parser', 'ner'])\n",
    "\n",
    "\n",
    "def lemmatization(text, allowed_postags=['NOUN', 'ADJ', 'ADV']):\n",
    "    '''\n",
    "    input: string\n",
    "    output: list of tokens\n",
    "    '''\n",
    "    doc = nlp(text) \n",
    "    text_out = [token.lemma_ for token in doc if token.pos_ in allowed_postags and token.is_alpha]\n",
    "    return text_out"
   ]
  },
  {
   "cell_type": "code",
   "execution_count": 80,
   "metadata": {},
   "outputs": [],
   "source": [
    "# fonction générale pour le prétraitement\n",
    "\n",
    "def tweets_preprocesser(tweets):\n",
    "    all_tweets=[]\n",
    "    for tweet in tweets:\n",
    "        \n",
    "        # supprimer les symboles HTML\n",
    "        reformed = strip_tags(tweet)\n",
    "        \n",
    "        # supprimer les urls et les @mentions\n",
    "        reformed = re.sub(r'(?:\\@|https?\\://)\\S+', '', reformed)\n",
    "        \n",
    "        # remplacer les abréviations\n",
    "        reformed = replace_abrivot(reformed)\n",
    "        \n",
    "        # lemmatization\n",
    "        tokens = lemmatization(reformed)\n",
    "        \n",
    "        #tweet_cleaned = \" \".join(tokens)\n",
    "        #all_tweets.append(tweet_cleaned)\n",
    "        all_tweets.append(tokens)\n",
    "    #all_text = ' '.join(all_tweets)\n",
    "    #all_words = ' '.join(all_tweets)\n",
    "    return all_tweets#, all_words"
   ]
  },
  {
   "cell_type": "code",
   "execution_count": 81,
   "metadata": {},
   "outputs": [
    {
     "name": "stdout",
     "output_type": "stream",
     "text": [
      "CPU times: user 41.3 s, sys: 0 ns, total: 41.3 s\n",
      "Wall time: 41.3 s\n"
     ]
    },
    {
     "data": {
      "text/plain": [
       "[['désaccord', 'poto', 'votez', 'plus', 'bel', 'couleur', 'iphone', 'max']]"
      ]
     },
     "execution_count": 81,
     "metadata": {},
     "output_type": "execute_result"
    }
   ],
   "source": [
    "%%time\n",
    "\n",
    "all_tweets = tweets_preprocesser(data)\n",
    "all_tweets[:1]"
   ]
  },
  {
   "cell_type": "code",
   "execution_count": 82,
   "metadata": {},
   "outputs": [],
   "source": [
    "all_text = ' '.join([' '.join(sent) for sent in all_tweets])\n",
    "all_words = all_text.split()"
   ]
  },
  {
   "cell_type": "code",
   "execution_count": 83,
   "metadata": {},
   "outputs": [],
   "source": [
    "# préparer la liste des mots vide, 626 mots\n",
    "# importer les mots vides de la langue Française\n",
    "\n",
    "stop_words = nlp.Defaults.stop_words\n",
    "\n",
    "# fonction pour séléctionner les n mots le plus pertinants\n",
    "# pour les rajouter dans la liste des mots vides\n",
    "\n",
    "def select_top_words(bag_words, n_words=30):\n",
    "    \n",
    "    # Count all the words using Counter Method\n",
    "    count_words = Counter(all_words)\n",
    "    total_words=len(all_words)\n",
    "    sorted_words=count_words.most_common(total_words)\n",
    "    \n",
    "    # select the n_words top words\n",
    "    top_words = [word[0] for word in sorted_words[:n_words]]\n",
    "    return top_words\n",
    "\n",
    "# mettre à jour la liste des mots vides avec les 30 mots les plus fréquents\n",
    "stop_words.update(select_top_words(all_words))\n",
    "\n",
    "# mettre à jour la liste d'aprés le fichies des mots vides\n",
    "with open('../input/fr_stopwords.txt', encoding='utf-8') as f:\n",
    "    fr_stopwords = f.read().splitlines()\n",
    "stop_words.update(fr_stopwords)"
   ]
  },
  {
   "cell_type": "code",
   "execution_count": 84,
   "metadata": {},
   "outputs": [],
   "source": [
    "# supprimer les mots vides\n",
    "def remove_stopwords(texts):\n",
    "    \n",
    "    tokens = [[word for word in doc if word not in stop_words] for doc in texts]\n",
    "    all_tweets = [doc for doc in tokens if len(doc) > 0] # empthy list not allowed\n",
    "    \n",
    "    return all_tweets\n",
    "\n",
    "all_tweets = remove_stopwords(all_tweets)"
   ]
  },
  {
   "cell_type": "markdown",
   "metadata": {},
   "source": [
    "## Create the Dictionary and Corpus needed for Topic Modeling"
   ]
  },
  {
   "cell_type": "code",
   "execution_count": 85,
   "metadata": {},
   "outputs": [
    {
     "name": "stdout",
     "output_type": "stream",
     "text": [
      "[[(0, 1), (1, 1), (2, 1), (3, 1)]]\n"
     ]
    }
   ],
   "source": [
    "import gensim.corpora as corpora\n",
    "\n",
    "# Create Dictionary\n",
    "id2word = corpora.Dictionary(all_tweets)\n",
    "\n",
    "# Create Corpus\n",
    "texts = all_tweets\n",
    "\n",
    "# Term Document Frequency\n",
    "corpus = [id2word.doc2bow(text) for text in texts]\n",
    "\n",
    "# View\n",
    "print(corpus[:1])"
   ]
  },
  {
   "cell_type": "markdown",
   "metadata": {},
   "source": [
    "## Building the Topic Model"
   ]
  },
  {
   "cell_type": "code",
   "execution_count": 86,
   "metadata": {},
   "outputs": [],
   "source": [
    "import gensim\n",
    "\n",
    "# Build LDA model\n",
    "lda_model = gensim.models.ldamodel.LdaModel(corpus=corpus,\n",
    "                                           id2word=id2word,\n",
    "                                           num_topics=20, \n",
    "                                           random_state=100,\n",
    "                                           update_every=1,\n",
    "                                           chunksize=100,\n",
    "                                           passes=10,\n",
    "                                           alpha='auto',\n",
    "                                           per_word_topics=True)"
   ]
  },
  {
   "cell_type": "markdown",
   "metadata": {},
   "source": [
    "## View the topics in LDA model"
   ]
  },
  {
   "cell_type": "code",
   "execution_count": 87,
   "metadata": {},
   "outputs": [
    {
     "name": "stdout",
     "output_type": "stream",
     "text": [
      "[(0,\n",
      "  '0.080*\"magsafe\" + 0.076*\"question\" + 0.072*\"go\" + 0.071*\"an\" + '\n",
      "  '0.064*\"capacité\" + 0.059*\"moment\" + 0.059*\"souci\" + 0.053*\"mémoire\" + '\n",
      "  '0.051*\"air\" + 0.041*\"keynote\"'),\n",
      " (1,\n",
      "  '0.199*\"mois\" + 0.122*\"spécial\" + 0.077*\"boutique\" + 0.074*\"vente\" + '\n",
      "  '0.058*\"offre\" + 0.056*\"achat\" + 0.043*\"coloris\" + 0.024*\"nouvelle\" + '\n",
      "  '0.018*\"détail\" + 0.016*\"rappel\"'),\n",
      " (2,\n",
      "  '0.204*\"modèle\" + 0.180*\"taille\" + 0.073*\"bientôt\" + 0.028*\"français\" + '\n",
      "  '0.014*\"comparaison\" + 0.013*\"peur\" + 0.010*\"innovation\" + 0.006*\"davantage\" '\n",
      "  '+ 0.006*\"classe\" + 0.003*\"chaud\"'),\n",
      " (3,\n",
      "  '0.202*\"mise\" + 0.136*\"heure\" + 0.081*\"utilisation\" + 0.072*\"nouveauté\" + '\n",
      "  '0.035*\"rapport\" + 0.031*\"application\" + 0.011*\"standard\" + 0.007*\"quasi\" + '\n",
      "  '0.000*\"point\" + 0.000*\"journée\"'),\n",
      " (4,\n",
      "  '0.294*\"x\" + 0.115*\"xr\" + 0.099*\"gamme\" + 0.050*\"réduction\" + '\n",
      "  '0.040*\"silicone\" + 0.029*\"connexion\" + 0.017*\"mesure\" + 0.000*\"code\" + '\n",
      "  '0.000*\"réduc\" + 0.000*\"bureau\"'),\n",
      " (5,\n",
      "  '0.116*\"ipad\" + 0.109*\"capteur\" + 0.106*\"noir\" + 0.093*\"prise\" + '\n",
      "  '0.064*\"face\" + 0.057*\"produit\" + 0.037*\"boîte\" + 0.033*\"officiel\" + '\n",
      "  '0.025*\"angle\" + 0.017*\"choc\"'),\n",
      " (6,\n",
      "  '0.097*\"utilisateur\" + 0.088*\"design\" + 0.070*\"résistant\" + 0.069*\"lieu\" + '\n",
      "  '0.063*\"technologie\" + 0.055*\"cuir\" + 0.052*\"futur\" + '\n",
      "  '0.033*\"caractéristique\" + 0.026*\"vivement\" + 0.017*\"dispositif\"'),\n",
      " (7,\n",
      "  '0.156*\"pouce\" + 0.151*\"apple\" + 0.096*\"mal\" + 0.076*\"format\" + 0.064*\"fin\" '\n",
      "  '+ 0.053*\"version\" + 0.042*\"youtube\" + 0.025*\"mort\" + 0.023*\"pute\" + '\n",
      "  '0.018*\"optique\"'),\n",
      " (8,\n",
      "  '0.254*\"magnétique\" + 0.077*\"chargement\" + 0.074*\"soir\" + 0.054*\"promo\" + '\n",
      "  '0.045*\"système\" + 0.032*\"plan\" + 0.031*\"grosse\" + 0.024*\"opérateur\" + '\n",
      "  '0.005*\"salut\" + 0.000*\"bureau\"'),\n",
      " (9,\n",
      "  '0.114*\"sortie\" + 0.099*\"recharge\" + 0.098*\"bug\" + 0.088*\"prochain\" + '\n",
      "  '0.069*\"site\" + 0.047*\"temps\" + 0.043*\"d\" + 0.035*\"haut\" + 0.035*\"octobre\" + '\n",
      "  '0.022*\"train\"'),\n",
      " (10,\n",
      "  '0.110*\"niveau\" + 0.074*\"cas\" + 0.045*\"lien\" + 0.022*\"travail\" + '\n",
      "  '0.000*\"canon\" + 0.000*\"condition\" + 0.000*\"airpod\" + 0.000*\"article\" + '\n",
      "  '0.000*\"adepte\" + 0.000*\"aimant\"'),\n",
      " (11,\n",
      "  '0.062*\"quell\" + 0.060*\"bel\" + 0.057*\"côté\" + 0.049*\"date\" + 0.042*\"choix\" + '\n",
      "  '0.033*\"surprise\" + 0.028*\"technique\" + 0.018*\"numérique\" + '\n",
      "  '0.015*\"impressionnant\" + 0.008*\"photographie\"'),\n",
      " (12,\n",
      "  '0.287*\"rapide\" + 0.130*\"disponible\" + 0.093*\"précommande\" + 0.042*\"presque\" '\n",
      "  '+ 0.041*\"processeur\" + 0.040*\"père\" + 0.033*\"coûte\" + 0.030*\"novembre\" + '\n",
      "  '0.022*\"gars\" + 0.014*\"vendredi\"'),\n",
      " (13,\n",
      "  '0.186*\"l\" + 0.146*\"oled\" + 0.119*\"pièce\" + 0.088*\"gb\" + 0.084*\"app\" + '\n",
      "  '0.031*\"daron\" + 0.006*\"black\" + 0.000*\"hit\" + 0.000*\"idée\" + 0.000*\"radio\"'),\n",
      " (14,\n",
      "  '0.227*\"charge\" + 0.078*\"caméra\" + 0.077*\"luminosité\" + 0.051*\"place\" + '\n",
      "  '0.042*\"marque\" + 0.037*\"hdr\" + 0.031*\"million\" + 0.027*\"marché\" + '\n",
      "  '0.018*\"dolby\" + 0.017*\"xiaomi\"'),\n",
      " (15,\n",
      "  '0.130*\"réseau\" + 0.128*\"mode\" + 0.111*\"année\" + 0.096*\"compatible\" + '\n",
      "  '0.094*\"s\" + 0.070*\"nuit\" + 0.067*\"double\" + 0.008*\"également\" + '\n",
      "  '0.005*\"champ\" + 0.000*\"lourd\"'),\n",
      " (16,\n",
      "  '0.159*\"oui\" + 0.006*\"paie\" + 0.000*\"frère\" + 0.000*\"jvai\" + 0.000*\"lecteur\" '\n",
      "  '+ 0.000*\"empreinte\" + 0.000*\"cash\" + 0.000*\"vie\" + 0.000*\"sup\" + '\n",
      "  '0.000*\"hâte\"'),\n",
      " (17,\n",
      "  '0.213*\"composant\" + 0.057*\"dollar\" + 0.001*\"réactivité\" + '\n",
      "  '0.000*\"production\" + 0.000*\"coût\" + 0.000*\"pénurie\" + 0.000*\"iphoneaddict\" '\n",
      "  '+ 0.000*\"ensembl\" + 0.000*\"rayon\" + 0.000*\"important\"'),\n",
      " (18,\n",
      "  '0.169*\"verre\" + 0.133*\"samsung\" + 0.051*\"actuellement\" + 0.028*\"changement\" '\n",
      "  '+ 0.012*\"position\" + 0.000*\"protecteur\" + 0.000*\"complet\" + 0.000*\"deal\" + '\n",
      "  '0.000*\"couvercle\" + 0.000*\"prote\"'),\n",
      " (19,\n",
      "  '0.128*\"coup\" + 0.095*\"grâce\" + 0.094*\"puce\" + 0.052*\"puissance\" + '\n",
      "  '0.047*\"remise\" + 0.035*\"encoche\" + 0.033*\"forfait\" + 0.030*\"présent\" + '\n",
      "  '0.017*\"vendre\" + 0.011*\"sûr\"')]\n"
     ]
    }
   ],
   "source": [
    "from pprint import pprint\n",
    "\n",
    "# Print the Keyword in the 10 topics\n",
    "pprint(lda_model.print_topics())\n",
    "doc_lda = lda_model[corpus]"
   ]
  },
  {
   "cell_type": "markdown",
   "metadata": {},
   "source": [
    "## Compute Model Perplexity and Coherence Score"
   ]
  },
  {
   "cell_type": "code",
   "execution_count": 88,
   "metadata": {},
   "outputs": [
    {
     "name": "stdout",
     "output_type": "stream",
     "text": [
      "\n",
      "Perplexity:  -22.901368151639055\n",
      "\n",
      "Coherence Score:  0.5052380958639244\n"
     ]
    }
   ],
   "source": [
    "from gensim.models import CoherenceModel\n",
    "\n",
    "# Compute Perplexity\n",
    "print('\\nPerplexity: ', lda_model.log_perplexity(corpus))  # a measure of how good the model is. lower the better.\n",
    "\n",
    "# Compute Coherence Score\n",
    "coherence_model_lda = CoherenceModel(model=lda_model, texts=all_tweets, dictionary=id2word, coherence='c_v')\n",
    "coherence_lda = coherence_model_lda.get_coherence()\n",
    "print('\\nCoherence Score: ', coherence_lda)"
   ]
  },
  {
   "cell_type": "markdown",
   "metadata": {},
   "source": [
    "## Visualize the topics-keywords"
   ]
  },
  {
   "cell_type": "code",
   "execution_count": 89,
   "metadata": {},
   "outputs": [
    {
     "data": {
      "text/html": [
       "\n",
       "<link rel=\"stylesheet\" type=\"text/css\" href=\"https://cdn.rawgit.com/bmabey/pyLDAvis/files/ldavis.v1.0.0.css\">\n",
       "\n",
       "\n",
       "<div id=\"ldavis_el70711405894423600326094098053\"></div>\n",
       "<script type=\"text/javascript\">\n",
       "\n",
       "var ldavis_el70711405894423600326094098053_data = {\"mdsDat\": {\"x\": [0.34907543392061346, 0.03096013697067321, -0.005962400653622629, 0.01145605360838076, 0.08737677290998395, -0.014973180949203784, -0.015091893029303763, 0.0007923259828082343, -0.03173843588870978, -0.04077890584452358, -0.04090748087736906, -0.02163829179651145, -0.0383660649117162, -0.026579496666153776, -0.0427874173080566, -0.036114700532012406, -0.04270809350694061, -0.04103659570090535, -0.039666272864908834, -0.04131149286252209], \"y\": [-0.11357704470568904, 0.029254698109659773, -0.006260066070064441, 0.006924328641908547, 0.33904280072575704, -0.011416820508626378, -0.01158917749611147, -0.0016650122097616182, -0.018926019926217168, -0.021260702593796314, -0.021243678898729017, -0.014559751219877957, -0.02073526517081254, -0.01671063225770965, -0.020445934421713125, -0.02015315371558238, -0.020513903639849097, -0.018962767135324615, -0.018022344346865234, -0.019179553160595195], \"topics\": [1, 2, 3, 4, 5, 6, 7, 8, 9, 10, 11, 12, 13, 14, 15, 16, 17, 18, 19, 20], \"cluster\": [1, 1, 1, 1, 1, 1, 1, 1, 1, 1, 1, 1, 1, 1, 1, 1, 1, 1, 1, 1], \"Freq\": [11.188141815348986, 8.370773691473453, 7.64745397373376, 7.3249668084575195, 7.194441454640131, 6.921015593891089, 6.179811497695155, 5.447168288452444, 5.375945171661716, 4.798578050738934, 4.4915881870242576, 4.238289767187077, 3.9311019304947936, 3.6202595487738245, 3.4035676200130047, 3.2546144412666287, 2.4452223509974496, 1.929853265981634, 1.1679426704699047, 1.0692638716982372]}, \"tinfo\": {\"Term\": [\"rapide\", \"charge\", \"x\", \"pouce\", \"mois\", \"apple\", \"mod\\u00e8le\", \"magn\\u00e9tique\", \"mise\", \"taille\", \"l\", \"r\\u00e9seau\", \"disponible\", \"mode\", \"sortie\", \"ipad\", \"ann\\u00e9e\", \"capteur\", \"mal\", \"oled\", \"noir\", \"sp\\u00e9cial\", \"recharge\", \"magsafe\", \"bug\", \"coup\", \"compatible\", \"question\", \"s\", \"heure\", \"magsafe\", \"question\", \"go\", \"an\", \"capacit\\u00e9\", \"moment\", \"souci\", \"m\\u00e9moire\", \"air\", \"keynote\", \"m\\u00e8re\", \"tweet\", \"message\", \"hier\", \"\\u00e9v\\u00e9nement\", \"gestion\", \"am\\u00e9ricain\", \"garantie\", \"litt\\u00e9ralement\", \"ram\", \"gosse\", \"igeneration\", \"stockage\", \"k\", \"quantit\\u00e9\", \"whatsapp\", \"fcfa\", \"store\", \"iphoneaddict\", \"enregistrement\", \"diff\\u00e9rence\", \"pouce\", \"apple\", \"mal\", \"format\", \"fin\", \"version\", \"youtube\", \"mort\", \"pute\", \"optique\", \"actualit\\u00e9\", \"ya\", \"bande\", \"cass\\u00e9\", \"main\", \"\\u00e9voqu\", \"colis\", \"fille\", \"relatif\", \"retouche\", \"facture\", \"blanc\", \"point\", \"iphonote\", \"massif\", \"incurv\\u00e9\", \"iphoneaddict\", \"positif\", \"proraw\", \"aime\", \"ach\\u00e8te\", \"rt\", \"sortie\", \"recharge\", \"bug\", \"prochain\", \"site\", \"temps\", \"d\", \"haut\", \"octobre\", \"train\", \"puissant\", \"s\\u00e9rie\", \"ville\", \"service\", \"semaine\", \"inverser\", \"vena\", \"varmor\", \"coqu\", \"chance\", \"mardi\", \"info\", \"rakuten\", \"\\u00e9norme\", \"offrent\", \"local\", \"inaper\\u00e7u\", \"nintendo\", \"branch\\u00e9\", \"voulez\", \"autour\", \"collection\", \"sort\", \"direct\", \"tentez\", \"compl\\u00e8tement\", \"protecteur\", \"r\\u00e9seau\", \"mode\", \"ann\\u00e9e\", \"compatible\", \"s\", \"nuit\", \"double\", \"\\u00e9galement\", \"champ\", \"star\", \"lourd\", \"morningdedifool\", \"amour\", \"mobile\", \"dommage\", \"r\\u00e9veil\", \"mieux\", \"comparatif\", \"malheureusement\", \"avai\", \"cha\\u00eene\", \"scandaleuse\", \"vote\", \"recap\", \"modul\", \"r\\u00e9sultat\", \"article\", \"janvier\", \"direct\", \"sombre\", \"demain\", \"diff\\u00e9rence\", \"qualit\\u00e9\", \"rapide\", \"disponible\", \"pr\\u00e9commande\", \"presque\", \"processeur\", \"p\\u00e8re\", \"co\\u00fbte\", \"novembre\", \"gars\", \"vendredi\", \"casque\", \"classement\", \"google\", \"pr\\u00e9sident\", \"dommage\", \"malheureusement\", \"avai\", \"article\", \"code\", \"bouygue\", \"r\\u00e9duc\", \"pr\\u00e9sentation\", \"dm\", \"vitr\", \"fluide\", \"moche\", \"valeur\", \"l\\u00e9ger\", \"arri\\u00e8re\", \"direct\", \"jamais\", \"ipad\", \"capteur\", \"noir\", \"prise\", \"face\", \"produit\", \"bo\\u00eete\", \"officiel\", \"angle\", \"choc\", \"secteur\", \"lidar\", \"main\", \"retard\", \"iphonote\", \"lumi\\u00e8re\", \"zoom\", \"t\\u00e9l\\u00e9objectif\", \"angl\", \"catastrophe\", \"coronavirus\", \"mondial\", \"k\", \"cause\", \"absorption\", \"payment\", \"\\u00e9labor\\u00e9\", \"brin\", \"paille\", \"ecologie\", \"p\\u00e9nurie\", \"costaud\", \"incroyable\", \"malheureusement\", \"qualit\\u00e9\", \"pixel\", \"l\\u00e9ger\", \"charge\", \"cam\\u00e9ra\", \"luminosit\\u00e9\", \"place\", \"marque\", \"hdr\", \"million\", \"march\\u00e9\", \"dolby\", \"xiaomi\", \"mate\", \"note\", \"chute\", \"concurrence\", \"mauvais\", \"\\u00e9lev\\u00e9\", \"pays\", \"adaptateur\", \"article\", \"sac\", \"dommage\", \"malheureusement\", \"main\", \"avai\", \"qualit\\u00e9\", \"compte\", \"durement\", \"affecte\", \"dosez\", \"vite\", \"diff\\u00e9rence\", \"iphonote\", \"super\", \"mois\", \"sp\\u00e9cial\", \"boutique\", \"vente\", \"offre\", \"achat\", \"coloris\", \"nouvelle\", \"d\\u00e9tail\", \"rappel\", \"r\\u00e9alit\\u00e9\", \"tendance\", \"masque\", \"espace\", \"priver\", \"album\", \"cash\", \"rouge\", \"super\", \"\\u00e9coute\", \"restez\", \"studio\", \"concert\", \"janvier\", \"d\\u00e9barqu\", \"titre\", \"gagnez\", \"suite\", \"catalogue\", \"solde\", \"utilisateur\", \"design\", \"r\\u00e9sistant\", \"lieu\", \"technologie\", \"cuir\", \"futur\", \"caract\\u00e9ristique\", \"vivement\", \"dispositif\", \"montre\", \"ouverture\", \"\\u00e9cologie\", \"concurrent\", \"d\\u00e9cembre\", \"parfaitement\", \"garde\", \"fr\\u00e9quence\", \"onde\", \"veille\", \"rakuten\", \"mah\", \"\\u00e9tui\", \"d\\u00e9montage\", \"choisir\", \"aimant\", \"iphonote\", \"risque\", \"tactile\", \"spontan\\u00e9\", \"info\", \"plat\", \"iphoneaddict\", \"coup\", \"gr\\u00e2ce\", \"puce\", \"puissance\", \"remise\", \"encoche\", \"forfait\", \"pr\\u00e9sent\", \"vendre\", \"s\\u00fbr\", \"production\", \"boost\", \"engagement\", \"victime\", \"cigare\", \"actionnaire\", \"dur\\u00e9e\", \"succ\\u00e8s\", \"baisse\", \"t\\u00eate\", \"red\", \"giga-octet\", \"exclusif\", \"vie\", \"fort\", \"fonds\", \"soin\", \"maillot\", \"om\", \"sah\", \"professionnel\", \"main\", \"diff\\u00e9rence\", \"bordure\", \"mieux\", \"mod\\u00e8le\", \"taille\", \"bient\\u00f4t\", \"fran\\u00e7ais\", \"comparaison\", \"peur\", \"innovation\", \"davantage\", \"classe\", \"chaud\", \"travers\", \"c\\u00e9l\\u00e8bre\", \"histoire\", \"vintage\", \"phare\", \"honneur\", \"ensembl\", \"pomme\", \"semaine\", \"aime\", \"\\u00e9chang\", \"conseil\", \"id\\u00e9e\", \"auditif\", \"jamais\", \"massif\", \"fr\\u00e8re\", \"stabilisation\", \"b\\u00eate\", \"gabarit\", \"style\", \"iphoneaddict\", \"l\", \"oled\", \"pi\\u00e8ce\", \"gb\", \"app\", \"daron\", \"black\", \"limite\", \"hit\", \"radio\", \"ami\", \"digital\", \"id\\u00e9e\", \"nombre\", \"ancien\", \"urgence\", \"p\\u00e9nurie\", \"lot\", \"r\\u00e9paration\", \"deal\", \"accord\", \"d\\u00e9montage\", \"iphoneaddict\", \"\\u00e9couteur\", \"travailler\", \"mai\", \"ach\\u00e8te\", \"fournisseur\", \"bras\", \"carr\\u00e9ment\", \"cha\\u00eene\", \"stockage\", \"mise\", \"heure\", \"utilisation\", \"nouveaut\\u00e9\", \"rapport\", \"application\", \"standard\", \"quasi\", \"battery\", \"journ\\u00e9e\", \"point\", \"compl\\u00e8tement\", \"wi\", \"moyen\", \"autant\", \"intensif\", \"parceque\", \"influenceur\", \"d\\u00e9cevant\", \"retard\", \"propre\", \"tech\", \"endurant\", \"adepte\", \"avis\", \"option\", \"faible\", \"inverser\", \"maco\", \"ipado\", \"article\", \"zoom\", \"iphoneaddict\", \"x\", \"xr\", \"gamme\", \"r\\u00e9duction\", \"silicone\", \"connexion\", \"mesure\", \"code\", \"r\\u00e9duc\", \"qi\", \"bureau\", \"station\", \"uni\", \"corde\", \"bandouli\\u00e8re\", \"esr\", \"induction\", \"perte\", \"liquide\", \"po\", \"deal\", \"d\\u00e9grad\\u00e9\", \"terrible\", \"inf\\u00e9rieur\", \"internet\", \"investissement\", \"vol\", \"protecteur\", \"image\", \"homepod\", \"viennent\", \"co\\u00fbt\", \"quell\", \"bel\", \"c\\u00f4t\\u00e9\", \"date\", \"choix\", \"surprise\", \"technique\", \"num\\u00e9rique\", \"impressionnant\", \"photographie\", \"fiche\", \"poto\", \"one\", \"amazon\", \"sondage\", \"info\", \"diff\\u00e9rence\", \"jolie\", \"grill\", \"tr\\u00e9sorsdeno\\u00eblrfm\", \"week\", \"end\", \"taff\", \"rendez\", \"t\\u00e9moignage\", \"lundi\", \"vacance\", \"beaut\\u00e9\", \"automatique\", \"filtre\", \"grave\", \"forum\", \"chance\", \"igeneration\", \"magn\\u00e9tique\", \"chargement\", \"soir\", \"promo\", \"syst\\u00e8me\", \"plan\", \"grosse\", \"op\\u00e9rateur\", \"salut\", \"bureau\", \"l\\u00e9ger\", \"code\", \"voiture\", \"d\\u00e9voil\\u00e9\", \"parceque\", \"intensif\", \"influenceur\", \"d\\u00e9cevant\", \"propre\", \"tech\", \"avis\", \"peine\", \"couille\", \"exclusif\", \"halolock\", \"qi\", \"eme\", \"fonds\", \"esr\", \"doute\", \"aimant\", \"verre\", \"samsung\", \"actuellement\", \"changement\", \"position\", \"protecteur\", \"prote\", \"couvercle\", \"complet\", \"deal\", \"lentill\", \"affiliation\", \"arri\\u00e8re\", \"solide\", \"effectivement\", \"attention\", \"esr\", \"mac\", \"transfert\", \"galaxy\", \"campagne\", \"plateform\", \"challenge\", \"joli\", \"conflitsfrance\", \"simple\", \"oeil\", \"tremper\", \"stockage\", \"trql\", \"autant\", \"eco\", \"durable\", \"niveau\", \"cas\", \"lien\", \"travail\", \"canon\", \"adepte\", \"condition\", \"airpod\", \"article\", \"deballage\", \"ef\", \"ii\", \"millim\\u00e8tre\", \"abonn\\u00e9\", \"gagner\", \"d\\u00e9ballage\", \"passeport\", \"cr\\u00e9dit\", \"tentez\", \"aimant\", \"simple\", \"carte\", \"antichoc\", \"client\", \"cdi\", \"sha\", \"beat\", \"game\", \"int\\u00e9gr\\u00e9\", \"sneaker\", \"anniversaire\", \"manette\", \"oui\", \"paie\", \"jvai\", \"fr\\u00e8re\", \"lecteur\", \"empreinte\", \"sup\", \"contribuable\", \"boom\", \"cest\", \"bogosse\", \"jdjddk\", \"bourse\", \"ecouteur\", \"t\", \"vie\", \"h\\u00e2te\", \"dur\\u00e9e\", \"usb\", \"jte\", \"di\", \"ancien\", \"utilisez\", \"majorit\\u00e9\", \"ben\", \"bordelle\", \"victoire\", \"pourrai\", \"classique\", \"meuf\", \"suite\", \"cash\", \"c\", \"main\", \"vieux\", \"qualit\\u00e9\", \"composant\", \"dollar\", \"r\\u00e9activit\\u00e9\", \"production\", \"co\\u00fbt\", \"p\\u00e9nurie\", \"iphoneaddict\", \"rayon\", \"ing\\u00e9nieur\", \"miniaturisation\", \"minimum\", \"important\", \"ensembl\", \"vieux\", \"identique\", \"quart\", \"pr\\u00e9c\\u00e9dent\", \"suppl\\u00e9mentaire\", \"d\\u00e9croche\", \"piqu\", \"conversion\", \"perso\", \"imposant\", \"bloc\", \"incroyable\", \"extr\\u00eame\", \"moiti\\u00e9\", \"stockage\", \"d\\u00e9montage\", \"magnifique\", \"qualit\\u00e9\"], \"Freq\": [851.0, 578.0, 440.0, 538.0, 449.0, 522.0, 380.0, 342.0, 328.0, 334.0, 325.0, 394.0, 387.0, 388.0, 359.0, 332.0, 337.0, 313.0, 334.0, 256.0, 303.0, 275.0, 313.0, 369.0, 309.0, 254.0, 290.0, 350.0, 286.0, 222.0, 367.9961330484778, 348.90218732604313, 331.39939516875756, 325.0588003922269, 294.05445036039487, 273.41246604670886, 273.1748618789774, 245.09006297854057, 234.5818818353423, 191.0110009733134, 150.73003453019635, 146.0227818268985, 127.44647314285109, 82.6962956619131, 51.72230025306896, 44.25304278787812, 31.19590112806129, 26.475173923121996, 18.6369964840552, 0.15019619962031697, 0.15014739328864637, 0.15016217090091327, 0.1501063778750076, 0.15008754563443166, 0.15004654697545536, 0.1500490769294829, 0.1500468653140416, 0.15004807164973685, 0.15010113366566574, 0.15004780357513792, 0.15006467552020908, 536.3475035706392, 520.1735355713715, 332.3410207876397, 263.0274332267117, 222.03276912487325, 181.51659470813254, 143.8382276508992, 87.08724069397002, 79.14257387264605, 61.80939542302735, 25.87022913335164, 20.746688768385937, 15.141319649502389, 10.702244267517706, 0.1363294359697672, 0.136184813353774, 0.1361611587749078, 0.13616595988974922, 0.1361542140813774, 0.13615931604936815, 0.13615339927076464, 0.13615663344211995, 0.13616059467525282, 0.13617645214333216, 0.13614686825031455, 0.1361407885095885, 0.13619649648440638, 0.13613836914884594, 0.1361425560218408, 0.136147156567916, 0.13614607851079757, 0.13614699360579346, 357.7164373932094, 311.19599563260925, 307.04454131051546, 275.9134537764128, 217.95162163565738, 149.46768305340987, 136.75557955715703, 111.28061721777192, 110.83532348478673, 68.85274161513537, 64.41404111317435, 47.10981008094387, 12.62621930427693, 12.433862344570676, 0.13901168690246996, 0.13896019713932473, 0.13892579428156487, 0.13892522166409216, 0.13887415563787672, 0.13888067202471605, 0.13886801717856936, 0.13889191823187988, 0.13886224519444454, 0.1388453186219515, 0.13883703857329627, 0.13883666064576428, 0.13883664919341482, 0.13883664919341482, 0.13883664919341482, 0.13883664919341482, 0.13884290217621673, 0.13883851592637583, 0.13884055444457863, 0.13884011925529938, 0.13883706147799516, 0.13883711873974244, 0.13883820671294056, 392.5017403415337, 386.43106159071135, 335.05335074281476, 288.2681879871421, 284.2964251172577, 211.8070294004641, 200.93604293174576, 24.238062297193448, 15.444000932641904, 0.12612648406936475, 0.12612649503877757, 0.12612309452080459, 0.1261235113584916, 0.12611404475523136, 0.12611183990325533, 0.1260810268226551, 0.12609625236764374, 0.12607845998005615, 0.1261118179644297, 0.12609608782645151, 0.12606993674629807, 0.1260535374741381, 0.1260535374741381, 0.12605355941296376, 0.12606265305618825, 0.12605614819438832, 0.1260918316942789, 0.126101484777557, 0.12606852169204483, 0.12604200862126846, 0.12606109539956836, 0.12606867526382423, 0.12606402423279026, 849.7857480166172, 385.8442812506452, 274.976845845208, 124.73732210407853, 121.26515609177235, 117.18653240521986, 97.42196978608008, 88.75229491441739, 63.88040326181321, 42.63943559736392, 22.975554384954393, 11.057071713471414, 6.470770718144143, 2.273953394136402, 0.10851656517175316, 0.10850762279640878, 0.10847118531036702, 0.10847249973180319, 0.10844541403106131, 0.10835332911290668, 0.10835994431587229, 0.10832116888350554, 0.10831856158852561, 0.10831546946596678, 0.10831621286825445, 0.10831652531269419, 0.10831585732802991, 0.10832520911332981, 0.10831622364220064, 0.10832063018619564, 0.10831938040843667, 330.8909093755893, 311.3161896018591, 301.6469867850185, 266.1637595752116, 181.4089598726243, 161.1526373547005, 104.11409216944993, 94.70100777655874, 69.97368774319058, 47.77687441308185, 31.12013969251876, 30.938311212960162, 0.13236002579489128, 0.1321879546862165, 0.13214517010986368, 0.13211879250646788, 0.1321293746412683, 0.13209364827627604, 0.13208164620761892, 0.132080692675394, 0.1320805268437027, 0.1320805372081834, 0.1320995456657975, 0.1320810761611801, 0.13206370529151748, 0.13206370529151748, 0.13206370529151748, 0.13206363274015254, 0.13206363274015254, 0.13206363274015254, 0.13208726375616137, 0.13206386075872806, 0.13207623594869058, 0.13208112798358362, 0.13207161339029586, 0.13206533251498825, 0.1320654257953146, 576.8311435252735, 198.41488241144404, 195.36385064426884, 129.929466294306, 107.87614917940768, 93.7105159349892, 79.97616310865575, 69.40687407039, 44.98088919991346, 42.63683606139542, 42.319753504838275, 40.184019895886344, 25.774669622854258, 24.55406359318635, 21.37558803601967, 19.476931907386025, 18.71537986392668, 0.11705467007141815, 0.11707667727180607, 0.11702850760064579, 0.11704576724266576, 0.11704575798816602, 0.1170656921806116, 0.11702703613518671, 0.11700866595319764, 0.1169829847164119, 0.11697191633471973, 0.11697191633471973, 0.11696997288977379, 0.11697841299353905, 0.11698959242922811, 0.11697986594999864, 0.11697799654105064, 446.99039519859576, 273.51600679137243, 173.75451847742804, 166.89198330039636, 129.64692127689224, 125.71192743141006, 96.88053230567526, 52.819754315644516, 41.22103207543277, 35.99853917696492, 15.457056415397975, 10.23273731712697, 2.5627294680714052, 0.4016222147704177, 0.09761866407198024, 0.09756643263017609, 0.09756644894485414, 0.09724236602256187, 0.09716561361963584, 0.09711773819687329, 0.0971177137248562, 0.09711773819687329, 0.09711817869318087, 0.09710077908903152, 0.09693784439926167, 0.0968482686593817, 0.09684815445663529, 0.09684870099835026, 0.09657647428026679, 0.09657459809229008, 214.66455698903303, 195.06053920315884, 155.3582325997512, 152.61621384629444, 139.42032485132228, 122.0442611928261, 114.53755905800718, 73.42125115996296, 57.659148616778715, 37.04733102640986, 32.7098854969388, 28.158564450257586, 18.69618964782114, 14.777426867113832, 14.195595354518357, 13.548725684999173, 7.368097510506313, 3.9865301824675408, 3.625704641923205, 0.11730240496641402, 0.11730614853249205, 0.11726608835011716, 0.11725620211539924, 0.1172561296592816, 0.11725480129712487, 0.1172597605158433, 0.1172739297121817, 0.11724459303521745, 0.11725117044056316, 0.11724287018975357, 0.11725633897695478, 0.11724994673724302, 0.1172524827013604, 252.1967710968807, 187.52782177729503, 185.52124276201872, 103.14636465885756, 92.90752679474585, 69.2469764735639, 64.59965417426626, 59.01323806105103, 33.956740459119665, 22.39769835923665, 0.13027745270527036, 0.1302373689139273, 0.1302021141487195, 0.13015935714648008, 0.13015935714648008, 0.13015935714648008, 0.13015322025909984, 0.13015944337908966, 0.13015951523959762, 0.13014936853587292, 0.13014609169670968, 0.13014215374087318, 0.13014466885865197, 0.13015679891239654, 0.13014555992895074, 0.13014487006807426, 0.13013199266504688, 0.1301317483393198, 0.1301317483393198, 0.1301317483393198, 0.13014041471658042, 0.13015573537687863, 0.13014137764738715, 0.13013292685165043, 0.13013377480564442, 378.0441135823057, 332.0535353471679, 134.5311502135264, 51.90806782655499, 25.3851002938008, 24.18565481504297, 18.346024391182553, 10.980104774332593, 10.812989789792432, 6.440593819870273, 0.12336160552305037, 0.12335874010989989, 0.1233261981643082, 0.1233088308010346, 0.1233088308010346, 0.1233088308010346, 0.12330884425367848, 0.12330884425367848, 0.12330982629668312, 0.12325327138173171, 0.12323672462973594, 0.12323961694817423, 0.12324228057166622, 0.12322298948031506, 0.12323719547227241, 0.12320189573468143, 0.12318541624590515, 0.12316426868969592, 0.12315588769254684, 0.12313881628743902, 0.12314220635370156, 0.12314620178893956, 323.648913059462, 254.49777414970737, 207.6735618998368, 153.71635235386898, 145.7440840915926, 53.519596927137705, 10.620933716182018, 0.08583371071520478, 0.0858340217181095, 0.08583398363612116, 0.08583237784561311, 0.08583376783818727, 0.08583399633011728, 0.08568087500202713, 0.08567922478253269, 0.08564580149077217, 0.08565787982807187, 0.08563015614056523, 0.08563174923707717, 0.08563292343171745, 0.08560419691851803, 0.08560817648629886, 0.08563633176967328, 0.08561168637622359, 0.08559081109961887, 0.08559081109961887, 0.08560053470063998, 0.08558899585817499, 0.08558172854540139, 0.08558172854540139, 0.08558905932815554, 0.08559000503086582, 326.8992338607888, 220.4230405500655, 130.3882514484811, 116.41837359045353, 55.90431772234861, 49.5686706302711, 17.66256543171041, 11.411238627533013, 0.09917693487276225, 0.09918131478047823, 0.0991843524584103, 0.09917693487276225, 0.099170482750643, 0.09917694664670772, 0.09917755889187232, 0.09916931713004115, 0.09916846940596709, 0.09916846940596709, 0.09916846940596709, 0.09917335559333842, 0.09916846940596709, 0.09917401493428492, 0.09916240582404845, 0.09916886972011317, 0.09916992937520576, 0.0991580965600053, 0.09916241759799392, 0.0991626883987398, 0.099136562013735, 0.099136562013735, 0.09916888149405864, 0.0991518799167955, 0.09915208007386854, 438.69321405539756, 170.7469667667741, 147.4149775255469, 73.7838342283095, 59.57719886170632, 43.17742174871334, 26.007142236868155, 0.07689430851709474, 0.07655231647790559, 0.07646170737292994, 0.07646171279440454, 0.07643922993924186, 0.07637341865908275, 0.07636068361524934, 0.07636068361524934, 0.07634828470284107, 0.07633733332415078, 0.07634007116882335, 0.0763333593832696, 0.07633288229350488, 0.07634123136438757, 0.0763295426651518, 0.07633362503552496, 0.07633362503552496, 0.07633362503552496, 0.07633002517639112, 0.07633002517639112, 0.0763442673901631, 0.0763359345837042, 0.07633002517639112, 0.07633002517639112, 0.07633008481261172, 87.52642531823275, 83.90652406435522, 79.32019157274343, 68.96013638843132, 59.5181921847912, 46.05612054969171, 38.67357286257549, 25.378503092373712, 20.70575990990819, 11.578260118355434, 10.869349023573701, 3.131609868106819, 1.1912069755521826, 0.8294580306438745, 0.12425014982754821, 0.12428591017117303, 0.12427847878847563, 0.12424652078469461, 0.12424462471174301, 0.12424462471174301, 0.12424462471174301, 0.12424462471174301, 0.1242432383358214, 0.1242488959728544, 0.12424314659035601, 0.1242446858753866, 0.12424462471174301, 0.1242386918383138, 0.12423868164437321, 0.1242386918383138, 0.12424327911158381, 0.12424314659035601, 0.12424745862722981, 0.12425497156145202, 340.4380613126466, 103.7535505755695, 99.58505688311404, 72.56711670331315, 60.035797834502276, 42.89252552415193, 41.3536023102189, 32.07738350691101, 6.287818322620537, 0.0780278591164754, 0.07784747580647741, 0.07785899772338731, 0.07779443307308892, 0.07779240552764285, 0.07778637163037785, 0.07778637163037785, 0.07778637163037785, 0.07778637163037785, 0.077786600704022, 0.07778637163037785, 0.07778637163037785, 0.07777724767587053, 0.07776812859527052, 0.07777005866257015, 0.0777658719761803, 0.07778051806768378, 0.07776461450809115, 0.07777005866257015, 0.07776596945432675, 0.07776019387414983, 0.07776653482757613, 170.05222800427134, 133.44757788127515, 51.3800563370772, 28.573737327048367, 12.200560433789397, 0.08799794827633857, 0.0878724433223227, 0.0878724433223227, 0.08787245064594727, 0.0878724433223227, 0.08785042118328287, 0.08784767482407438, 0.08785047977227932, 0.08783815411215161, 0.08781733304753896, 0.08781738431291085, 0.08781162062038528, 0.0878088229958049, 0.08780284691816721, 0.08780304465603023, 0.08780362322237015, 0.08780358660424738, 0.08780358660424738, 0.08780358660424738, 0.08781320984691393, 0.08780284691816721, 0.08780316915764769, 0.08779398533245449, 0.0878133489957805, 0.08779364112210035, 0.08780358660424738, 0.08779907525152089, 0.08779907525152089, 87.46033209540239, 59.14781603057856, 35.86350207655167, 17.343707248195123, 0.08552838213291743, 0.08551805317383425, 0.08551817455499862, 0.08551817455499862, 0.08551805895388968, 0.08546650085930546, 0.08546650085930546, 0.08546650085930546, 0.08546650663936091, 0.08546139707034606, 0.08546139707034606, 0.08546650085930546, 0.0854583798814029, 0.0854583798814029, 0.08546139707034606, 0.08546732162717889, 0.08546139707034606, 0.08545838566145834, 0.08545356509521583, 0.08545842034179102, 0.08544051951007271, 0.08544050794996182, 0.08544050794996182, 0.08544050794996182, 0.08544050794996182, 0.08544050794996182, 0.08544050794996182, 0.08544050794996182, 76.31230843933909, 2.9316344005592003, 0.05771020143406918, 0.057712065908577345, 0.05769062969884748, 0.05769062969884748, 0.05768526365026301, 0.05768202792996273, 0.05768202792996273, 0.05768202792996273, 0.05768202792996273, 0.05768202792996273, 0.05768202792996273, 0.05768203142803873, 0.05768206291072273, 0.05768931092419537, 0.05768223781452275, 0.05768119538787466, 0.05767676682365827, 0.05766695122240142, 0.05766735350114145, 0.05767523816444614, 0.05766627609373336, 0.05766627959180936, 0.057666356549481365, 0.057665548493925294, 0.057665548493925294, 0.057665548493925294, 0.05766638803216537, 0.057665548493925294, 0.05768202792996273, 0.05769062969884748, 0.05766799364904951, 0.05768121287825466, 0.05766695122240142, 0.05766695122240142, 93.93758488260904, 24.873245791753405, 0.40901099102399774, 0.046224460111874366, 0.04621086218822741, 0.046161428003249946, 0.04614416639033024, 0.04611131168032222, 0.046111266844963986, 0.046111266844963986, 0.04611007550544522, 0.04611127004748957, 0.04611485687614821, 0.04611047261861814, 0.04611015556858492, 0.04610699147330391, 0.04610699147330391, 0.04610383698559966, 0.04610375371993437, 0.04610286982287206, 0.04610287302539765, 0.04610286982287206, 0.0461030747845097, 0.0461030747845097, 0.046111266844963986, 0.046101652863148594, 0.04610191547024682, 0.04611007550544522, 0.0461030747845097, 0.04610050956151365, 0.046101652863148594], \"Total\": [851.0, 578.0, 440.0, 538.0, 449.0, 522.0, 380.0, 342.0, 328.0, 334.0, 325.0, 394.0, 387.0, 388.0, 359.0, 332.0, 337.0, 313.0, 334.0, 256.0, 303.0, 275.0, 313.0, 369.0, 309.0, 254.0, 290.0, 350.0, 286.0, 222.0, 369.9604371080766, 350.8664913856419, 333.3636992283563, 327.02310445182565, 296.0187544199936, 275.3767701063076, 275.1391659385762, 247.0543670485039, 236.54618589494115, 192.97530503291225, 152.6943385897952, 147.98708588649734, 129.41077720244996, 84.66059972151191, 53.686604334363516, 46.21734686184906, 33.16020519862954, 28.439477982720845, 20.601300554427993, 2.114796476578936, 2.114501042765035, 2.1152089548325246, 2.1147474766593466, 2.114738214029773, 2.1144267371941887, 2.1144734784269343, 2.1144521872811497, 2.114488276232223, 2.1152418837649707, 2.1145464437485813, 2.1148613017923257, 538.3256741648551, 522.1517061655874, 334.3191913818554, 265.0056038209274, 224.01093971908898, 183.49476530234827, 145.81639824511493, 89.06541128818573, 81.12074446686177, 63.78756601724307, 27.848399727567376, 22.724859362601673, 17.119490243718122, 12.68041486173344, 2.1154811260008803, 2.11444101486398, 2.1143521345097325, 2.1144644714956202, 2.1143297365962233, 2.1144368555682704, 2.1143733881019853, 2.1145170880692454, 2.1145829344876543, 2.114880141160744, 2.114434157639667, 2.11436211728627, 2.1152418837649707, 2.114363348495989, 2.1144319014368227, 2.1145204846926084, 2.1146066472141065, 2.1146420188341226, 359.69195694966476, 313.1715151890646, 309.0200608669708, 277.88897333286815, 219.9271411921128, 151.4432026098653, 138.73109911361246, 113.25613677422731, 112.81084304124212, 70.82826117159077, 66.38956066962974, 49.085329637399276, 14.601738860732345, 14.40938190102609, 2.115021831738084, 2.114735854449187, 2.114461049463716, 2.1144558442609904, 2.1144165239110233, 2.1145659379834685, 2.1145378552116725, 2.114956381014536, 2.1146252024726806, 2.1144138106476458, 2.1143663576414657, 2.1143628150833287, 2.1143627049162284, 2.1143627049162284, 2.1143627049162284, 2.1143627049162284, 2.114579801013772, 2.114452443411978, 2.1146382890433277, 2.1147991763909424, 2.114430265749231, 2.11445766225941, 2.1147892461040234, 394.49002661064617, 388.4193478598238, 337.0416370119272, 290.256474261676, 286.28471138637013, 213.7953156695766, 202.92432920085827, 26.226348572652956, 17.432287236924083, 2.1144325152964463, 2.1144559347430625, 2.1144202369860206, 2.1144429770865387, 2.1147105134821986, 2.1148843311313383, 2.114375618154514, 2.1147155065097443, 2.11444079468443, 2.11506839369053, 2.11490180032552, 2.1145912007289387, 2.114346558564926, 2.1143468966483407, 2.1143590284463465, 2.114518560538352, 2.1144357103963842, 2.1150640906750344, 2.1152861087056256, 2.1147991763909424, 2.1143589194539656, 2.114713229982989, 2.1148613017923257, 2.1148878191515723, 851.7917829471959, 387.8503161812237, 276.9828807757865, 126.74335703465707, 123.27119102235089, 119.1925673357984, 99.42800471665862, 90.75832984499593, 65.88643819239174, 44.645470527942464, 24.98158931553295, 13.063106644049968, 8.476805648722696, 4.279988324714952, 2.1148843311313383, 2.11506839369053, 2.11490180032552, 2.1150640906750344, 2.115557146939924, 2.1144924916281997, 2.1148045797903556, 2.114426902204207, 2.1143939744988938, 2.1143598260146095, 2.114397805607943, 2.1144270501134663, 2.1144199533119656, 2.11468987238129, 2.1145556686672276, 2.1147991763909424, 2.1148246113975904, 332.87317501890965, 313.29845524517947, 303.6292524283389, 268.146025218532, 183.3912255159447, 163.1349029980209, 106.09635781277028, 96.68327341987909, 71.95595338651093, 49.75914006274921, 33.10240533583913, 32.92057685628053, 2.1154811260008803, 2.1145364624717615, 2.114880141160744, 2.1145353300396, 2.114740860647572, 2.1144331930042957, 2.114401901052479, 2.114390368019525, 2.114387925323145, 2.11439174918967, 2.114738214029773, 2.1144591733316305, 2.114335017485015, 2.114335017485015, 2.114335017485015, 2.114334884525491, 2.114334884525491, 2.114335334103957, 2.114776392030337, 2.1143402420142943, 2.114687856421699, 2.11506839369053, 2.1148878191515723, 2.114572909825044, 2.11468987238129, 578.8284862084656, 200.41222509463617, 197.36119332746097, 131.92680897749813, 109.87349186259972, 95.70785861818125, 81.9735057918478, 71.40421675358205, 46.97823188310552, 44.63417874458749, 44.317096198394815, 42.18136257907841, 27.77201230604633, 26.551406276378422, 23.372930719211745, 21.47427460094258, 20.712722555169435, 2.114511868068302, 2.1150640906750344, 2.114469391661105, 2.1148843311313383, 2.11506839369053, 2.1154811260008803, 2.11490180032552, 2.1148878191515723, 2.1145034626702413, 2.1143200323902347, 2.1143200323902347, 2.1143178226341157, 2.1145311333610537, 2.1148613017923257, 2.114880141160744, 2.1153913294270503, 449.00823599718, 275.5338475899567, 175.7723592760123, 168.90982409898064, 131.66476207547652, 127.72976822999428, 98.89837310425948, 54.83759511422875, 43.238872874017, 38.016380004349124, 17.474897213982217, 12.25057811571121, 4.580570266655641, 2.4194630133546564, 2.1156530465102925, 2.1155557383390313, 2.1155794725408, 2.1155490406355955, 2.1153913294270503, 2.115058574018226, 2.115058202652211, 2.1150614018487714, 2.1151036046138416, 2.1152861087056256, 2.114822088879031, 2.114726055955747, 2.1147446282190097, 2.114932746186276, 2.114526886735144, 2.1145035534625105, 216.66161693842986, 197.05759915255567, 157.35529254914803, 154.61327379569127, 141.4173848007191, 124.04132114222286, 116.53461900740393, 75.41831110935972, 59.6562085661755, 39.04439097580664, 34.706945460707686, 30.155624399654375, 20.69324959721793, 16.774486816510624, 16.192655303915146, 15.54578563439596, 9.3651574599031, 5.983590131864324, 5.622764591319989, 2.114383631956761, 2.1146252024726806, 2.114355534573606, 2.1143969349856135, 2.1145028605752056, 2.1144810876624516, 2.1145898206822578, 2.114880141160744, 2.1143633931571117, 2.1144975949782236, 2.114366626519883, 2.114956381014536, 2.114700815975117, 2.1152418837649707, 254.18094150002025, 189.5119921804346, 187.50541316515827, 105.13053506199705, 94.89169719788534, 71.23114687670339, 66.5838245855631, 60.99740846419053, 35.940910862259166, 24.38186876237616, 2.114651325833478, 2.1144889624754426, 2.114375342013697, 2.114470766979808, 2.114470766979808, 2.1144709195798717, 2.1144020449024445, 2.114507824417092, 2.1145159460988254, 2.114403787896817, 2.1143660150786445, 2.114318495144672, 2.1143721305804846, 2.1146088314700098, 2.11443584033712, 2.1144806450239204, 2.114344802948645, 2.114343293238886, 2.1143438149867895, 2.114349797784882, 2.11460470095671, 2.1154811260008803, 2.1148613017923257, 2.1144824487261347, 2.1147155065097443, 380.0352626355371, 334.04468440039926, 136.52229926675784, 53.89921687978639, 27.376249347032203, 26.176803868274373, 20.337173444413956, 12.971253837928472, 12.80413884302383, 8.43174287310167, 2.1146259039734767, 2.1147914324753425, 2.1146120969222624, 2.1145326102328457, 2.1145327327155177, 2.114533042878533, 2.114558232024034, 2.114670502892636, 2.115021831738084, 2.1145204846926084, 2.114416732456299, 2.114502459182755, 2.114785319603615, 2.114512145098522, 2.1148246113975904, 2.114434157639667, 2.114540100594206, 2.114445405788511, 2.1143306803197284, 2.1143051143293627, 2.1143833329813004, 2.1152418837649707, 325.67762078331737, 256.5264818735627, 209.70226962369222, 155.7450600777244, 147.77279181544802, 55.54830465099307, 12.649641450531613, 2.1146014290799124, 2.1146147270343487, 2.114641048155298, 2.1146266105675804, 2.114705138002571, 2.114785319603615, 2.1145105623106124, 2.1145870539997613, 2.1144678905670324, 2.114776392030337, 2.1144196538582385, 2.1144794067286647, 2.1145643637026508, 2.11432482008466, 2.1145028605752056, 2.1152418837649707, 2.114689365896703, 2.114303445750845, 2.1143055293430897, 2.1146066472141065, 2.114420256364393, 2.114304177430043, 2.114340189746617, 2.1145912007289387, 2.1147474766593466, 328.9143769230673, 222.43818361234406, 132.40339451075965, 118.43351665273202, 57.91946078462712, 51.58381369254961, 19.677708529998792, 13.426381710540488, 2.114321587248535, 2.1144241235199193, 2.1145829344876543, 2.11445766225941, 2.114324149991165, 2.1144818015866003, 2.114538583475, 2.1143798578164983, 2.1143781633841843, 2.1143922330088527, 2.114414417271441, 2.1145364624717615, 2.114437664533623, 2.1145684301215453, 2.1143370611273724, 2.11447705058894, 2.114613374772703, 2.114397795716684, 2.1146289158316156, 2.114735854449187, 2.1142807058017326, 2.1142975067839997, 2.1150640906750344, 2.114740860647572, 2.1152418837649707, 440.73117347766674, 172.78492618904335, 149.45293694781614, 75.82179365057868, 61.61515828397552, 45.21538117098254, 28.04510165913736, 2.115557146939924, 2.1148045797903556, 2.1147121332138257, 2.11493863279386, 2.114527511705354, 2.114378939647645, 2.1143465471967557, 2.1143465471967557, 2.1144098379215928, 2.1143853264944057, 2.1144680828336373, 2.1143096880494037, 2.1143225908508065, 2.1145643637026508, 2.1142979018868844, 2.1144276453760877, 2.1144375918969835, 2.1144504068770797, 2.1143593181515854, 2.114365556591304, 2.1147892461040234, 2.1145612065359733, 2.1144277386653028, 2.114449996518327, 2.114499374051465, 89.51647169346981, 85.89657043959228, 81.31023794798048, 70.95018276366838, 61.50823856002826, 48.04616692492878, 40.663619237812554, 27.368549478580196, 22.69580628514526, 13.5683064935925, 12.859395398810767, 5.121656243343884, 3.181253350789249, 2.819504405880941, 2.1143418131604426, 2.114956381014536, 2.1148613017923257, 2.114327272666456, 2.1143191165351447, 2.1143191165351447, 2.114337199675189, 2.114337480080336, 2.114337353064047, 2.1144346082690513, 2.1143401469273333, 2.114375043836903, 2.114385074297659, 2.1142894765015536, 2.1142911211958246, 2.11429420925194, 2.11439967256641, 2.114417646456237, 2.1145659379834685, 2.1152089548325246, 342.474576248289, 105.79006551663336, 101.62157181875642, 74.60363163895553, 62.07231277014467, 44.92904045979432, 43.3901172458613, 34.113898442553406, 8.324333258262932, 2.11493863279386, 2.11468987238129, 2.115557146939924, 2.114473788411323, 2.1144494338744235, 2.1143781633841843, 2.1143798578164983, 2.1143922330088527, 2.114414417271441, 2.114437664533623, 2.1145684301215453, 2.114613374772703, 2.114475555321633, 2.114290331127908, 2.1143721305804846, 2.11428417770478, 2.1147121332138257, 2.1142810722829295, 2.1144806450239204, 2.1144098379215928, 2.1142810111762005, 2.1145898206822578, 172.0787086992358, 135.4740585762396, 53.40653705566824, 30.600218022012807, 14.227041128753836, 2.1147892461040234, 2.1143556985309955, 2.1143556985309955, 2.114488856135223, 2.1145643637026508, 2.1143537098313803, 2.1143871752792376, 2.1145556686672276, 2.114341060980353, 2.114352670092054, 2.1144945899314718, 2.1144098379215928, 2.114415722272807, 2.1142861793183494, 2.114292973655509, 2.1143139581704267, 2.1143136904868456, 2.1143137587215484, 2.114319406029451, 2.1145829069489763, 2.1144468199508837, 2.114475955126504, 2.1142769073111105, 2.1147474766593466, 2.114284708848162, 2.114538583475, 2.1144952600351337, 2.1145106346637537, 89.48916766916555, 61.17665160434172, 37.89233765031483, 19.372542821958287, 2.1143970694478633, 2.11447705058894, 2.114499378994618, 2.1146855801837683, 2.1150640906750344, 2.114305444708675, 2.114305444708675, 2.1143085707327147, 2.114389941783809, 2.114307368357277, 2.1143204380852874, 2.1144609678150585, 2.114335913900355, 2.1143440746251003, 2.114430265749231, 2.1145898206822578, 2.1144468199508837, 2.1144346424549414, 2.1143780009609587, 2.114566667028805, 2.1143039472762304, 2.1143039357161193, 2.114304167248892, 2.114304289370097, 2.1143044963300883, 2.1143063137365856, 2.1143637048593478, 2.1143939717669484, 78.36889110878037, 4.988217070000479, 2.1143267852112446, 2.114540100594206, 2.1143018039921615, 2.114332133729377, 2.1142699347435867, 2.114291766649934, 2.1142917698524597, 2.114291938012146, 2.114292551374233, 2.114292551374233, 2.1142926710099434, 2.114333300754021, 2.1143392420675196, 2.1146088314700098, 2.1143619093548973, 2.1144020449024445, 2.114424303411285, 2.1142502916773593, 2.114285975013434, 2.1145870539997613, 2.1142667020183423, 2.114267378628643, 2.1142702641960702, 2.114248783034699, 2.114248783034699, 2.1142500766364987, 2.1142956073983457, 2.1142787818545723, 2.114932746186276, 2.1155794725408, 2.1144333922916325, 2.1154811260008803, 2.1143644298912814, 2.1148878191515723, 96.00573415796053, 26.941395067104885, 2.4771602663754795, 2.114651325833478, 2.114499374051465, 2.114776392030337, 2.1152418837649707, 2.1142662261824445, 2.1142857733743163, 2.11428643381231, 2.11431917545251, 2.1143894551467994, 2.114558232024034, 2.1143644298912814, 2.11437163419865, 2.114274086433175, 2.1142962188505314, 2.114258508078946, 2.1142577843736703, 2.1142534435785114, 2.114255602388732, 2.114269191907548, 2.114287838210908, 2.1143110969953094, 2.114687856421699, 2.11425240704728, 2.114273424807792, 2.1147474766593466, 2.1145028605752056, 2.11442557118821, 2.1148878191515723], \"Category\": [\"Default\", \"Default\", \"Default\", \"Default\", \"Default\", \"Default\", \"Default\", \"Default\", \"Default\", \"Default\", \"Default\", \"Default\", \"Default\", \"Default\", \"Default\", \"Default\", \"Default\", \"Default\", \"Default\", \"Default\", \"Default\", \"Default\", \"Default\", \"Default\", \"Default\", \"Default\", \"Default\", \"Default\", \"Default\", \"Default\", \"Topic1\", \"Topic1\", \"Topic1\", \"Topic1\", \"Topic1\", \"Topic1\", \"Topic1\", \"Topic1\", \"Topic1\", \"Topic1\", \"Topic1\", \"Topic1\", \"Topic1\", \"Topic1\", \"Topic1\", \"Topic1\", \"Topic1\", \"Topic1\", \"Topic1\", \"Topic1\", \"Topic1\", \"Topic1\", \"Topic1\", \"Topic1\", \"Topic1\", \"Topic1\", \"Topic1\", \"Topic1\", \"Topic1\", \"Topic1\", \"Topic1\", \"Topic2\", \"Topic2\", \"Topic2\", \"Topic2\", \"Topic2\", \"Topic2\", \"Topic2\", \"Topic2\", \"Topic2\", \"Topic2\", \"Topic2\", \"Topic2\", \"Topic2\", \"Topic2\", \"Topic2\", \"Topic2\", \"Topic2\", \"Topic2\", \"Topic2\", \"Topic2\", \"Topic2\", \"Topic2\", \"Topic2\", \"Topic2\", \"Topic2\", \"Topic2\", \"Topic2\", \"Topic2\", \"Topic2\", \"Topic2\", \"Topic2\", \"Topic2\", \"Topic3\", \"Topic3\", \"Topic3\", \"Topic3\", \"Topic3\", \"Topic3\", \"Topic3\", \"Topic3\", \"Topic3\", \"Topic3\", \"Topic3\", \"Topic3\", \"Topic3\", \"Topic3\", \"Topic3\", \"Topic3\", \"Topic3\", \"Topic3\", \"Topic3\", \"Topic3\", \"Topic3\", \"Topic3\", \"Topic3\", \"Topic3\", \"Topic3\", \"Topic3\", \"Topic3\", \"Topic3\", \"Topic3\", \"Topic3\", \"Topic3\", \"Topic3\", \"Topic3\", \"Topic3\", \"Topic3\", \"Topic3\", \"Topic3\", \"Topic4\", \"Topic4\", \"Topic4\", \"Topic4\", \"Topic4\", \"Topic4\", \"Topic4\", \"Topic4\", \"Topic4\", \"Topic4\", \"Topic4\", \"Topic4\", \"Topic4\", \"Topic4\", \"Topic4\", \"Topic4\", \"Topic4\", \"Topic4\", \"Topic4\", \"Topic4\", \"Topic4\", \"Topic4\", \"Topic4\", \"Topic4\", \"Topic4\", \"Topic4\", \"Topic4\", \"Topic4\", \"Topic4\", \"Topic4\", \"Topic4\", \"Topic4\", \"Topic4\", \"Topic5\", \"Topic5\", \"Topic5\", \"Topic5\", \"Topic5\", \"Topic5\", \"Topic5\", \"Topic5\", \"Topic5\", \"Topic5\", \"Topic5\", \"Topic5\", \"Topic5\", \"Topic5\", \"Topic5\", \"Topic5\", \"Topic5\", \"Topic5\", \"Topic5\", \"Topic5\", \"Topic5\", \"Topic5\", \"Topic5\", \"Topic5\", \"Topic5\", \"Topic5\", \"Topic5\", \"Topic5\", \"Topic5\", \"Topic5\", \"Topic5\", \"Topic6\", \"Topic6\", \"Topic6\", \"Topic6\", \"Topic6\", \"Topic6\", \"Topic6\", \"Topic6\", \"Topic6\", \"Topic6\", \"Topic6\", \"Topic6\", \"Topic6\", \"Topic6\", \"Topic6\", \"Topic6\", \"Topic6\", \"Topic6\", \"Topic6\", \"Topic6\", \"Topic6\", \"Topic6\", \"Topic6\", \"Topic6\", \"Topic6\", \"Topic6\", \"Topic6\", \"Topic6\", \"Topic6\", \"Topic6\", \"Topic6\", \"Topic6\", \"Topic6\", \"Topic6\", \"Topic6\", \"Topic6\", \"Topic6\", \"Topic7\", \"Topic7\", \"Topic7\", \"Topic7\", \"Topic7\", \"Topic7\", \"Topic7\", \"Topic7\", \"Topic7\", \"Topic7\", \"Topic7\", \"Topic7\", \"Topic7\", \"Topic7\", \"Topic7\", \"Topic7\", \"Topic7\", \"Topic7\", \"Topic7\", \"Topic7\", \"Topic7\", \"Topic7\", \"Topic7\", \"Topic7\", \"Topic7\", \"Topic7\", \"Topic7\", \"Topic7\", \"Topic7\", \"Topic7\", \"Topic7\", \"Topic7\", \"Topic7\", \"Topic8\", \"Topic8\", \"Topic8\", \"Topic8\", \"Topic8\", \"Topic8\", \"Topic8\", \"Topic8\", \"Topic8\", \"Topic8\", \"Topic8\", \"Topic8\", \"Topic8\", \"Topic8\", \"Topic8\", \"Topic8\", \"Topic8\", \"Topic8\", \"Topic8\", \"Topic8\", \"Topic8\", \"Topic8\", \"Topic8\", \"Topic8\", \"Topic8\", \"Topic8\", \"Topic8\", \"Topic8\", \"Topic8\", \"Topic8\", \"Topic9\", \"Topic9\", \"Topic9\", \"Topic9\", \"Topic9\", \"Topic9\", \"Topic9\", \"Topic9\", \"Topic9\", \"Topic9\", \"Topic9\", \"Topic9\", \"Topic9\", \"Topic9\", \"Topic9\", \"Topic9\", \"Topic9\", \"Topic9\", \"Topic9\", \"Topic9\", \"Topic9\", \"Topic9\", \"Topic9\", \"Topic9\", \"Topic9\", \"Topic9\", \"Topic9\", \"Topic9\", \"Topic9\", \"Topic9\", \"Topic9\", \"Topic9\", \"Topic9\", \"Topic10\", \"Topic10\", \"Topic10\", \"Topic10\", \"Topic10\", \"Topic10\", \"Topic10\", \"Topic10\", \"Topic10\", \"Topic10\", \"Topic10\", \"Topic10\", \"Topic10\", \"Topic10\", \"Topic10\", \"Topic10\", \"Topic10\", \"Topic10\", \"Topic10\", \"Topic10\", \"Topic10\", \"Topic10\", \"Topic10\", \"Topic10\", \"Topic10\", \"Topic10\", \"Topic10\", \"Topic10\", \"Topic10\", \"Topic10\", \"Topic10\", \"Topic10\", \"Topic10\", \"Topic10\", \"Topic10\", \"Topic11\", \"Topic11\", \"Topic11\", \"Topic11\", \"Topic11\", \"Topic11\", \"Topic11\", \"Topic11\", \"Topic11\", \"Topic11\", \"Topic11\", \"Topic11\", \"Topic11\", \"Topic11\", \"Topic11\", \"Topic11\", \"Topic11\", \"Topic11\", \"Topic11\", \"Topic11\", \"Topic11\", \"Topic11\", \"Topic11\", \"Topic11\", \"Topic11\", \"Topic11\", \"Topic11\", \"Topic11\", \"Topic11\", \"Topic11\", \"Topic11\", \"Topic11\", \"Topic12\", \"Topic12\", \"Topic12\", \"Topic12\", \"Topic12\", \"Topic12\", \"Topic12\", \"Topic12\", \"Topic12\", \"Topic12\", \"Topic12\", \"Topic12\", \"Topic12\", \"Topic12\", \"Topic12\", \"Topic12\", \"Topic12\", \"Topic12\", \"Topic12\", \"Topic12\", \"Topic12\", \"Topic12\", \"Topic12\", \"Topic12\", \"Topic12\", \"Topic12\", \"Topic12\", \"Topic12\", \"Topic12\", \"Topic12\", \"Topic12\", \"Topic12\", \"Topic13\", \"Topic13\", \"Topic13\", \"Topic13\", \"Topic13\", \"Topic13\", \"Topic13\", \"Topic13\", \"Topic13\", \"Topic13\", \"Topic13\", \"Topic13\", \"Topic13\", \"Topic13\", \"Topic13\", \"Topic13\", \"Topic13\", \"Topic13\", \"Topic13\", \"Topic13\", \"Topic13\", \"Topic13\", \"Topic13\", \"Topic13\", \"Topic13\", \"Topic13\", \"Topic13\", \"Topic13\", \"Topic13\", \"Topic13\", \"Topic13\", \"Topic13\", \"Topic13\", \"Topic14\", \"Topic14\", \"Topic14\", \"Topic14\", \"Topic14\", \"Topic14\", \"Topic14\", \"Topic14\", \"Topic14\", \"Topic14\", \"Topic14\", \"Topic14\", \"Topic14\", \"Topic14\", \"Topic14\", \"Topic14\", \"Topic14\", \"Topic14\", \"Topic14\", \"Topic14\", \"Topic14\", \"Topic14\", \"Topic14\", \"Topic14\", \"Topic14\", \"Topic14\", \"Topic14\", \"Topic14\", \"Topic14\", \"Topic14\", \"Topic14\", \"Topic14\", \"Topic15\", \"Topic15\", \"Topic15\", \"Topic15\", \"Topic15\", \"Topic15\", \"Topic15\", \"Topic15\", \"Topic15\", \"Topic15\", \"Topic15\", \"Topic15\", \"Topic15\", \"Topic15\", \"Topic15\", \"Topic15\", \"Topic15\", \"Topic15\", \"Topic15\", \"Topic15\", \"Topic15\", \"Topic15\", \"Topic15\", \"Topic15\", \"Topic15\", \"Topic15\", \"Topic15\", \"Topic15\", \"Topic15\", \"Topic15\", \"Topic15\", \"Topic15\", \"Topic15\", \"Topic15\", \"Topic16\", \"Topic16\", \"Topic16\", \"Topic16\", \"Topic16\", \"Topic16\", \"Topic16\", \"Topic16\", \"Topic16\", \"Topic16\", \"Topic16\", \"Topic16\", \"Topic16\", \"Topic16\", \"Topic16\", \"Topic16\", \"Topic16\", \"Topic16\", \"Topic16\", \"Topic16\", \"Topic16\", \"Topic16\", \"Topic16\", \"Topic16\", \"Topic16\", \"Topic16\", \"Topic16\", \"Topic16\", \"Topic16\", \"Topic16\", \"Topic16\", \"Topic17\", \"Topic17\", \"Topic17\", \"Topic17\", \"Topic17\", \"Topic17\", \"Topic17\", \"Topic17\", \"Topic17\", \"Topic17\", \"Topic17\", \"Topic17\", \"Topic17\", \"Topic17\", \"Topic17\", \"Topic17\", \"Topic17\", \"Topic17\", \"Topic17\", \"Topic17\", \"Topic17\", \"Topic17\", \"Topic17\", \"Topic17\", \"Topic17\", \"Topic17\", \"Topic17\", \"Topic17\", \"Topic17\", \"Topic17\", \"Topic17\", \"Topic17\", \"Topic17\", \"Topic18\", \"Topic18\", \"Topic18\", \"Topic18\", \"Topic18\", \"Topic18\", \"Topic18\", \"Topic18\", \"Topic18\", \"Topic18\", \"Topic18\", \"Topic18\", \"Topic18\", \"Topic18\", \"Topic18\", \"Topic18\", \"Topic18\", \"Topic18\", \"Topic18\", \"Topic18\", \"Topic18\", \"Topic18\", \"Topic18\", \"Topic18\", \"Topic18\", \"Topic18\", \"Topic18\", \"Topic18\", \"Topic18\", \"Topic18\", \"Topic18\", \"Topic18\", \"Topic19\", \"Topic19\", \"Topic19\", \"Topic19\", \"Topic19\", \"Topic19\", \"Topic19\", \"Topic19\", \"Topic19\", \"Topic19\", \"Topic19\", \"Topic19\", \"Topic19\", \"Topic19\", \"Topic19\", \"Topic19\", \"Topic19\", \"Topic19\", \"Topic19\", \"Topic19\", \"Topic19\", \"Topic19\", \"Topic19\", \"Topic19\", \"Topic19\", \"Topic19\", \"Topic19\", \"Topic19\", \"Topic19\", \"Topic19\", \"Topic19\", \"Topic19\", \"Topic19\", \"Topic19\", \"Topic19\", \"Topic19\", \"Topic20\", \"Topic20\", \"Topic20\", \"Topic20\", \"Topic20\", \"Topic20\", \"Topic20\", \"Topic20\", \"Topic20\", \"Topic20\", \"Topic20\", \"Topic20\", \"Topic20\", \"Topic20\", \"Topic20\", \"Topic20\", \"Topic20\", \"Topic20\", \"Topic20\", \"Topic20\", \"Topic20\", \"Topic20\", \"Topic20\", \"Topic20\", \"Topic20\", \"Topic20\", \"Topic20\", \"Topic20\", \"Topic20\", \"Topic20\", \"Topic20\"], \"logprob\": [30.0, 29.0, 28.0, 27.0, 26.0, 25.0, 24.0, 23.0, 22.0, 21.0, 20.0, 19.0, 18.0, 17.0, 16.0, 15.0, 14.0, 13.0, 12.0, 11.0, 10.0, 9.0, 8.0, 7.0, 6.0, 5.0, 4.0, 3.0, 2.0, 1.0, -2.526900053024292, -2.580199956893921, -2.631700038909912, -2.6510000228881836, -2.751199960708618, -2.8239998817443848, -2.824899911880493, -2.9333999156951904, -2.9772000312805176, -3.1826999187469482, -3.4195001125335693, -3.451200008392334, -3.5873000621795654, -4.019800186157227, -4.489099979400635, -4.645100116729736, -4.994699954986572, -5.15880012512207, -5.509900093078613, -10.33080005645752, -10.331100463867188, -10.331000328063965, -10.331399917602539, -10.331500053405762, -10.33180046081543, -10.33180046081543, -10.33180046081543, -10.33180046081543, -10.331399917602539, -10.33180046081543, -10.331700325012207, -1.8601000308990479, -1.8906999826431274, -2.33870005607605, -2.5725998878479004, -2.7421000003814697, -2.94350004196167, -3.1761999130249023, -3.677999973297119, -3.7736001014709473, -4.0208001136779785, -4.8917999267578125, -5.112500190734863, -5.427499771118164, -5.774400234222412, -10.13759994506836, -10.13860034942627, -10.138799667358398, -10.138799667358398, -10.138899803161621, -10.138799667358398, -10.138899803161621, -10.138799667358398, -10.138799667358398, -10.138699531555176, -10.138899803161621, -10.138999938964844, -10.13860034942627, -10.138999938964844, -10.138899803161621, -10.138899803161621, -10.138899803161621, -10.138899803161621, -2.174799919128418, -2.3141000270843506, -2.327500104904175, -2.4344000816345215, -2.6702001094818115, -3.0473999977111816, -3.1363000869750977, -3.3424999713897705, -3.3464999198913574, -3.8225998878479004, -3.88919997215271, -4.202000141143799, -5.518700122833252, -5.53410005569458, -10.027700424194336, -10.02810001373291, -10.028300285339355, -10.028300285339355, -10.02869987487793, -10.02869987487793, -10.028800010681152, -10.028599739074707, -10.028800010681152, -10.028900146484375, -10.029000282287598, -10.029000282287598, -10.029000282287598, -10.029000282287598, -10.029000282287598, -10.029000282287598, -10.028900146484375, -10.029000282287598, -10.029000282287598, -10.029000282287598, -10.029000282287598, -10.029000282287598, -10.029000282287598, -2.0388998985290527, -2.054500102996826, -2.1970999240875244, -2.3475000858306885, -2.3613998889923096, -2.6558001041412354, -2.7084999084472656, -4.823500156402588, -5.274199962615967, -10.081899642944336, -10.081899642944336, -10.081899642944336, -10.081899642944336, -10.081999778747559, -10.081999778747559, -10.082300186157227, -10.082099914550781, -10.082300186157227, -10.081999778747559, -10.082099914550781, -10.08240032196045, -10.082500457763672, -10.082500457763672, -10.082500457763672, -10.08240032196045, -10.082500457763672, -10.082200050354004, -10.082099914550781, -10.08240032196045, -10.082599639892578, -10.08240032196045, -10.08240032196045, -10.08240032196045, -1.2484999895095825, -2.0380001068115234, -2.376800060272217, -3.1672000885009766, -3.195499897003174, -3.2297000885009766, -3.414400100708008, -3.5076000690460205, -3.836400032043457, -4.240699768066406, -4.859000205993652, -5.590400218963623, -6.126200199127197, -7.171899795532227, -10.214300155639648, -10.214400291442871, -10.214699745178223, -10.214699745178223, -10.21500015258789, -10.215800285339355, -10.215800285339355, -10.216099739074707, -10.216099739074707, -10.21619987487793, -10.21619987487793, -10.21619987487793, -10.21619987487793, -10.216099739074707, -10.21619987487793, -10.216099739074707, -10.216099739074707, -2.152899980545044, -2.213900089263916, -2.245500087738037, -2.3705999851226807, -2.753999948501587, -2.8724000453948975, -3.3092000484466553, -3.4040000438690186, -3.7065999507904053, -4.088200092315674, -4.516900062561035, -4.52269983291626, -9.976900100708008, -9.97819995880127, -9.978599548339844, -9.978799819946289, -9.978699684143066, -9.979000091552734, -9.979000091552734, -9.979100227355957, -9.979100227355957, -9.979100227355957, -9.978899955749512, -9.979100227355957, -9.97920036315918, -9.97920036315918, -9.97920036315918, -9.97920036315918, -9.97920036315918, -9.97920036315918, -9.979000091552734, -9.97920036315918, -9.979100227355957, -9.979100227355957, -9.979100227355957, -9.97920036315918, -9.97920036315918, -1.4838999509811401, -2.551100015640259, -2.5666000843048096, -2.974400043487549, -3.1605000495910645, -3.3011999130249023, -3.459700107574463, -3.6015000343322754, -4.035200119018555, -4.088699817657471, -4.096199989318848, -4.1479997634887695, -4.5920000076293945, -4.640600204467773, -4.779200077056885, -4.872200012207031, -4.912099838256836, -9.986599922180176, -9.98639965057373, -9.986800193786621, -9.986599922180176, -9.986599922180176, -9.986499786376953, -9.986800193786621, -9.986900329589844, -9.987199783325195, -9.987299919128418, -9.987299919128418, -9.987299919128418, -9.987199783325195, -9.987099647521973, -9.987199783325195, -9.987199783325195, -1.6126999855041504, -2.1038999557495117, -2.5576000213623047, -2.597899913787842, -2.850399971008301, -2.8812999725341797, -3.1417999267578125, -3.7483999729156494, -3.996299982070923, -4.131800174713135, -4.977200031280518, -5.389699935913086, -6.774199962615967, -8.6274995803833, -10.041899681091309, -10.042499542236328, -10.042499542236328, -10.04580020904541, -10.046600341796875, -10.047100067138672, -10.047100067138672, -10.047100067138672, -10.047100067138672, -10.047300338745117, -10.04889965057373, -10.04990005493164, -10.04990005493164, -10.04990005493164, -10.05270004272461, -10.05270004272461, -2.3329999446868896, -2.428800106048584, -2.6563000679016113, -2.6742000579833984, -2.7646000385284424, -2.897700071334839, -2.961199998855591, -3.405900001525879, -3.6475000381469727, -4.089900016784668, -4.214399814605713, -4.364200115203857, -4.773799896240234, -5.008999824523926, -5.049200057983398, -5.095799922943115, -5.704899787902832, -6.319200038909912, -6.414000034332275, -9.845100402832031, -9.845100402832031, -9.845399856567383, -9.845499992370605, -9.845499992370605, -9.845499992370605, -9.845399856567383, -9.84529972076416, -9.845600128173828, -9.845499992370605, -9.845600128173828, -9.845499992370605, -9.845499992370605, -9.845499992370605, -2.058300018310547, -2.3545000553131104, -2.365299940109253, -2.9523000717163086, -3.0569000244140625, -3.350800037384033, -3.420300006866455, -3.510699987411499, -4.063399791717529, -4.479499816894531, -9.62660026550293, -9.626899719238281, -9.627099990844727, -9.6274995803833, -9.6274995803833, -9.6274995803833, -9.6274995803833, -9.6274995803833, -9.6274995803833, -9.6274995803833, -9.627599716186523, -9.627599716186523, -9.627599716186523, -9.6274995803833, -9.627599716186523, -9.627599716186523, -9.627699851989746, -9.627699851989746, -9.627699851989746, -9.627699851989746, -9.627599716186523, -9.6274995803833, -9.627599716186523, -9.627699851989746, -9.627699851989746, -1.5872999429702759, -1.7171000242233276, -2.6205999851226807, -3.5729000568389893, -4.2881999015808105, -4.336599826812744, -4.6128997802734375, -5.126299858093262, -5.141600131988525, -5.6596999168396, -9.614999771118164, -9.614999771118164, -9.615300178527832, -9.615400314331055, -9.615400314331055, -9.615400314331055, -9.615400314331055, -9.615400314331055, -9.615400314331055, -9.615900039672852, -9.616000175476074, -9.616000175476074, -9.616000175476074, -9.616100311279297, -9.616000175476074, -9.616299629211426, -9.616399765014648, -9.616600036621094, -9.616700172424316, -9.616800308227539, -9.616800308227539, -9.616700172424316, -1.6845999956130981, -1.9249999523162842, -2.1282999515533447, -2.4291999340057373, -2.4825000762939453, -3.484299898147583, -5.101500034332275, -9.919699668884277, -9.919599533081055, -9.919599533081055, -9.919699668884277, -9.919699668884277, -9.919599533081055, -9.92140007019043, -9.921500205993652, -9.921799659729004, -9.921699523925781, -9.92199993133545, -9.92199993133545, -9.92199993133545, -9.922300338745117, -9.922300338745117, -9.92199993133545, -9.922200202941895, -9.922499656677246, -9.922499656677246, -9.92240047454834, -9.922499656677246, -9.922599792480469, -9.922599792480469, -9.922499656677246, -9.922499656677246, -1.5994000434875488, -1.993499994277954, -2.5185999870300293, -2.6319000720977783, -3.3654000759124756, -3.4856998920440674, -4.517600059509277, -4.954500198364258, -9.699899673461914, -9.699899673461914, -9.699799537658691, -9.699899673461914, -9.699999809265137, -9.699899673461914, -9.699899673461914, -9.699999809265137, -9.699999809265137, -9.699999809265137, -9.699999809265137, -9.699999809265137, -9.699999809265137, -9.699899673461914, -9.70009994506836, -9.699999809265137, -9.699999809265137, -9.70009994506836, -9.70009994506836, -9.70009994506836, -9.700300216674805, -9.700300216674805, -9.699999809265137, -9.700200080871582, -9.700200080871582, -1.2229000329971313, -2.1665000915527344, -2.3134000301361084, -3.0055999755859375, -3.219399929046631, -3.5413999557495117, -4.048299789428711, -9.871999740600586, -9.876500129699707, -9.877699851989746, -9.877699851989746, -9.878000259399414, -9.878800392150879, -9.878999710083008, -9.878999710083008, -9.87909984588623, -9.879300117492676, -9.879300117492676, -9.879300117492676, -9.879300117492676, -9.879199981689453, -9.879400253295898, -9.879300117492676, -9.879300117492676, -9.879300117492676, -9.879400253295898, -9.879400253295898, -9.879199981689453, -9.879300117492676, -9.879400253295898, -9.879400253295898, -9.879400253295898, -2.7730000019073486, -2.8152999877929688, -2.871500015258789, -3.011399984359741, -3.1586999893188477, -3.41510009765625, -3.5897998809814453, -4.011099815368652, -4.214600086212158, -4.79580020904541, -4.859000205993652, -6.103400230407715, -7.070000171661377, -7.432000160217285, -9.330400466918945, -9.330100059509277, -9.3302001953125, -9.330499649047852, -9.330499649047852, -9.330499649047852, -9.330499649047852, -9.330499649047852, -9.330499649047852, -9.330400466918945, -9.330499649047852, -9.330499649047852, -9.330499649047852, -9.330499649047852, -9.330499649047852, -9.330499649047852, -9.330499649047852, -9.330499649047852, -9.330499649047852, -9.330400466918945, -1.3700000047683716, -2.558199882507324, -2.5992000102996826, -2.9156999588012695, -3.105299949645996, -3.441499948501587, -3.478100061416626, -3.732100009918213, -5.361599922180176, -9.750900268554688, -9.753199577331543, -9.753100395202637, -9.753899574279785, -9.753899574279785, -9.753999710083008, -9.753999710083008, -9.753999710083008, -9.753999710083008, -9.753999710083008, -9.753999710083008, -9.753999710083008, -9.75409984588623, -9.754199981689453, -9.754199981689453, -9.754300117492676, -9.75409984588623, -9.754300117492676, -9.754199981689453, -9.754300117492676, -9.754300117492676, -9.754300117492676, -1.7782000303268433, -2.0206000804901123, -2.9749999046325684, -3.561800003051758, -4.412799835205078, -9.34469985961914, -9.346199989318848, -9.346199989318848, -9.346199989318848, -9.346199989318848, -9.346400260925293, -9.346400260925293, -9.346400260925293, -9.346500396728516, -9.346799850463867, -9.346799850463867, -9.346799850463867, -9.34689998626709, -9.34689998626709, -9.34689998626709, -9.34689998626709, -9.34689998626709, -9.34689998626709, -9.34689998626709, -9.346799850463867, -9.34689998626709, -9.34689998626709, -9.347000122070312, -9.346799850463867, -9.347100257873535, -9.34689998626709, -9.347000122070312, -9.347000122070312, -2.206399917602539, -2.597599983215332, -3.097899913787842, -3.824399948120117, -9.136500358581543, -9.13659954071045, -9.13659954071045, -9.13659954071045, -9.13659954071045, -9.137200355529785, -9.137200355529785, -9.137200355529785, -9.137200355529785, -9.137299537658691, -9.137299537658691, -9.137200355529785, -9.137299537658691, -9.137299537658691, -9.137299537658691, -9.137200355529785, -9.137299537658691, -9.137299537658691, -9.137399673461914, -9.137299537658691, -9.137499809265137, -9.137499809265137, -9.137499809265137, -9.137499809265137, -9.137499809265137, -9.137499809265137, -9.137499809265137, -9.137499809265137, -1.8406000137329102, -5.099800109863281, -9.027700424194336, -9.027700424194336, -9.02810001373291, -9.02810001373291, -9.02810001373291, -9.028200149536133, -9.028200149536133, -9.028200149536133, -9.028200149536133, -9.028200149536133, -9.028200149536133, -9.028200149536133, -9.028200149536133, -9.02810001373291, -9.028200149536133, -9.028200149536133, -9.028300285339355, -9.028499603271484, -9.028499603271484, -9.028300285339355, -9.028499603271484, -9.028499603271484, -9.028499603271484, -9.028499603271484, -9.028499603271484, -9.028499603271484, -9.028499603271484, -9.028499603271484, -9.028200149536133, -9.02810001373291, -9.028400421142578, -9.028200149536133, -9.028499603271484, -9.028499603271484, -1.5444999933242798, -2.873300075531006, -6.981100082397461, -9.161399841308594, -9.161700248718262, -9.162699699401855, -9.163100242614746, -9.163800239562988, -9.163800239562988, -9.163800239562988, -9.163800239562988, -9.163800239562988, -9.163700103759766, -9.163800239562988, -9.163800239562988, -9.163900375366211, -9.163900375366211, -9.163999557495117, -9.163999557495117, -9.163999557495117, -9.163999557495117, -9.163999557495117, -9.163999557495117, -9.163999557495117, -9.163800239562988, -9.163999557495117, -9.163999557495117, -9.163800239562988, -9.163999557495117, -9.16409969329834, -9.163999557495117], \"loglift\": [30.0, 29.0, 28.0, 27.0, 26.0, 25.0, 24.0, 23.0, 22.0, 21.0, 20.0, 19.0, 18.0, 17.0, 16.0, 15.0, 14.0, 13.0, 12.0, 11.0, 10.0, 9.0, 8.0, 7.0, 6.0, 5.0, 4.0, 3.0, 2.0, 1.0, 2.185, 2.1847, 2.1844, 2.1843, 2.1837, 2.1832, 2.1832, 2.1823, 2.182, 2.1801, 2.1774, 2.177, 2.175, 2.1668, 2.153, 2.1469, 2.1293, 2.1187, 2.0901, -0.4545, -0.4546, -0.4549, -0.455, -0.4552, -0.4553, -0.4553, -0.4553, -0.4553, -0.4553, -0.4553, -0.4554, 2.4767, 2.4766, 2.4745, 2.4729, 2.4716, 2.4696, 2.4668, 2.458, 2.4557, 2.4489, 2.4067, 2.3894, 2.3576, 2.3108, -0.2615, -0.2621, -0.2622, -0.2623, -0.2623, -0.2623, -0.2623, -0.2624, -0.2624, -0.2624, -0.2624, -0.2624, -0.2624, -0.2624, -0.2624, -0.2624, -0.2625, -0.2625, 2.5653, 2.5645, 2.5644, 2.5637, 2.5618, 2.5577, 2.5565, 2.5532, 2.5531, 2.5425, 2.5406, 2.5297, 2.4254, 2.4233, -0.1515, -0.1517, -0.1518, -0.1518, -0.1522, -0.1522, -0.1523, -0.1523, -0.1524, -0.1524, -0.1524, -0.1524, -0.1524, -0.1524, -0.1524, -0.1524, -0.1525, -0.1524, -0.1525, -0.1526, -0.1524, -0.1525, -0.1526, 2.6088, 2.6087, 2.608, 2.607, 2.6069, 2.6045, 2.604, 2.535, 2.4928, -0.2054, -0.2054, -0.2054, -0.2054, -0.2056, -0.2057, -0.2057, -0.2057, -0.2058, -0.2058, -0.2058, -0.2059, -0.2059, -0.2059, -0.2059, -0.2059, -0.2059, -0.2059, -0.206, -0.206, -0.206, -0.206, -0.206, -0.2061, 2.6295, 2.6267, 2.6246, 2.6159, 2.6155, 2.6149, 2.6115, 2.6095, 2.6009, 2.5859, 2.5482, 2.4651, 2.3618, 1.9994, -0.338, -0.3382, -0.3384, -0.3385, -0.339, -0.3393, -0.3394, -0.3396, -0.3396, -0.3396, -0.3396, -0.3396, -0.3396, -0.3397, -0.3397, -0.3398, -0.3398, 2.6646, 2.6643, 2.6641, 2.6632, 2.6597, 2.6584, 2.6517, 2.6499, 2.6427, 2.63, 2.6089, 2.6085, -0.1009, -0.1018, -0.1022, -0.1023, -0.1023, -0.1024, -0.1025, -0.1025, -0.1025, -0.1025, -0.1025, -0.1025, -0.1026, -0.1026, -0.1026, -0.1026, -0.1026, -0.1026, -0.1026, -0.1026, -0.1027, -0.1028, -0.1028, -0.1027, -0.1028, 2.7804, 2.7739, 2.7737, 2.7686, 2.7655, 2.7628, 2.7592, 2.7555, 2.7404, 2.7381, 2.7378, 2.7354, 2.7092, 2.7057, 2.6946, 2.6863, 2.6825, -0.1101, -0.1101, -0.1103, -0.1103, -0.1104, -0.1104, -0.1105, -0.1106, -0.1107, -0.1107, -0.1107, -0.1107, -0.1107, -0.1108, -0.1109, -0.1111, 2.9056, 2.9027, 2.8985, 2.8981, 2.8946, 2.8942, 2.8895, 2.8726, 2.8623, 2.8555, 2.7874, 2.7301, 2.3293, 1.1143, -0.166, -0.1665, -0.1665, -0.1698, -0.1705, -0.1708, -0.1708, -0.1708, -0.1709, -0.1711, -0.1726, -0.1735, -0.1735, -0.1736, -0.1762, -0.1762, 2.914, 2.913, 2.9105, 2.9102, 2.909, 2.907, 2.906, 2.8964, 2.8892, 2.8707, 2.864, 2.8547, 2.8217, 2.7965, 2.7916, 2.7857, 2.6834, 2.5171, 2.4845, 0.0315, 0.0314, 0.0312, 0.0311, 0.031, 0.031, 0.031, 0.031, 0.031, 0.031, 0.031, 0.0308, 0.0309, 0.0306, 3.029, 3.0263, 3.0262, 3.0178, 3.0157, 3.0086, 3.0066, 3.0038, 2.9801, 2.952, 0.2499, 0.2496, 0.2494, 0.2491, 0.2491, 0.2491, 0.249, 0.249, 0.249, 0.249, 0.249, 0.249, 0.249, 0.249, 0.249, 0.2489, 0.2489, 0.2489, 0.2489, 0.2489, 0.2488, 0.2485, 0.2487, 0.2488, 0.2487, 3.0977, 3.097, 3.0883, 3.0653, 3.0275, 3.0238, 2.9999, 2.9363, 2.9339, 2.8336, 0.2615, 0.2613, 0.2612, 0.2611, 0.2611, 0.2611, 0.2611, 0.261, 0.2608, 0.2606, 0.2605, 0.2605, 0.2604, 0.2604, 0.2603, 0.2602, 0.2601, 0.2599, 0.2599, 0.2598, 0.2598, 0.2594, 3.1548, 3.1531, 3.1513, 3.1479, 3.1472, 3.1238, 2.9862, -0.0432, -0.0432, -0.0432, -0.0432, -0.0432, -0.0433, -0.0449, -0.045, -0.0453, -0.0453, -0.0455, -0.0455, -0.0455, -0.0457, -0.0458, -0.0458, -0.0458, -0.0459, -0.0459, -0.0459, -0.046, -0.046, -0.046, -0.046, -0.0461, 3.2301, 3.2271, 3.2209, 3.2191, 3.2008, 3.1964, 3.1282, 3.0736, 0.1767, 0.1767, 0.1766, 0.1766, 0.1766, 0.1766, 0.1766, 0.1766, 0.1766, 0.1765, 0.1765, 0.1765, 0.1765, 0.1765, 0.1765, 0.1765, 0.1765, 0.1764, 0.1764, 0.1763, 0.1763, 0.1763, 0.1762, 0.1762, 0.176, 3.314, 3.3068, 3.3049, 3.2914, 3.285, 3.2725, 3.2432, 0.004, -0.0001, -0.0013, -0.0014, -0.0015, -0.0023, -0.0024, -0.0024, -0.0026, -0.0027, -0.0027, -0.0027, -0.0028, -0.0028, -0.0028, -0.0028, -0.0028, -0.0028, -0.0028, -0.0028, -0.0028, -0.0028, -0.0028, -0.0029, -0.0029, 3.3579, 3.3569, 3.3556, 3.3519, 3.3475, 3.338, 3.3302, 3.3049, 3.2886, 3.2217, 3.2122, 2.8884, 2.398, 2.1568, 0.5461, 0.5461, 0.5461, 0.5461, 0.5461, 0.5461, 0.5461, 0.5461, 0.5461, 0.5461, 0.5461, 0.5461, 0.5461, 0.5461, 0.5461, 0.5461, 0.5461, 0.5461, 0.546, 0.5458, 3.4191, 3.4057, 3.4049, 3.3974, 3.3917, 3.3787, 3.377, 3.3635, 3.1445, 0.1254, 0.1232, 0.1229, 0.1226, 0.1226, 0.1225, 0.1225, 0.1225, 0.1225, 0.1225, 0.1225, 0.1224, 0.1224, 0.1224, 0.1223, 0.1223, 0.1223, 0.1223, 0.1223, 0.1223, 0.1223, 0.1222, 3.6992, 3.696, 3.6724, 3.6425, 3.5574, 0.5316, 0.5304, 0.5304, 0.5304, 0.5303, 0.5302, 0.5301, 0.5301, 0.53, 0.5298, 0.5297, 0.5297, 0.5297, 0.5297, 0.5297, 0.5297, 0.5297, 0.5297, 0.5296, 0.5296, 0.5296, 0.5296, 0.5296, 0.5296, 0.5296, 0.5295, 0.5295, 0.5295, 3.9248, 3.914, 3.8927, 3.8371, 0.74, 0.7399, 0.7399, 0.7398, 0.7396, 0.7394, 0.7394, 0.7394, 0.7393, 0.7393, 0.7393, 0.7393, 0.7393, 0.7393, 0.7393, 0.7392, 0.7392, 0.7392, 0.7392, 0.7392, 0.7391, 0.7391, 0.7391, 0.7391, 0.7391, 0.7391, 0.739, 0.739, 4.4233, 3.9184, 0.8489, 0.8488, 0.8485, 0.8485, 0.8485, 0.8484, 0.8484, 0.8484, 0.8484, 0.8484, 0.8484, 0.8484, 0.8484, 0.8484, 0.8484, 0.8483, 0.8482, 0.8482, 0.8481, 0.8481, 0.8481, 0.8481, 0.8481, 0.8481, 0.8481, 0.8481, 0.8481, 0.8481, 0.8481, 0.8479, 0.8481, 0.8478, 0.8481, 0.8479, 4.5164, 4.4583, 2.7371, 0.7151, 0.7148, 0.7136, 0.713, 0.7128, 0.7128, 0.7128, 0.7127, 0.7127, 0.7127, 0.7127, 0.7127, 0.7127, 0.7127, 0.7126, 0.7126, 0.7126, 0.7126, 0.7126, 0.7126, 0.7126, 0.7126, 0.7126, 0.7126, 0.7125, 0.7125, 0.7125, 0.7123]}, \"token.table\": {\"Topic\": [8, 2, 17, 1, 15, 1, 1, 6, 4, 12, 2, 13, 2, 15, 11, 12, 8, 6, 3, 7, 1, 6, 9, 18, 5, 2, 4, 17, 7, 16, 11, 6, 15, 7, 11, 5, 8, 11, 4, 20, 7, 9, 14, 10, 5, 9, 15, 3, 12, 15, 11, 9, 5, 9, 7, 20, 4, 9, 8, 10, 6, 15, 2, 10, 2, 11, 9, 9, 14, 1, 9, 5, 12, 1, 1, 5, 16, 10, 3, 7, 13, 1, 15, 11, 6, 1, 12, 6, 18, 9, 1, 7, 16, 1, 2, 7, 7, 8, 7, 7, 1, 14, 7, 13, 4, 11, 8, 1, 9, 2, 1, 1, 18, 6, 7, 13, 8, 5, 4, 15, 3, 6, 8, 12, 9, 15, 2, 16, 19, 9, 19, 9, 7, 11, 15, 12, 7, 16, 17, 15, 2, 5, 6, 5, 3, 6, 16, 5, 10, 5, 10, 10, 3, 2, 5, 13, 15, 1, 5, 8, 13, 3, 10, 8, 14, 4, 9, 4, 16, 17, 6, 3, 14, 3, 16, 3, 1, 8, 13, 15, 16, 3, 10, 11, 15, 9, 3, 8, 3, 18, 1, 9, 13, 10, 5, 8, 17, 2, 3, 9, 14, 7, 14, 2, 2, 9, 4, 7, 1], \"Freq\": [0.9864575951717097, 0.9336263575052886, 0.9549392791904896, 0.9934634925983213, 0.3546722601015247, 0.9348554936349182, 0.9938135733399728, 0.9728173515260852, 0.9939424783536316, 0.9880032596415852, 0.995879155157055, 0.9692963048062039, 0.8761943134086102, 0.9779203007770134, 0.9888494460250531, 0.8695898648999031, 0.9899167350127605, 0.9802410011428503, 0.9934630105848034, 0.9879636828866248, 0.9931803158082024, 0.9926636879094065, 0.9679346955164102, 0.9644202232835632, 0.9206780124953521, 0.8674795044123877, 0.8604722831911494, 0.947705665990299, 0.9968410569762334, 0.9830790773416063, 0.7115966521157518, 0.9646468958159078, 0.9754790806022463, 0.9361943136666211, 0.8590972133977763, 0.8420661562163944, 0.980804809577017, 0.913200332269409, 0.992225929611335, 0.9791081837397291, 0.9415697134747006, 0.8942151354064645, 0.9510038152148923, 0.9914197284534801, 0.9755802731476133, 0.983543216700487, 0.9715873670243286, 0.9875219101940885, 0.9721268783859205, 0.9725133510908021, 0.8480290446429746, 0.9895583871852476, 0.9952293034090008, 0.9476393170769798, 0.9578904568390761, 0.927940069091845, 0.9905170109053137, 0.8645895152609718, 0.9482208317376752, 0.9686773697387554, 0.9869610691066742, 0.8554056904586103, 0.9910230289573773, 0.9762130728383166, 0.9924318437345853, 0.9647635533551019, 0.6684949857609496, 0.9868312178777842, 0.9835872282076824, 0.9142221251668889, 0.747451394167208, 0.9713683385512016, 0.9887954065647185, 0.9520234930733463, 0.9929095482386726, 0.7078137978666638, 0.9449156306188761, 0.9920216543394519, 0.9800793419368978, 0.9821555027681205, 0.9890388261010383, 0.9803852119288736, 0.9252810733472293, 0.8850787475062858, 0.9943727066057418, 0.9897639491613948, 0.9948488300200599, 0.9416602915354404, 0.9500601502135325, 0.9895657484245299, 0.9222718706424671, 0.9880361823535223, 0.9927744235049584, 0.9947009547199127, 0.9930629427157042, 0.9663294849675466, 0.9829486454754475, 0.6549402858937814, 0.9477155229660841, 0.8984752597901093, 0.9813711249204651, 0.9270781156726153, 0.975925077587153, 0.9941797104128559, 0.993771299310515, 0.994644542663166, 0.995527396078337, 0.9913690246806581, 0.9508183322372709, 0.9768101751475357, 0.9889037235732299, 0.991684554808535, 0.9721847042050071, 0.9946340729185065, 0.948286104437974, 0.9794524664849097, 0.9664902315573656, 0.9806262428143077, 0.991602642630621, 0.913457252075638, 0.9839479699608299, 0.9825898176557499, 0.9873560545036173, 0.9901511849571618, 0.7113938232759924, 0.31434151566454344, 0.9719762623210947, 0.9380340993242641, 0.9697725580231545, 0.9285166716800239, 0.6014172915694128, 0.9005656149679679, 0.9173106021862888, 0.916842259306049, 0.8844139838429271, 0.9918824453986744, 0.9853948640732547, 0.9570647305160999, 0.8434642095570504, 0.5857480192855204, 0.9956798007665841, 0.9862449829683748, 0.9919968039176302, 0.9815756544289486, 0.993202417101288, 0.9869132665126433, 0.9785046437589484, 0.9928411432134984, 0.9672542077691196, 0.467290994335411, 0.9919713615743334, 0.9797343839186147, 0.9640069817373733, 0.9738569402832823, 0.981604831703798, 0.8192825317460148, 0.9830592999837767, 0.9946803373035973, 0.9978964542942685, 0.9469602312445728, 0.9668598298633233, 0.9930660514007679, 0.9800646710539866, 0.8583741475742717, 0.9759726911898927, 0.9962229042304362, 0.9850320093401854, 0.9920194432482751, 0.7207784472160886, 0.98173776882275, 0.9364878378320469, 0.8327907527487686, 0.9737863485389182, 0.9912373653307784, 0.9840430354526644, 0.9952960945693274, 0.9922251492938895, 0.994433179069022, 0.914740655526983, 0.9574124835363896, 0.966614539113139, 0.9575162344267846, 0.9023098358214593, 0.9938790093185604, 0.9590882644241963, 0.9829060281087392, 0.9838672019096212, 0.8162880074349411, 0.9741874056859653, 0.877530645111334, 0.9865725723660685, 0.9923308200044402, 0.9818479388716552, 0.9459971710317092, 0.96314361774029, 0.9886932325625922, 0.9879200122144743, 0.9918539076584266, 0.8903049235430573, 0.972237448440286, 0.9960720421385068, 0.9633872787502413, 0.9896696648925818, 0.9240981281741054, 0.9875432511913949, 0.9181738185071922, 0.9151102347898159, 0.8847795957292092, 0.9685842612831455], \"Term\": [\"achat\", \"actualit\\u00e9\", \"actuellement\", \"air\", \"amazon\", \"am\\u00e9ricain\", \"an\", \"angle\", \"ann\\u00e9e\", \"app\", \"apple\", \"application\", \"bande\", \"bel\", \"bient\\u00f4t\", \"black\", \"boutique\", \"bo\\u00eete\", \"bug\", \"cam\\u00e9ra\", \"capacit\\u00e9\", \"capteur\", \"caract\\u00e9ristique\", \"cas\", \"casque\", \"cass\\u00e9\", \"champ\", \"changement\", \"charge\", \"chargement\", \"chaud\", \"choc\", \"choix\", \"chute\", \"classe\", \"classement\", \"coloris\", \"comparaison\", \"compatible\", \"composant\", \"concurrence\", \"concurrent\", \"connexion\", \"coup\", \"co\\u00fbte\", \"cuir\", \"c\\u00f4t\\u00e9\", \"d\", \"daron\", \"date\", \"davantage\", \"design\", \"disponible\", \"dispositif\", \"dolby\", \"dollar\", \"double\", \"d\\u00e9cembre\", \"d\\u00e9tail\", \"encoche\", \"face\", \"fiche\", \"fin\", \"forfait\", \"format\", \"fran\\u00e7ais\", \"fr\\u00e9quence\", \"futur\", \"gamme\", \"garantie\", \"garde\", \"gars\", \"gb\", \"gestion\", \"go\", \"google\", \"grosse\", \"gr\\u00e2ce\", \"haut\", \"hdr\", \"heure\", \"hier\", \"impressionnant\", \"innovation\", \"ipad\", \"keynote\", \"l\", \"lidar\", \"lien\", \"lieu\", \"litt\\u00e9ralement\", \"luminosit\\u00e9\", \"magn\\u00e9tique\", \"magsafe\", \"mal\", \"march\\u00e9\", \"marque\", \"masque\", \"mate\", \"mauvais\", \"message\", \"mesure\", \"million\", \"mise\", \"mode\", \"mod\\u00e8le\", \"mois\", \"moment\", \"montre\", \"mort\", \"m\\u00e8re\", \"m\\u00e9moire\", \"niveau\", \"noir\", \"note\", \"nouveaut\\u00e9\", \"nouvelle\", \"novembre\", \"nuit\", \"num\\u00e9rique\", \"octobre\", \"officiel\", \"offre\", \"oled\", \"onde\", \"one\", \"optique\", \"op\\u00e9rateur\", \"oui\", \"ouverture\", \"paie\", \"parfaitement\", \"pays\", \"peur\", \"photographie\", \"pi\\u00e8ce\", \"place\", \"plan\", \"position\", \"poto\", \"pouce\", \"presque\", \"prise\", \"processeur\", \"prochain\", \"produit\", \"promo\", \"pr\\u00e9commande\", \"pr\\u00e9sent\", \"pr\\u00e9sident\", \"puce\", \"puissance\", \"puissant\", \"pute\", \"p\\u00e8re\", \"quasi\", \"quell\", \"question\", \"rapide\", \"rappel\", \"rapport\", \"recharge\", \"remise\", \"r\\u00e9alit\\u00e9\", \"r\\u00e9duction\", \"r\\u00e9seau\", \"r\\u00e9sistant\", \"s\", \"salut\", \"samsung\", \"secteur\", \"service\", \"silicone\", \"site\", \"soir\", \"sortie\", \"souci\", \"sp\\u00e9cial\", \"standard\", \"surprise\", \"syst\\u00e8me\", \"s\\u00e9rie\", \"s\\u00fbr\", \"taille\", \"technique\", \"technologie\", \"temps\", \"tendance\", \"train\", \"travail\", \"tweet\", \"utilisateur\", \"utilisation\", \"vendre\", \"vendredi\", \"vente\", \"verre\", \"version\", \"ville\", \"vivement\", \"x\", \"xiaomi\", \"xr\", \"ya\", \"youtube\", \"\\u00e9cologie\", \"\\u00e9galement\", \"\\u00e9lev\\u00e9\", \"\\u00e9v\\u00e9nement\"]}, \"R\": 30, \"lambda.step\": 0.01, \"plot.opts\": {\"xlab\": \"PC1\", \"ylab\": \"PC2\"}, \"topic.order\": [1, 8, 10, 16, 13, 6, 15, 2, 7, 20, 3, 14, 4, 5, 12, 9, 19, 11, 17, 18]};\n",
       "\n",
       "function LDAvis_load_lib(url, callback){\n",
       "  var s = document.createElement('script');\n",
       "  s.src = url;\n",
       "  s.async = true;\n",
       "  s.onreadystatechange = s.onload = callback;\n",
       "  s.onerror = function(){console.warn(\"failed to load library \" + url);};\n",
       "  document.getElementsByTagName(\"head\")[0].appendChild(s);\n",
       "}\n",
       "\n",
       "if(typeof(LDAvis) !== \"undefined\"){\n",
       "   // already loaded: just create the visualization\n",
       "   !function(LDAvis){\n",
       "       new LDAvis(\"#\" + \"ldavis_el70711405894423600326094098053\", ldavis_el70711405894423600326094098053_data);\n",
       "   }(LDAvis);\n",
       "}else if(typeof define === \"function\" && define.amd){\n",
       "   // require.js is available: use it to load d3/LDAvis\n",
       "   require.config({paths: {d3: \"https://cdnjs.cloudflare.com/ajax/libs/d3/3.5.5/d3.min\"}});\n",
       "   require([\"d3\"], function(d3){\n",
       "      window.d3 = d3;\n",
       "      LDAvis_load_lib(\"https://cdn.rawgit.com/bmabey/pyLDAvis/files/ldavis.v1.0.0.js\", function(){\n",
       "        new LDAvis(\"#\" + \"ldavis_el70711405894423600326094098053\", ldavis_el70711405894423600326094098053_data);\n",
       "      });\n",
       "    });\n",
       "}else{\n",
       "    // require.js not available: dynamically load d3 & LDAvis\n",
       "    LDAvis_load_lib(\"https://cdnjs.cloudflare.com/ajax/libs/d3/3.5.5/d3.min.js\", function(){\n",
       "         LDAvis_load_lib(\"https://cdn.rawgit.com/bmabey/pyLDAvis/files/ldavis.v1.0.0.js\", function(){\n",
       "                 new LDAvis(\"#\" + \"ldavis_el70711405894423600326094098053\", ldavis_el70711405894423600326094098053_data);\n",
       "            })\n",
       "         });\n",
       "}\n",
       "</script>"
      ],
      "text/plain": [
       "PreparedData(topic_coordinates=              x         y  topics  cluster       Freq\n",
       "topic                                                \n",
       "0      0.349075 -0.113577       1        1  11.188142\n",
       "7      0.030960  0.029255       2        1   8.370774\n",
       "9     -0.005962 -0.006260       3        1   7.647454\n",
       "15     0.011456  0.006924       4        1   7.324967\n",
       "12     0.087377  0.339043       5        1   7.194441\n",
       "5     -0.014973 -0.011417       6        1   6.921016\n",
       "14    -0.015092 -0.011589       7        1   6.179811\n",
       "1      0.000792 -0.001665       8        1   5.447168\n",
       "6     -0.031738 -0.018926       9        1   5.375945\n",
       "19    -0.040779 -0.021261      10        1   4.798578\n",
       "2     -0.040907 -0.021244      11        1   4.491588\n",
       "13    -0.021638 -0.014560      12        1   4.238290\n",
       "3     -0.038366 -0.020735      13        1   3.931102\n",
       "4     -0.026579 -0.016711      14        1   3.620260\n",
       "11    -0.042787 -0.020446      15        1   3.403568\n",
       "8     -0.036115 -0.020153      16        1   3.254614\n",
       "18    -0.042708 -0.020514      17        1   2.445222\n",
       "10    -0.041037 -0.018963      18        1   1.929853\n",
       "16    -0.039666 -0.018022      19        1   1.167943\n",
       "17    -0.041311 -0.019180      20        1   1.069264, topic_info=            Term        Freq       Total Category  logprob  loglift\n",
       "268       rapide  851.000000  851.000000  Default  30.0000  30.0000\n",
       "205       charge  578.000000  578.000000  Default  29.0000  29.0000\n",
       "166            x  440.000000  440.000000  Default  28.0000  28.0000\n",
       "189        pouce  538.000000  538.000000  Default  27.0000  27.0000\n",
       "58          mois  449.000000  449.000000  Default  26.0000  26.0000\n",
       "...          ...         ...         ...      ...      ...      ...\n",
       "1598      moitié    0.046102    2.114273  Topic20  -9.1640   0.7126\n",
       "343     stockage    0.046110    2.114747  Topic20  -9.1638   0.7125\n",
       "122    démontage    0.046103    2.114503  Topic20  -9.1640   0.7125\n",
       "501   magnifique    0.046101    2.114426  Topic20  -9.1641   0.7125\n",
       "399      qualité    0.046102    2.114888  Topic20  -9.1640   0.7123\n",
       "\n",
       "[688 rows x 6 columns], token_table=      Topic      Freq          Term\n",
       "term                               \n",
       "299       8  0.986458         achat\n",
       "4         2  0.933626     actualité\n",
       "295      17  0.954939  actuellement\n",
       "174       1  0.993463           air\n",
       "316      15  0.354672        amazon\n",
       "...     ...       ...           ...\n",
       "259       2  0.987543       youtube\n",
       "66        9  0.918174      écologie\n",
       "211       4  0.915110     également\n",
       "212       7  0.884780         élevé\n",
       "280       1  0.968584     événement\n",
       "\n",
       "[209 rows x 3 columns], R=30, lambda_step=0.01, plot_opts={'xlab': 'PC1', 'ylab': 'PC2'}, topic_order=[1, 8, 10, 16, 13, 6, 15, 2, 7, 20, 3, 14, 4, 5, 12, 9, 19, 11, 17, 18])"
      ]
     },
     "execution_count": 89,
     "metadata": {},
     "output_type": "execute_result"
    }
   ],
   "source": [
    "# Plotting tools\n",
    "import pyLDAvis\n",
    "import pyLDAvis.gensim  # don't skip this\n",
    "\n",
    "# Visualize the topics\n",
    "pyLDAvis.enable_notebook()\n",
    "vis = pyLDAvis.gensim.prepare(lda_model, corpus, id2word)\n",
    "vis"
   ]
  },
  {
   "cell_type": "markdown",
   "metadata": {},
   "source": [
    "## Building LDA Mallet Model"
   ]
  },
  {
   "cell_type": "code",
   "execution_count": 94,
   "metadata": {},
   "outputs": [],
   "source": [
    "# Download File: http://mallet.cs.umass.edu/dist/mallet-2.0.8.zip\n",
    "mallet_path = '../packages/mallet-2.0.8/bin/mallet' # update this path\n",
    "ldamallet = gensim.models.wrappers.LdaMallet(mallet_path, corpus=corpus, num_topics=20, id2word=id2word)"
   ]
  },
  {
   "cell_type": "code",
   "execution_count": 95,
   "metadata": {},
   "outputs": [
    {
     "name": "stdout",
     "output_type": "stream",
     "text": [
      "[(19,\n",
      "  [('mois', 0.07043701799485862),\n",
      "   ('super', 0.043701799485861184),\n",
      "   ('rouge', 0.030848329048843187),\n",
      "   ('côté', 0.02724935732647815),\n",
      "   ('code', 0.02519280205655527),\n",
      "   ('suite', 0.02210796915167095),\n",
      "   ('succès', 0.018508997429305913),\n",
      "   ('janvier', 0.018508997429305913),\n",
      "   ('remise', 0.018508997429305913),\n",
      "   ('album', 0.017480719794344474)]),\n",
      " (12,\n",
      "  [('incroyable', 0.05217391304347826),\n",
      "   ('monde', 0.04552429667519182),\n",
      "   ('journée', 0.03836317135549872),\n",
      "   ('soir', 0.03580562659846547),\n",
      "   ('hier', 0.03529411764705882),\n",
      "   ('capacité', 0.034782608695652174),\n",
      "   ('stockage', 0.03375959079283888),\n",
      "   ('keynote', 0.03324808184143223),\n",
      "   ('demain', 0.028132992327365727),\n",
      "   ('magnifique', 0.024552429667519183)]),\n",
      " (4,\n",
      "  [('verre', 0.04224652087475149),\n",
      "   ('pixel', 0.0352882703777336),\n",
      "   ('niveau', 0.03429423459244533),\n",
      "   ('cas', 0.031312127236580514),\n",
      "   ('grosse', 0.0268389662027833),\n",
      "   ('résistant', 0.024353876739562623),\n",
      "   ('promo', 0.023359840954274354),\n",
      "   ('plan', 0.022365805168986085),\n",
      "   ('carte', 0.020874751491053677),\n",
      "   ('marque', 0.01739562624254473)]),\n",
      " (1,\n",
      "  [('mieux', 0.07413167444271643),\n",
      "   ('iphoneaddict', 0.03110419906687403),\n",
      "   ('gb', 0.03110419906687403),\n",
      "   ('souci', 0.030585795749092794),\n",
      "   ('idée', 0.025401762571280455),\n",
      "   ('app', 0.024883359253499222),\n",
      "   ('application', 0.022291342664593053),\n",
      "   ('ami', 0.021254536029030584),\n",
      "   ('rhinoshield', 0.01918092275790565),\n",
      "   ('système', 0.01866251944012442)]),\n",
      " (14,\n",
      "  [('disponible', 0.08932769158439116),\n",
      "   ('site', 0.048895157498824636),\n",
      "   ('impossible', 0.047014574518100614),\n",
      "   ('précommande', 0.0465444287729196),\n",
      "   ('commande', 0.03338034790785143),\n",
      "   ('client', 0.03338034790785143),\n",
      "   ('livraison', 0.032910202162670425),\n",
      "   ('octobre', 0.031969910672308414),\n",
      "   ('forfait', 0.031969910672308414),\n",
      "   ('bonjour', 0.024447578749412318)]),\n",
      " (11,\n",
      "  [('ipad', 0.07003891050583658),\n",
      "   ('air', 0.052042801556420236),\n",
      "   ('composant', 0.05009727626459144),\n",
      "   ('processeur', 0.03842412451361868),\n",
      "   ('puce', 0.03696498054474708),\n",
      "   ('face', 0.03356031128404669),\n",
      "   ('officiel', 0.0306420233463035),\n",
      "   ('fonds', 0.0306420233463035),\n",
      "   ('pièce', 0.025778210116731516),\n",
      "   ('info', 0.024319066147859923)]),\n",
      " (16,\n",
      "  [('pouce', 0.056338028169014086),\n",
      "   ('noir', 0.04856726566294318),\n",
      "   ('vrai', 0.0412821758135017),\n",
      "   ('cadeau', 0.04031083050024284),\n",
      "   ('bel', 0.03302574065080136),\n",
      "   ('blanc', 0.025740650801359885),\n",
      "   ('info', 0.02525497814473045),\n",
      "   ('mec', 0.02525497814473045),\n",
      "   ('portable', 0.023312287518212724),\n",
      "   ('rose', 0.01942690626517727)]),\n",
      " (13,\n",
      "  [('semaine', 0.060851926977687626),\n",
      "   ('moment', 0.05070993914807302),\n",
      "   ('temps', 0.04969574036511156),\n",
      "   ('iphonexr', 0.04158215010141988),\n",
      "   ('voiture', 0.03600405679513185),\n",
      "   ('bientôt', 0.029411764705882353),\n",
      "   ('objectif', 0.02434077079107505),\n",
      "   ('moyen', 0.02028397565922921),\n",
      "   ('actuellement', 0.01977687626774848),\n",
      "   ('qi', 0.019269776876267748)]),\n",
      " (5,\n",
      "  [('réseau', 0.08487434803224277),\n",
      "   ('rapide', 0.07871028923660503),\n",
      "   ('charge', 0.07064959696538643),\n",
      "   ('compatible', 0.05926979611190138),\n",
      "   ('recharge', 0.044096728307254626),\n",
      "   ('usb', 0.02939781887150308),\n",
      "   ('avai', 0.02797534376481745),\n",
      "   ('magnétique', 0.026078710289236605),\n",
      "   ('xr', 0.024656235182550973),\n",
      "   ('secteur', 0.020862968231389285)]),\n",
      " (17,\n",
      "  [('modèle', 0.07677356656948493),\n",
      "   ('mal', 0.05102040816326531),\n",
      "   ('heure', 0.04081632653061224),\n",
      "   ('bug', 0.034013605442176874),\n",
      "   ('produit', 0.03158406219630709),\n",
      "   ('utilisateur', 0.030612244897959183),\n",
      "   ('faite', 0.028668610301263362),\n",
      "   ('lieu', 0.028182701652089408),\n",
      "   ('utilisation', 0.02672497570456754),\n",
      "   ('fond', 0.0228377065111759)])]\n",
      "\n",
      "Coherence Score:  0.5087335474413531\n"
     ]
    }
   ],
   "source": [
    "# Show Topics\n",
    "pprint(ldamallet.show_topics(formatted=False))\n",
    "\n",
    "# Compute Coherence Score\n",
    "coherence_model_ldamallet = CoherenceModel(model=ldamallet, texts=all_tweets, dictionary=id2word, coherence='c_v')\n",
    "coherence_ldamallet = coherence_model_ldamallet.get_coherence()\n",
    "print('\\nCoherence Score: ', coherence_ldamallet)"
   ]
  },
  {
   "cell_type": "markdown",
   "metadata": {},
   "source": [
    "## How to find the optimal number of topics for LDA?"
   ]
  },
  {
   "cell_type": "code",
   "execution_count": 96,
   "metadata": {},
   "outputs": [],
   "source": [
    "def compute_coherence_values(dictionary, corpus, texts, limit, start=2, step=3):\n",
    "    \"\"\"\n",
    "    Compute c_v coherence for various number of topics\n",
    "\n",
    "    Parameters:\n",
    "    ----------\n",
    "    dictionary : Gensim dictionary\n",
    "    corpus : Gensim corpus\n",
    "    texts : List of input texts\n",
    "    limit : Max num of topics\n",
    "\n",
    "    Returns:\n",
    "    -------\n",
    "    model_list : List of LDA topic models\n",
    "    coherence_values : Coherence values corresponding to the LDA model with respective number of topics\n",
    "    \"\"\"\n",
    "    coherence_values = []\n",
    "    model_list = []\n",
    "    for num_topics in range(start, limit, step):\n",
    "        model = gensim.models.wrappers.LdaMallet(mallet_path, corpus=corpus, num_topics=num_topics, id2word=id2word)\n",
    "        model_list.append(model)\n",
    "        coherencemodel = CoherenceModel(model=model, texts=texts, dictionary=dictionary, coherence='c_v')\n",
    "        coherence_values.append(coherencemodel.get_coherence())\n",
    "\n",
    "    return model_list, coherence_values"
   ]
  },
  {
   "cell_type": "code",
   "execution_count": 97,
   "metadata": {},
   "outputs": [],
   "source": [
    "# Can take a long time to run.\n",
    "model_list, coherence_values = compute_coherence_values(dictionary=id2word, corpus=corpus, texts=all_tweets, start=2, limit=40, step=6)"
   ]
  },
  {
   "cell_type": "code",
   "execution_count": 98,
   "metadata": {},
   "outputs": [
    {
     "data": {
      "image/png": "[encoded data removed]",
      "text/plain": [
       "<Figure size 432x288 with 1 Axes>"
      ]
     },
     "metadata": {
      "needs_background": "light"
     },
     "output_type": "display_data"
    }
   ],
   "source": [
    "# Show graph\n",
    "limit=40; start=2; step=6;\n",
    "x = range(start, limit, step)\n",
    "plt.plot(x, coherence_values)\n",
    "plt.xlabel(\"Num Topics\")\n",
    "plt.ylabel(\"Coherence score\")\n",
    "plt.legend((\"coherence_values\"), loc='best')\n",
    "plt.show()"
   ]
  },
  {
   "cell_type": "code",
   "execution_count": 99,
   "metadata": {},
   "outputs": [
    {
     "name": "stdout",
     "output_type": "stream",
     "text": [
      "Num Topics = 2  has Coherence Value of 0.4922\n",
      "Num Topics = 8  has Coherence Value of 0.4914\n",
      "Num Topics = 14  has Coherence Value of 0.5222\n",
      "Num Topics = 20  has Coherence Value of 0.5028\n",
      "Num Topics = 26  has Coherence Value of 0.508\n",
      "Num Topics = 32  has Coherence Value of 0.5217\n",
      "Num Topics = 38  has Coherence Value of 0.5415\n"
     ]
    }
   ],
   "source": [
    "# Print the coherence scores\n",
    "for m, cv in zip(x, coherence_values):\n",
    "    print(\"Num Topics =\", m, \" has Coherence Value of\", round(cv, 4))"
   ]
  },
  {
   "cell_type": "code",
   "execution_count": 100,
   "metadata": {},
   "outputs": [
    {
     "name": "stdout",
     "output_type": "stream",
     "text": [
      "[(0,\n",
      "  '0.051*\"main\" + 0.035*\"site\" + 0.035*\"jamais\" + 0.030*\"demain\" + '\n",
      "  '0.027*\"vite\" + 0.024*\"commande\" + 0.024*\"livraison\" + 0.022*\"bonjour\" + '\n",
      "  '0.021*\"boîte\" + 0.020*\"choix\"'),\n",
      " (1,\n",
      "  '0.034*\"temps\" + 0.032*\"vie\" + 0.031*\"verre\" + 0.027*\"part\" + 0.027*\"mort\" + '\n",
      "  '0.023*\"compte\" + 0.020*\"fille\" + 0.020*\"mec\" + 0.017*\"grave\" + '\n",
      "  '0.017*\"résistant\"'),\n",
      " (2,\n",
      "  '0.068*\"disponible\" + 0.058*\"modèle\" + 0.034*\"précommande\" + 0.027*\"point\" + '\n",
      "  '0.027*\"journée\" + 0.026*\"capacité\" + 0.026*\"soir\" + 0.025*\"hier\" + '\n",
      "  '0.024*\"stockage\" + 0.023*\"octobre\"'),\n",
      " (3,\n",
      "  '0.042*\"oui\" + 0.040*\"monde\" + 0.035*\"moment\" + 0.031*\"mieux\" + '\n",
      "  '0.024*\"client\" + 0.023*\"utilisateur\" + 0.020*\"gars\" + 0.017*\"truc\" + '\n",
      "  '0.017*\"gosse\" + 0.016*\"mère\"'),\n",
      " (4,\n",
      "  '0.065*\"apple\" + 0.047*\"mise\" + 0.044*\"igeneration\" + 0.041*\"mal\" + '\n",
      "  '0.029*\"argent\" + 0.025*\"bug\" + 0.020*\"magnétique\" + 0.014*\"choisir\" + '\n",
      "  '0.014*\"message\" + 0.014*\"système\"'),\n",
      " (5,\n",
      "  '0.062*\"réseau\" + 0.050*\"taille\" + 0.043*\"compatible\" + 0.039*\"samsung\" + '\n",
      "  '0.039*\"gamme\" + 0.033*\"heure\" + 0.031*\"mobile\" + 0.025*\"besoin\" + '\n",
      "  '0.020*\"chance\" + 0.019*\"haut\"'),\n",
      " (6,\n",
      "  '0.065*\"année\" + 0.050*\"oled\" + 0.034*\"fin\" + 0.028*\"grâce\" + 0.027*\"vente\" '\n",
      "  '+ 0.023*\"prochain\" + 0.022*\"rapport\" + 0.015*\"jeu\" + 0.015*\"marché\" + '\n",
      "  '0.013*\"performance\"'),\n",
      " (7,\n",
      "  '0.035*\"écouteur\" + 0.026*\"prise\" + 0.023*\"cas\" + 0.022*\"boutique\" + '\n",
      "  '0.022*\"avis\" + 0.021*\"faite\" + 0.021*\"usb\" + 0.021*\"iphoneaddict\" + '\n",
      "  '0.019*\"ancien\" + 0.017*\"objectif\"'),\n",
      " (8,\n",
      "  '0.062*\"qualité\" + 0.049*\"mode\" + 0.041*\"info\" + 0.040*\"pouce\" + '\n",
      "  '0.035*\"noir\" + 0.034*\"incroyable\" + 0.033*\"capteur\" + 0.030*\"nuit\" + '\n",
      "  '0.029*\"cadeau\" + 0.021*\"bord\"'),\n",
      " (9,\n",
      "  '0.059*\"rapide\" + 0.054*\"charge\" + 0.044*\"magsafe\" + 0.033*\"recharge\" + '\n",
      "  '0.021*\"souci\" + 0.021*\"avai\" + 0.019*\"xr\" + 0.018*\"génération\" + '\n",
      "  '0.017*\"technologie\" + 0.017*\"app\"'),\n",
      " (10,\n",
      "  '0.035*\"différence\" + 0.031*\"pixel\" + 0.031*\"caméra\" + 0.030*\"super\" + '\n",
      "  '0.030*\"vrai\" + 0.028*\"niveau\" + 0.028*\"processeur\" + 0.027*\"puce\" + '\n",
      "  '0.021*\"rouge\" + 0.019*\"luminosité\"'),\n",
      " (11,\n",
      "  '0.052*\"coup\" + 0.050*\"mois\" + 0.042*\"semaine\" + 0.035*\"version\" + '\n",
      "  '0.029*\"format\" + 0.025*\"achète\" + 0.024*\"forfait\" + 0.022*\"normal\" + '\n",
      "  '0.022*\"attention\" + 0.013*\"remise\"'),\n",
      " (12,\n",
      "  '0.050*\"question\" + 0.039*\"sortie\" + 0.038*\"impossible\" + 0.024*\"officiel\" + '\n",
      "  '0.021*\"date\" + 0.020*\"image\" + 0.020*\"bel\" + 0.019*\"coloris\" + '\n",
      "  '0.017*\"double\" + 0.016*\"ligne\"'),\n",
      " (13,\n",
      "  '0.049*\"ipad\" + 0.038*\"air\" + 0.036*\"composant\" + 0.029*\"iphonexr\" + '\n",
      "  '0.025*\"voiture\" + 0.024*\"face\" + 0.024*\"code\" + 0.021*\"bientôt\" + '\n",
      "  '0.021*\"fonds\" + 0.016*\"pénurie\"')]\n"
     ]
    }
   ],
   "source": [
    "# Select the model and print the topics\n",
    "optimal_model = model_list[2]\n",
    "model_topics = optimal_model.show_topics(formatted=False)\n",
    "pprint(optimal_model.print_topics(num_words=10))"
   ]
  }
 ],
 "metadata": {
  "kernel_info": {
   "name": "pfe-env"
  },
  "kernelspec": {
   "display_name": "Python (pfe-env)",
   "language": "python",
   "name": "pfe-env"
  },
  "language_info": {
   "codemirror_mode": {
    "name": "ipython",
    "version": 3
   },
   "file_extension": ".py",
   "mimetype": "text/x-python",
   "name": "python",
   "nbconvert_exporter": "python",
   "pygments_lexer": "ipython3",
   "version": "3.8.5"
  },
  "nteract": {
   "version": "nteract-front-end@1.0.0"
  }
 },
 "nbformat": 4,
 "nbformat_minor": 4
}
