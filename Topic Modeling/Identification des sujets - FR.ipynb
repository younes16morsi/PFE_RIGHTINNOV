{
 "cells": [
  {
   "cell_type": "code",
   "execution_count": 5,
   "metadata": {},
   "outputs": [],
   "source": [
    "import pandas as pd\n",
    "import numpy as np\n",
    "from matplotlib import pyplot as plt\n",
    "\n",
    "%matplotlib inline\n",
    "\n",
    "import warnings\n",
    "warnings.filterwarnings(\"ignore\",category=DeprecationWarning)"
   ]
  },
  {
   "cell_type": "code",
   "execution_count": 6,
   "metadata": {},
   "outputs": [],
   "source": [
    "# si vous travailler sur votre machine local\n",
    "\n",
    "# tweets_df = pd.read_json('../input/iphone-11-tweets-fr.json', lines=True)\n",
    "# tweets_df.head(3)"
   ]
  },
  {
   "cell_type": "code",
   "execution_count": 7,
   "metadata": {},
   "outputs": [
    {
     "data": {
      "text/html": [
       "<div>\n",
       "<style scoped>\n",
       "    .dataframe tbody tr th:only-of-type {\n",
       "        vertical-align: middle;\n",
       "    }\n",
       "\n",
       "    .dataframe tbody tr th {\n",
       "        vertical-align: top;\n",
       "    }\n",
       "\n",
       "    .dataframe thead th {\n",
       "        text-align: right;\n",
       "    }\n",
       "</style>\n",
       "<table border=\"1\" class=\"dataframe\">\n",
       "  <thead>\n",
       "    <tr style=\"text-align: right;\">\n",
       "      <th></th>\n",
       "      <th>url</th>\n",
       "      <th>date</th>\n",
       "      <th>content</th>\n",
       "      <th>renderedContent</th>\n",
       "      <th>id</th>\n",
       "      <th>user</th>\n",
       "      <th>outlinks</th>\n",
       "      <th>tcooutlinks</th>\n",
       "      <th>lang</th>\n",
       "      <th>media</th>\n",
       "      <th>quotedTweet</th>\n",
       "      <th>mentionedUsers</th>\n",
       "    </tr>\n",
       "  </thead>\n",
       "  <tbody>\n",
       "    <tr>\n",
       "      <th>0</th>\n",
       "      <td>https://twitter.com/DLessay/status/13450795319...</td>\n",
       "      <td>2021-01-01 18:48:45</td>\n",
       "      <td>@MartinFayulu Vieux na iphone 11 pona image ya...</td>\n",
       "      <td>@MartinFayulu Vieux na iphone 11 pona image ya...</td>\n",
       "      <td>1345079531917471749</td>\n",
       "      <td>None</td>\n",
       "      <td>None</td>\n",
       "      <td>None</td>\n",
       "      <td>fr</td>\n",
       "      <td>None</td>\n",
       "      <td>None</td>\n",
       "      <td>None</td>\n",
       "    </tr>\n",
       "    <tr>\n",
       "      <th>1</th>\n",
       "      <td>https://twitter.com/amelwltr/status/1345076458...</td>\n",
       "      <td>2021-01-01 18:36:32</td>\n",
       "      <td>c bon j'ai commandé l'iphone 11 🥵</td>\n",
       "      <td>c bon j'ai commandé l'iphone 11 🥵</td>\n",
       "      <td>1345076458105016321</td>\n",
       "      <td>None</td>\n",
       "      <td>None</td>\n",
       "      <td>None</td>\n",
       "      <td>fr</td>\n",
       "      <td>None</td>\n",
       "      <td>None</td>\n",
       "      <td>None</td>\n",
       "    </tr>\n",
       "    <tr>\n",
       "      <th>2</th>\n",
       "      <td>https://twitter.com/enbrrrr_/status/1345076206...</td>\n",
       "      <td>2021-01-01 18:35:32</td>\n",
       "      <td>Eh les amis, je souhaite un iphone 11 merci, c...</td>\n",
       "      <td>Eh les amis, je souhaite un iphone 11 merci, c...</td>\n",
       "      <td>1345076206383857664</td>\n",
       "      <td>None</td>\n",
       "      <td>None</td>\n",
       "      <td>None</td>\n",
       "      <td>fr</td>\n",
       "      <td>None</td>\n",
       "      <td>None</td>\n",
       "      <td>None</td>\n",
       "    </tr>\n",
       "  </tbody>\n",
       "</table>\n",
       "</div>"
      ],
      "text/plain": [
       "                                                 url                date  \\\n",
       "0  https://twitter.com/DLessay/status/13450795319... 2021-01-01 18:48:45   \n",
       "1  https://twitter.com/amelwltr/status/1345076458... 2021-01-01 18:36:32   \n",
       "2  https://twitter.com/enbrrrr_/status/1345076206... 2021-01-01 18:35:32   \n",
       "\n",
       "                                             content  \\\n",
       "0  @MartinFayulu Vieux na iphone 11 pona image ya...   \n",
       "1                  c bon j'ai commandé l'iphone 11 🥵   \n",
       "2  Eh les amis, je souhaite un iphone 11 merci, c...   \n",
       "\n",
       "                                     renderedContent                   id  \\\n",
       "0  @MartinFayulu Vieux na iphone 11 pona image ya...  1345079531917471749   \n",
       "1                  c bon j'ai commandé l'iphone 11 🥵  1345076458105016321   \n",
       "2  Eh les amis, je souhaite un iphone 11 merci, c...  1345076206383857664   \n",
       "\n",
       "   user outlinks tcooutlinks lang media quotedTweet mentionedUsers  \n",
       "0  None     None        None   fr  None        None           None  \n",
       "1  None     None        None   fr  None        None           None  \n",
       "2  None     None        None   fr  None        None           None  "
      ]
     },
     "execution_count": 7,
     "metadata": {},
     "output_type": "execute_result"
    }
   ],
   "source": [
    "# si vous travailler sur Microsoft Azure\n",
    "\n",
    "# azureml-core of version 1.0.72 or higher is required\n",
    "# azureml-dataprep[pandas] of version 1.1.34 or higher is required\n",
    "from azureml.core import Workspace, Dataset\n",
    "\n",
    "subscription_id = '6b3604b3-4873-43ba-a9f8-073a8c86ae0d'\n",
    "resource_group = 'pfe'\n",
    "workspace_name = 'pfe-workspace'\n",
    "\n",
    "workspace = Workspace(subscription_id, resource_group, workspace_name)\n",
    "\n",
    "dataset = Dataset.get_by_name(workspace, name='iphone11_tweets_fr')\n",
    "tweets_df = dataset.to_pandas_dataframe()\n",
    "tweets_df.head(3)"
   ]
  },
  {
   "cell_type": "markdown",
   "metadata": {},
   "source": [
    "## 1. Exploration des données"
   ]
  },
  {
   "cell_type": "markdown",
   "metadata": {},
   "source": [
    "Dans cette étape je vais explorer les tweets, on peut noter que notre source de données dispose plus de 100 mille tweets, ainsi chaque tweets et caractérisé par 21 colomnes."
   ]
  },
  {
   "cell_type": "code",
   "execution_count": 8,
   "metadata": {},
   "outputs": [
    {
     "data": {
      "text/plain": [
       "(111748, 12)"
      ]
     },
     "execution_count": 8,
     "metadata": {},
     "output_type": "execute_result"
    }
   ],
   "source": [
    "tweets_df.shape"
   ]
  },
  {
   "cell_type": "code",
   "execution_count": 9,
   "metadata": {},
   "outputs": [
    {
     "data": {
      "text/plain": [
       "Index(['url', 'date', 'content', 'renderedContent', 'id', 'user', 'outlinks',\n",
       "       'tcooutlinks', 'lang', 'media', 'quotedTweet', 'mentionedUsers'],\n",
       "      dtype='object')"
      ]
     },
     "execution_count": 9,
     "metadata": {},
     "output_type": "execute_result"
    }
   ],
   "source": [
    "tweets_df.columns"
   ]
  },
  {
   "cell_type": "markdown",
   "metadata": {},
   "source": [
    "Ce qui nous interesse le plus c'est la colomne `content` qui contien le contenu du tweet, donc on peux suprimer toute les autres colmnes, à noter que la colmne `renderedContent` est identique à la colomne `content`."
   ]
  },
  {
   "cell_type": "code",
   "execution_count": 10,
   "metadata": {},
   "outputs": [],
   "source": [
    "# garder que les colonnes importantes\n",
    "cols = ['date', 'content', 'lang']\n",
    "tweets_df = tweets_df[cols]"
   ]
  },
  {
   "cell_type": "code",
   "execution_count": 11,
   "metadata": {},
   "outputs": [
    {
     "data": {
      "text/plain": [
       "array(['fr'], dtype=object)"
      ]
     },
     "execution_count": 11,
     "metadata": {},
     "output_type": "execute_result"
    }
   ],
   "source": [
    "# pour etre sur que tout les tweets sont en français\n",
    "tweets_df = tweets_df[tweets_df['lang'] == 'fr']\n",
    "tweets_df['lang'].unique()"
   ]
  },
  {
   "cell_type": "markdown",
   "metadata": {},
   "source": [
    "Pour vérifier l'évolution des tweets au fil du temps en utilisant la colomne `date`."
   ]
  },
  {
   "cell_type": "code",
   "execution_count": 12,
   "metadata": {},
   "outputs": [],
   "source": [
    "# garder que la date et supprimer l'heure\n",
    "tweets_df['date'] = pd.to_datetime(tweets_df['date']).dt.date"
   ]
  },
  {
   "cell_type": "code",
   "execution_count": 13,
   "metadata": {},
   "outputs": [
    {
     "data": {
      "image/png": "[encoded data removed]",
      "text/plain": [
       "<Figure size 720x360 with 1 Axes>"
      ]
     },
     "metadata": {
      "needs_background": "light"
     },
     "output_type": "display_data"
    }
   ],
   "source": [
    "tweets_df['date'].value_counts().plot(kind='line', figsize=(10, 5))\n",
    "\n",
    "plt.show()"
   ]
  },
  {
   "cell_type": "markdown",
   "metadata": {},
   "source": [
    "On remarque que le nombre de tweets a atteint son maximum en septembre 2019, qui est le mois de la date de sortie de l'iPhone 11. Et le plus intéressant est qu'après un an, le nombre de tweets a encore augmenté en novembre 2020, qui est la date de sortie du nouvel iPhone 12, les gens comparaient peut-être les deux produits."
   ]
  },
  {
   "cell_type": "code",
   "execution_count": 14,
   "metadata": {},
   "outputs": [],
   "source": [
    "# supprimer les tweets dupliqués, 1K ont été supprimés\n",
    "\n",
    "tweets_df = tweets_df.sort_values(\"content\") \n",
    "  \n",
    "# dropping ALL duplicte values \n",
    "tweets_df = tweets_df.drop_duplicates(subset =\"content\", keep = 'first')"
   ]
  },
  {
   "cell_type": "markdown",
   "metadata": {},
   "source": [
    "## 2. Pré-traitement des tweets\n",
    "Maintenant, après avoir préparé les tweets, nous pouvons commencer la phase de prétraitement afin de pouvoir nettoyer les tweets spécifiquement pour la phase d'identification du sujet. \n",
    "Pour des raisons de computation, je ne ferai des expériences que sur une partie des données `(15%)` afin de gagner du temps. Une fois que nous aurons validé le pipeline de prétraitement, je l'appliquerai à l'ensemble des données originales."
   ]
  },
  {
   "cell_type": "code",
   "execution_count": 15,
   "metadata": {},
   "outputs": [],
   "source": [
    "# selectionner aléatoirement 15% des tweets\n",
    "\n",
    "# data = tweets_df['content'].sample(frac=0.15)\n",
    "# len(data)\n",
    "\n",
    "# je vais opter pour une autre stratégie\n",
    "# au lieu de séléctionner un ensemble de tweets aléatoires,\n",
    "# je vais séléctionner un ensemble de tweets d'un intervalle de temps, \n",
    "# qui sont les trois premiers mois après la date de sortie de l'iPhone\n",
    "\n",
    "import datetime\n",
    "\n",
    "last_date = datetime.date(2019, 12, 31) # le 31 Décembre 2019\n",
    "data = tweets_df[tweets_df['date'] < last_date]['content']"
   ]
  },
  {
   "cell_type": "code",
   "execution_count": 16,
   "metadata": {},
   "outputs": [],
   "source": [
    "ads_words = [\n",
    "    'concours', 'jeuconcours', 'giveaway',\n",
    "    '#gagne' ,'#gangner', 'promo', 'promotion', 'publicité',\n",
    "    'contest', '#ad', '#pub', '#réduction']\n",
    "\n",
    "data = data[~data.str.contains('|'.join(ads_words), case=False)]"
   ]
  },
  {
   "cell_type": "markdown",
   "metadata": {},
   "source": [
    "### 2.1 Importer les packages\n",
    "Les paquets de base utilisés dans ce tutoriel sont `re`, `gensim`, `spacy` et `pyLDAvis`. En outre, nous utiliserons également `matplotlib`, `numpy` et `pandas` pour le traitement et la visualisation des données qui sont déja importés. "
   ]
  },
  {
   "cell_type": "markdown",
   "metadata": {},
   "source": [
    "pour le model du spacy dédié à la langue française, exectutez cette commande sur votre terminal conda:  \n",
    "`python -m spacy download fr_core_news_sm`  \n",
    "\n",
    "pour importer le model: `spacy.load('fr_core_news_sm')`"
   ]
  },
  {
   "cell_type": "code",
   "execution_count": 17,
   "metadata": {},
   "outputs": [],
   "source": [
    "import re\n",
    "import spacy\n",
    "from gensim.utils import tokenize\n",
    "\n",
    "import json\n",
    "\n",
    "from io import StringIO\n",
    "from html.parser import HTMLParser\n",
    "\n",
    "from collections import Counter \n",
    "\n",
    "# pour supprimer les emojis\n",
    "# ce package est capable de remplacer les emojis avec leur signification en text BEAST!!!\n",
    "#import demoji\n",
    "#demoji.download_codes()"
   ]
  },
  {
   "cell_type": "code",
   "execution_count": 18,
   "metadata": {},
   "outputs": [],
   "source": [
    "# fonction pour supprimer les symbols HTML\n",
    "\n",
    "class MLStripper(HTMLParser):\n",
    "    def __init__(self):\n",
    "        super().__init__()\n",
    "        self.reset()\n",
    "        self.strict = False\n",
    "        self.convert_charrefs= True\n",
    "        self.text = StringIO()\n",
    "    def handle_data(self, d):\n",
    "        self.text.write(d)\n",
    "    def get_data(self):\n",
    "        return self.text.getvalue()\n",
    "\n",
    "def strip_tags(html):\n",
    "    '''\n",
    "    input, output: string\n",
    "    '''\n",
    "    s = MLStripper()\n",
    "    s.feed(html)\n",
    "    return s.get_data()"
   ]
  },
  {
   "cell_type": "code",
   "execution_count": 19,
   "metadata": {},
   "outputs": [],
   "source": [
    "# NOTE: gensim tokenizer delete emojis, punctuations, and symbols\n",
    "# HOWEVER: words like queue de cheva would become queue de cheval\n",
    "# To Pass that we can use this flow: nltk.word_tokenize -> delete punctuations -> delete emojis\n",
    "\n",
    "def tokenize_tweet(tweet):\n",
    "    '''\n",
    "    input: string (tweet)\n",
    "    output: list of words\n",
    "    '''\n",
    "    tweet = tweet.lower()\n",
    "    text_out = list(tokenize(tweet, deacc = True))\n",
    "    return text_out"
   ]
  },
  {
   "cell_type": "code",
   "execution_count": 20,
   "metadata": {},
   "outputs": [],
   "source": [
    "# remplacement des abréviations\n",
    "\n",
    "with open('../input/abrivot_fr.json', encoding='utf-8') as f:\n",
    "    abrivot = json.load(f)\n",
    "    \n",
    "def replace_abrivot(words):\n",
    "    '''\n",
    "    input, output: list of tokens\n",
    "    '''\n",
    "    text_out = [abrivot[word] if word in abrivot else word for word in words]\n",
    "    return text_out"
   ]
  },
  {
   "cell_type": "code",
   "execution_count": 21,
   "metadata": {},
   "outputs": [],
   "source": [
    "# lemmatization fonction, charger le model spacy pour la langue français\n",
    "\n",
    "# si ça marche pas\n",
    "#nlp = spacy.load('fr_core_news_sm', disable=['parser', 'ner'])\n",
    "\n",
    "# essaye celle la\n",
    "import fr_core_news_sm\n",
    "nlp = fr_core_news_sm.load()\n",
    "\n",
    "def lemmatization(words, allowed_postags=['NOUN', 'ADJ', 'VERB', 'ADV']):\n",
    "    '''\n",
    "    input, output: list of tokens\n",
    "    '''\n",
    "    text = \" \".join(words)\n",
    "    doc = nlp(text) \n",
    "    text_out = [token.lemma_ for token in doc if token.pos_ in allowed_postags]\n",
    "    return text_out"
   ]
  },
  {
   "cell_type": "code",
   "execution_count": 22,
   "metadata": {},
   "outputs": [],
   "source": [
    "# fonction générale pour le prétraitement\n",
    "\n",
    "def tweets_preprocesser(tweets):\n",
    "    all_tweets=[]\n",
    "    for tweet in tweets:\n",
    "        \n",
    "        # supprimer les symboles HTML\n",
    "        reformed = strip_tags(tweet)\n",
    "        \n",
    "        # supprimer les urls et les @mentions\n",
    "        reformed = re.sub(r'(?:\\@|https?\\://)\\S+', '', reformed)\n",
    "        \n",
    "        # tokenize (remove punctuation, chiffres, emojis)\n",
    "        tokens = tokenize_tweet(reformed)\n",
    "        \n",
    "        # remplacer les abréviations\n",
    "        tokens = replace_abrivot(tokens)\n",
    "        \n",
    "        # lemmatization\n",
    "        tokens = lemmatization(tokens)\n",
    "        \n",
    "        tweet_cleaned = \" \".join(tokens)\n",
    "        all_tweets.append(tweet_cleaned)\n",
    "    all_text = ' '.join(all_tweets)\n",
    "    all_words = all_text.split()\n",
    "    return all_tweets, all_words"
   ]
  },
  {
   "cell_type": "code",
   "execution_count": 23,
   "metadata": {},
   "outputs": [
    {
     "name": "stdout",
     "output_type": "stream",
     "text": [
      "CPU times: user 5min 11s, sys: 511 ms, total: 5min 12s\n",
      "Wall time: 5min 11s\n"
     ]
    },
    {
     "data": {
      "text/plain": [
       "['actualite apple iphon juste prix smartphone tim anglohatech']"
      ]
     },
     "execution_count": 23,
     "metadata": {},
     "output_type": "execute_result"
    }
   ],
   "source": [
    "%%time\n",
    "\n",
    "all_tweets, all_words = tweets_preprocesser(data)\n",
    "all_tweets[:1]"
   ]
  },
  {
   "cell_type": "code",
   "execution_count": 24,
   "metadata": {},
   "outputs": [],
   "source": [
    "# préparer la liste des mots vide, 626 mots\n",
    "# importer les mots vides de la langue Française\n",
    "\n",
    "stop_words = nlp.Defaults.stop_words\n",
    "\n",
    "# fonction pour séléctionner les n mots le plus pertinants\n",
    "# pour les rajouter dans la liste des mots vides\n",
    "\n",
    "def select_top_words(bag_words, n_words=30):\n",
    "    \n",
    "    # Count all the words using Counter Method\n",
    "    count_words = Counter(all_words)\n",
    "    total_words=len(all_words)\n",
    "    sorted_words=count_words.most_common(total_words)\n",
    "    \n",
    "    # select the n_words top words\n",
    "    top_words = [word[0] for word in sorted_words[:n_words]]\n",
    "    return top_words\n",
    "\n",
    "# mettre à jour la liste des mots vides avec les 30 mots les plus fréquents\n",
    "stop_words.update(select_top_words(all_words))"
   ]
  },
  {
   "cell_type": "code",
   "execution_count": 25,
   "metadata": {},
   "outputs": [],
   "source": [
    "# supprimer les mots vides\n",
    "def remove_stopwords(texts):\n",
    "    \n",
    "    tokens = [[word for word in doc.split() if word not in stop_words] for doc in texts]\n",
    "    all_tweets = [' '.join(doc) for doc in tokens if len(doc) > 1]\n",
    "    all_words = (' '.join(all_tweets)).split()\n",
    "    \n",
    "    return all_tweets, all_words\n",
    "\n",
    "all_tweets, all_words = remove_stopwords(all_tweets)"
   ]
  },
  {
   "cell_type": "markdown",
   "metadata": {},
   "source": [
    "La suppression des documents non valables (données bruits). Par exemple les publicités, les tweets qui n'ont pas de relation avec le produit.  \n",
    "\n",
    "Les documents relatifs au bruit sont définis comme ceux qui ne comportent aucun mot-clé lié au produit (iphone 11)."
   ]
  }
 ],
 "metadata": {
  "kernelspec": {
   "display_name": "Python 3",
   "language": "python",
   "name": "python3"
  },
  "language_info": {
   "codemirror_mode": {
    "name": "ipython",
    "version": 3
   },
   "file_extension": ".py",
   "mimetype": "text/x-python",
   "name": "python",
   "nbconvert_exporter": "python",
   "pygments_lexer": "ipython3",
   "version": "3.6.9"
  }
 },
 "nbformat": 4,
 "nbformat_minor": 4
}
